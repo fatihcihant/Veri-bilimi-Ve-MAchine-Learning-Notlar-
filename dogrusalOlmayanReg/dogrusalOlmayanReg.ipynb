{
 "cells": [
  {
   "cell_type": "markdown",
   "metadata": {},
   "source": [
    "# Dogrusal Olmayan Regresyon"
   ]
  },
  {
   "cell_type": "markdown",
   "metadata": {},
   "source": [
    "## 1-)KNN"
   ]
  },
  {
   "cell_type": "code",
   "execution_count": 1,
   "metadata": {},
   "outputs": [],
   "source": [
    "import numpy as np\n",
    "import pandas as pd \n",
    "from sklearn.model_selection import train_test_split, GridSearchCV,cross_val_score\n",
    "from sklearn.metrics import mean_squared_error, r2_score\n",
    "import matplotlib.pyplot as plt\n",
    "from sklearn.preprocessing import scale \n",
    "from sklearn import model_selection\n",
    "from sklearn.tree import DecisionTreeRegressor, DecisionTreeClassifier\n",
    "from sklearn.neighbors import KNeighborsRegressor\n",
    "from sklearn.ensemble import BaggingRegressor\n",
    "\n",
    "from warnings import filterwarnings\n",
    "filterwarnings('ignore')"
   ]
  },
  {
   "cell_type": "code",
   "execution_count": 2,
   "metadata": {},
   "outputs": [],
   "source": [
    "hit = pd.read_csv(\"Hitters.csv\")\n",
    "df = hit.copy()\n",
    "df = df.dropna()\n",
    "dms = pd.get_dummies(df[['League', 'Division', 'NewLeague']])\n",
    "y = df[\"Salary\"]\n",
    "X_ = df.drop(['Salary', 'League', 'Division', 'NewLeague'], axis=1).astype('float64')\n",
    "X = pd.concat([X_, dms[['League_N', 'Division_W', 'NewLeague_N']]], axis=1)\n",
    "X_train, X_test, y_train, y_test = train_test_split(X, y, \n",
    "                                                    test_size=0.25, \n",
    "                                                    random_state=42)"
   ]
  },
  {
   "cell_type": "code",
   "execution_count": 3,
   "metadata": {},
   "outputs": [],
   "source": [
    "knn_model = KNeighborsRegressor().fit(X_train, y_train)"
   ]
  },
  {
   "cell_type": "code",
   "execution_count": 4,
   "metadata": {},
   "outputs": [
    {
     "data": {
      "text/plain": [
       "KNeighborsRegressor()"
      ]
     },
     "execution_count": 4,
     "metadata": {},
     "output_type": "execute_result"
    }
   ],
   "source": [
    "knn_model"
   ]
  },
  {
   "cell_type": "code",
   "execution_count": 5,
   "metadata": {},
   "outputs": [
    {
     "data": {
      "text/plain": [
       "5"
      ]
     },
     "execution_count": 5,
     "metadata": {},
     "output_type": "execute_result"
    }
   ],
   "source": [
    "knn_model.n_neighbors"
   ]
  },
  {
   "cell_type": "markdown",
   "metadata": {},
   "source": [
    "* *knn_model.n_neighbors ozelligi degistikce degerler degisir. İleride bu ozelligi optimize edecegiz*"
   ]
  },
  {
   "cell_type": "markdown",
   "metadata": {},
   "source": [
    "### KNN Tahmin"
   ]
  },
  {
   "cell_type": "code",
   "execution_count": 6,
   "metadata": {},
   "outputs": [],
   "source": [
    "y_pred = knn_model.predict(X_test)"
   ]
  },
  {
   "cell_type": "code",
   "execution_count": 7,
   "metadata": {},
   "outputs": [
    {
     "data": {
      "text/plain": [
       "426.6570764525201"
      ]
     },
     "execution_count": 7,
     "metadata": {},
     "output_type": "execute_result"
    }
   ],
   "source": [
    "np.sqrt(mean_squared_error(y_test, y_pred))\n",
    " # test hatasi"
   ]
  },
  {
   "cell_type": "code",
   "execution_count": 8,
   "metadata": {},
   "outputs": [
    {
     "name": "stdout",
     "output_type": "stream",
     "text": [
      "k =  1 icin mse degeri: 0.0\n",
      "k =  2 icin mse degeri: 179.52761335480352\n",
      "k =  3 icin mse degeri: 205.20157172291863\n",
      "k =  4 icin mse degeri: 220.5139794876305\n",
      "k =  5 icin mse degeri: 239.64671325413764\n",
      "k =  6 icin mse degeri: 243.5904190007242\n",
      "k =  7 icin mse degeri: 258.1478781634636\n",
      "k =  8 icin mse degeri: 266.05374203349805\n",
      "k =  9 icin mse degeri: 269.73782093553376\n"
     ]
    }
   ],
   "source": [
    "RMSE = []\n",
    "for k in range(1,10):\n",
    "    knn_model = KNeighborsRegressor(n_neighbors = k).fit(X_train, y_train)\n",
    "    y_pred = knn_model.predict(X_train)\n",
    "    rmse = np.sqrt(mean_squared_error(y_train, y_pred))\n",
    "    RMSE.append(rmse)\n",
    "    print(\"k = \", k, \"icin mse degeri:\", rmse)"
   ]
  },
  {
   "cell_type": "markdown",
   "metadata": {},
   "source": [
    "### KNN Model Tuning"
   ]
  },
  {
   "cell_type": "code",
   "execution_count": 9,
   "metadata": {},
   "outputs": [],
   "source": [
    "from sklearn.model_selection import GridSearchCV"
   ]
  },
  {
   "cell_type": "code",
   "execution_count": 10,
   "metadata": {},
   "outputs": [],
   "source": [
    "knn_params = {'n_neighbors':np.arange(1,30,1)}\n",
    "# denenecek olan parametreleri uretildi\n",
    "# key degeri uygulamanin kabul ettigi algoritma adi olmali"
   ]
  },
  {
   "cell_type": "markdown",
   "metadata": {},
   "source": [
    "* *GridSearch kendisine verilen degerleri kombinasyonlarini kontrol eder*"
   ]
  },
  {
   "cell_type": "code",
   "execution_count": 11,
   "metadata": {},
   "outputs": [],
   "source": [
    "knn = KNeighborsRegressor()"
   ]
  },
  {
   "cell_type": "code",
   "execution_count": 12,
   "metadata": {},
   "outputs": [],
   "source": [
    "knn_cv_model = GridSearchCV(knn, knn_params, cv = 10)\n",
    "# 1. prmtre model, 2. denenecek olan parametreler, 3. ise islemin kat sayisi"
   ]
  },
  {
   "cell_type": "code",
   "execution_count": 13,
   "metadata": {},
   "outputs": [
    {
     "data": {
      "text/plain": [
       "GridSearchCV(cv=10, estimator=KNeighborsRegressor(),\n",
       "             param_grid={'n_neighbors': array([ 1,  2,  3,  4,  5,  6,  7,  8,  9, 10, 11, 12, 13, 14, 15, 16, 17,\n",
       "       18, 19, 20, 21, 22, 23, 24, 25, 26, 27, 28, 29])})"
      ]
     },
     "execution_count": 13,
     "metadata": {},
     "output_type": "execute_result"
    }
   ],
   "source": [
    "knn_cv_model.fit(X_train, y_train)"
   ]
  },
  {
   "cell_type": "code",
   "execution_count": 14,
   "metadata": {},
   "outputs": [
    {
     "data": {
      "text/plain": [
       "8"
      ]
     },
     "execution_count": 14,
     "metadata": {},
     "output_type": "execute_result"
    }
   ],
   "source": [
    "knn_cv_model.best_params_[\"n_neighbors\"]\n",
    "# en iyi k parametresi boylece bulunmus oldu"
   ]
  },
  {
   "cell_type": "markdown",
   "metadata": {},
   "source": [
    "* *Test hatalari her zaman valide edilmis model uzerinden degerlendirilmelidir.*"
   ]
  },
  {
   "cell_type": "code",
   "execution_count": 15,
   "metadata": {},
   "outputs": [],
   "source": [
    "knn_last = KNeighborsRegressor(n_neighbors = knn_cv_model.best_params_[\"n_neighbors\"] )\n",
    "# en uygun k parametresiyle olusturuldu"
   ]
  },
  {
   "cell_type": "code",
   "execution_count": 16,
   "metadata": {},
   "outputs": [
    {
     "data": {
      "text/plain": [
       "KNeighborsRegressor(n_neighbors=8)"
      ]
     },
     "execution_count": 16,
     "metadata": {},
     "output_type": "execute_result"
    }
   ],
   "source": [
    "knn_last.fit(X_train, y_train)"
   ]
  },
  {
   "cell_type": "code",
   "execution_count": 17,
   "metadata": {},
   "outputs": [
    {
     "data": {
      "text/plain": [
       "413.7094731463598"
      ]
     },
     "execution_count": 17,
     "metadata": {},
     "output_type": "execute_result"
    }
   ],
   "source": [
    "np.sqrt(mean_squared_error(y_test, knn_last.predict(X_test)))"
   ]
  },
  {
   "cell_type": "markdown",
   "metadata": {},
   "source": [
    "# 2-)SVR"
   ]
  },
  {
   "cell_type": "code",
   "execution_count": 18,
   "metadata": {},
   "outputs": [],
   "source": [
    "hit = pd.read_csv(\"Hitters.csv\")\n",
    "df = hit.copy()\n",
    "df = df.dropna()\n",
    "dms = pd.get_dummies(df[['League', 'Division', 'NewLeague']])\n",
    "y = df[\"Salary\"]\n",
    "X_ = df.drop(['Salary', 'League', 'Division', 'NewLeague'], axis=1).astype('float64')\n",
    "X = pd.concat([X_, dms[['League_N', 'Division_W', 'NewLeague_N']]], axis=1)\n",
    "X_train, X_test, y_train, y_test = train_test_split(X, y, \n",
    "                                                    test_size=0.25, \n",
    "                                                    random_state=42)"
   ]
  },
  {
   "cell_type": "code",
   "execution_count": 19,
   "metadata": {},
   "outputs": [],
   "source": [
    "X_train = pd.DataFrame(X_train[\"Hits\"])\n",
    "X_test = pd.DataFrame(X_test[\"Hits\"])"
   ]
  },
  {
   "cell_type": "code",
   "execution_count": 20,
   "metadata": {},
   "outputs": [],
   "source": [
    "from sklearn.svm import SVR"
   ]
  },
  {
   "cell_type": "code",
   "execution_count": 21,
   "metadata": {},
   "outputs": [],
   "source": [
    "svr_model = SVR(\"linear\").fit(X_train,y_train)\n",
    "# \"linear\" keyword"
   ]
  },
  {
   "cell_type": "code",
   "execution_count": 22,
   "metadata": {},
   "outputs": [
    {
     "data": {
      "text/plain": [
       "array([403.52804878, 666.91219512, 706.66829268, 194.80853659,\n",
       "       423.40609756, 666.91219512, 150.08292683, 304.13780488,\n",
       "       507.88780488, 815.99756098])"
      ]
     },
     "execution_count": 22,
     "metadata": {},
     "output_type": "execute_result"
    }
   ],
   "source": [
    "svr_model.predict(X_train)[0:10]"
   ]
  },
  {
   "cell_type": "code",
   "execution_count": 23,
   "metadata": {},
   "outputs": [
    {
     "name": "stdout",
     "output_type": "stream",
     "text": [
      " y = -48.69756097561513 + 4.969512195122093x \n"
     ]
    }
   ],
   "source": [
    "print(\" y = {0} + {1}x \".format(svr_model.intercept_[0],\n",
    "                               svr_model.coef_[0][0]))"
   ]
  },
  {
   "cell_type": "code",
   "execution_count": 24,
   "metadata": {},
   "outputs": [
    {
     "data": {
      "text/html": [
       "<div>\n",
       "<style scoped>\n",
       "    .dataframe tbody tr th:only-of-type {\n",
       "        vertical-align: middle;\n",
       "    }\n",
       "\n",
       "    .dataframe tbody tr th {\n",
       "        vertical-align: top;\n",
       "    }\n",
       "\n",
       "    .dataframe thead th {\n",
       "        text-align: right;\n",
       "    }\n",
       "</style>\n",
       "<table border=\"1\" class=\"dataframe\">\n",
       "  <thead>\n",
       "    <tr style=\"text-align: right;\">\n",
       "      <th></th>\n",
       "      <th>Hits</th>\n",
       "    </tr>\n",
       "  </thead>\n",
       "  <tbody>\n",
       "    <tr>\n",
       "      <th>183</th>\n",
       "      <td>91.0</td>\n",
       "    </tr>\n",
       "  </tbody>\n",
       "</table>\n",
       "</div>"
      ],
      "text/plain": [
       "     Hits\n",
       "183  91.0"
      ]
     },
     "execution_count": 24,
     "metadata": {},
     "output_type": "execute_result"
    }
   ],
   "source": [
    "X_train[0:1]"
   ]
  },
  {
   "cell_type": "code",
   "execution_count": 25,
   "metadata": {},
   "outputs": [
    {
     "data": {
      "text/plain": [
       "403.5280487804953"
      ]
     },
     "execution_count": 25,
     "metadata": {},
     "output_type": "execute_result"
    }
   ],
   "source": [
    "-48.69756097561513 + 4.969512195122093 * 91"
   ]
  },
  {
   "cell_type": "code",
   "execution_count": 26,
   "metadata": {},
   "outputs": [
    {
     "data": {
      "text/plain": [
       "array([403.52804878])"
      ]
     },
     "execution_count": 26,
     "metadata": {},
     "output_type": "execute_result"
    }
   ],
   "source": [
    "svr_model.predict(X_train)[0:1]"
   ]
  },
  {
   "cell_type": "code",
   "execution_count": 27,
   "metadata": {},
   "outputs": [],
   "source": [
    "y_pred = svr_model.predict(X_train)"
   ]
  },
  {
   "cell_type": "code",
   "execution_count": 28,
   "metadata": {},
   "outputs": [
    {
     "data": {
      "text/plain": [
       "[<matplotlib.lines.Line2D at 0x1d2ffafc0f0>]"
      ]
     },
     "execution_count": 28,
     "metadata": {},
     "output_type": "execute_result"
    },
    {
     "data": {
      "image/png": "[encoded data removed]",
      "text/plain": [
       "<Figure size 432x288 with 1 Axes>"
      ]
     },
     "metadata": {
      "needs_background": "light"
     },
     "output_type": "display_data"
    }
   ],
   "source": [
    "plt.scatter(X_train, y_train)\n",
    "plt.plot(X_train, y_pred, color = \"r\")"
   ]
  },
  {
   "cell_type": "code",
   "execution_count": 29,
   "metadata": {},
   "outputs": [
    {
     "name": "stdout",
     "output_type": "stream",
     "text": [
      "y = -8.814095480334572 + 5.1724561354706875 x\n"
     ]
    }
   ],
   "source": [
    "from sklearn.linear_model import LinearRegression\n",
    "lm_model = LinearRegression().fit(X_train, y_train)\n",
    "lm_pred  = lm_model.predict(X_train)\n",
    "print(\"y = {0} + {1} x\".format(lm_model.intercept_, lm_model.coef_[0]))"
   ]
  },
  {
   "cell_type": "code",
   "execution_count": 30,
   "metadata": {},
   "outputs": [
    {
     "data": {
      "text/plain": [
       "461.879412847498"
      ]
     },
     "execution_count": 30,
     "metadata": {},
     "output_type": "execute_result"
    }
   ],
   "source": [
    "-8.814095480334572 + 5.1724561354706875*91"
   ]
  },
  {
   "cell_type": "code",
   "execution_count": 31,
   "metadata": {},
   "outputs": [
    {
     "data": {
      "text/plain": [
       "Text(0, 0.5, 'Maaş (Salary)')"
      ]
     },
     "execution_count": 31,
     "metadata": {},
     "output_type": "execute_result"
    },
    {
     "data": {
      "image/png": "[encoded data removed]",
      "text/plain": [
       "<Figure size 432x288 with 1 Axes>"
      ]
     },
     "metadata": {
      "needs_background": "light"
     },
     "output_type": "display_data"
    }
   ],
   "source": [
    "plt.scatter(X_train, y_train, alpha=0.5, s=23)\n",
    "plt.plot(X_train, lm_pred, 'g')\n",
    "plt.plot(X_train, y_pred, color='r')\n",
    "\n",
    "plt.xlabel(\"Atış Sayısı(Hits)\")\n",
    "plt.ylabel(\"Maaş (Salary)\")"
   ]
  },
  {
   "cell_type": "markdown",
   "metadata": {},
   "source": [
    "* *Basit SVR tahmini 403.5 , Linear tahmini ise 461.8 aradaki fark ayrık gozlemler sebebinden. SVR, Linear modele gore ayrik verilerden daha az etkilenir. Yuksek degerli aykiri gozlemler modeli yukariya ceker.*"
   ]
  },
  {
   "cell_type": "markdown",
   "metadata": {},
   "source": [
    "### SVR Tahmin"
   ]
  },
  {
   "cell_type": "code",
   "execution_count": 32,
   "metadata": {},
   "outputs": [],
   "source": [
    "y_pred = svr_model.predict(X_test)"
   ]
  },
  {
   "cell_type": "code",
   "execution_count": 33,
   "metadata": {},
   "outputs": [
    {
     "data": {
      "text/plain": [
       "459.0187960365147"
      ]
     },
     "execution_count": 33,
     "metadata": {},
     "output_type": "execute_result"
    }
   ],
   "source": [
    "np.sqrt(mean_squared_error(y_test, y_pred))\n",
    "# test hatasi"
   ]
  },
  {
   "cell_type": "code",
   "execution_count": 34,
   "metadata": {},
   "outputs": [
    {
     "data": {
      "text/plain": [
       "SVR(kernel='linear')"
      ]
     },
     "execution_count": 34,
     "metadata": {},
     "output_type": "execute_result"
    }
   ],
   "source": [
    "svr_model"
   ]
  },
  {
   "cell_type": "markdown",
   "metadata": {},
   "source": [
    "### SVR Model Tuning"
   ]
  },
  {
   "cell_type": "code",
   "execution_count": 35,
   "metadata": {},
   "outputs": [
    {
     "data": {
      "text/plain": [
       "SVR(kernel='linear')"
      ]
     },
     "execution_count": 35,
     "metadata": {},
     "output_type": "execute_result"
    }
   ],
   "source": [
    "svr_model"
   ]
  },
  {
   "cell_type": "markdown",
   "metadata": {},
   "source": [
    "* *Yukaridaki C parametresi karmasiklik parametresidir bununla oynayip modeli gelistirecegiz*"
   ]
  },
  {
   "cell_type": "code",
   "execution_count": 36,
   "metadata": {},
   "outputs": [],
   "source": [
    "svr_params = {\"C\": np.arange(0.1, 2, 0.1)}\n",
    "# baslangic bitis ve arama araligi parametreleri verildi"
   ]
  },
  {
   "cell_type": "code",
   "execution_count": 37,
   "metadata": {},
   "outputs": [],
   "source": [
    "svr_cv_model = GridSearchCV(svr_model, svr_params, cv =10).fit(X_train, y_train)\n",
    "# svr_model, svr_params kullanilarak 10 katli bir gridsearch yapacak sonrasinde direkt fit edecek"
   ]
  },
  {
   "cell_type": "code",
   "execution_count": 38,
   "metadata": {},
   "outputs": [
    {
     "data": {
      "text/plain": [
       "{'C': 0.1}"
      ]
     },
     "execution_count": 38,
     "metadata": {},
     "output_type": "execute_result"
    }
   ],
   "source": [
    "svr_cv_model.best_params_"
   ]
  },
  {
   "cell_type": "code",
   "execution_count": 39,
   "metadata": {},
   "outputs": [],
   "source": [
    "c = pd.Series(svr_cv_model.best_params_)[0]\n",
    "# asagiya direkt parametre verebilmek icin bu duzene getirdik"
   ]
  },
  {
   "cell_type": "code",
   "execution_count": 40,
   "metadata": {},
   "outputs": [],
   "source": [
    "svr_tuned = SVR(\"linear\", C = c).fit(X_train, y_train)"
   ]
  },
  {
   "cell_type": "code",
   "execution_count": 41,
   "metadata": {},
   "outputs": [],
   "source": [
    "y_pred = svr_tuned.predict(X_test)"
   ]
  },
  {
   "cell_type": "code",
   "execution_count": 43,
   "metadata": {},
   "outputs": [
    {
     "data": {
      "text/plain": [
       "458.198966781116"
      ]
     },
     "execution_count": 43,
     "metadata": {},
     "output_type": "execute_result"
    }
   ],
   "source": [
    "np.sqrt(mean_squared_error(y_test, y_pred))"
   ]
  },
  {
   "cell_type": "markdown",
   "metadata": {},
   "source": [
    "* *İstersek svr_tuned olusturmak yerine svr_cv_modeli de kullanabilirdik cunku svr_cv_model calisinca en dogru parametre degerini kendi atar bizim svr_tuned'deki gibi parametre vermemize ihtiyac duymaz*"
   ]
  },
  {
   "cell_type": "markdown",
   "metadata": {},
   "source": [
    "## 2a-) Dogrusal Olmayan SVR"
   ]
  },
  {
   "cell_type": "code",
   "execution_count": 44,
   "metadata": {},
   "outputs": [],
   "source": [
    "hit = pd.read_csv(\"Hitters.csv\")\n",
    "df = hit.copy()\n",
    "df = df.dropna()\n",
    "dms = pd.get_dummies(df[['League', 'Division', 'NewLeague']])\n",
    "y = df[\"Salary\"]\n",
    "X_ = df.drop(['Salary', 'League', 'Division', 'NewLeague'], axis=1).astype('float64')\n",
    "X = pd.concat([X_, dms[['League_N', 'Division_W', 'NewLeague_N']]], axis=1)\n",
    "X_train, X_test, y_train, y_test = train_test_split(X, y, \n",
    "                                                    test_size=0.25, \n",
    "                                                    random_state=42)"
   ]
  },
  {
   "cell_type": "code",
   "execution_count": 45,
   "metadata": {},
   "outputs": [],
   "source": [
    "svr_rbf = SVR(\"rbf\").fit(X_train, y_train)\n",
    "# dogrusal olmayan SVR modeli"
   ]
  },
  {
   "cell_type": "markdown",
   "metadata": {},
   "source": [
    "### Tahmin"
   ]
  },
  {
   "cell_type": "code",
   "execution_count": 46,
   "metadata": {},
   "outputs": [],
   "source": [
    "y_pred = svr_rbf.predict(X_test)"
   ]
  },
  {
   "cell_type": "code",
   "execution_count": 47,
   "metadata": {},
   "outputs": [
    {
     "data": {
      "text/plain": [
       "460.0032657244849"
      ]
     },
     "execution_count": 47,
     "metadata": {},
     "output_type": "execute_result"
    }
   ],
   "source": [
    "np.sqrt(mean_squared_error(y_test, y_pred))"
   ]
  },
  {
   "cell_type": "code",
   "execution_count": 48,
   "metadata": {},
   "outputs": [
    {
     "data": {
      "text/plain": [
       "SVR()"
      ]
     },
     "execution_count": 48,
     "metadata": {},
     "output_type": "execute_result"
    }
   ],
   "source": [
    "svr_rbf"
   ]
  },
  {
   "cell_type": "markdown",
   "metadata": {},
   "source": [
    "* *C parametresi optimize edilecek*"
   ]
  },
  {
   "cell_type": "code",
   "execution_count": 49,
   "metadata": {},
   "outputs": [
    {
     "data": {
      "text/plain": [
       "GridSearchCV(cv=10, estimator=SVR(),\n",
       "             param_grid={'C': [0.1, 0.4, 5, 10, 20, 30, 40, 50]})"
      ]
     },
     "execution_count": 49,
     "metadata": {},
     "output_type": "execute_result"
    }
   ],
   "source": [
    "svr_params = { \"C\": [0.1, 0.4, 5, 10 ,20, 30, 40, 50]}\n",
    "svr_cv_model = GridSearchCV(svr_rbf, svr_params, cv = 10)\n",
    "svr_cv_model.fit(X_train, y_train)"
   ]
  },
  {
   "cell_type": "code",
   "execution_count": 50,
   "metadata": {},
   "outputs": [
    {
     "data": {
      "text/plain": [
       "{'C': 50}"
      ]
     },
     "execution_count": 50,
     "metadata": {},
     "output_type": "execute_result"
    }
   ],
   "source": [
    "svr_cv_model.best_params_\n",
    " # optimum c bulundu"
   ]
  },
  {
   "cell_type": "code",
   "execution_count": 51,
   "metadata": {},
   "outputs": [],
   "source": [
    "best_c = pd.Series(svr_cv_model.best_params_)[0]"
   ]
  },
  {
   "cell_type": "code",
   "execution_count": 52,
   "metadata": {},
   "outputs": [],
   "source": [
    "svr_tuned = SVR(\"rbf\", C = best_c).fit(X_train, y_train)"
   ]
  },
  {
   "cell_type": "code",
   "execution_count": 53,
   "metadata": {},
   "outputs": [
    {
     "data": {
      "text/plain": [
       "428.00406888095694"
      ]
     },
     "execution_count": 53,
     "metadata": {},
     "output_type": "execute_result"
    }
   ],
   "source": [
    "y_pred = svr_tuned.predict(X_test)\n",
    "\n",
    "np.sqrt(mean_squared_error(y_test, y_pred))"
   ]
  },
  {
   "cell_type": "markdown",
   "metadata": {},
   "source": [
    "## 3-) Yapay Sinir Aglari"
   ]
  },
  {
   "cell_type": "code",
   "execution_count": 54,
   "metadata": {},
   "outputs": [],
   "source": [
    "hit = pd.read_csv(\"Hitters.csv\")\n",
    "df = hit.copy()\n",
    "df = df.dropna()\n",
    "dms = pd.get_dummies(df[['League', 'Division', 'NewLeague']])\n",
    "y = df[\"Salary\"]\n",
    "X_ = df.drop(['Salary', 'League', 'Division', 'NewLeague'], axis=1).astype('float64')\n",
    "X = pd.concat([X_, dms[['League_N', 'Division_W', 'NewLeague_N']]], axis=1)\n",
    "X_train, X_test, y_train, y_test = train_test_split(X, y, \n",
    "                                                    test_size=0.25, \n",
    "                                                    random_state=42)"
   ]
  },
  {
   "cell_type": "code",
   "execution_count": 55,
   "metadata": {},
   "outputs": [],
   "source": [
    "from sklearn.preprocessing import StandardScaler"
   ]
  },
  {
   "cell_type": "code",
   "execution_count": 56,
   "metadata": {},
   "outputs": [
    {
     "data": {
      "text/plain": [
       "StandardScaler()"
      ]
     },
     "execution_count": 56,
     "metadata": {},
     "output_type": "execute_result"
    }
   ],
   "source": [
    "scaler = StandardScaler()\n",
    "scaler.fit(X_train)"
   ]
  },
  {
   "cell_type": "code",
   "execution_count": 57,
   "metadata": {},
   "outputs": [],
   "source": [
    "X_train_scaled = scaler.transform(X_train)\n",
    "\n",
    "X_test_scaled = scaler.transform(X_test)"
   ]
  },
  {
   "cell_type": "code",
   "execution_count": 58,
   "metadata": {},
   "outputs": [],
   "source": [
    "from sklearn.neural_network import MLPRegressor"
   ]
  },
  {
   "cell_type": "code",
   "execution_count": 59,
   "metadata": {},
   "outputs": [],
   "source": [
    "mlp_model = MLPRegressor(hidden_layer_sizes = (100, 20)).fit(X_train_scaled, y_train)"
   ]
  },
  {
   "cell_type": "code",
   "execution_count": 60,
   "metadata": {},
   "outputs": [
    {
     "data": {
      "text/plain": [
       "MLPRegressor(hidden_layer_sizes=(100, 20))"
      ]
     },
     "execution_count": 60,
     "metadata": {},
     "output_type": "execute_result"
    }
   ],
   "source": [
    "mlp_model"
   ]
  },
  {
   "cell_type": "code",
   "execution_count": 61,
   "metadata": {},
   "outputs": [
    {
     "data": {
      "text/plain": [
       "4"
      ]
     },
     "execution_count": 61,
     "metadata": {},
     "output_type": "execute_result"
    }
   ],
   "source": [
    "mlp_model.n_layers_\n",
    "# genel framework"
   ]
  },
  {
   "cell_type": "code",
   "execution_count": 62,
   "metadata": {},
   "outputs": [
    {
     "data": {
      "text/plain": [
       "(100, 20)"
      ]
     },
     "execution_count": 62,
     "metadata": {},
     "output_type": "execute_result"
    }
   ],
   "source": [
    "mlp_model.hidden_layer_sizes"
   ]
  },
  {
   "cell_type": "markdown",
   "metadata": {},
   "source": [
    "### Tahmin\n"
   ]
  },
  {
   "cell_type": "code",
   "execution_count": 63,
   "metadata": {},
   "outputs": [
    {
     "data": {
      "text/plain": [
       "array([ 77.76334398, 406.4832663 , 257.37379433,  68.62886888,\n",
       "        60.49784785])"
      ]
     },
     "execution_count": 63,
     "metadata": {},
     "output_type": "execute_result"
    }
   ],
   "source": [
    "mlp_model.predict(X_train_scaled)[0:5]"
   ]
  },
  {
   "cell_type": "code",
   "execution_count": 64,
   "metadata": {},
   "outputs": [],
   "source": [
    "y_pred = mlp_model.predict(X_test_scaled)"
   ]
  },
  {
   "cell_type": "code",
   "execution_count": 65,
   "metadata": {},
   "outputs": [
    {
     "data": {
      "text/plain": [
       "451.53797823894183"
      ]
     },
     "execution_count": 65,
     "metadata": {},
     "output_type": "execute_result"
    }
   ],
   "source": [
    "np.sqrt(mean_squared_error(y_test, y_pred))"
   ]
  },
  {
   "cell_type": "markdown",
   "metadata": {},
   "source": [
    "### Model Tuning"
   ]
  },
  {
   "cell_type": "code",
   "execution_count": 66,
   "metadata": {},
   "outputs": [
    {
     "data": {
      "text/plain": [
       "MLPRegressor(hidden_layer_sizes=(100, 20))"
      ]
     },
     "execution_count": 66,
     "metadata": {},
     "output_type": "execute_result"
    }
   ],
   "source": [
    "mlp_model"
   ]
  },
  {
   "cell_type": "markdown",
   "metadata": {},
   "source": [
    "* *Hidden_layer_size parametresi hangi katmanda kac notorn olacagini belirler.*\n",
    "* *(100,20) dendiginde ilk katmanda 100 ikinci katmanda 20 noron belirler*"
   ]
  },
  {
   "cell_type": "code",
   "execution_count": 67,
   "metadata": {},
   "outputs": [],
   "source": [
    "mlp_params = {\"alpha\": [0.1, 0.01, 0.02, 0.005],\n",
    "             'hidden_layer_sizes': [(20,20),(100,50,150),(300,200,150)],\n",
    "             \"activation\": [\"relu\", \"logistic\"]}"
   ]
  },
  {
   "cell_type": "code",
   "execution_count": 68,
   "metadata": {},
   "outputs": [],
   "source": [
    "mlp_cv_model = GridSearchCV(mlp_model, mlp_params, cv = 10)"
   ]
  },
  {
   "cell_type": "code",
   "execution_count": 69,
   "metadata": {},
   "outputs": [
    {
     "data": {
      "text/plain": [
       "GridSearchCV(cv=10, estimator=MLPRegressor(hidden_layer_sizes=(100, 20)),\n",
       "             param_grid={'activation': ['relu', 'logistic'],\n",
       "                         'alpha': [0.1, 0.01, 0.02, 0.005],\n",
       "                         'hidden_layer_sizes': [(20, 20), (100, 50, 150),\n",
       "                                                (300, 200, 150)]})"
      ]
     },
     "execution_count": 69,
     "metadata": {},
     "output_type": "execute_result"
    }
   ],
   "source": [
    "mlp_cv_model.fit(X_train_scaled, y_train)"
   ]
  },
  {
   "cell_type": "code",
   "execution_count": 70,
   "metadata": {},
   "outputs": [
    {
     "data": {
      "text/plain": [
       "{'activation': 'relu', 'alpha': 0.01, 'hidden_layer_sizes': (100, 50, 150)}"
      ]
     },
     "execution_count": 70,
     "metadata": {},
     "output_type": "execute_result"
    }
   ],
   "source": [
    "mlp_cv_model.best_params_"
   ]
  },
  {
   "cell_type": "code",
   "execution_count": 71,
   "metadata": {},
   "outputs": [],
   "source": [
    "mlp_tuned = MLPRegressor(alpha = 0.1, hidden_layer_sizes = (300, 200, 150), activation = \"relu\")\n",
    "# yukarida buldugumuz iyi parametrelerle ayarlanmıis modeli kurduk"
   ]
  },
  {
   "cell_type": "code",
   "execution_count": 72,
   "metadata": {},
   "outputs": [
    {
     "data": {
      "text/plain": [
       "MLPRegressor(alpha=0.1, hidden_layer_sizes=(300, 200, 150))"
      ]
     },
     "execution_count": 72,
     "metadata": {},
     "output_type": "execute_result"
    }
   ],
   "source": [
    "mlp_tuned.fit(X_train_scaled, y_train)"
   ]
  },
  {
   "cell_type": "code",
   "execution_count": 73,
   "metadata": {},
   "outputs": [],
   "source": [
    "y_pred = mlp_tuned.predict(X_test_scaled)"
   ]
  },
  {
   "cell_type": "code",
   "execution_count": 74,
   "metadata": {},
   "outputs": [
    {
     "data": {
      "text/plain": [
       "357.13868606447875"
      ]
     },
     "execution_count": 74,
     "metadata": {},
     "output_type": "execute_result"
    }
   ],
   "source": [
    "np.sqrt(mean_squared_error(y_test, y_pred))"
   ]
  },
  {
   "cell_type": "markdown",
   "metadata": {},
   "source": [
    "## Regresyon Agaclari (CART)"
   ]
  },
  {
   "cell_type": "markdown",
   "metadata": {},
   "source": [
    "* Amac veri seteindeki karmasik yapilari basit kara yapilarina donusturmek"
   ]
  },
  {
   "cell_type": "markdown",
   "metadata": {},
   "source": [
    "* Heterojen veri setleri belirlenmis bir hedef degiskene gore homojen alt gruplara ayrilir.\n",
    "* Asiri dallanma overfittinge sebep olabilir.\n",
    "* Karmasiklik parametresi(ceza parametresi) belirlenip agaclarin dallari budanir bu sayede overfitting engellenmis olur.\n",
    "* Genellenebilirlik kaygisi yok ise uygulanmasi basarili sonuclar dogurur.\n"
   ]
  },
  {
   "cell_type": "code",
   "execution_count": 75,
   "metadata": {},
   "outputs": [],
   "source": [
    "hit = pd.read_csv(\"Hitters.csv\")\n",
    "df = hit.copy()\n",
    "df = df.dropna()\n",
    "dms = pd.get_dummies(df[['League', 'Division', 'NewLeague']])\n",
    "y = df[\"Salary\"]\n",
    "X_ = df.drop(['Salary', 'League', 'Division', 'NewLeague'], axis=1).astype('float64')\n",
    "X = pd.concat([X_, dms[['League_N', 'Division_W', 'NewLeague_N']]], axis=1)\n",
    "X_train, X_test, y_train, y_test = train_test_split(X, y, \n",
    "                                                    test_size=0.25, \n",
    "                                                    random_state=42)"
   ]
  },
  {
   "cell_type": "code",
   "execution_count": 76,
   "metadata": {},
   "outputs": [],
   "source": [
    "X_train = pd.DataFrame(X_train[\"Hits\"])\n",
    "X_test = pd.DataFrame(X_test[\"Hits\"])"
   ]
  },
  {
   "cell_type": "markdown",
   "metadata": {},
   "source": [
    "* Eksenlerdeki durumu gormek icin once degisken bazinda inceleriz"
   ]
  },
  {
   "cell_type": "code",
   "execution_count": 77,
   "metadata": {},
   "outputs": [],
   "source": [
    "cart_model = DecisionTreeRegressor(max_leaf_nodes= 3)"
   ]
  },
  {
   "cell_type": "code",
   "execution_count": 78,
   "metadata": {},
   "outputs": [
    {
     "data": {
      "text/plain": [
       "DecisionTreeRegressor(max_leaf_nodes=3)"
      ]
     },
     "execution_count": 78,
     "metadata": {},
     "output_type": "execute_result"
    }
   ],
   "source": [
    "cart_model"
   ]
  },
  {
   "cell_type": "code",
   "execution_count": 79,
   "metadata": {},
   "outputs": [
    {
     "data": {
      "text/plain": [
       "DecisionTreeRegressor(max_leaf_nodes=3)"
      ]
     },
     "execution_count": 79,
     "metadata": {},
     "output_type": "execute_result"
    }
   ],
   "source": [
    "cart_model.fit(X_train, y_train)"
   ]
  },
  {
   "cell_type": "code",
   "execution_count": 80,
   "metadata": {},
   "outputs": [
    {
     "data": {
      "image/png": "[encoded data removed]",
      "text/plain": [
       "<Figure size 432x288 with 1 Axes>"
      ]
     },
     "metadata": {
      "needs_background": "light"
     },
     "output_type": "display_data"
    }
   ],
   "source": [
    "X_grid = np.arange(min(np.array(X_train)),max(np.array(X_train)), 0.01) \n",
    "X_grid = X_grid.reshape((len(X_grid), 1))  \n",
    "plt.scatter(X_train, y_train, color = 'red') \n",
    "plt.plot(X_grid, cart_model.predict(X_grid), color = 'blue')  \n",
    "plt.title('CART REGRESON AĞACI')  \n",
    "plt.xlabel('Atış Sayısı(Hits)') \n",
    "plt.ylabel('Maaş (Salary)') ;"
   ]
  },
  {
   "cell_type": "markdown",
   "metadata": {},
   "source": [
    "* Dallanmalar bu sekilde gorsellestirilebilir. max_leaf_nodes sayisi bu gorseli etkiler. Bu parametrenin optimumunu bulmaya calisiriz."
   ]
  },
  {
   "cell_type": "markdown",
   "metadata": {},
   "source": [
    "## Tahmin"
   ]
  },
  {
   "cell_type": "code",
   "execution_count": 81,
   "metadata": {},
   "outputs": [
    {
     "data": {
      "text/plain": [
       "array([345.20115517])"
      ]
     },
     "execution_count": 81,
     "metadata": {},
     "output_type": "execute_result"
    }
   ],
   "source": [
    "cart_model.predict([[91]]) #girilen sayinin ciktisi"
   ]
  },
  {
   "cell_type": "code",
   "execution_count": 82,
   "metadata": {},
   "outputs": [],
   "source": [
    "y_pred = cart_model.predict(X_test)"
   ]
  },
  {
   "cell_type": "code",
   "execution_count": 83,
   "metadata": {},
   "outputs": [
    {
     "data": {
      "text/plain": [
       "460.0663148428844"
      ]
     },
     "execution_count": 83,
     "metadata": {},
     "output_type": "execute_result"
    }
   ],
   "source": [
    "np.sqrt(mean_squared_error(y_test, y_pred))"
   ]
  },
  {
   "cell_type": "markdown",
   "metadata": {},
   "source": [
    "## Model Tuning"
   ]
  },
  {
   "cell_type": "markdown",
   "metadata": {},
   "source": [
    "* max_leaf_nodes, min_sample_split parametrelerini optimize ederiz"
   ]
  },
  {
   "cell_type": "code",
   "execution_count": 84,
   "metadata": {},
   "outputs": [],
   "source": [
    "cart_params = {\"min_samples_split\": range(2,20),\n",
    "         \"max_leaf_nodes\": range(2,10)}"
   ]
  },
  {
   "cell_type": "code",
   "execution_count": 85,
   "metadata": {},
   "outputs": [],
   "source": [
    "cart_cv_model = GridSearchCV(cart_model, cart_params, cv = 10)"
   ]
  },
  {
   "cell_type": "code",
   "execution_count": 86,
   "metadata": {},
   "outputs": [
    {
     "data": {
      "text/plain": [
       "GridSearchCV(cv=10, estimator=DecisionTreeRegressor(max_leaf_nodes=3),\n",
       "             param_grid={'max_leaf_nodes': range(2, 10),\n",
       "                         'min_samples_split': range(2, 20)})"
      ]
     },
     "execution_count": 86,
     "metadata": {},
     "output_type": "execute_result"
    }
   ],
   "source": [
    "cart_cv_model.fit(X_train, y_train)"
   ]
  },
  {
   "cell_type": "code",
   "execution_count": 87,
   "metadata": {},
   "outputs": [
    {
     "data": {
      "text/plain": [
       "{'max_leaf_nodes': 2, 'min_samples_split': 2}"
      ]
     },
     "execution_count": 87,
     "metadata": {},
     "output_type": "execute_result"
    }
   ],
   "source": [
    "cart_cv_model.best_params_"
   ]
  },
  {
   "cell_type": "code",
   "execution_count": 88,
   "metadata": {},
   "outputs": [],
   "source": [
    "cart_tuned = DecisionTreeRegressor(max_leaf_nodes = 2, min_samples_split =  2)"
   ]
  },
  {
   "cell_type": "code",
   "execution_count": 89,
   "metadata": {},
   "outputs": [
    {
     "data": {
      "text/plain": [
       "DecisionTreeRegressor(max_leaf_nodes=2)"
      ]
     },
     "execution_count": 89,
     "metadata": {},
     "output_type": "execute_result"
    }
   ],
   "source": [
    "cart_tuned.fit(X_train, y_train)"
   ]
  },
  {
   "cell_type": "code",
   "execution_count": 90,
   "metadata": {},
   "outputs": [],
   "source": [
    "y_pred = cart_tuned.predict(X_test)"
   ]
  },
  {
   "cell_type": "code",
   "execution_count": 91,
   "metadata": {},
   "outputs": [
    {
     "data": {
      "text/plain": [
       "462.4884294447576"
      ]
     },
     "execution_count": 91,
     "metadata": {},
     "output_type": "execute_result"
    }
   ],
   "source": [
    "np.sqrt(mean_squared_error(y_test, y_pred))"
   ]
  },
  {
   "cell_type": "markdown",
   "metadata": {},
   "source": [
    "# Bagged Trees"
   ]
  },
  {
   "cell_type": "markdown",
   "metadata": {},
   "source": [
    "* Bootstrap yontemi ile olusturulan birden fazla kara agacinin urettigi tahminleri bir araya getirerek degerlendirir"
   ]
  },
  {
   "cell_type": "markdown",
   "metadata": {},
   "source": [
    "* Agaclar birbirinden bagimsizdir"
   ]
  },
  {
   "cell_type": "markdown",
   "metadata": {},
   "source": [
    "## Model"
   ]
  },
  {
   "cell_type": "code",
   "execution_count": 92,
   "metadata": {},
   "outputs": [],
   "source": [
    "hit = pd.read_csv(\"Hitters.csv\")\n",
    "df = hit.copy()\n",
    "df = df.dropna()\n",
    "dms = pd.get_dummies(df[['League', 'Division', 'NewLeague']])\n",
    "y = df[\"Salary\"]\n",
    "X_ = df.drop(['Salary', 'League', 'Division', 'NewLeague'], axis=1).astype('float64')\n",
    "X = pd.concat([X_, dms[['League_N', 'Division_W', 'NewLeague_N']]], axis=1)\n",
    "X_train, X_test, y_train, y_test = train_test_split(X, y, \n",
    "                                                    test_size=0.25, \n",
    "                                                    random_state=42)"
   ]
  },
  {
   "cell_type": "code",
   "execution_count": 93,
   "metadata": {},
   "outputs": [
    {
     "data": {
      "text/plain": [
       "BaggingRegressor(bootstrap_features=True)"
      ]
     },
     "execution_count": 93,
     "metadata": {},
     "output_type": "execute_result"
    }
   ],
   "source": [
    "bag_model = BaggingRegressor(bootstrap_features = True)\n",
    "bag_model.fit(X_train, y_train)"
   ]
  },
  {
   "cell_type": "markdown",
   "metadata": {},
   "source": [
    "* bootstrap_features default degeri False. True ile bootstrap ornekleri gozlemlenebilir.\n",
    "* n_estimators: olusturulacak  agac sayisi"
   ]
  },
  {
   "cell_type": "code",
   "execution_count": 94,
   "metadata": {},
   "outputs": [
    {
     "data": {
      "text/plain": [
       "[DecisionTreeRegressor(random_state=1117117585),\n",
       " DecisionTreeRegressor(random_state=1129887359),\n",
       " DecisionTreeRegressor(random_state=1673310286),\n",
       " DecisionTreeRegressor(random_state=1398640533),\n",
       " DecisionTreeRegressor(random_state=1905806613),\n",
       " DecisionTreeRegressor(random_state=1915710781),\n",
       " DecisionTreeRegressor(random_state=559529017),\n",
       " DecisionTreeRegressor(random_state=1692996620),\n",
       " DecisionTreeRegressor(random_state=1736863429),\n",
       " DecisionTreeRegressor(random_state=1505834257)]"
      ]
     },
     "execution_count": 94,
     "metadata": {},
     "output_type": "execute_result"
    }
   ],
   "source": [
    "bag_model.estimators_ # agaclar hakkinda bilgi"
   ]
  },
  {
   "cell_type": "code",
   "execution_count": 95,
   "metadata": {},
   "outputs": [
    {
     "data": {
      "text/plain": [
       "[array([131,  31, 171,  62, 139, 123, 188, 126, 185,  21, 153, 171,  97,\n",
       "        123,  58, 148,  97, 177, 121, 121,   8,  31,  70,  24, 139,  69,\n",
       "          7,  86,  73, 105,  36, 177, 190, 139, 117,  25,  39,  32,  91,\n",
       "         98,  69,   4,  90, 144,  69, 192,  78, 162,  71,  59, 115,  10,\n",
       "        104, 172,  78,  69, 177,  58,   3,  78,   9,  71,  72, 137, 104,\n",
       "         74,  64,  97,  61,  53, 102, 187, 116,  70,  40, 151,  86, 125,\n",
       "        180, 104,  27, 149,  41, 191,  87,  98, 179, 195,  26,  65, 175,\n",
       "        179,  41, 194, 132, 134,  46, 156,  51,  65,  55, 121,  76,   5,\n",
       "        157, 111,  11, 122,  27, 184, 125, 139,  39,   6,  74,  43, 161,\n",
       "        121, 143, 132,  57, 161,  57,  51,  11,  82,  67, 157,  79, 107,\n",
       "         31, 147, 180,  59,  64, 150,  62,  99, 178, 159, 141,  84, 157,\n",
       "        117, 100,  98, 133,  30, 176, 153, 113, 144, 101, 157,  77,  81,\n",
       "         38, 189,  82, 113, 157,  57,  35, 106, 116, 117,  39,  61,  28,\n",
       "        181, 193,  72,  22,  50, 102, 116,  71,  45, 155,  22,  97, 155,\n",
       "        194,  32, 103,  37,  24, 124, 129, 150,  29, 165,   1, 108, 181,\n",
       "         50, 157]),\n",
       " array([ 75,  93,  50, 106,  29, 109,  46, 137, 107,  35, 167,  95, 176,\n",
       "        145,  13,  80,  52, 188,  88,  60, 132, 157, 111, 135, 115, 134,\n",
       "         78, 103, 137,  75,  86, 145,  13,  21, 195,  12, 173, 137,  31,\n",
       "        188,  51,  78,  43,  68, 114, 194,  28,   5, 136, 122,  69, 171,\n",
       "         34,  98,  67, 129,  17,  14,  93,  19,  43,  63, 152, 138, 135,\n",
       "         83,   9, 174, 171, 175, 129,  94, 128, 113, 187,  73, 156,  64,\n",
       "        174, 190,  49, 189,  40,  96,  96,  66,  22,  34, 114, 122,   3,\n",
       "        163, 122,  27,  20,  60,  56, 152,  71,  90, 120,  27,  62,  26,\n",
       "        185,  86,  19,  59, 166, 142, 100, 158,  81, 120,  68,  14, 131,\n",
       "        174,  15, 109, 153, 111,  22,   2, 168, 104,  15, 185,  53,  66,\n",
       "         15, 193, 131, 102,   6,   0,  76,   7, 188, 125,  92, 149, 114,\n",
       "        182, 104,  32, 190, 120,  20,  38,  80,  16,  20, 179,  65,  11,\n",
       "         55,  94,  85, 109,  33, 145,  51,  73,  97,   7,  95, 149,  87,\n",
       "        182,  73, 162,   4, 130,  88, 191,  68, 139, 164,  24,   3, 183,\n",
       "         63,  95,  27,  38,  65, 189, 140, 163,  77, 118,  84, 160, 166,\n",
       "         91,   9]),\n",
       " array([ 94,  36, 152,   5,  84,  21,  20, 151,   3,  21, 137, 177, 113,\n",
       "        146, 193,  32, 128, 195,  16, 187, 136,  83,  73,  15, 156,  36,\n",
       "         72,  55,  12,  20,  83,  20,  25,  44, 143, 109,  11, 146,  62,\n",
       "          8, 190,  80, 156, 195,  98, 145,  61, 115, 116, 133, 154,  95,\n",
       "        194,  22, 194,   3, 125, 109,  85,  68,  92,  47,  63,  66,   6,\n",
       "         36,  60,  23, 181,  88, 174,  77,  28, 143, 149,   6,  31,  64,\n",
       "        183, 105, 193,  37, 196, 101,  11,  29,  40,  89, 119, 100,  92,\n",
       "          6, 112,  42, 176,  61, 172,  55, 189,  29,  65, 143, 193,   7,\n",
       "          1,  95,  89, 145, 142, 119, 168,   6, 111, 195, 171, 143,  95,\n",
       "        185,   5,  61, 156,  35,  96, 110, 160,  50, 133,  19, 156,  82,\n",
       "        184,  18,  54, 176,  45,  64,  23,   1,  57, 101, 120, 120,  80,\n",
       "        180,  13,  60,  53,  83, 147,  30, 124,  42, 126, 106,  58, 193,\n",
       "        174, 172, 114,  88,   7,  53,   6,  72, 168, 110,  58, 154, 143,\n",
       "         84,   6, 105,   2, 175, 163, 105,  49, 104, 104, 169,  41,   4,\n",
       "         40,  76, 167, 103, 168, 155,  11,  82, 138, 154, 117, 173,  20,\n",
       "        188, 154]),\n",
       " array([ 74,  52, 116,  84, 140, 117, 160,  55,  64, 173, 168,   8, 137,\n",
       "        173, 137, 104, 112,  16,  40, 184, 151, 148,  22,  53, 114,  37,\n",
       "        195, 135, 182, 189, 186, 110,  86, 121, 185,  41,  41, 122, 138,\n",
       "        115, 157,  29,  91, 177, 105, 192, 152,  14,  59,   8,  28,  35,\n",
       "         38,  57, 188,  87,  89, 103,   3, 161, 158, 127, 132, 133,   9,\n",
       "          4, 185, 118,  26,  51,  16, 132,  85, 102,  42, 127, 160, 110,\n",
       "         60,  32,  79,  50, 174,  26,  71,   0,  71, 190, 169,  12, 171,\n",
       "        183, 122,  99, 194, 144, 139, 174, 146, 139,  67,   9,  59,  75,\n",
       "         24, 110, 152, 138, 177, 164,  67, 134, 108,  56, 126,  71,  35,\n",
       "        162, 185,  87, 138,  73,  95,  66, 158,  59, 178,  20, 152,  76,\n",
       "         19,  87,  11,  76,  85, 137, 180,  77,  76,  56,  93, 175,  30,\n",
       "         90, 131,  54,  97, 113,  59, 100,  52, 145,  48, 162,   0, 160,\n",
       "        139, 120,  40,  45,  59, 183,  24,  94, 112,  82,  81,  32, 117,\n",
       "         80,  69,  47, 153,  61, 191,  57, 125,  41, 196,  93,  65,   6,\n",
       "         60,  46, 171, 186,  75, 186, 140, 114, 182, 189, 133, 195, 129,\n",
       "        129,  99]),\n",
       " array([ 53,  47,  19, 138, 141,  10, 161, 143, 167, 148, 190, 153,  94,\n",
       "        181, 122, 185,  81,   9,  33, 163,  27,  45, 105, 190, 133, 110,\n",
       "        152, 109, 147,  61,   9,  80, 171, 189,  27, 100, 116, 189,  57,\n",
       "         69,  40, 167, 107,  49, 182, 149,   7, 173, 162, 128, 158,  79,\n",
       "          3,  93, 130, 146, 160, 109, 109,  87,  84, 102,  14,   1, 116,\n",
       "         24,  71,  96, 181, 119,  99,  62,   4, 132,  54,  15,  13, 179,\n",
       "         93,  51,  81,  62, 142, 157, 191, 152,  21,  97, 132,  98,  79,\n",
       "         28, 172, 113, 104, 194,  85,  50, 171,  25,  66,  14,  40,  37,\n",
       "        179, 174,  96,  26,  61,  93, 132,  68, 110,  73,  37,  48, 130,\n",
       "        154, 181, 125, 195,  57, 154, 145,  87, 171,  46,  37, 103,   9,\n",
       "         19, 173,  59, 119,  53, 173,  40,  22, 179,  39, 131,  46, 194,\n",
       "         45,  26,  93, 194,  56, 139,  52,  16, 122, 105, 167, 131, 171,\n",
       "          0,  92, 157, 165,   4,  57, 167,  76, 167,   8, 141, 196, 116,\n",
       "         78, 183,   6,   4, 168,   1, 170,  77,  52,  23, 107,   4,   2,\n",
       "        157,  17,  66, 187,  39, 121, 132, 190,  56,  64,  63,   5, 177,\n",
       "         71, 130]),\n",
       " array([153, 161,  72,   7, 111,  60, 138,   6, 175,  21, 127, 172,  57,\n",
       "         53, 148, 154,   6,  97, 148,  75, 186,  81,  43,  78,  26,  54,\n",
       "         27, 162,  75, 122, 127,  47, 121,  64,   8, 179,  76, 113, 127,\n",
       "         66, 160, 165,  96, 115, 151,  15, 167, 156,  58, 179,   5,  85,\n",
       "        167, 141, 106,  28, 157,  13,  87,  34, 147,  76, 177,  33,  29,\n",
       "        104, 136,  63,  22,  30,  95, 179,   8,  74,  91, 118, 128, 103,\n",
       "        187,   0,  11,  25, 135, 166, 133,  23,  41, 195,  31, 114, 113,\n",
       "         34, 184,  73, 182, 125,  58,  52, 117, 113,  37,  79, 115,   4,\n",
       "        124, 161, 137,  43, 165,  15, 138,   8, 107,  67,  77, 190,  76,\n",
       "        189,  24,  79, 153, 117, 186,  12,  81, 156, 158, 189, 194, 168,\n",
       "        100, 109, 167, 193, 155, 167, 142, 164,  35,  46,  81,  47, 194,\n",
       "         86,  62, 168,  63, 195, 155,  50,  54, 189, 184, 180,  41, 120,\n",
       "        153,  45,  96,  77, 179, 177, 165,  23, 184, 180,  34, 195, 182,\n",
       "          6, 110, 163, 171, 184,  68,  28,  10, 148, 109, 168,  17, 129,\n",
       "        130,  41,  56,  96,  50,  27,  40, 186, 105, 195, 159, 127, 166,\n",
       "        126, 169]),\n",
       " array([122, 140,  44,  91,  88, 112, 156, 154, 142, 109, 157, 129, 185,\n",
       "         79, 116,  20,  89,  54,  98,   3,  72, 157,  57,  69, 145,  90,\n",
       "        120,  75, 114, 181,  16, 155, 122, 172,  44, 168, 139,  42,  64,\n",
       "         21, 137, 106, 123, 179, 166, 132, 113, 165, 109,  90,  84,  43,\n",
       "         63, 145, 152, 132, 158, 171, 174, 187,  91, 140,  68,  38,  43,\n",
       "         33,  16, 154, 127, 107, 117, 167,  93,  31, 164, 117,  40, 134,\n",
       "         66,  70, 139,  80,  56, 152, 111, 125,  48,  80,  41,  97,  51,\n",
       "        171, 106, 166, 112,  44,  41, 159,  68,  61, 180,  73, 142, 182,\n",
       "        158,  84, 134,  53,  97,  13, 113, 150,  95, 184, 155,  76, 139,\n",
       "         37, 143,  46,  17,  69, 134,  28,  84,  75, 129, 179,  89, 105,\n",
       "         64,  24, 127,  21, 151, 195,  54,  34, 115,  81,  87, 111, 102,\n",
       "        161, 180,  78,  10, 111,  48,  78, 173, 130, 130, 137, 191,  36,\n",
       "        159,   7, 136, 174,  30,  46,  75, 102, 166,  48, 182, 167,  37,\n",
       "         52, 191,  77, 166,  38,  14,  67,  89, 191,  65, 138,  88, 169,\n",
       "        181,  98,  38,  84, 165,  68, 122, 125, 134,  18, 117, 127,  86,\n",
       "        134, 141]),\n",
       " array([ 10,  26, 105,  79, 103, 153, 181, 179,  44,  14, 169, 189,  71,\n",
       "          8, 187,  52, 110,  91,   4, 174,  55,   6,  81,  38, 114, 128,\n",
       "          4,  66, 151,  79,  15,  82,  62, 188, 177,  18, 195,  33, 184,\n",
       "        115, 155,  83, 147,  19, 163, 131, 151, 193, 171, 140, 178,  15,\n",
       "         99,  14,  71, 103, 107,  40, 170, 173,  57, 190,  99,   0,  97,\n",
       "         76,  68, 105, 180, 146, 106, 161,  22, 167, 108,  24,  29, 137,\n",
       "        192, 100, 116, 159,  84,  37, 168, 187, 165, 137,  30,  33, 113,\n",
       "          1,  40, 119, 156,  91, 147,  27,  92, 118, 191, 140, 180, 191,\n",
       "        154,  83,  13,  29,  62, 143,  96, 126, 149,  77, 166,  46,  33,\n",
       "        190, 108, 143, 179, 190,  88, 111, 120, 148,  12,  57, 196,   3,\n",
       "         54, 166, 159, 101, 115,  28,   3, 171,  77, 103, 128,  88, 164,\n",
       "         99, 193, 173,  51, 101,  16,  31,  52, 176,  53,  20,  34, 128,\n",
       "         90, 161, 153,  13,  62,  10, 152,  73,  53,  58, 196, 121, 145,\n",
       "        190, 179,  85, 184,   7,  56,  61,  15,  77,  39,  57,  45, 157,\n",
       "        144, 129, 171, 133, 126,  12,  92, 133, 138,  13,  10, 106, 172,\n",
       "        171, 124]),\n",
       " array([163, 126, 187, 183,  98, 156,  44, 151,  47, 104, 154, 133,  62,\n",
       "         37,  54, 193, 180, 190, 188,   0, 156,  82, 154,  32,  27, 124,\n",
       "         71,  62, 105,  71, 172, 139,   7, 116, 147,  52, 128,  67, 110,\n",
       "        187,  55, 195,  76,  86, 162,  15, 112,  72, 190, 116,  54,  78,\n",
       "         94, 191, 111, 129, 129, 165, 139, 117, 107,  22,  97,  69, 103,\n",
       "         66, 184, 170,  78, 175, 159, 176, 137,  66,  75, 116, 193, 150,\n",
       "         55, 190,  69,  28,  56,  81, 152,  48, 139, 104,  48,  65, 134,\n",
       "         79, 192, 146, 116,  79, 122, 155, 147, 144, 182, 101, 164,  44,\n",
       "         15,  89,  54,  92, 152, 173,  69,  96,   0, 192,  60,  45, 125,\n",
       "         52,  95, 190, 161, 176,  76,  31,  45, 185,  91,   1,  46,  33,\n",
       "        154, 184,   7,  49, 140, 109,  88,  25, 194,  98,  66, 152,  47,\n",
       "          1,  85, 187, 113, 111,  51,  27, 150, 162,  48,  38, 110,  86,\n",
       "        180, 163, 101, 166,  36, 175, 101,  77, 177,  86, 110, 165,  42,\n",
       "         86, 179, 134, 106, 150, 112, 121,  71, 169,  62,  28,  72, 189,\n",
       "         61, 154,  22, 180, 187,  81, 151,  84,   8,  59,  28, 160,  18,\n",
       "          2, 115]),\n",
       " array([144,  23, 167, 125,  21, 128, 165,  53, 132,  16, 166, 175, 101,\n",
       "        181,   2,  45, 142,  53,  69, 121,  14,  39,  65, 125, 146,  92,\n",
       "         34,  76, 145,  70, 176,  26,  70,  71, 165, 125, 137, 128, 124,\n",
       "         49,  92,  64, 133, 148,  57,  91,  34, 147,   8, 139,  79,  41,\n",
       "         38,  88,  15,  30, 181, 125, 133,  65,  25, 117, 154,  80, 180,\n",
       "        169,  40, 103,  99, 193,  90,  60,  20,  40, 163,  10,  46, 114,\n",
       "        108, 137, 183, 164,  72, 139,  65,   1,  83,  61,  58,  83,  88,\n",
       "         69,  73,  81,  49,  34,  68, 135,  16,  88, 151, 149,   3, 144,\n",
       "         79,  93, 120, 148, 195, 183, 131, 190, 186, 180,  38,   0, 101,\n",
       "        174, 145, 144,  26, 186, 173,  50,  15, 142,  16,  34,  22,  51,\n",
       "        147,  54, 159,  44, 182,  33,  46,  60,  24,  62, 122, 146,  99,\n",
       "        194, 109, 177,  52,  99,  80,  13, 187, 138, 173,  93,  22,  80,\n",
       "        135, 125, 145,  32,  76, 124, 130, 191,  11, 142,  94, 118,  45,\n",
       "        135, 193,  65, 135,  32, 192,  99,  56, 196, 176,  40, 189,  44,\n",
       "        160, 101,  68, 167,  80,  20, 104,  69,  48, 194,  83,  76,   3,\n",
       "        157, 179])]"
      ]
     },
     "execution_count": 95,
     "metadata": {},
     "output_type": "execute_result"
    }
   ],
   "source": [
    "bag_model.estimators_samples_ # her bir agacin ornekleri"
   ]
  },
  {
   "cell_type": "code",
   "execution_count": 96,
   "metadata": {},
   "outputs": [
    {
     "data": {
      "text/plain": [
       "[array([17,  6, 10,  9,  1,  6, 11,  6,  5,  6, 15, 14,  6,  9,  6, 17,  8,\n",
       "         4, 15]),\n",
       " array([14, 14,  8, 11,  9,  7, 17, 17, 14, 13,  9, 18, 16, 13,  9, 18, 15,\n",
       "        10,  3]),\n",
       " array([14,  3, 12,  6,  4, 18, 10, 15,  5,  2,  8,  9, 12, 10, 13, 10,  2,\n",
       "         3,  7]),\n",
       " array([12,  6,  8,  3, 12,  3, 10, 17, 13, 10, 15,  0, 16, 12, 18, 16, 18,\n",
       "        18, 15]),\n",
       " array([12,  7, 12, 11,  9, 15, 15, 11, 10,  2, 16, 13, 18,  7,  5, 12, 10,\n",
       "        10,  8]),\n",
       " array([16, 15,  9, 14, 12, 10, 12, 10, 17, 16, 11,  2,  0,  6,  2, 11, 15,\n",
       "         6,  6]),\n",
       " array([ 1,  0,  5,  1,  3, 15, 16, 10, 16,  2,  9,  3,  3,  1,  8, 15,  4,\n",
       "        18, 15]),\n",
       " array([12,  5,  9,  9,  1,  2,  6,  6, 13,  8, 15, 16, 10, 16, 11, 14, 13,\n",
       "        17,  7]),\n",
       " array([ 5, 18,  0,  6,  5, 17,  1, 16, 10,  7, 11,  4,  7, 12, 14,  9,  1,\n",
       "         9,  5]),\n",
       " array([17, 12, 11,  8,  3, 10,  6,  8,  6, 18,  8, 16, 11,  5, 13, 18,  9,\n",
       "        11, 15])]"
      ]
     },
     "execution_count": 96,
     "metadata": {},
     "output_type": "execute_result"
    }
   ],
   "source": [
    "bag_model.estimators_features_ # agaclarin degiskenleri"
   ]
  },
  {
   "cell_type": "code",
   "execution_count": 97,
   "metadata": {},
   "outputs": [
    {
     "data": {
      "text/plain": [
       "DecisionTreeRegressor(random_state=1117117585)"
      ]
     },
     "execution_count": 97,
     "metadata": {},
     "output_type": "execute_result"
    }
   ],
   "source": [
    "bag_model.estimators_[0] # modeller arasinda inceleme"
   ]
  },
  {
   "cell_type": "markdown",
   "metadata": {},
   "source": [
    "## Tahmin"
   ]
  },
  {
   "cell_type": "code",
   "execution_count": 98,
   "metadata": {},
   "outputs": [],
   "source": [
    "y_pred = bag_model.predict(X_test)"
   ]
  },
  {
   "cell_type": "code",
   "execution_count": 99,
   "metadata": {},
   "outputs": [
    {
     "data": {
      "text/plain": [
       "371.74206231939723"
      ]
     },
     "execution_count": 99,
     "metadata": {},
     "output_type": "execute_result"
    }
   ],
   "source": [
    "np.sqrt(mean_squared_error(y_test, y_pred))"
   ]
  },
  {
   "cell_type": "markdown",
   "metadata": {},
   "source": [
    "* Bu deger olusturulan her agacin tahminlerine bakilarak olusturulan bir degerdi. Agaclar bazinda inceleme yapabiliriz"
   ]
  },
  {
   "cell_type": "code",
   "execution_count": 100,
   "metadata": {},
   "outputs": [],
   "source": [
    "ikinci_agac_pred = bag_model.estimators_[1].fit(X_train, y_train).predict(X_test)"
   ]
  },
  {
   "cell_type": "code",
   "execution_count": 101,
   "metadata": {},
   "outputs": [
    {
     "data": {
      "text/plain": [
       "451.5091307112586"
      ]
     },
     "execution_count": 101,
     "metadata": {},
     "output_type": "execute_result"
    }
   ],
   "source": [
    "np.sqrt(mean_squared_error(y_test, ikinci_agac_pred))"
   ]
  },
  {
   "cell_type": "markdown",
   "metadata": {},
   "source": [
    "* İkinci agac ile kurulan modelin hatasini hesaplariz"
   ]
  },
  {
   "cell_type": "markdown",
   "metadata": {},
   "source": [
    "## Model Tuning"
   ]
  },
  {
   "cell_type": "code",
   "execution_count": 102,
   "metadata": {},
   "outputs": [
    {
     "data": {
      "text/plain": [
       "BaggingRegressor(bootstrap_features=True)"
      ]
     },
     "execution_count": 102,
     "metadata": {},
     "output_type": "execute_result"
    }
   ],
   "source": [
    "bag_model = BaggingRegressor(bootstrap_features = True)\n",
    "bag_model.fit(X_train, y_train)"
   ]
  },
  {
   "cell_type": "code",
   "execution_count": 103,
   "metadata": {},
   "outputs": [],
   "source": [
    "bag_params = {\"n_estimators\": range(2,30)}"
   ]
  },
  {
   "cell_type": "code",
   "execution_count": 104,
   "metadata": {},
   "outputs": [],
   "source": [
    "bag_cv_model = GridSearchCV(bag_model, bag_params, cv = 10)"
   ]
  },
  {
   "cell_type": "code",
   "execution_count": 105,
   "metadata": {},
   "outputs": [
    {
     "data": {
      "text/plain": [
       "GridSearchCV(cv=10, estimator=BaggingRegressor(bootstrap_features=True),\n",
       "             param_grid={'n_estimators': range(2, 30)})"
      ]
     },
     "execution_count": 105,
     "metadata": {},
     "output_type": "execute_result"
    }
   ],
   "source": [
    "bag_cv_model.fit(X_train, y_train)"
   ]
  },
  {
   "cell_type": "code",
   "execution_count": 106,
   "metadata": {},
   "outputs": [
    {
     "data": {
      "text/plain": [
       "{'n_estimators': 22}"
      ]
     },
     "execution_count": 106,
     "metadata": {},
     "output_type": "execute_result"
    }
   ],
   "source": [
    "bag_cv_model.best_params_"
   ]
  },
  {
   "cell_type": "code",
   "execution_count": 107,
   "metadata": {},
   "outputs": [],
   "source": [
    "bag_tuned = BaggingRegressor(n_estimators = 8)"
   ]
  },
  {
   "cell_type": "code",
   "execution_count": 108,
   "metadata": {},
   "outputs": [
    {
     "data": {
      "text/plain": [
       "BaggingRegressor(n_estimators=8)"
      ]
     },
     "execution_count": 108,
     "metadata": {},
     "output_type": "execute_result"
    }
   ],
   "source": [
    "bag_tuned.fit(X_train, y_train)"
   ]
  },
  {
   "cell_type": "code",
   "execution_count": 109,
   "metadata": {},
   "outputs": [],
   "source": [
    "y_pred = bag_tuned.predict(X_test)"
   ]
  },
  {
   "cell_type": "code",
   "execution_count": 110,
   "metadata": {},
   "outputs": [
    {
     "data": {
      "text/plain": [
       "361.72724377535405"
      ]
     },
     "execution_count": 110,
     "metadata": {},
     "output_type": "execute_result"
    }
   ],
   "source": [
    "np.sqrt(mean_squared_error(y_test, y_pred))"
   ]
  },
  {
   "cell_type": "markdown",
   "metadata": {},
   "source": [
    "# Random Forests RF"
   ]
  },
  {
   "cell_type": "markdown",
   "metadata": {},
   "source": [
    "* Birden cok agacin urettiği tahminlerin bir araya getirelerek degerlendirir"
   ]
  },
  {
   "cell_type": "markdown",
   "metadata": {},
   "source": [
    "* Degiskenler random subspace secilir\n",
    "* Agac olusturmada verinin 2/3u kullanilir.\n",
    "* Her dugum noktasinda rastgele degisken secimi yapirir.\n",
    "* Sonunda her agactan tahmin degeri alinirken agaclarin daha önceki hata degerleri goz onune alinarak onlara bir agirlik atanir."
   ]
  },
  {
   "cell_type": "code",
   "execution_count": 111,
   "metadata": {},
   "outputs": [],
   "source": [
    "hit = pd.read_csv(\"Hitters.csv\")\n",
    "df = hit.copy()\n",
    "df = df.dropna()\n",
    "dms = pd.get_dummies(df[['League', 'Division', 'NewLeague']])\n",
    "y = df[\"Salary\"]\n",
    "X_ = df.drop(['Salary', 'League', 'Division', 'NewLeague'], axis=1).astype('float64')\n",
    "X = pd.concat([X_, dms[['League_N', 'Division_W', 'NewLeague_N']]], axis=1)\n",
    "X_train, X_test, y_train, y_test = train_test_split(X, y, \n",
    "                                                    test_size=0.25, \n",
    "                                                    random_state=42)"
   ]
  },
  {
   "cell_type": "code",
   "execution_count": 112,
   "metadata": {},
   "outputs": [],
   "source": [
    "from sklearn.ensemble import RandomForestRegressor"
   ]
  },
  {
   "cell_type": "code",
   "execution_count": 113,
   "metadata": {},
   "outputs": [],
   "source": [
    "rf_model = RandomForestRegressor(random_state = 42)"
   ]
  },
  {
   "cell_type": "code",
   "execution_count": 114,
   "metadata": {},
   "outputs": [
    {
     "data": {
      "text/plain": [
       "RandomForestRegressor(random_state=42)"
      ]
     },
     "execution_count": 114,
     "metadata": {},
     "output_type": "execute_result"
    }
   ],
   "source": [
    "rf_model.fit(X_train, y_train)"
   ]
  },
  {
   "cell_type": "code",
   "execution_count": 115,
   "metadata": {},
   "outputs": [
    {
     "data": {
      "text/plain": [
       "RandomForestRegressor(random_state=42)"
      ]
     },
     "execution_count": 115,
     "metadata": {},
     "output_type": "execute_result"
    }
   ],
   "source": [
    "rf_model"
   ]
  },
  {
   "cell_type": "markdown",
   "metadata": {},
   "source": [
    "## Tahmin"
   ]
  },
  {
   "cell_type": "code",
   "execution_count": 116,
   "metadata": {},
   "outputs": [],
   "source": [
    "y_pred = rf_model.predict(X_test)"
   ]
  },
  {
   "cell_type": "code",
   "execution_count": 117,
   "metadata": {},
   "outputs": [
    {
     "data": {
      "text/plain": [
       "345.00286717448006"
      ]
     },
     "execution_count": 117,
     "metadata": {},
     "output_type": "execute_result"
    }
   ],
   "source": [
    "np.sqrt(mean_squared_error(y_test, y_pred))"
   ]
  },
  {
   "cell_type": "markdown",
   "metadata": {},
   "source": [
    "## Model Tuning"
   ]
  },
  {
   "cell_type": "code",
   "execution_count": 118,
   "metadata": {},
   "outputs": [],
   "source": [
    "rf_params = {\"max_depth\": list(range(1,10)),\n",
    "            \"max_features\": [3,5,10,15],\n",
    "            \"n_estimators\": [100, 200, 500, 1000, 2000]}"
   ]
  },
  {
   "cell_type": "code",
   "execution_count": 119,
   "metadata": {},
   "outputs": [],
   "source": [
    "rf_model = RandomForestRegressor(random_state = 42)"
   ]
  },
  {
   "cell_type": "code",
   "execution_count": 120,
   "metadata": {},
   "outputs": [],
   "source": [
    "rf_cv_model = GridSearchCV(rf_model, rf_params, cv = 10, n_jobs = -1)"
   ]
  },
  {
   "cell_type": "markdown",
   "metadata": {},
   "source": [
    "* n_jobs parametresi -1 olunca, paralel eszamanli yapilacak isleri de devreye alir ve islemcilerin tam performansli kullanilmasini saglar. Cunku RF algoritmasinin calisma mantigi bu parametrelerle zaten yuksek islem gerektirir bir de cok katli gridsearch yapinca bu yuk cok daha fazla artar."
   ]
  },
  {
   "cell_type": "code",
   "execution_count": 121,
   "metadata": {},
   "outputs": [
    {
     "data": {
      "text/plain": [
       "GridSearchCV(cv=10, estimator=RandomForestRegressor(random_state=42), n_jobs=-1,\n",
       "             param_grid={'max_depth': [1, 2, 3, 4, 5, 6, 7, 8, 9],\n",
       "                         'max_features': [3, 5, 10, 15],\n",
       "                         'n_estimators': [100, 200, 500, 1000, 2000]})"
      ]
     },
     "execution_count": 121,
     "metadata": {},
     "output_type": "execute_result"
    }
   ],
   "source": [
    "rf_cv_model.fit(X_train, y_train)"
   ]
  },
  {
   "cell_type": "code",
   "execution_count": 122,
   "metadata": {},
   "outputs": [
    {
     "data": {
      "text/plain": [
       "{'max_depth': 8, 'max_features': 3, 'n_estimators': 100}"
      ]
     },
     "execution_count": 122,
     "metadata": {},
     "output_type": "execute_result"
    }
   ],
   "source": [
    "rf_cv_model.best_params_"
   ]
  },
  {
   "cell_type": "code",
   "execution_count": 123,
   "metadata": {},
   "outputs": [],
   "source": [
    "rf_tuned = RandomForestRegressor(max_depth = 8,\n",
    "                                max_features = 3,\n",
    "                                n_estimators = 100)"
   ]
  },
  {
   "cell_type": "code",
   "execution_count": 124,
   "metadata": {},
   "outputs": [
    {
     "data": {
      "text/plain": [
       "RandomForestRegressor(max_depth=8, max_features=3)"
      ]
     },
     "execution_count": 124,
     "metadata": {},
     "output_type": "execute_result"
    }
   ],
   "source": [
    "rf_tuned.fit(X_train,y_train)"
   ]
  },
  {
   "cell_type": "code",
   "execution_count": 125,
   "metadata": {},
   "outputs": [],
   "source": [
    "y_pred = rf_tuned.predict(X_test)"
   ]
  },
  {
   "cell_type": "code",
   "execution_count": 126,
   "metadata": {},
   "outputs": [
    {
     "data": {
      "text/plain": [
       "342.10445588035634"
      ]
     },
     "execution_count": 126,
     "metadata": {},
     "output_type": "execute_result"
    }
   ],
   "source": [
    "np.sqrt(mean_squared_error(y_test, y_pred))"
   ]
  },
  {
   "cell_type": "code",
   "execution_count": 127,
   "metadata": {},
   "outputs": [],
   "source": [
    "importance = pd.DataFrame({\"Importance\": rf_tuned.feature_importances_*100},\n",
    "                          index = X_train.columns\n",
    "                         )"
   ]
  },
  {
   "cell_type": "code",
   "execution_count": 128,
   "metadata": {},
   "outputs": [
    {
     "data": {
      "text/plain": [
       "Text(0.5, 0, 'degisken onem duzeyi')"
      ]
     },
     "execution_count": 128,
     "metadata": {},
     "output_type": "execute_result"
    },
    {
     "data": {
      "image/png": "[encoded data removed]",
      "text/plain": [
       "<Figure size 432x288 with 1 Axes>"
      ]
     },
     "metadata": {
      "needs_background": "light"
     },
     "output_type": "display_data"
    }
   ],
   "source": [
    "importance.sort_values(by = \"Importance\", \n",
    "                       axis = 0, \n",
    "                       ascending = True).plot(kind = \"barh\", color = \"r\")\n",
    "plt.xlabel(\"degisken onem duzeyi\")"
   ]
  },
  {
   "cell_type": "markdown",
   "metadata": {},
   "source": [
    "* Degiskenlerin bagimli degiskene etkileri gorsellestirmesi"
   ]
  },
  {
   "cell_type": "markdown",
   "metadata": {},
   "source": [
    "# Gradient Boosting Machines (GBM)"
   ]
  },
  {
   "cell_type": "markdown",
   "metadata": {},
   "source": [
    "* AdaBoostun siniflandirma ve regresyon problemlerine kolayca uyarlanan genellestirilmis versiyon"
   ]
  },
  {
   "cell_type": "markdown",
   "metadata": {},
   "source": [
    "* Artiklar uzerine tek bir tahminsel model formunda olan modeller serisi kurulur"
   ]
  },
  {
   "cell_type": "markdown",
   "metadata": {},
   "source": [
    "* AdaBoost : Zayif siniflandiricilarin bir araya gelerek guclu bir siniflandirici olusturulmasidir."
   ]
  },
  {
   "cell_type": "markdown",
   "metadata": {},
   "source": [
    "* Gradient boosting tek bir tahminsel model formunda olan modeller serisi olusturur\n",
    "* Seri icerisindeki model, serideki onceki modelin tahmin artiklarinin/hatalarinin uzerine kurulur.\n",
    "* GBM diferansiyellenebilen herhangi bir kayip fonksiyonunu optimize edebilen Gradien Descent algoritmasini kullanir\n",
    "* cost ve link fonksiyonlariyla modifiye edilebilir\n",
    "* Boosting + Gradient Descent"
   ]
  },
  {
   "cell_type": "markdown",
   "metadata": {},
   "source": [
    "## Model"
   ]
  },
  {
   "cell_type": "code",
   "execution_count": 129,
   "metadata": {},
   "outputs": [],
   "source": [
    "from sklearn.ensemble import GradientBoostingRegressor"
   ]
  },
  {
   "cell_type": "code",
   "execution_count": 130,
   "metadata": {},
   "outputs": [
    {
     "data": {
      "text/plain": [
       "GradientBoostingRegressor()"
      ]
     },
     "execution_count": 130,
     "metadata": {},
     "output_type": "execute_result"
    }
   ],
   "source": [
    "gbm_model = GradientBoostingRegressor()\n",
    "gbm_model.fit(X_train,y_train)"
   ]
  },
  {
   "cell_type": "code",
   "execution_count": 131,
   "metadata": {},
   "outputs": [],
   "source": [
    "y_pred = gbm_model.predict(X_test)\n"
   ]
  },
  {
   "cell_type": "code",
   "execution_count": 132,
   "metadata": {},
   "outputs": [
    {
     "data": {
      "text/plain": [
       "348.68198478217533"
      ]
     },
     "execution_count": 132,
     "metadata": {},
     "output_type": "execute_result"
    }
   ],
   "source": [
    "np.sqrt(mean_squared_error(y_test, y_pred))"
   ]
  },
  {
   "cell_type": "markdown",
   "metadata": {},
   "source": [
    "## Model Tuning"
   ]
  },
  {
   "cell_type": "code",
   "execution_count": 133,
   "metadata": {},
   "outputs": [],
   "source": [
    "gbm_params = {\n",
    "    'learning_rate' : [0.001, 0.01, 0.1, 0.2],\n",
    "    'max_depth': [3, 5, 8, 50, 100],\n",
    "    'n_estimators': [200, 500, 1000, 2000],\n",
    "    'subsample': [1, 0.5, 0.75]\n",
    "}"
   ]
  },
  {
   "cell_type": "code",
   "execution_count": 134,
   "metadata": {},
   "outputs": [
    {
     "name": "stdout",
     "output_type": "stream",
     "text": [
      "Fitting 10 folds for each of 240 candidates, totalling 2400 fits\n"
     ]
    },
    {
     "data": {
      "text/plain": [
       "GridSearchCV(cv=10, estimator=GradientBoostingRegressor(), n_jobs=-1,\n",
       "             param_grid={'learning_rate': [0.001, 0.01, 0.1, 0.2],\n",
       "                         'max_depth': [3, 5, 8, 50, 100],\n",
       "                         'n_estimators': [200, 500, 1000, 2000],\n",
       "                         'subsample': [1, 0.5, 0.75]},\n",
       "             verbose=2)"
      ]
     },
     "execution_count": 134,
     "metadata": {},
     "output_type": "execute_result"
    }
   ],
   "source": [
    "gbm = GradientBoostingRegressor()\n",
    "gbm_cv_model = GridSearchCV(gbm, gbm_params, cv = 10, n_jobs = -1, verbose = 2)\n",
    "gbm_cv_model.fit(X_train, y_train)"
   ]
  },
  {
   "cell_type": "code",
   "execution_count": 135,
   "metadata": {},
   "outputs": [
    {
     "data": {
      "text/plain": [
       "{'learning_rate': 0.2, 'max_depth': 8, 'n_estimators': 200, 'subsample': 0.5}"
      ]
     },
     "execution_count": 135,
     "metadata": {},
     "output_type": "execute_result"
    }
   ],
   "source": [
    "gbm_cv_model.best_params_"
   ]
  },
  {
   "cell_type": "code",
   "execution_count": 136,
   "metadata": {},
   "outputs": [],
   "source": [
    "gbm_tuned = GradientBoostingRegressor(learning_rate = 0.2, \n",
    "                                      max_depth = 8, \n",
    "                                      n_estimators = 200, \n",
    "                                      subsample = 0.5).fit(X_train, y_train)\n"
   ]
  },
  {
   "cell_type": "code",
   "execution_count": 137,
   "metadata": {},
   "outputs": [],
   "source": [
    "y_pred = gbm_tuned.predict(X_test)"
   ]
  },
  {
   "cell_type": "code",
   "execution_count": 138,
   "metadata": {},
   "outputs": [
    {
     "data": {
      "text/plain": [
       "339.01240843477973"
      ]
     },
     "execution_count": 138,
     "metadata": {},
     "output_type": "execute_result"
    }
   ],
   "source": [
    "np.sqrt(mean_squared_error(y_test, y_pred))"
   ]
  },
  {
   "cell_type": "code",
   "execution_count": 139,
   "metadata": {},
   "outputs": [],
   "source": [
    "importance = pd.DataFrame({\"Importance\": gbm_tuned.feature_importances_*100},\n",
    "                          index = X_train.columns\n",
    "                         )"
   ]
  },
  {
   "cell_type": "code",
   "execution_count": 140,
   "metadata": {},
   "outputs": [
    {
     "data": {
      "text/plain": [
       "Text(0.5, 0, 'degisken onem duzeyi')"
      ]
     },
     "execution_count": 140,
     "metadata": {},
     "output_type": "execute_result"
    },
    {
     "data": {
      "image/png": "[encoded data removed]",
      "text/plain": [
       "<Figure size 432x288 with 1 Axes>"
      ]
     },
     "metadata": {
      "needs_background": "light"
     },
     "output_type": "display_data"
    }
   ],
   "source": [
    "importance.sort_values(by = \"Importance\", \n",
    "                       axis = 0, \n",
    "                       ascending = True).plot(kind = \"barh\", color = \"r\")\n",
    "plt.xlabel(\"degisken onem duzeyi\")"
   ]
  },
  {
   "cell_type": "markdown",
   "metadata": {},
   "source": [
    "#  XGBoost"
   ]
  },
  {
   "cell_type": "markdown",
   "metadata": {},
   "source": [
    "* XGBoost, GBM'in hiz ve tahmin performansini arttirmak uzere ptimize edilmistir.\n",
    "* Olceklenebilir ve farkli platformlara entegre edilebilir halidir."
   ]
  },
  {
   "cell_type": "markdown",
   "metadata": {},
   "source": [
    "## Model"
   ]
  },
  {
   "cell_type": "code",
   "execution_count": 141,
   "metadata": {},
   "outputs": [],
   "source": [
    "hit = pd.read_csv(\"Hitters.csv\")\n",
    "df = hit.copy()\n",
    "df = df.dropna()\n",
    "dms = pd.get_dummies(df[['League', 'Division', 'NewLeague']])\n",
    "y = df[\"Salary\"]\n",
    "X_ = df.drop(['Salary', 'League', 'Division', 'NewLeague'], axis=1).astype('float64')\n",
    "X = pd.concat([X_, dms[['League_N', 'Division_W', 'NewLeague_N']]], axis=1)\n",
    "X_train, X_test, y_train, y_test = train_test_split(X, y, \n",
    "                                                    test_size=0.25, \n",
    "                                                    random_state=42)"
   ]
  },
  {
   "cell_type": "code",
   "execution_count": 142,
   "metadata": {},
   "outputs": [
    {
     "name": "stdout",
     "output_type": "stream",
     "text": [
      "Requirement already satisfied: xgboost in c:\\users\\90530\\anaconda3\\lib\\site-packages (1.4.2)\n",
      "Requirement already satisfied: numpy in c:\\users\\90530\\anaconda3\\lib\\site-packages (from xgboost) (1.19.5)\n",
      "Requirement already satisfied: scipy in c:\\users\\90530\\anaconda3\\lib\\site-packages (from xgboost) (1.2.1)\n"
     ]
    }
   ],
   "source": [
    "!pip install xgboost"
   ]
  },
  {
   "cell_type": "markdown",
   "metadata": {},
   "source": [
    "* Gelistirici XGBoost icin dataframe kullanmak yerine XGBoost'un kendi veri yapisi kullanilmasi durumunda daha performansli bir model elde edecegimizi soyler.Asagidaki gibi olusturulur."
   ]
  },
  {
   "cell_type": "code",
   "execution_count": 143,
   "metadata": {},
   "outputs": [],
   "source": [
    "import xgboost as xgb"
   ]
  },
  {
   "cell_type": "code",
   "execution_count": 144,
   "metadata": {},
   "outputs": [],
   "source": [
    "DM_train = xgb.DMatrix(data = X_train, label = y_train)\n",
    "DM_test = xgb.DMatrix(data = X_test, label = y_test)"
   ]
  },
  {
   "cell_type": "code",
   "execution_count": 145,
   "metadata": {},
   "outputs": [],
   "source": [
    "from xgboost import XGBRegressor"
   ]
  },
  {
   "cell_type": "code",
   "execution_count": 146,
   "metadata": {},
   "outputs": [],
   "source": [
    "xgb_model = XGBRegressor().fit(X_train, y_train)"
   ]
  },
  {
   "cell_type": "code",
   "execution_count": 147,
   "metadata": {},
   "outputs": [],
   "source": [
    "y_pred = xgb_model.predict(X_test)"
   ]
  },
  {
   "cell_type": "code",
   "execution_count": 148,
   "metadata": {},
   "outputs": [
    {
     "data": {
      "text/plain": [
       "355.46515176059927"
      ]
     },
     "execution_count": 148,
     "metadata": {},
     "output_type": "execute_result"
    }
   ],
   "source": [
    "np.sqrt(mean_squared_error(y_test, y_pred))"
   ]
  },
  {
   "cell_type": "markdown",
   "metadata": {},
   "source": [
    "## Model Tuning"
   ]
  },
  {
   "cell_type": "code",
   "execution_count": 149,
   "metadata": {},
   "outputs": [
    {
     "data": {
      "text/plain": [
       "XGBRegressor(base_score=0.5, booster='gbtree', colsample_bylevel=1,\n",
       "             colsample_bynode=1, colsample_bytree=1, gamma=0, gpu_id=-1,\n",
       "             importance_type='gain', interaction_constraints='',\n",
       "             learning_rate=0.300000012, max_delta_step=0, max_depth=6,\n",
       "             min_child_weight=1, missing=nan, monotone_constraints='()',\n",
       "             n_estimators=100, n_jobs=8, num_parallel_tree=1, random_state=0,\n",
       "             reg_alpha=0, reg_lambda=1, scale_pos_weight=1, subsample=1,\n",
       "             tree_method='exact', validate_parameters=1, verbosity=None)"
      ]
     },
     "execution_count": 149,
     "metadata": {},
     "output_type": "execute_result"
    }
   ],
   "source": [
    "xgb_model"
   ]
  },
  {
   "cell_type": "code",
   "execution_count": 150,
   "metadata": {},
   "outputs": [],
   "source": [
    "xgb_param = {\n",
    "    'colsample_bytree': [0.4, 0.5, 0.6, 0.9, 1],\n",
    "    'n_estimators': [100, 200, 500, 1000],\n",
    "    'max_depth': [2, 3, 4, 5, 6],\n",
    "    'learning_rate': [0.1, 0.01, 0.5]\n",
    "}"
   ]
  },
  {
   "cell_type": "code",
   "execution_count": 151,
   "metadata": {},
   "outputs": [
    {
     "name": "stdout",
     "output_type": "stream",
     "text": [
      "Fitting 10 folds for each of 300 candidates, totalling 3000 fits\n"
     ]
    }
   ],
   "source": [
    "xgb = XGBRegressor()\n",
    "xgb_cv_model = GridSearchCV(xgb, \n",
    "                            xgb_param, \n",
    "                            cv = 10, \n",
    "                            n_jobs = -1, \n",
    "                            verbose = 2).fit(X_train, y_train)"
   ]
  },
  {
   "cell_type": "code",
   "execution_count": 152,
   "metadata": {},
   "outputs": [
    {
     "data": {
      "text/plain": [
       "{'colsample_bytree': 0.5,\n",
       " 'learning_rate': 0.1,\n",
       " 'max_depth': 2,\n",
       " 'n_estimators': 500}"
      ]
     },
     "execution_count": 152,
     "metadata": {},
     "output_type": "execute_result"
    }
   ],
   "source": [
    "xgb_cv_model.best_params_"
   ]
  },
  {
   "cell_type": "code",
   "execution_count": 153,
   "metadata": {},
   "outputs": [],
   "source": [
    "xgb_tuned = XGBRegressor(colsample_bytree = 0.5, \n",
    "                         learning_rate = 0.1,\n",
    "                         max_depth = 2, \n",
    "                         n_estimators = 500 ).fit(X_train, y_train)"
   ]
  },
  {
   "cell_type": "code",
   "execution_count": 154,
   "metadata": {},
   "outputs": [],
   "source": [
    "y_pred = xgb_tuned.predict(X_test)"
   ]
  },
  {
   "cell_type": "code",
   "execution_count": 155,
   "metadata": {},
   "outputs": [
    {
     "data": {
      "text/plain": [
       "346.0275204366939"
      ]
     },
     "execution_count": 155,
     "metadata": {},
     "output_type": "execute_result"
    }
   ],
   "source": [
    "np.sqrt(mean_squared_error(y_test, y_pred))"
   ]
  },
  {
   "cell_type": "markdown",
   "metadata": {},
   "source": [
    "# LightGbm"
   ]
  },
  {
   "cell_type": "markdown",
   "metadata": {},
   "source": [
    "* XGBoost'un egitim performansini arttirmaya yonelik gelistirilen bir diger GBM turudur."
   ]
  },
  {
   "cell_type": "markdown",
   "metadata": {},
   "source": [
    "* Daha performasli\n",
    "* Level-wise buyume stratejisi yerine Leaf-wise buyume stratejisi izler\n",
    "* Breadth-first search (BFS) yerine depth-first search (DFS) kullanir"
   ]
  },
  {
   "cell_type": "markdown",
   "metadata": {},
   "source": [
    "* LightGbm'in, XGBoost'un egitim suresini kisaltmak icin split etmeye odaklanir."
   ]
  },
  {
   "cell_type": "markdown",
   "metadata": {},
   "source": [
    "* XGboost daha genis kapsamli bir ilk arama yapar, LighGBM ist derinlemesine bir ilk arama yapar"
   ]
  },
  {
   "cell_type": "markdown",
   "metadata": {},
   "source": [
    "## Model"
   ]
  },
  {
   "cell_type": "code",
   "execution_count": 156,
   "metadata": {},
   "outputs": [],
   "source": [
    "hit = pd.read_csv(\"Hitters.csv\")\n",
    "df = hit.copy()\n",
    "df = df.dropna()\n",
    "dms = pd.get_dummies(df[['League', 'Division', 'NewLeague']])\n",
    "y = df[\"Salary\"]\n",
    "X_ = df.drop(['Salary', 'League', 'Division', 'NewLeague'], axis=1).astype('float64')\n",
    "X = pd.concat([X_, dms[['League_N', 'Division_W', 'NewLeague_N']]], axis=1)\n",
    "X_train, X_test, y_train, y_test = train_test_split(X, y, \n",
    "                                                    test_size=0.25, \n",
    "                                                    random_state=42)"
   ]
  },
  {
   "cell_type": "code",
   "execution_count": 157,
   "metadata": {},
   "outputs": [
    {
     "name": "stdout",
     "output_type": "stream",
     "text": [
      "Requirement already satisfied: lightgbm in c:\\users\\90530\\anaconda3\\lib\\site-packages (3.2.1)\n",
      "Requirement already satisfied: wheel in c:\\users\\90530\\anaconda3\\lib\\site-packages (from lightgbm) (0.36.2)\n",
      "Requirement already satisfied: scipy in c:\\users\\90530\\anaconda3\\lib\\site-packages (from lightgbm) (1.2.1)\n",
      "Requirement already satisfied: numpy in c:\\users\\90530\\anaconda3\\lib\\site-packages (from lightgbm) (1.19.5)\n",
      "Requirement already satisfied: scikit-learn!=0.22.0 in c:\\users\\90530\\anaconda3\\lib\\site-packages (from lightgbm) (0.24.2)\n",
      "Requirement already satisfied: threadpoolctl>=2.0.0 in c:\\users\\90530\\anaconda3\\lib\\site-packages (from scikit-learn!=0.22.0->lightgbm) (2.2.0)\n",
      "Requirement already satisfied: joblib>=0.11 in c:\\users\\90530\\anaconda3\\lib\\site-packages (from scikit-learn!=0.22.0->lightgbm) (1.0.1)\n"
     ]
    }
   ],
   "source": [
    "!pip install lightgbm"
   ]
  },
  {
   "cell_type": "code",
   "execution_count": 158,
   "metadata": {},
   "outputs": [],
   "source": [
    "from lightgbm import LGBMRegressor"
   ]
  },
  {
   "cell_type": "code",
   "execution_count": 159,
   "metadata": {},
   "outputs": [],
   "source": [
    "lgbm = LGBMRegressor()\n",
    "lgbm_model = lgbm.fit(X_train, y_train)"
   ]
  },
  {
   "cell_type": "code",
   "execution_count": 160,
   "metadata": {},
   "outputs": [],
   "source": [
    "y_pred = lgbm_model.predict(X_test, num_iteration = lgbm_model.best_iteration_)"
   ]
  },
  {
   "cell_type": "code",
   "execution_count": 161,
   "metadata": {},
   "outputs": [
    {
     "data": {
      "text/plain": [
       "363.8712087611089"
      ]
     },
     "execution_count": 161,
     "metadata": {},
     "output_type": "execute_result"
    }
   ],
   "source": [
    "np.sqrt(mean_squared_error(y_test, y_pred))"
   ]
  },
  {
   "cell_type": "markdown",
   "metadata": {},
   "source": [
    "## Model Tuning"
   ]
  },
  {
   "cell_type": "code",
   "execution_count": 162,
   "metadata": {},
   "outputs": [],
   "source": [
    "lgbm_grid = {\n",
    "    'colsample_bytree': [0.4, 0.5,0.6,0.9,1],\n",
    "    'learning_rate': [0.01, 0.1, 0.5,1],\n",
    "    'n_estimators': [20, 40, 100, 200, 500,1000],\n",
    "    'max_depth': [1,2,3,4,5,6,7,8] }\n",
    "\n",
    "lgbm = LGBMRegressor()\n",
    "lgbm_cv_model = GridSearchCV(lgbm, lgbm_grid, cv=10, n_jobs = -1, verbose = 2)"
   ]
  },
  {
   "cell_type": "code",
   "execution_count": 163,
   "metadata": {},
   "outputs": [
    {
     "name": "stdout",
     "output_type": "stream",
     "text": [
      "Fitting 10 folds for each of 960 candidates, totalling 9600 fits\n"
     ]
    },
    {
     "data": {
      "text/plain": [
       "GridSearchCV(cv=10, estimator=LGBMRegressor(), n_jobs=-1,\n",
       "             param_grid={'colsample_bytree': [0.4, 0.5, 0.6, 0.9, 1],\n",
       "                         'learning_rate': [0.01, 0.1, 0.5, 1],\n",
       "                         'max_depth': [1, 2, 3, 4, 5, 6, 7, 8],\n",
       "                         'n_estimators': [20, 40, 100, 200, 500, 1000]},\n",
       "             verbose=2)"
      ]
     },
     "execution_count": 163,
     "metadata": {},
     "output_type": "execute_result"
    }
   ],
   "source": [
    "lgbm_cv_model.fit(X_train, y_train)"
   ]
  },
  {
   "cell_type": "code",
   "execution_count": 164,
   "metadata": {},
   "outputs": [
    {
     "data": {
      "text/plain": [
       "{'colsample_bytree': 0.5,\n",
       " 'learning_rate': 0.1,\n",
       " 'max_depth': 6,\n",
       " 'n_estimators': 20}"
      ]
     },
     "execution_count": 164,
     "metadata": {},
     "output_type": "execute_result"
    }
   ],
   "source": [
    "lgbm_cv_model.best_params_"
   ]
  },
  {
   "cell_type": "code",
   "execution_count": 165,
   "metadata": {},
   "outputs": [],
   "source": [
    "lgbm_tuned = LGBMRegressor(colsample_bytree = 0.5, \n",
    "                           learning_rate = 0.1, \n",
    "                           max_depth = 6, \n",
    "                           n_estimators = 20).fit(X_train, y_train)"
   ]
  },
  {
   "cell_type": "code",
   "execution_count": 166,
   "metadata": {},
   "outputs": [],
   "source": [
    "y_pred = lgbm_tuned.predict(X_test)"
   ]
  },
  {
   "cell_type": "code",
   "execution_count": 167,
   "metadata": {},
   "outputs": [
    {
     "data": {
      "text/plain": [
       "375.6085209015434"
      ]
     },
     "execution_count": 167,
     "metadata": {},
     "output_type": "execute_result"
    }
   ],
   "source": [
    "np.sqrt(mean_squared_error(y_test, y_pred))"
   ]
  },
  {
   "cell_type": "markdown",
   "metadata": {},
   "source": [
    "# CatBoost"
   ]
  },
  {
   "cell_type": "markdown",
   "metadata": {},
   "source": [
    "* Kategorik degiskenlerle otomatik mucadele edebilen, hizli basarili bir GBM turevi"
   ]
  },
  {
   "cell_type": "markdown",
   "metadata": {},
   "source": [
    "* Hizli ve olceklenebilir GPU destegi\n",
    "* Daha basarili tahminler\n",
    "* Hizli train hizli tahmin\n"
   ]
  },
  {
   "cell_type": "markdown",
   "metadata": {},
   "source": [
    "## Tahmin"
   ]
  },
  {
   "cell_type": "code",
   "execution_count": 168,
   "metadata": {},
   "outputs": [],
   "source": [
    "hit = pd.read_csv(\"Hitters.csv\")\n",
    "df = hit.copy()\n",
    "df = df.dropna()\n",
    "dms = pd.get_dummies(df[['League', 'Division', 'NewLeague']])\n",
    "y = df[\"Salary\"]\n",
    "X_ = df.drop(['Salary', 'League', 'Division', 'NewLeague'], axis=1).astype('float64')\n",
    "X = pd.concat([X_, dms[['League_N', 'Division_W', 'NewLeague_N']]], axis=1)\n",
    "X_train, X_test, y_train, y_test = train_test_split(X, y, \n",
    "                                                    test_size=0.25, \n",
    "                                                    random_state=42)"
   ]
  },
  {
   "cell_type": "code",
   "execution_count": 169,
   "metadata": {},
   "outputs": [
    {
     "name": "stdout",
     "output_type": "stream",
     "text": [
      "Collecting catboost\n",
      "  Downloading https://files.pythonhosted.org/packages/e4/74/822757e5867d518167e8aa25f4362f21767b22eab2ef21811e9eb5332790/catboost-0.26.1-cp37-none-win_amd64.whl (67.9MB)\n",
      "Requirement already satisfied: numpy>=1.16.0 in c:\\users\\90530\\anaconda3\\lib\\site-packages (from catboost) (1.19.5)\n",
      "Requirement already satisfied: matplotlib in c:\\users\\90530\\anaconda3\\lib\\site-packages (from catboost) (3.0.3)\n",
      "Collecting plotly (from catboost)\n",
      "  Downloading https://files.pythonhosted.org/packages/68/b2/7c7d111affebb281b1085680db7358f6204920bb5574e9e84db05c530688/plotly-5.3.1-py2.py3-none-any.whl (23.9MB)\n",
      "Collecting graphviz (from catboost)\n",
      "  Downloading https://files.pythonhosted.org/packages/97/14/b5eeeb6d24dbca0ada857ce4a453985df34d9512464bb20cc1a8aca44c54/graphviz-0.17-py3-none-any.whl\n",
      "Requirement already satisfied: scipy in c:\\users\\90530\\anaconda3\\lib\\site-packages (from catboost) (1.2.1)\n",
      "Requirement already satisfied: pandas>=0.24.0 in c:\\users\\90530\\anaconda3\\lib\\site-packages (from catboost) (0.24.2)\n",
      "Requirement already satisfied: six in c:\\users\\90530\\anaconda3\\lib\\site-packages (from catboost) (1.15.0)\n",
      "Requirement already satisfied: cycler>=0.10 in c:\\users\\90530\\anaconda3\\lib\\site-packages (from matplotlib->catboost) (0.10.0)\n",
      "Requirement already satisfied: kiwisolver>=1.0.1 in c:\\users\\90530\\anaconda3\\lib\\site-packages (from matplotlib->catboost) (1.0.1)\n",
      "Requirement already satisfied: pyparsing!=2.0.4,!=2.1.2,!=2.1.6,>=2.0.1 in c:\\users\\90530\\anaconda3\\lib\\site-packages (from matplotlib->catboost) (2.3.1)\n",
      "Requirement already satisfied: python-dateutil>=2.1 in c:\\users\\90530\\anaconda3\\lib\\site-packages (from matplotlib->catboost) (2.8.0)\n",
      "Collecting tenacity>=6.2.0 (from plotly->catboost)\n",
      "  Downloading https://files.pythonhosted.org/packages/f2/a5/f86bc8d67c979020438c8559cc70cfe3a1643fd160d35e09c9cca6a09189/tenacity-8.0.1-py3-none-any.whl\n",
      "Requirement already satisfied: pytz>=2011k in c:\\users\\90530\\anaconda3\\lib\\site-packages (from pandas>=0.24.0->catboost) (2018.9)\n",
      "Requirement already satisfied: setuptools in c:\\users\\90530\\anaconda3\\lib\\site-packages (from kiwisolver>=1.0.1->matplotlib->catboost) (53.0.0)\n",
      "Installing collected packages: tenacity, plotly, graphviz, catboost\n",
      "Successfully installed catboost-0.26.1 graphviz-0.17 plotly-5.3.1 tenacity-8.0.1\n"
     ]
    }
   ],
   "source": [
    "!pip install catboost"
   ]
  },
  {
   "cell_type": "code",
   "execution_count": 170,
   "metadata": {},
   "outputs": [],
   "source": [
    "from catboost import CatBoostRegressor"
   ]
  },
  {
   "cell_type": "code",
   "execution_count": 171,
   "metadata": {},
   "outputs": [
    {
     "name": "stdout",
     "output_type": "stream",
     "text": [
      "Learning rate set to 0.029229\n",
      "0:\tlearn: 438.1974206\ttotal: 142ms\tremaining: 2m 21s\n",
      "1:\tlearn: 432.4168868\ttotal: 143ms\tremaining: 1m 11s\n",
      "2:\tlearn: 426.3836690\ttotal: 148ms\tremaining: 49.2s\n",
      "3:\tlearn: 420.2261014\ttotal: 151ms\tremaining: 37.6s\n",
      "4:\tlearn: 414.9976675\ttotal: 153ms\tremaining: 30.5s\n",
      "5:\tlearn: 409.6125323\ttotal: 155ms\tremaining: 25.7s\n",
      "6:\tlearn: 403.9277911\ttotal: 157ms\tremaining: 22.2s\n",
      "7:\tlearn: 398.4395285\ttotal: 160ms\tremaining: 19.9s\n",
      "8:\tlearn: 392.4517081\ttotal: 162ms\tremaining: 17.8s\n",
      "9:\tlearn: 387.4871123\ttotal: 163ms\tremaining: 16.2s\n",
      "10:\tlearn: 382.6230510\ttotal: 165ms\tremaining: 14.8s\n",
      "11:\tlearn: 378.1012454\ttotal: 167ms\tremaining: 13.7s\n",
      "12:\tlearn: 372.6002306\ttotal: 168ms\tremaining: 12.8s\n",
      "13:\tlearn: 368.4682192\ttotal: 170ms\tremaining: 11.9s\n",
      "14:\tlearn: 364.0565766\ttotal: 171ms\tremaining: 11.2s\n",
      "15:\tlearn: 359.5683249\ttotal: 174ms\tremaining: 10.7s\n",
      "16:\tlearn: 355.1782794\ttotal: 177ms\tremaining: 10.2s\n",
      "17:\tlearn: 350.4689946\ttotal: 179ms\tremaining: 9.76s\n",
      "18:\tlearn: 346.2553348\ttotal: 180ms\tremaining: 9.31s\n",
      "19:\tlearn: 341.7051884\ttotal: 182ms\tremaining: 8.91s\n",
      "20:\tlearn: 337.8343606\ttotal: 183ms\tremaining: 8.54s\n",
      "21:\tlearn: 333.7956702\ttotal: 185ms\tremaining: 8.21s\n",
      "22:\tlearn: 329.8867930\ttotal: 187ms\tremaining: 7.96s\n",
      "23:\tlearn: 326.1844372\ttotal: 190ms\tremaining: 7.71s\n",
      "24:\tlearn: 323.1315580\ttotal: 192ms\tremaining: 7.48s\n",
      "25:\tlearn: 319.3322885\ttotal: 194ms\tremaining: 7.26s\n",
      "26:\tlearn: 316.2039164\ttotal: 195ms\tremaining: 7.04s\n",
      "27:\tlearn: 313.2598806\ttotal: 197ms\tremaining: 6.83s\n",
      "28:\tlearn: 310.1086898\ttotal: 198ms\tremaining: 6.63s\n",
      "29:\tlearn: 307.0508553\ttotal: 200ms\tremaining: 6.48s\n",
      "30:\tlearn: 304.5843401\ttotal: 202ms\tremaining: 6.31s\n",
      "31:\tlearn: 301.6708432\ttotal: 203ms\tremaining: 6.15s\n",
      "32:\tlearn: 298.9175443\ttotal: 205ms\tremaining: 6s\n",
      "33:\tlearn: 296.1231309\ttotal: 206ms\tremaining: 5.86s\n",
      "34:\tlearn: 293.2359275\ttotal: 208ms\tremaining: 5.72s\n",
      "35:\tlearn: 290.3999850\ttotal: 209ms\tremaining: 5.59s\n",
      "36:\tlearn: 287.8958674\ttotal: 210ms\tremaining: 5.48s\n",
      "37:\tlearn: 285.6692571\ttotal: 212ms\tremaining: 5.36s\n",
      "38:\tlearn: 282.9812904\ttotal: 214ms\tremaining: 5.27s\n",
      "39:\tlearn: 280.6302291\ttotal: 217ms\tremaining: 5.2s\n",
      "40:\tlearn: 278.2767119\ttotal: 218ms\tremaining: 5.1s\n",
      "41:\tlearn: 276.0589541\ttotal: 219ms\tremaining: 5s\n",
      "42:\tlearn: 273.6619286\ttotal: 221ms\tremaining: 4.91s\n",
      "43:\tlearn: 271.1128163\ttotal: 222ms\tremaining: 4.83s\n",
      "44:\tlearn: 268.9091716\ttotal: 224ms\tremaining: 4.75s\n",
      "45:\tlearn: 266.3675542\ttotal: 225ms\tremaining: 4.67s\n",
      "46:\tlearn: 263.7815611\ttotal: 228ms\tremaining: 4.62s\n",
      "47:\tlearn: 261.8160223\ttotal: 231ms\tremaining: 4.58s\n",
      "48:\tlearn: 259.7109561\ttotal: 233ms\tremaining: 4.52s\n",
      "49:\tlearn: 257.7200276\ttotal: 235ms\tremaining: 4.46s\n",
      "50:\tlearn: 255.7835524\ttotal: 237ms\tremaining: 4.41s\n",
      "51:\tlearn: 253.8406902\ttotal: 239ms\tremaining: 4.36s\n",
      "52:\tlearn: 251.6896611\ttotal: 241ms\tremaining: 4.31s\n",
      "53:\tlearn: 250.0830915\ttotal: 243ms\tremaining: 4.26s\n",
      "54:\tlearn: 248.3689069\ttotal: 244ms\tremaining: 4.2s\n",
      "55:\tlearn: 246.2718937\ttotal: 246ms\tremaining: 4.15s\n",
      "56:\tlearn: 244.3923224\ttotal: 249ms\tremaining: 4.12s\n",
      "57:\tlearn: 242.3040669\ttotal: 250ms\tremaining: 4.07s\n",
      "58:\tlearn: 240.5357981\ttotal: 252ms\tremaining: 4.02s\n",
      "59:\tlearn: 238.7009594\ttotal: 253ms\tremaining: 3.97s\n",
      "60:\tlearn: 237.2676945\ttotal: 257ms\tremaining: 3.96s\n",
      "61:\tlearn: 235.7252656\ttotal: 259ms\tremaining: 3.92s\n",
      "62:\tlearn: 234.1007596\ttotal: 260ms\tremaining: 3.87s\n",
      "63:\tlearn: 232.4179971\ttotal: 261ms\tremaining: 3.82s\n",
      "64:\tlearn: 231.1643497\ttotal: 262ms\tremaining: 3.77s\n",
      "65:\tlearn: 229.6810852\ttotal: 264ms\tremaining: 3.73s\n",
      "66:\tlearn: 228.1714231\ttotal: 265ms\tremaining: 3.69s\n",
      "67:\tlearn: 226.9338286\ttotal: 266ms\tremaining: 3.65s\n",
      "68:\tlearn: 226.0780127\ttotal: 267ms\tremaining: 3.61s\n",
      "69:\tlearn: 224.6598569\ttotal: 270ms\tremaining: 3.59s\n",
      "70:\tlearn: 223.1110463\ttotal: 272ms\tremaining: 3.56s\n",
      "71:\tlearn: 221.6545694\ttotal: 275ms\tremaining: 3.54s\n",
      "72:\tlearn: 220.2670639\ttotal: 276ms\tremaining: 3.5s\n",
      "73:\tlearn: 218.9738032\ttotal: 277ms\tremaining: 3.47s\n",
      "74:\tlearn: 217.9247112\ttotal: 279ms\tremaining: 3.44s\n",
      "75:\tlearn: 216.9202490\ttotal: 280ms\tremaining: 3.4s\n",
      "76:\tlearn: 215.5989131\ttotal: 282ms\tremaining: 3.38s\n",
      "77:\tlearn: 214.3540917\ttotal: 284ms\tremaining: 3.36s\n",
      "78:\tlearn: 213.4575339\ttotal: 285ms\tremaining: 3.33s\n",
      "79:\tlearn: 212.1036261\ttotal: 287ms\tremaining: 3.3s\n",
      "80:\tlearn: 210.8030392\ttotal: 288ms\tremaining: 3.27s\n",
      "81:\tlearn: 209.5290460\ttotal: 289ms\tremaining: 3.24s\n",
      "82:\tlearn: 208.0255508\ttotal: 291ms\tremaining: 3.21s\n",
      "83:\tlearn: 206.9124270\ttotal: 292ms\tremaining: 3.18s\n",
      "84:\tlearn: 205.5903017\ttotal: 293ms\tremaining: 3.15s\n",
      "85:\tlearn: 204.6057051\ttotal: 294ms\tremaining: 3.13s\n",
      "86:\tlearn: 203.7128429\ttotal: 297ms\tremaining: 3.11s\n",
      "87:\tlearn: 202.7663836\ttotal: 299ms\tremaining: 3.1s\n",
      "88:\tlearn: 201.9026542\ttotal: 300ms\tremaining: 3.07s\n",
      "89:\tlearn: 200.7729520\ttotal: 301ms\tremaining: 3.04s\n",
      "90:\tlearn: 199.6909954\ttotal: 303ms\tremaining: 3.02s\n",
      "91:\tlearn: 198.6341430\ttotal: 304ms\tremaining: 3s\n",
      "92:\tlearn: 197.6117675\ttotal: 305ms\tremaining: 2.98s\n",
      "93:\tlearn: 196.5198483\ttotal: 306ms\tremaining: 2.95s\n",
      "94:\tlearn: 195.5443940\ttotal: 308ms\tremaining: 2.93s\n",
      "95:\tlearn: 194.4203970\ttotal: 309ms\tremaining: 2.91s\n",
      "96:\tlearn: 193.2677508\ttotal: 312ms\tremaining: 2.91s\n",
      "97:\tlearn: 192.1768427\ttotal: 314ms\tremaining: 2.89s\n",
      "98:\tlearn: 191.2356955\ttotal: 316ms\tremaining: 2.87s\n",
      "99:\tlearn: 189.9934546\ttotal: 317ms\tremaining: 2.85s\n",
      "100:\tlearn: 189.2719006\ttotal: 318ms\tremaining: 2.83s\n",
      "101:\tlearn: 188.1079321\ttotal: 320ms\tremaining: 2.82s\n",
      "102:\tlearn: 187.1211517\ttotal: 321ms\tremaining: 2.8s\n",
      "103:\tlearn: 185.9059118\ttotal: 324ms\tremaining: 2.79s\n",
      "104:\tlearn: 185.2620919\ttotal: 326ms\tremaining: 2.78s\n",
      "105:\tlearn: 184.4349037\ttotal: 327ms\tremaining: 2.76s\n",
      "106:\tlearn: 183.1846237\ttotal: 329ms\tremaining: 2.74s\n",
      "107:\tlearn: 182.1448077\ttotal: 330ms\tremaining: 2.73s\n",
      "108:\tlearn: 181.4787170\ttotal: 332ms\tremaining: 2.71s\n",
      "109:\tlearn: 180.6789032\ttotal: 333ms\tremaining: 2.69s\n",
      "110:\tlearn: 179.9122461\ttotal: 334ms\tremaining: 2.68s\n",
      "111:\tlearn: 178.9952892\ttotal: 335ms\tremaining: 2.66s\n",
      "112:\tlearn: 178.6013107\ttotal: 338ms\tremaining: 2.65s\n",
      "113:\tlearn: 177.7090692\ttotal: 340ms\tremaining: 2.64s\n",
      "114:\tlearn: 176.7404828\ttotal: 341ms\tremaining: 2.63s\n",
      "115:\tlearn: 176.0415402\ttotal: 343ms\tremaining: 2.61s\n",
      "116:\tlearn: 175.5315148\ttotal: 344ms\tremaining: 2.6s\n",
      "117:\tlearn: 174.8976738\ttotal: 345ms\tremaining: 2.58s\n",
      "118:\tlearn: 174.0530870\ttotal: 347ms\tremaining: 2.57s\n",
      "119:\tlearn: 173.0700181\ttotal: 348ms\tremaining: 2.55s\n",
      "120:\tlearn: 172.2832739\ttotal: 349ms\tremaining: 2.54s\n",
      "121:\tlearn: 171.4960220\ttotal: 352ms\tremaining: 2.54s\n",
      "122:\tlearn: 171.0402978\ttotal: 354ms\tremaining: 2.53s\n",
      "123:\tlearn: 170.7119169\ttotal: 356ms\tremaining: 2.52s\n",
      "124:\tlearn: 169.6907823\ttotal: 357ms\tremaining: 2.5s\n",
      "125:\tlearn: 169.2063700\ttotal: 359ms\tremaining: 2.49s\n",
      "126:\tlearn: 168.1597529\ttotal: 360ms\tremaining: 2.47s\n",
      "127:\tlearn: 167.3156403\ttotal: 361ms\tremaining: 2.46s\n",
      "128:\tlearn: 166.3187281\ttotal: 363ms\tremaining: 2.45s\n",
      "129:\tlearn: 166.1101656\ttotal: 364ms\tremaining: 2.44s\n",
      "130:\tlearn: 165.5420012\ttotal: 366ms\tremaining: 2.43s\n",
      "131:\tlearn: 164.6237022\ttotal: 368ms\tremaining: 2.42s\n",
      "132:\tlearn: 163.7646814\ttotal: 369ms\tremaining: 2.41s\n",
      "133:\tlearn: 163.3971858\ttotal: 371ms\tremaining: 2.39s\n",
      "134:\tlearn: 162.8775666\ttotal: 372ms\tremaining: 2.38s\n",
      "135:\tlearn: 162.3591190\ttotal: 373ms\tremaining: 2.37s\n",
      "136:\tlearn: 161.8515150\ttotal: 375ms\tremaining: 2.36s\n",
      "137:\tlearn: 161.2542226\ttotal: 376ms\tremaining: 2.35s\n",
      "138:\tlearn: 160.5899334\ttotal: 378ms\tremaining: 2.34s\n",
      "139:\tlearn: 159.6307999\ttotal: 380ms\tremaining: 2.33s\n",
      "140:\tlearn: 159.0055431\ttotal: 381ms\tremaining: 2.32s\n",
      "141:\tlearn: 158.2566894\ttotal: 383ms\tremaining: 2.31s\n",
      "142:\tlearn: 157.6496356\ttotal: 384ms\tremaining: 2.3s\n",
      "143:\tlearn: 157.1590393\ttotal: 385ms\tremaining: 2.29s\n",
      "144:\tlearn: 156.5730455\ttotal: 387ms\tremaining: 2.28s\n",
      "145:\tlearn: 155.8450985\ttotal: 388ms\tremaining: 2.27s\n",
      "146:\tlearn: 155.2439210\ttotal: 391ms\tremaining: 2.27s\n",
      "147:\tlearn: 154.9417796\ttotal: 394ms\tremaining: 2.27s\n",
      "148:\tlearn: 154.3763613\ttotal: 396ms\tremaining: 2.26s\n",
      "149:\tlearn: 153.9438757\ttotal: 398ms\tremaining: 2.25s\n",
      "150:\tlearn: 153.1854046\ttotal: 400ms\tremaining: 2.25s\n",
      "151:\tlearn: 152.8631442\ttotal: 401ms\tremaining: 2.24s\n",
      "152:\tlearn: 152.3115428\ttotal: 402ms\tremaining: 2.23s\n",
      "153:\tlearn: 151.8957029\ttotal: 404ms\tremaining: 2.22s\n",
      "154:\tlearn: 151.1871329\ttotal: 406ms\tremaining: 2.21s\n",
      "155:\tlearn: 150.6828564\ttotal: 408ms\tremaining: 2.21s\n",
      "156:\tlearn: 150.2509622\ttotal: 409ms\tremaining: 2.2s\n",
      "157:\tlearn: 149.6497659\ttotal: 411ms\tremaining: 2.19s\n",
      "158:\tlearn: 148.9332067\ttotal: 412ms\tremaining: 2.18s\n",
      "159:\tlearn: 148.7156418\ttotal: 413ms\tremaining: 2.17s\n",
      "160:\tlearn: 148.2737189\ttotal: 414ms\tremaining: 2.16s\n",
      "161:\tlearn: 147.9625721\ttotal: 415ms\tremaining: 2.15s\n",
      "162:\tlearn: 147.4564915\ttotal: 417ms\tremaining: 2.14s\n",
      "163:\tlearn: 146.8606991\ttotal: 418ms\tremaining: 2.13s\n",
      "164:\tlearn: 146.2386459\ttotal: 420ms\tremaining: 2.13s\n",
      "165:\tlearn: 145.7642228\ttotal: 421ms\tremaining: 2.12s\n",
      "166:\tlearn: 145.3792204\ttotal: 423ms\tremaining: 2.11s\n",
      "167:\tlearn: 145.0935465\ttotal: 424ms\tremaining: 2.1s\n",
      "168:\tlearn: 144.6976165\ttotal: 425ms\tremaining: 2.09s\n",
      "169:\tlearn: 143.9724403\ttotal: 426ms\tremaining: 2.08s\n",
      "170:\tlearn: 143.6449839\ttotal: 427ms\tremaining: 2.07s\n",
      "171:\tlearn: 143.1999180\ttotal: 429ms\tremaining: 2.06s\n",
      "172:\tlearn: 142.9381183\ttotal: 430ms\tremaining: 2.05s\n",
      "173:\tlearn: 142.3304601\ttotal: 431ms\tremaining: 2.05s\n",
      "174:\tlearn: 141.9229624\ttotal: 433ms\tremaining: 2.04s\n",
      "175:\tlearn: 141.4043903\ttotal: 435ms\tremaining: 2.04s\n",
      "176:\tlearn: 141.0209642\ttotal: 437ms\tremaining: 2.03s\n",
      "177:\tlearn: 140.4510865\ttotal: 439ms\tremaining: 2.02s\n",
      "178:\tlearn: 140.3441522\ttotal: 439ms\tremaining: 2.02s\n",
      "179:\tlearn: 139.8478562\ttotal: 441ms\tremaining: 2.01s\n",
      "180:\tlearn: 139.7464932\ttotal: 441ms\tremaining: 2s\n",
      "181:\tlearn: 139.2514614\ttotal: 442ms\tremaining: 1.99s\n",
      "182:\tlearn: 139.0274540\ttotal: 444ms\tremaining: 1.98s\n",
      "183:\tlearn: 138.4584181\ttotal: 446ms\tremaining: 1.98s\n",
      "184:\tlearn: 138.2093063\ttotal: 447ms\tremaining: 1.97s\n",
      "185:\tlearn: 137.8406250\ttotal: 448ms\tremaining: 1.96s\n",
      "186:\tlearn: 137.7280816\ttotal: 450ms\tremaining: 1.95s\n",
      "187:\tlearn: 137.2465993\ttotal: 451ms\tremaining: 1.95s\n",
      "188:\tlearn: 136.7894765\ttotal: 452ms\tremaining: 1.94s\n",
      "189:\tlearn: 136.4857311\ttotal: 453ms\tremaining: 1.93s\n",
      "190:\tlearn: 136.0043713\ttotal: 454ms\tremaining: 1.92s\n",
      "191:\tlearn: 135.7523177\ttotal: 456ms\tremaining: 1.92s\n",
      "192:\tlearn: 135.3372675\ttotal: 457ms\tremaining: 1.91s\n",
      "193:\tlearn: 135.0202084\ttotal: 458ms\tremaining: 1.9s\n",
      "194:\tlearn: 134.7757422\ttotal: 460ms\tremaining: 1.9s\n",
      "195:\tlearn: 134.3546545\ttotal: 461ms\tremaining: 1.89s\n",
      "196:\tlearn: 133.9623627\ttotal: 463ms\tremaining: 1.89s\n",
      "197:\tlearn: 133.2648869\ttotal: 464ms\tremaining: 1.88s\n",
      "198:\tlearn: 132.9318972\ttotal: 465ms\tremaining: 1.87s\n",
      "199:\tlearn: 132.5119098\ttotal: 466ms\tremaining: 1.86s\n",
      "200:\tlearn: 131.8954412\ttotal: 467ms\tremaining: 1.86s\n",
      "201:\tlearn: 131.6115557\ttotal: 468ms\tremaining: 1.85s\n",
      "202:\tlearn: 131.2095441\ttotal: 470ms\tremaining: 1.84s\n",
      "203:\tlearn: 130.6658729\ttotal: 471ms\tremaining: 1.84s\n",
      "204:\tlearn: 130.3457517\ttotal: 474ms\tremaining: 1.84s\n",
      "205:\tlearn: 130.0833818\ttotal: 476ms\tremaining: 1.84s\n",
      "206:\tlearn: 129.7238048\ttotal: 478ms\tremaining: 1.83s\n",
      "207:\tlearn: 129.0671906\ttotal: 480ms\tremaining: 1.83s\n",
      "208:\tlearn: 128.7683402\ttotal: 482ms\tremaining: 1.82s\n",
      "209:\tlearn: 128.5832593\ttotal: 483ms\tremaining: 1.82s\n",
      "210:\tlearn: 128.3749444\ttotal: 485ms\tremaining: 1.81s\n",
      "211:\tlearn: 128.1143221\ttotal: 487ms\tremaining: 1.81s\n",
      "212:\tlearn: 127.9897497\ttotal: 488ms\tremaining: 1.8s\n",
      "213:\tlearn: 127.6815659\ttotal: 490ms\tremaining: 1.8s\n",
      "214:\tlearn: 127.2006697\ttotal: 491ms\tremaining: 1.79s\n",
      "215:\tlearn: 127.0352179\ttotal: 492ms\tremaining: 1.79s\n",
      "216:\tlearn: 126.9617234\ttotal: 493ms\tremaining: 1.78s\n",
      "217:\tlearn: 126.7776328\ttotal: 495ms\tremaining: 1.77s\n",
      "218:\tlearn: 126.3802524\ttotal: 496ms\tremaining: 1.77s\n",
      "219:\tlearn: 126.1995377\ttotal: 497ms\tremaining: 1.76s\n",
      "220:\tlearn: 126.1155383\ttotal: 499ms\tremaining: 1.76s\n",
      "221:\tlearn: 125.9832799\ttotal: 502ms\tremaining: 1.76s\n",
      "222:\tlearn: 125.7495770\ttotal: 503ms\tremaining: 1.75s\n",
      "223:\tlearn: 125.2409845\ttotal: 505ms\tremaining: 1.75s\n",
      "224:\tlearn: 124.9538099\ttotal: 506ms\tremaining: 1.74s\n",
      "225:\tlearn: 124.7089151\ttotal: 508ms\tremaining: 1.74s\n",
      "226:\tlearn: 124.3984858\ttotal: 509ms\tremaining: 1.73s\n",
      "227:\tlearn: 124.0014588\ttotal: 511ms\tremaining: 1.73s\n",
      "228:\tlearn: 123.7139174\ttotal: 512ms\tremaining: 1.72s\n",
      "229:\tlearn: 123.6555034\ttotal: 513ms\tremaining: 1.72s\n",
      "230:\tlearn: 123.3398368\ttotal: 516ms\tremaining: 1.72s\n",
      "231:\tlearn: 122.7561150\ttotal: 518ms\tremaining: 1.71s\n",
      "232:\tlearn: 122.5676806\ttotal: 520ms\tremaining: 1.71s\n",
      "233:\tlearn: 122.1759040\ttotal: 522ms\tremaining: 1.71s\n",
      "234:\tlearn: 121.5761316\ttotal: 523ms\tremaining: 1.7s\n",
      "235:\tlearn: 121.3308579\ttotal: 525ms\tremaining: 1.7s\n",
      "236:\tlearn: 120.6316918\ttotal: 526ms\tremaining: 1.69s\n",
      "237:\tlearn: 120.0241441\ttotal: 528ms\tremaining: 1.69s\n",
      "238:\tlearn: 119.6974692\ttotal: 530ms\tremaining: 1.69s\n",
      "239:\tlearn: 119.5295579\ttotal: 531ms\tremaining: 1.68s\n",
      "240:\tlearn: 118.8105516\ttotal: 532ms\tremaining: 1.68s\n",
      "241:\tlearn: 118.5001438\ttotal: 533ms\tremaining: 1.67s\n",
      "242:\tlearn: 118.1525333\ttotal: 535ms\tremaining: 1.67s\n",
      "243:\tlearn: 117.8294708\ttotal: 536ms\tremaining: 1.66s\n",
      "244:\tlearn: 117.4650856\ttotal: 538ms\tremaining: 1.66s\n",
      "245:\tlearn: 117.2329146\ttotal: 539ms\tremaining: 1.65s\n",
      "246:\tlearn: 116.6281150\ttotal: 541ms\tremaining: 1.65s\n",
      "247:\tlearn: 116.4382173\ttotal: 544ms\tremaining: 1.65s\n",
      "248:\tlearn: 115.7804838\ttotal: 545ms\tremaining: 1.64s\n",
      "249:\tlearn: 115.4468389\ttotal: 546ms\tremaining: 1.64s\n",
      "250:\tlearn: 115.2535858\ttotal: 548ms\tremaining: 1.63s\n",
      "251:\tlearn: 115.0959725\ttotal: 549ms\tremaining: 1.63s\n",
      "252:\tlearn: 114.5054098\ttotal: 551ms\tremaining: 1.63s\n",
      "253:\tlearn: 114.2196805\ttotal: 552ms\tremaining: 1.62s\n",
      "254:\tlearn: 113.9389493\ttotal: 554ms\tremaining: 1.62s\n",
      "255:\tlearn: 113.8318782\ttotal: 557ms\tremaining: 1.62s\n",
      "256:\tlearn: 113.7010766\ttotal: 559ms\tremaining: 1.62s\n",
      "257:\tlearn: 113.5349213\ttotal: 561ms\tremaining: 1.61s\n",
      "258:\tlearn: 113.2939692\ttotal: 563ms\tremaining: 1.61s\n",
      "259:\tlearn: 112.8734855\ttotal: 564ms\tremaining: 1.6s\n",
      "260:\tlearn: 112.2073904\ttotal: 565ms\tremaining: 1.6s\n",
      "261:\tlearn: 111.7098455\ttotal: 568ms\tremaining: 1.6s\n",
      "262:\tlearn: 111.4861643\ttotal: 569ms\tremaining: 1.59s\n",
      "263:\tlearn: 111.4065123\ttotal: 571ms\tremaining: 1.59s\n",
      "264:\tlearn: 110.9193214\ttotal: 572ms\tremaining: 1.58s\n",
      "265:\tlearn: 110.2486713\ttotal: 573ms\tremaining: 1.58s\n",
      "266:\tlearn: 110.1718829\ttotal: 574ms\tremaining: 1.58s\n",
      "267:\tlearn: 109.8233102\ttotal: 575ms\tremaining: 1.57s\n",
      "268:\tlearn: 109.2576068\ttotal: 577ms\tremaining: 1.57s\n",
      "269:\tlearn: 109.1038965\ttotal: 578ms\tremaining: 1.56s\n",
      "270:\tlearn: 108.5183523\ttotal: 579ms\tremaining: 1.56s\n",
      "271:\tlearn: 108.4470954\ttotal: 582ms\tremaining: 1.56s\n",
      "272:\tlearn: 108.0259628\ttotal: 583ms\tremaining: 1.55s\n",
      "273:\tlearn: 107.5793316\ttotal: 585ms\tremaining: 1.55s\n",
      "274:\tlearn: 107.4747562\ttotal: 586ms\tremaining: 1.54s\n",
      "275:\tlearn: 107.4015080\ttotal: 587ms\tremaining: 1.54s\n",
      "276:\tlearn: 106.7954512\ttotal: 588ms\tremaining: 1.53s\n",
      "277:\tlearn: 106.3607188\ttotal: 590ms\tremaining: 1.53s\n",
      "278:\tlearn: 106.2892222\ttotal: 591ms\tremaining: 1.53s\n",
      "279:\tlearn: 106.1701389\ttotal: 592ms\tremaining: 1.52s\n",
      "280:\tlearn: 106.0889424\ttotal: 594ms\tremaining: 1.52s\n",
      "281:\tlearn: 105.8903610\ttotal: 597ms\tremaining: 1.52s\n",
      "282:\tlearn: 105.6531794\ttotal: 599ms\tremaining: 1.52s\n",
      "283:\tlearn: 105.3489666\ttotal: 601ms\tremaining: 1.51s\n",
      "284:\tlearn: 105.2156952\ttotal: 602ms\tremaining: 1.51s\n",
      "285:\tlearn: 104.7489850\ttotal: 603ms\tremaining: 1.5s\n",
      "286:\tlearn: 104.4701409\ttotal: 604ms\tremaining: 1.5s\n",
      "287:\tlearn: 104.3778769\ttotal: 606ms\tremaining: 1.5s\n",
      "288:\tlearn: 103.8224679\ttotal: 607ms\tremaining: 1.49s\n",
      "289:\tlearn: 103.2728523\ttotal: 609ms\tremaining: 1.49s\n",
      "290:\tlearn: 102.7341369\ttotal: 611ms\tremaining: 1.49s\n",
      "291:\tlearn: 102.5732242\ttotal: 612ms\tremaining: 1.48s\n",
      "292:\tlearn: 102.4869595\ttotal: 613ms\tremaining: 1.48s\n",
      "293:\tlearn: 101.9743362\ttotal: 614ms\tremaining: 1.47s\n",
      "294:\tlearn: 101.8782948\ttotal: 615ms\tremaining: 1.47s\n",
      "295:\tlearn: 101.3571512\ttotal: 617ms\tremaining: 1.47s\n",
      "296:\tlearn: 100.8372462\ttotal: 618ms\tremaining: 1.46s\n",
      "297:\tlearn: 100.6707783\ttotal: 619ms\tremaining: 1.46s\n",
      "298:\tlearn: 100.3215940\ttotal: 620ms\tremaining: 1.45s\n",
      "299:\tlearn: 99.8162460\ttotal: 623ms\tremaining: 1.45s\n",
      "300:\tlearn: 99.7024172\ttotal: 625ms\tremaining: 1.45s\n",
      "301:\tlearn: 99.2308832\ttotal: 626ms\tremaining: 1.45s\n",
      "302:\tlearn: 98.7981083\ttotal: 627ms\tremaining: 1.44s\n",
      "303:\tlearn: 98.6418362\ttotal: 629ms\tremaining: 1.44s\n",
      "304:\tlearn: 98.1248564\ttotal: 630ms\tremaining: 1.44s\n",
      "305:\tlearn: 97.9442581\ttotal: 632ms\tremaining: 1.43s\n",
      "306:\tlearn: 97.5091297\ttotal: 633ms\tremaining: 1.43s\n",
      "307:\tlearn: 97.0381695\ttotal: 635ms\tremaining: 1.43s\n",
      "308:\tlearn: 96.5858904\ttotal: 639ms\tremaining: 1.43s\n",
      "309:\tlearn: 96.4466124\ttotal: 643ms\tremaining: 1.43s\n",
      "310:\tlearn: 95.9786304\ttotal: 645ms\tremaining: 1.43s\n",
      "311:\tlearn: 95.5390501\ttotal: 646ms\tremaining: 1.43s\n",
      "312:\tlearn: 95.3241323\ttotal: 648ms\tremaining: 1.42s\n",
      "313:\tlearn: 95.1166839\ttotal: 651ms\tremaining: 1.42s\n",
      "314:\tlearn: 94.6729021\ttotal: 654ms\tremaining: 1.42s\n",
      "315:\tlearn: 94.2571678\ttotal: 656ms\tremaining: 1.42s\n",
      "316:\tlearn: 93.9414786\ttotal: 657ms\tremaining: 1.42s\n",
      "317:\tlearn: 93.7804159\ttotal: 659ms\tremaining: 1.41s\n",
      "318:\tlearn: 93.5413306\ttotal: 660ms\tremaining: 1.41s\n",
      "319:\tlearn: 93.4280107\ttotal: 663ms\tremaining: 1.41s\n",
      "320:\tlearn: 92.9986302\ttotal: 665ms\tremaining: 1.41s\n",
      "321:\tlearn: 92.9421610\ttotal: 667ms\tremaining: 1.4s\n",
      "322:\tlearn: 92.4662692\ttotal: 669ms\tremaining: 1.4s\n",
      "323:\tlearn: 92.0455485\ttotal: 670ms\tremaining: 1.4s\n",
      "324:\tlearn: 91.6664667\ttotal: 672ms\tremaining: 1.4s\n",
      "325:\tlearn: 91.5600717\ttotal: 673ms\tremaining: 1.39s\n",
      "326:\tlearn: 91.5004974\ttotal: 675ms\tremaining: 1.39s\n",
      "327:\tlearn: 91.0716355\ttotal: 677ms\tremaining: 1.39s\n",
      "328:\tlearn: 90.6376777\ttotal: 679ms\tremaining: 1.39s\n",
      "329:\tlearn: 90.2132341\ttotal: 682ms\tremaining: 1.38s\n",
      "330:\tlearn: 90.1525801\ttotal: 683ms\tremaining: 1.38s\n",
      "331:\tlearn: 89.7879501\ttotal: 685ms\tremaining: 1.38s\n",
      "332:\tlearn: 89.3626218\ttotal: 686ms\tremaining: 1.37s\n",
      "333:\tlearn: 89.1274526\ttotal: 689ms\tremaining: 1.37s\n",
      "334:\tlearn: 88.7222011\ttotal: 691ms\tremaining: 1.37s\n",
      "335:\tlearn: 88.5311901\ttotal: 693ms\tremaining: 1.37s\n",
      "336:\tlearn: 88.0699983\ttotal: 694ms\tremaining: 1.36s\n",
      "337:\tlearn: 87.6737037\ttotal: 696ms\tremaining: 1.36s\n",
      "338:\tlearn: 87.3069085\ttotal: 697ms\tremaining: 1.36s\n",
      "339:\tlearn: 86.8639700\ttotal: 698ms\tremaining: 1.35s\n",
      "340:\tlearn: 86.7339532\ttotal: 700ms\tremaining: 1.35s\n",
      "341:\tlearn: 86.5677333\ttotal: 704ms\tremaining: 1.35s\n",
      "342:\tlearn: 86.4361752\ttotal: 707ms\tremaining: 1.35s\n",
      "343:\tlearn: 86.2469458\ttotal: 709ms\tremaining: 1.35s\n",
      "344:\tlearn: 86.1967306\ttotal: 711ms\tremaining: 1.35s\n",
      "345:\tlearn: 86.0709863\ttotal: 712ms\tremaining: 1.35s\n",
      "346:\tlearn: 85.6398833\ttotal: 714ms\tremaining: 1.34s\n",
      "347:\tlearn: 85.5979263\ttotal: 716ms\tremaining: 1.34s\n",
      "348:\tlearn: 85.4437261\ttotal: 719ms\tremaining: 1.34s\n",
      "349:\tlearn: 85.0669752\ttotal: 721ms\tremaining: 1.34s\n",
      "350:\tlearn: 85.0164116\ttotal: 723ms\tremaining: 1.34s\n",
      "351:\tlearn: 84.6350071\ttotal: 725ms\tremaining: 1.33s\n",
      "352:\tlearn: 84.1473245\ttotal: 726ms\tremaining: 1.33s\n",
      "353:\tlearn: 83.8115391\ttotal: 732ms\tremaining: 1.34s\n",
      "354:\tlearn: 83.4823620\ttotal: 733ms\tremaining: 1.33s\n",
      "355:\tlearn: 83.1595406\ttotal: 735ms\tremaining: 1.33s\n",
      "356:\tlearn: 82.7280745\ttotal: 736ms\tremaining: 1.32s\n",
      "357:\tlearn: 82.6210086\ttotal: 737ms\tremaining: 1.32s\n",
      "358:\tlearn: 82.3077194\ttotal: 739ms\tremaining: 1.32s\n",
      "359:\tlearn: 81.9112073\ttotal: 740ms\tremaining: 1.31s\n",
      "360:\tlearn: 81.5518193\ttotal: 742ms\tremaining: 1.31s\n",
      "361:\tlearn: 81.4267033\ttotal: 744ms\tremaining: 1.31s\n",
      "362:\tlearn: 81.0255982\ttotal: 746ms\tremaining: 1.31s\n",
      "363:\tlearn: 80.6891175\ttotal: 747ms\tremaining: 1.3s\n",
      "364:\tlearn: 80.4390711\ttotal: 748ms\tremaining: 1.3s\n",
      "365:\tlearn: 80.1232319\ttotal: 749ms\tremaining: 1.3s\n",
      "366:\tlearn: 80.0808756\ttotal: 750ms\tremaining: 1.29s\n",
      "367:\tlearn: 79.7090424\ttotal: 751ms\tremaining: 1.29s\n",
      "368:\tlearn: 79.3969152\ttotal: 752ms\tremaining: 1.29s\n",
      "369:\tlearn: 79.0731259\ttotal: 754ms\tremaining: 1.28s\n",
      "370:\tlearn: 78.9862934\ttotal: 755ms\tremaining: 1.28s\n",
      "371:\tlearn: 78.7730476\ttotal: 757ms\tremaining: 1.28s\n",
      "372:\tlearn: 78.6302158\ttotal: 759ms\tremaining: 1.27s\n",
      "373:\tlearn: 78.5184111\ttotal: 761ms\tremaining: 1.27s\n",
      "374:\tlearn: 78.3814955\ttotal: 762ms\tremaining: 1.27s\n",
      "375:\tlearn: 77.9622261\ttotal: 764ms\tremaining: 1.27s\n",
      "376:\tlearn: 77.8601787\ttotal: 765ms\tremaining: 1.26s\n",
      "377:\tlearn: 77.7650898\ttotal: 766ms\tremaining: 1.26s\n",
      "378:\tlearn: 77.3945927\ttotal: 767ms\tremaining: 1.26s\n",
      "379:\tlearn: 77.3348237\ttotal: 769ms\tremaining: 1.25s\n",
      "380:\tlearn: 77.2431856\ttotal: 771ms\tremaining: 1.25s\n",
      "381:\tlearn: 76.9192891\ttotal: 772ms\tremaining: 1.25s\n",
      "382:\tlearn: 76.7949544\ttotal: 774ms\tremaining: 1.25s\n",
      "383:\tlearn: 76.5217530\ttotal: 775ms\tremaining: 1.24s\n",
      "384:\tlearn: 76.1648512\ttotal: 776ms\tremaining: 1.24s\n",
      "385:\tlearn: 75.9867656\ttotal: 778ms\tremaining: 1.24s\n",
      "386:\tlearn: 75.7293435\ttotal: 779ms\tremaining: 1.23s\n",
      "387:\tlearn: 75.6419805\ttotal: 780ms\tremaining: 1.23s\n",
      "388:\tlearn: 75.3138222\ttotal: 782ms\tremaining: 1.23s\n",
      "389:\tlearn: 75.0125736\ttotal: 784ms\tremaining: 1.23s\n",
      "390:\tlearn: 74.9803725\ttotal: 785ms\tremaining: 1.22s\n",
      "391:\tlearn: 74.6113970\ttotal: 787ms\tremaining: 1.22s\n",
      "392:\tlearn: 74.3668766\ttotal: 788ms\tremaining: 1.22s\n",
      "393:\tlearn: 74.2752147\ttotal: 789ms\tremaining: 1.21s\n",
      "394:\tlearn: 74.2172412\ttotal: 791ms\tremaining: 1.21s\n",
      "395:\tlearn: 73.8652110\ttotal: 792ms\tremaining: 1.21s\n",
      "396:\tlearn: 73.6963645\ttotal: 794ms\tremaining: 1.21s\n",
      "397:\tlearn: 73.4075086\ttotal: 798ms\tremaining: 1.21s\n",
      "398:\tlearn: 73.0346771\ttotal: 801ms\tremaining: 1.21s\n",
      "399:\tlearn: 72.9971586\ttotal: 803ms\tremaining: 1.2s\n",
      "400:\tlearn: 72.6755493\ttotal: 805ms\tremaining: 1.2s\n",
      "401:\tlearn: 72.5972282\ttotal: 806ms\tremaining: 1.2s\n",
      "402:\tlearn: 72.4345974\ttotal: 808ms\tremaining: 1.2s\n",
      "403:\tlearn: 72.2185716\ttotal: 812ms\tremaining: 1.2s\n",
      "404:\tlearn: 71.9251032\ttotal: 814ms\tremaining: 1.2s\n",
      "405:\tlearn: 71.8901544\ttotal: 816ms\tremaining: 1.19s\n",
      "406:\tlearn: 71.5338422\ttotal: 818ms\tremaining: 1.19s\n",
      "407:\tlearn: 71.4477827\ttotal: 820ms\tremaining: 1.19s\n",
      "408:\tlearn: 71.4127550\ttotal: 821ms\tremaining: 1.19s\n",
      "409:\tlearn: 71.3322454\ttotal: 824ms\tremaining: 1.19s\n",
      "410:\tlearn: 71.2981804\ttotal: 826ms\tremaining: 1.18s\n",
      "411:\tlearn: 71.0089173\ttotal: 828ms\tremaining: 1.18s\n",
      "412:\tlearn: 70.7854493\ttotal: 830ms\tremaining: 1.18s\n",
      "413:\tlearn: 70.4930103\ttotal: 831ms\tremaining: 1.18s\n",
      "414:\tlearn: 70.1976578\ttotal: 833ms\tremaining: 1.17s\n",
      "415:\tlearn: 69.9565552\ttotal: 835ms\tremaining: 1.17s\n",
      "416:\tlearn: 69.8912103\ttotal: 840ms\tremaining: 1.17s\n",
      "417:\tlearn: 69.7356706\ttotal: 843ms\tremaining: 1.17s\n",
      "418:\tlearn: 69.6634412\ttotal: 846ms\tremaining: 1.17s\n",
      "419:\tlearn: 69.2943609\ttotal: 847ms\tremaining: 1.17s\n",
      "420:\tlearn: 69.0269983\ttotal: 850ms\tremaining: 1.17s\n",
      "421:\tlearn: 68.8653561\ttotal: 852ms\tremaining: 1.17s\n",
      "422:\tlearn: 68.6555281\ttotal: 854ms\tremaining: 1.16s\n",
      "423:\tlearn: 68.2338294\ttotal: 855ms\tremaining: 1.16s\n",
      "424:\tlearn: 68.0909898\ttotal: 857ms\tremaining: 1.16s\n",
      "425:\tlearn: 67.7905722\ttotal: 859ms\tremaining: 1.16s\n",
      "426:\tlearn: 67.5586853\ttotal: 860ms\tremaining: 1.15s\n",
      "427:\tlearn: 67.3518839\ttotal: 863ms\tremaining: 1.15s\n",
      "428:\tlearn: 67.2029794\ttotal: 866ms\tremaining: 1.15s\n",
      "429:\tlearn: 66.9467892\ttotal: 868ms\tremaining: 1.15s\n",
      "430:\tlearn: 66.7821891\ttotal: 869ms\tremaining: 1.15s\n",
      "431:\tlearn: 66.4955741\ttotal: 871ms\tremaining: 1.14s\n",
      "432:\tlearn: 66.2240359\ttotal: 873ms\tremaining: 1.14s\n",
      "433:\tlearn: 65.9832136\ttotal: 874ms\tremaining: 1.14s\n",
      "434:\tlearn: 65.7761577\ttotal: 878ms\tremaining: 1.14s\n",
      "435:\tlearn: 65.4845025\ttotal: 881ms\tremaining: 1.14s\n",
      "436:\tlearn: 65.4215937\ttotal: 883ms\tremaining: 1.14s\n",
      "437:\tlearn: 65.1768197\ttotal: 885ms\tremaining: 1.14s\n",
      "438:\tlearn: 65.1071642\ttotal: 887ms\tremaining: 1.13s\n",
      "439:\tlearn: 65.0705857\ttotal: 890ms\tremaining: 1.13s\n",
      "440:\tlearn: 64.7782864\ttotal: 891ms\tremaining: 1.13s\n",
      "441:\tlearn: 64.5284944\ttotal: 892ms\tremaining: 1.13s\n",
      "442:\tlearn: 64.3504433\ttotal: 893ms\tremaining: 1.12s\n",
      "443:\tlearn: 64.3001112\ttotal: 894ms\tremaining: 1.12s\n",
      "444:\tlearn: 63.9063758\ttotal: 896ms\tremaining: 1.12s\n",
      "445:\tlearn: 63.8746707\ttotal: 897ms\tremaining: 1.11s\n",
      "446:\tlearn: 63.5487944\ttotal: 898ms\tremaining: 1.11s\n",
      "447:\tlearn: 63.3406893\ttotal: 899ms\tremaining: 1.11s\n",
      "448:\tlearn: 63.0992921\ttotal: 901ms\tremaining: 1.1s\n",
      "449:\tlearn: 62.8676535\ttotal: 903ms\tremaining: 1.1s\n",
      "450:\tlearn: 62.6978975\ttotal: 906ms\tremaining: 1.1s\n",
      "451:\tlearn: 62.4888356\ttotal: 907ms\tremaining: 1.1s\n",
      "452:\tlearn: 62.4591033\ttotal: 909ms\tremaining: 1.1s\n",
      "453:\tlearn: 62.3981355\ttotal: 910ms\tremaining: 1.09s\n",
      "454:\tlearn: 62.2755114\ttotal: 911ms\tremaining: 1.09s\n",
      "455:\tlearn: 62.0286915\ttotal: 912ms\tremaining: 1.09s\n",
      "456:\tlearn: 61.8101493\ttotal: 914ms\tremaining: 1.09s\n",
      "457:\tlearn: 61.7125436\ttotal: 918ms\tremaining: 1.08s\n",
      "458:\tlearn: 61.3464743\ttotal: 922ms\tremaining: 1.09s\n",
      "459:\tlearn: 61.0777407\ttotal: 924ms\tremaining: 1.08s\n",
      "460:\tlearn: 60.7354015\ttotal: 926ms\tremaining: 1.08s\n",
      "461:\tlearn: 60.7070785\ttotal: 929ms\tremaining: 1.08s\n",
      "462:\tlearn: 60.4380726\ttotal: 933ms\tremaining: 1.08s\n",
      "463:\tlearn: 60.3794644\ttotal: 935ms\tremaining: 1.08s\n",
      "464:\tlearn: 60.3096146\ttotal: 937ms\tremaining: 1.08s\n",
      "465:\tlearn: 60.2803998\ttotal: 938ms\tremaining: 1.07s\n",
      "466:\tlearn: 60.2489158\ttotal: 940ms\tremaining: 1.07s\n",
      "467:\tlearn: 60.2187601\ttotal: 941ms\tremaining: 1.07s\n",
      "468:\tlearn: 59.9901529\ttotal: 943ms\tremaining: 1.07s\n",
      "469:\tlearn: 59.7821357\ttotal: 946ms\tremaining: 1.07s\n",
      "470:\tlearn: 59.7334527\ttotal: 948ms\tremaining: 1.06s\n",
      "471:\tlearn: 59.4989600\ttotal: 949ms\tremaining: 1.06s\n",
      "472:\tlearn: 59.1865219\ttotal: 951ms\tremaining: 1.06s\n",
      "473:\tlearn: 58.9478658\ttotal: 953ms\tremaining: 1.06s\n",
      "474:\tlearn: 58.6836425\ttotal: 954ms\tremaining: 1.05s\n",
      "475:\tlearn: 58.6522637\ttotal: 956ms\tremaining: 1.05s\n",
      "476:\tlearn: 58.5963542\ttotal: 961ms\tremaining: 1.05s\n",
      "477:\tlearn: 58.3648296\ttotal: 965ms\tremaining: 1.05s\n",
      "478:\tlearn: 58.3188915\ttotal: 966ms\tremaining: 1.05s\n",
      "479:\tlearn: 58.1813689\ttotal: 968ms\tremaining: 1.05s\n",
      "480:\tlearn: 57.9437076\ttotal: 970ms\tremaining: 1.05s\n",
      "481:\tlearn: 57.7694232\ttotal: 974ms\tremaining: 1.05s\n",
      "482:\tlearn: 57.7437082\ttotal: 978ms\tremaining: 1.05s\n",
      "483:\tlearn: 57.5081532\ttotal: 980ms\tremaining: 1.04s\n",
      "484:\tlearn: 57.2134650\ttotal: 988ms\tremaining: 1.05s\n",
      "485:\tlearn: 56.9733344\ttotal: 992ms\tremaining: 1.05s\n",
      "486:\tlearn: 56.9412760\ttotal: 1.01s\tremaining: 1.06s\n",
      "487:\tlearn: 56.8640335\ttotal: 1.01s\tremaining: 1.06s\n",
      "488:\tlearn: 56.5624625\ttotal: 1.02s\tremaining: 1.06s\n",
      "489:\tlearn: 56.4986179\ttotal: 1.02s\tremaining: 1.06s\n",
      "490:\tlearn: 56.3527490\ttotal: 1.03s\tremaining: 1.06s\n",
      "491:\tlearn: 56.0961642\ttotal: 1.03s\tremaining: 1.06s\n",
      "492:\tlearn: 55.8256120\ttotal: 1.03s\tremaining: 1.06s\n",
      "493:\tlearn: 55.6150160\ttotal: 1.04s\tremaining: 1.06s\n",
      "494:\tlearn: 55.5631279\ttotal: 1.04s\tremaining: 1.06s\n",
      "495:\tlearn: 55.3736400\ttotal: 1.04s\tremaining: 1.06s\n",
      "496:\tlearn: 55.3441677\ttotal: 1.05s\tremaining: 1.06s\n",
      "497:\tlearn: 55.1995384\ttotal: 1.05s\tremaining: 1.06s\n",
      "498:\tlearn: 54.8980322\ttotal: 1.06s\tremaining: 1.06s\n",
      "499:\tlearn: 54.7119603\ttotal: 1.06s\tremaining: 1.06s\n",
      "500:\tlearn: 54.6236591\ttotal: 1.06s\tremaining: 1.06s\n",
      "501:\tlearn: 54.4131558\ttotal: 1.07s\tremaining: 1.06s\n",
      "502:\tlearn: 54.3901230\ttotal: 1.09s\tremaining: 1.07s\n",
      "503:\tlearn: 54.3662021\ttotal: 1.1s\tremaining: 1.08s\n",
      "504:\tlearn: 54.2068745\ttotal: 1.1s\tremaining: 1.08s\n",
      "505:\tlearn: 54.1800600\ttotal: 1.11s\tremaining: 1.08s\n",
      "506:\tlearn: 54.1376632\ttotal: 1.11s\tremaining: 1.08s\n",
      "507:\tlearn: 53.9788342\ttotal: 1.11s\tremaining: 1.08s\n",
      "508:\tlearn: 53.9294324\ttotal: 1.12s\tremaining: 1.08s\n",
      "509:\tlearn: 53.6786369\ttotal: 1.12s\tremaining: 1.08s\n",
      "510:\tlearn: 53.4578789\ttotal: 1.12s\tremaining: 1.07s\n",
      "511:\tlearn: 53.3261204\ttotal: 1.13s\tremaining: 1.07s\n",
      "512:\tlearn: 53.1331329\ttotal: 1.13s\tremaining: 1.07s\n",
      "513:\tlearn: 52.9261288\ttotal: 1.13s\tremaining: 1.07s\n",
      "514:\tlearn: 52.7447311\ttotal: 1.13s\tremaining: 1.07s\n",
      "515:\tlearn: 52.5966869\ttotal: 1.14s\tremaining: 1.07s\n",
      "516:\tlearn: 52.4130565\ttotal: 1.14s\tremaining: 1.07s\n",
      "517:\tlearn: 52.1948654\ttotal: 1.14s\tremaining: 1.06s\n",
      "518:\tlearn: 51.9463802\ttotal: 1.15s\tremaining: 1.06s\n",
      "519:\tlearn: 51.9178306\ttotal: 1.15s\tremaining: 1.06s\n",
      "520:\tlearn: 51.7246141\ttotal: 1.15s\tremaining: 1.06s\n",
      "521:\tlearn: 51.5669648\ttotal: 1.15s\tremaining: 1.05s\n",
      "522:\tlearn: 51.5221972\ttotal: 1.15s\tremaining: 1.05s\n",
      "523:\tlearn: 51.3293697\ttotal: 1.15s\tremaining: 1.05s\n",
      "524:\tlearn: 51.1767477\ttotal: 1.16s\tremaining: 1.05s\n",
      "525:\tlearn: 51.0961343\ttotal: 1.16s\tremaining: 1.04s\n",
      "526:\tlearn: 50.9995340\ttotal: 1.16s\tremaining: 1.04s\n",
      "527:\tlearn: 50.8846082\ttotal: 1.16s\tremaining: 1.04s\n",
      "528:\tlearn: 50.7478794\ttotal: 1.17s\tremaining: 1.04s\n",
      "529:\tlearn: 50.5116322\ttotal: 1.17s\tremaining: 1.04s\n",
      "530:\tlearn: 50.2760468\ttotal: 1.17s\tremaining: 1.03s\n",
      "531:\tlearn: 50.1040144\ttotal: 1.17s\tremaining: 1.03s\n",
      "532:\tlearn: 49.8827812\ttotal: 1.18s\tremaining: 1.03s\n",
      "533:\tlearn: 49.8255711\ttotal: 1.18s\tremaining: 1.03s\n",
      "534:\tlearn: 49.7890438\ttotal: 1.18s\tremaining: 1.02s\n",
      "535:\tlearn: 49.6290340\ttotal: 1.18s\tremaining: 1.02s\n",
      "536:\tlearn: 49.3965889\ttotal: 1.18s\tremaining: 1.02s\n",
      "537:\tlearn: 49.1641285\ttotal: 1.18s\tremaining: 1.02s\n",
      "538:\tlearn: 48.9654180\ttotal: 1.19s\tremaining: 1.01s\n",
      "539:\tlearn: 48.9278341\ttotal: 1.19s\tremaining: 1.01s\n",
      "540:\tlearn: 48.8457405\ttotal: 1.19s\tremaining: 1.01s\n",
      "541:\tlearn: 48.8041804\ttotal: 1.19s\tremaining: 1s\n",
      "542:\tlearn: 48.7179291\ttotal: 1.19s\tremaining: 1s\n",
      "543:\tlearn: 48.6759771\ttotal: 1.19s\tremaining: 999ms\n",
      "544:\tlearn: 48.4792967\ttotal: 1.19s\tremaining: 997ms\n",
      "545:\tlearn: 48.3843114\ttotal: 1.2s\tremaining: 994ms\n",
      "546:\tlearn: 48.2453957\ttotal: 1.2s\tremaining: 994ms\n",
      "547:\tlearn: 48.0231685\ttotal: 1.2s\tremaining: 991ms\n",
      "548:\tlearn: 47.8612203\ttotal: 1.2s\tremaining: 988ms\n",
      "549:\tlearn: 47.7590091\ttotal: 1.21s\tremaining: 986ms\n",
      "550:\tlearn: 47.6561968\ttotal: 1.21s\tremaining: 984ms\n",
      "551:\tlearn: 47.4106594\ttotal: 1.21s\tremaining: 981ms\n",
      "552:\tlearn: 47.2194456\ttotal: 1.21s\tremaining: 980ms\n",
      "553:\tlearn: 47.0783850\ttotal: 1.22s\tremaining: 979ms\n",
      "554:\tlearn: 46.8215038\ttotal: 1.22s\tremaining: 978ms\n",
      "555:\tlearn: 46.6674572\ttotal: 1.22s\tremaining: 975ms\n",
      "556:\tlearn: 46.6418726\ttotal: 1.22s\tremaining: 973ms\n",
      "557:\tlearn: 46.5248666\ttotal: 1.23s\tremaining: 971ms\n",
      "558:\tlearn: 46.5061320\ttotal: 1.23s\tremaining: 968ms\n",
      "559:\tlearn: 46.4397708\ttotal: 1.23s\tremaining: 965ms\n",
      "560:\tlearn: 46.3904442\ttotal: 1.23s\tremaining: 962ms\n",
      "561:\tlearn: 46.2576989\ttotal: 1.23s\tremaining: 960ms\n",
      "562:\tlearn: 45.9568721\ttotal: 1.23s\tremaining: 957ms\n",
      "563:\tlearn: 45.8482033\ttotal: 1.23s\tremaining: 954ms\n",
      "564:\tlearn: 45.6689466\ttotal: 1.23s\tremaining: 951ms\n",
      "565:\tlearn: 45.4222796\ttotal: 1.24s\tremaining: 948ms\n",
      "566:\tlearn: 45.2404146\ttotal: 1.24s\tremaining: 945ms\n",
      "567:\tlearn: 45.0903054\ttotal: 1.24s\tremaining: 944ms\n",
      "568:\tlearn: 44.7991969\ttotal: 1.24s\tremaining: 941ms\n",
      "569:\tlearn: 44.6413756\ttotal: 1.24s\tremaining: 938ms\n",
      "570:\tlearn: 44.5799550\ttotal: 1.24s\tremaining: 935ms\n",
      "571:\tlearn: 44.5651506\ttotal: 1.25s\tremaining: 933ms\n",
      "572:\tlearn: 44.4233165\ttotal: 1.25s\tremaining: 930ms\n",
      "573:\tlearn: 44.2369747\ttotal: 1.25s\tremaining: 927ms\n",
      "574:\tlearn: 44.0545664\ttotal: 1.25s\tremaining: 924ms\n",
      "575:\tlearn: 43.9004385\ttotal: 1.25s\tremaining: 923ms\n",
      "576:\tlearn: 43.7138119\ttotal: 1.25s\tremaining: 921ms\n",
      "577:\tlearn: 43.5755556\ttotal: 1.26s\tremaining: 918ms\n",
      "578:\tlearn: 43.4934072\ttotal: 1.26s\tremaining: 916ms\n",
      "579:\tlearn: 43.4629843\ttotal: 1.26s\tremaining: 913ms\n",
      "580:\tlearn: 43.3825129\ttotal: 1.26s\tremaining: 910ms\n",
      "581:\tlearn: 43.2549166\ttotal: 1.26s\tremaining: 907ms\n",
      "582:\tlearn: 43.1514800\ttotal: 1.27s\tremaining: 906ms\n",
      "583:\tlearn: 42.9846414\ttotal: 1.27s\tremaining: 904ms\n",
      "584:\tlearn: 42.8538804\ttotal: 1.27s\tremaining: 901ms\n",
      "585:\tlearn: 42.7710806\ttotal: 1.27s\tremaining: 898ms\n",
      "586:\tlearn: 42.5351412\ttotal: 1.27s\tremaining: 895ms\n",
      "587:\tlearn: 42.4784055\ttotal: 1.27s\tremaining: 893ms\n",
      "588:\tlearn: 42.3174788\ttotal: 1.27s\tremaining: 890ms\n",
      "589:\tlearn: 42.1761529\ttotal: 1.28s\tremaining: 887ms\n",
      "590:\tlearn: 42.0486059\ttotal: 1.28s\tremaining: 884ms\n",
      "591:\tlearn: 41.8689529\ttotal: 1.28s\tremaining: 883ms\n",
      "592:\tlearn: 41.8306286\ttotal: 1.28s\tremaining: 880ms\n",
      "593:\tlearn: 41.6966124\ttotal: 1.28s\tremaining: 878ms\n",
      "594:\tlearn: 41.6647082\ttotal: 1.28s\tremaining: 875ms\n",
      "595:\tlearn: 41.5609917\ttotal: 1.29s\tremaining: 872ms\n",
      "596:\tlearn: 41.4632566\ttotal: 1.29s\tremaining: 870ms\n",
      "597:\tlearn: 41.3899602\ttotal: 1.29s\tremaining: 867ms\n",
      "598:\tlearn: 41.2152047\ttotal: 1.29s\tremaining: 864ms\n",
      "599:\tlearn: 41.0959753\ttotal: 1.29s\tremaining: 864ms\n",
      "600:\tlearn: 40.9815009\ttotal: 1.3s\tremaining: 862ms\n",
      "601:\tlearn: 40.8912971\ttotal: 1.3s\tremaining: 860ms\n",
      "602:\tlearn: 40.7881395\ttotal: 1.3s\tremaining: 857ms\n",
      "603:\tlearn: 40.6325570\ttotal: 1.3s\tremaining: 855ms\n",
      "604:\tlearn: 40.4083902\ttotal: 1.3s\tremaining: 852ms\n",
      "605:\tlearn: 40.3292737\ttotal: 1.31s\tremaining: 851ms\n",
      "606:\tlearn: 40.2629492\ttotal: 1.31s\tremaining: 848ms\n",
      "607:\tlearn: 40.2448471\ttotal: 1.31s\tremaining: 846ms\n",
      "608:\tlearn: 40.2293673\ttotal: 1.31s\tremaining: 843ms\n",
      "609:\tlearn: 40.0978829\ttotal: 1.31s\tremaining: 840ms\n",
      "610:\tlearn: 40.0512268\ttotal: 1.31s\tremaining: 837ms\n",
      "611:\tlearn: 39.8920221\ttotal: 1.32s\tremaining: 835ms\n",
      "612:\tlearn: 39.8591122\ttotal: 1.32s\tremaining: 832ms\n",
      "613:\tlearn: 39.7261911\ttotal: 1.32s\tremaining: 829ms\n",
      "614:\tlearn: 39.6986628\ttotal: 1.32s\tremaining: 829ms\n",
      "615:\tlearn: 39.5659851\ttotal: 1.33s\tremaining: 827ms\n",
      "616:\tlearn: 39.4815274\ttotal: 1.33s\tremaining: 825ms\n",
      "617:\tlearn: 39.3682607\ttotal: 1.33s\tremaining: 822ms\n",
      "618:\tlearn: 39.2643803\ttotal: 1.33s\tremaining: 820ms\n",
      "619:\tlearn: 39.1307437\ttotal: 1.33s\tremaining: 817ms\n",
      "620:\tlearn: 38.9596117\ttotal: 1.33s\tremaining: 815ms\n",
      "621:\tlearn: 38.8456302\ttotal: 1.34s\tremaining: 813ms\n",
      "622:\tlearn: 38.7810676\ttotal: 1.34s\tremaining: 811ms\n",
      "623:\tlearn: 38.7450983\ttotal: 1.34s\tremaining: 808ms\n",
      "624:\tlearn: 38.6788090\ttotal: 1.34s\tremaining: 806ms\n",
      "625:\tlearn: 38.5788475\ttotal: 1.34s\tremaining: 804ms\n",
      "626:\tlearn: 38.4675366\ttotal: 1.35s\tremaining: 802ms\n",
      "627:\tlearn: 38.2350724\ttotal: 1.35s\tremaining: 800ms\n",
      "628:\tlearn: 38.2074221\ttotal: 1.35s\tremaining: 797ms\n",
      "629:\tlearn: 38.0622880\ttotal: 1.35s\tremaining: 795ms\n",
      "630:\tlearn: 37.8520281\ttotal: 1.35s\tremaining: 793ms\n",
      "631:\tlearn: 37.6631204\ttotal: 1.36s\tremaining: 790ms\n",
      "632:\tlearn: 37.5153877\ttotal: 1.36s\tremaining: 787ms\n",
      "633:\tlearn: 37.3834892\ttotal: 1.36s\tremaining: 785ms\n",
      "634:\tlearn: 37.2552166\ttotal: 1.36s\tremaining: 783ms\n",
      "635:\tlearn: 37.0779047\ttotal: 1.36s\tremaining: 781ms\n",
      "636:\tlearn: 37.0329263\ttotal: 1.36s\tremaining: 778ms\n",
      "637:\tlearn: 36.8927982\ttotal: 1.37s\tremaining: 776ms\n",
      "638:\tlearn: 36.8105498\ttotal: 1.37s\tremaining: 773ms\n",
      "639:\tlearn: 36.7512624\ttotal: 1.37s\tremaining: 770ms\n",
      "640:\tlearn: 36.5891302\ttotal: 1.37s\tremaining: 768ms\n",
      "641:\tlearn: 36.4551656\ttotal: 1.37s\tremaining: 765ms\n",
      "642:\tlearn: 36.4318588\ttotal: 1.37s\tremaining: 763ms\n",
      "643:\tlearn: 36.4074785\ttotal: 1.38s\tremaining: 761ms\n",
      "644:\tlearn: 36.2579510\ttotal: 1.38s\tremaining: 759ms\n",
      "645:\tlearn: 36.1413504\ttotal: 1.38s\tremaining: 757ms\n",
      "646:\tlearn: 36.0078406\ttotal: 1.38s\tremaining: 754ms\n",
      "647:\tlearn: 35.8909828\ttotal: 1.38s\tremaining: 751ms\n",
      "648:\tlearn: 35.7426906\ttotal: 1.38s\tremaining: 749ms\n",
      "649:\tlearn: 35.5963108\ttotal: 1.39s\tremaining: 747ms\n",
      "650:\tlearn: 35.4623805\ttotal: 1.39s\tremaining: 745ms\n",
      "651:\tlearn: 35.4428004\ttotal: 1.39s\tremaining: 742ms\n",
      "652:\tlearn: 35.3007158\ttotal: 1.39s\tremaining: 740ms\n",
      "653:\tlearn: 35.1510309\ttotal: 1.39s\tremaining: 737ms\n",
      "654:\tlearn: 35.1258328\ttotal: 1.39s\tremaining: 735ms\n",
      "655:\tlearn: 35.0183795\ttotal: 1.4s\tremaining: 732ms\n",
      "656:\tlearn: 34.9003271\ttotal: 1.4s\tremaining: 729ms\n",
      "657:\tlearn: 34.7887445\ttotal: 1.4s\tremaining: 727ms\n",
      "658:\tlearn: 34.6253676\ttotal: 1.4s\tremaining: 724ms\n",
      "659:\tlearn: 34.5506116\ttotal: 1.4s\tremaining: 722ms\n",
      "660:\tlearn: 34.4197699\ttotal: 1.4s\tremaining: 720ms\n",
      "661:\tlearn: 34.3097495\ttotal: 1.4s\tremaining: 717ms\n",
      "662:\tlearn: 34.1572027\ttotal: 1.41s\tremaining: 715ms\n",
      "663:\tlearn: 34.1441284\ttotal: 1.41s\tremaining: 712ms\n",
      "664:\tlearn: 34.0600732\ttotal: 1.41s\tremaining: 710ms\n",
      "665:\tlearn: 34.0500587\ttotal: 1.41s\tremaining: 707ms\n",
      "666:\tlearn: 33.9193340\ttotal: 1.41s\tremaining: 705ms\n",
      "667:\tlearn: 33.7564013\ttotal: 1.41s\tremaining: 702ms\n",
      "668:\tlearn: 33.6528749\ttotal: 1.41s\tremaining: 700ms\n",
      "669:\tlearn: 33.5681199\ttotal: 1.42s\tremaining: 698ms\n",
      "670:\tlearn: 33.4451433\ttotal: 1.42s\tremaining: 696ms\n",
      "671:\tlearn: 33.3468901\ttotal: 1.42s\tremaining: 694ms\n",
      "672:\tlearn: 33.2486282\ttotal: 1.42s\tremaining: 691ms\n",
      "673:\tlearn: 33.2302888\ttotal: 1.42s\tremaining: 689ms\n",
      "674:\tlearn: 33.0558859\ttotal: 1.43s\tremaining: 686ms\n",
      "675:\tlearn: 32.9700344\ttotal: 1.43s\tremaining: 684ms\n",
      "676:\tlearn: 32.8501642\ttotal: 1.43s\tremaining: 682ms\n",
      "677:\tlearn: 32.7340426\ttotal: 1.43s\tremaining: 680ms\n",
      "678:\tlearn: 32.7121017\ttotal: 1.43s\tremaining: 677ms\n",
      "679:\tlearn: 32.6200569\ttotal: 1.43s\tremaining: 675ms\n",
      "680:\tlearn: 32.5052371\ttotal: 1.44s\tremaining: 672ms\n",
      "681:\tlearn: 32.3916969\ttotal: 1.44s\tremaining: 670ms\n",
      "682:\tlearn: 32.2925704\ttotal: 1.44s\tremaining: 667ms\n",
      "683:\tlearn: 32.1901836\ttotal: 1.44s\tremaining: 665ms\n",
      "684:\tlearn: 32.1810795\ttotal: 1.44s\tremaining: 662ms\n",
      "685:\tlearn: 32.0538798\ttotal: 1.44s\tremaining: 660ms\n",
      "686:\tlearn: 31.9695880\ttotal: 1.44s\tremaining: 658ms\n",
      "687:\tlearn: 31.8186240\ttotal: 1.45s\tremaining: 655ms\n",
      "688:\tlearn: 31.7717776\ttotal: 1.45s\tremaining: 653ms\n",
      "689:\tlearn: 31.6271069\ttotal: 1.45s\tremaining: 651ms\n",
      "690:\tlearn: 31.4257754\ttotal: 1.45s\tremaining: 648ms\n",
      "691:\tlearn: 31.3158018\ttotal: 1.45s\tremaining: 646ms\n",
      "692:\tlearn: 31.2062456\ttotal: 1.45s\tremaining: 643ms\n",
      "693:\tlearn: 31.1002943\ttotal: 1.45s\tremaining: 641ms\n",
      "694:\tlearn: 31.0204694\ttotal: 1.46s\tremaining: 639ms\n",
      "695:\tlearn: 30.8638326\ttotal: 1.46s\tremaining: 637ms\n",
      "696:\tlearn: 30.8558418\ttotal: 1.46s\tremaining: 635ms\n",
      "697:\tlearn: 30.7168233\ttotal: 1.46s\tremaining: 632ms\n",
      "698:\tlearn: 30.6741149\ttotal: 1.46s\tremaining: 630ms\n",
      "699:\tlearn: 30.5633505\ttotal: 1.46s\tremaining: 628ms\n",
      "700:\tlearn: 30.3980151\ttotal: 1.47s\tremaining: 625ms\n",
      "701:\tlearn: 30.3868882\ttotal: 1.47s\tremaining: 623ms\n",
      "702:\tlearn: 30.3095110\ttotal: 1.47s\tremaining: 621ms\n",
      "703:\tlearn: 30.2001626\ttotal: 1.47s\tremaining: 619ms\n",
      "704:\tlearn: 30.1086639\ttotal: 1.47s\tremaining: 616ms\n",
      "705:\tlearn: 30.0062050\ttotal: 1.47s\tremaining: 614ms\n",
      "706:\tlearn: 29.9366332\ttotal: 1.48s\tremaining: 611ms\n",
      "707:\tlearn: 29.8514157\ttotal: 1.48s\tremaining: 609ms\n",
      "708:\tlearn: 29.8410197\ttotal: 1.48s\tremaining: 607ms\n",
      "709:\tlearn: 29.7691296\ttotal: 1.48s\tremaining: 604ms\n",
      "710:\tlearn: 29.6347315\ttotal: 1.48s\tremaining: 602ms\n",
      "711:\tlearn: 29.5690771\ttotal: 1.48s\tremaining: 599ms\n",
      "712:\tlearn: 29.4717613\ttotal: 1.48s\tremaining: 598ms\n",
      "713:\tlearn: 29.3453955\ttotal: 1.49s\tremaining: 595ms\n",
      "714:\tlearn: 29.3183996\ttotal: 1.49s\tremaining: 593ms\n",
      "715:\tlearn: 29.2357029\ttotal: 1.49s\tremaining: 591ms\n",
      "716:\tlearn: 29.1493484\ttotal: 1.49s\tremaining: 588ms\n",
      "717:\tlearn: 29.1412750\ttotal: 1.49s\tremaining: 586ms\n",
      "718:\tlearn: 29.0633640\ttotal: 1.49s\tremaining: 583ms\n",
      "719:\tlearn: 29.0063752\ttotal: 1.49s\tremaining: 581ms\n",
      "720:\tlearn: 28.8895697\ttotal: 1.5s\tremaining: 581ms\n",
      "721:\tlearn: 28.8127439\ttotal: 1.51s\tremaining: 580ms\n",
      "722:\tlearn: 28.7979935\ttotal: 1.51s\tremaining: 578ms\n",
      "723:\tlearn: 28.7730564\ttotal: 1.51s\tremaining: 577ms\n",
      "724:\tlearn: 28.6841951\ttotal: 1.51s\tremaining: 575ms\n",
      "725:\tlearn: 28.6192690\ttotal: 1.52s\tremaining: 572ms\n",
      "726:\tlearn: 28.5382100\ttotal: 1.52s\tremaining: 570ms\n",
      "727:\tlearn: 28.4124604\ttotal: 1.52s\tremaining: 568ms\n",
      "728:\tlearn: 28.3992354\ttotal: 1.52s\tremaining: 566ms\n",
      "729:\tlearn: 28.2458739\ttotal: 1.52s\tremaining: 563ms\n",
      "730:\tlearn: 28.1698858\ttotal: 1.52s\tremaining: 561ms\n",
      "731:\tlearn: 28.0857240\ttotal: 1.53s\tremaining: 560ms\n",
      "732:\tlearn: 28.0631865\ttotal: 1.53s\tremaining: 558ms\n",
      "733:\tlearn: 27.9617138\ttotal: 1.53s\tremaining: 555ms\n",
      "734:\tlearn: 27.9296040\ttotal: 1.53s\tremaining: 553ms\n",
      "735:\tlearn: 27.8714544\ttotal: 1.53s\tremaining: 551ms\n",
      "736:\tlearn: 27.8468105\ttotal: 1.53s\tremaining: 548ms\n",
      "737:\tlearn: 27.7605180\ttotal: 1.54s\tremaining: 546ms\n",
      "738:\tlearn: 27.6731250\ttotal: 1.54s\tremaining: 544ms\n",
      "739:\tlearn: 27.6662586\ttotal: 1.54s\tremaining: 542ms\n",
      "740:\tlearn: 27.6319100\ttotal: 1.54s\tremaining: 539ms\n",
      "741:\tlearn: 27.5465757\ttotal: 1.54s\tremaining: 537ms\n",
      "742:\tlearn: 27.4710735\ttotal: 1.55s\tremaining: 536ms\n",
      "743:\tlearn: 27.4510659\ttotal: 1.55s\tremaining: 533ms\n",
      "744:\tlearn: 27.3748617\ttotal: 1.55s\tremaining: 531ms\n",
      "745:\tlearn: 27.3633452\ttotal: 1.55s\tremaining: 529ms\n",
      "746:\tlearn: 27.2959571\ttotal: 1.55s\tremaining: 526ms\n",
      "747:\tlearn: 27.1315947\ttotal: 1.55s\tremaining: 524ms\n",
      "748:\tlearn: 27.0550248\ttotal: 1.56s\tremaining: 522ms\n",
      "749:\tlearn: 27.0373435\ttotal: 1.56s\tremaining: 520ms\n",
      "750:\tlearn: 26.9726665\ttotal: 1.56s\tremaining: 517ms\n",
      "751:\tlearn: 26.9145554\ttotal: 1.56s\tremaining: 515ms\n",
      "752:\tlearn: 26.8976495\ttotal: 1.56s\tremaining: 513ms\n",
      "753:\tlearn: 26.8013163\ttotal: 1.56s\tremaining: 510ms\n",
      "754:\tlearn: 26.7203712\ttotal: 1.57s\tremaining: 509ms\n",
      "755:\tlearn: 26.5829005\ttotal: 1.57s\tremaining: 507ms\n",
      "756:\tlearn: 26.4324310\ttotal: 1.57s\tremaining: 504ms\n",
      "757:\tlearn: 26.2890218\ttotal: 1.57s\tremaining: 502ms\n",
      "758:\tlearn: 26.1965245\ttotal: 1.57s\tremaining: 500ms\n",
      "759:\tlearn: 26.1810870\ttotal: 1.57s\tremaining: 498ms\n",
      "760:\tlearn: 26.1187072\ttotal: 1.58s\tremaining: 495ms\n",
      "761:\tlearn: 26.0637705\ttotal: 1.58s\tremaining: 494ms\n",
      "762:\tlearn: 25.9562461\ttotal: 1.58s\tremaining: 492ms\n",
      "763:\tlearn: 25.8386943\ttotal: 1.59s\tremaining: 490ms\n",
      "764:\tlearn: 25.7790725\ttotal: 1.59s\tremaining: 488ms\n",
      "765:\tlearn: 25.6701106\ttotal: 1.59s\tremaining: 486ms\n",
      "766:\tlearn: 25.6362119\ttotal: 1.59s\tremaining: 484ms\n",
      "767:\tlearn: 25.6252040\ttotal: 1.59s\tremaining: 482ms\n",
      "768:\tlearn: 25.5249470\ttotal: 1.6s\tremaining: 480ms\n",
      "769:\tlearn: 25.4610308\ttotal: 1.6s\tremaining: 478ms\n",
      "770:\tlearn: 25.3338917\ttotal: 1.6s\tremaining: 475ms\n",
      "771:\tlearn: 25.2081591\ttotal: 1.6s\tremaining: 473ms\n",
      "772:\tlearn: 25.1976317\ttotal: 1.6s\tremaining: 471ms\n",
      "773:\tlearn: 25.1309682\ttotal: 1.61s\tremaining: 469ms\n",
      "774:\tlearn: 25.0198547\ttotal: 1.61s\tremaining: 467ms\n",
      "775:\tlearn: 24.9490229\ttotal: 1.61s\tremaining: 465ms\n",
      "776:\tlearn: 24.9028200\ttotal: 1.61s\tremaining: 463ms\n",
      "777:\tlearn: 24.8337886\ttotal: 1.61s\tremaining: 461ms\n",
      "778:\tlearn: 24.7433955\ttotal: 1.61s\tremaining: 458ms\n",
      "779:\tlearn: 24.6167855\ttotal: 1.62s\tremaining: 456ms\n",
      "780:\tlearn: 24.5516424\ttotal: 1.62s\tremaining: 454ms\n",
      "781:\tlearn: 24.3925316\ttotal: 1.62s\tremaining: 453ms\n",
      "782:\tlearn: 24.3473598\ttotal: 1.63s\tremaining: 450ms\n",
      "783:\tlearn: 24.2382596\ttotal: 1.63s\tremaining: 448ms\n",
      "784:\tlearn: 24.1741117\ttotal: 1.63s\tremaining: 446ms\n",
      "785:\tlearn: 24.1282632\ttotal: 1.63s\tremaining: 444ms\n",
      "786:\tlearn: 24.1150038\ttotal: 1.63s\tremaining: 441ms\n",
      "787:\tlearn: 24.0552315\ttotal: 1.63s\tremaining: 439ms\n",
      "788:\tlearn: 24.0020307\ttotal: 1.63s\tremaining: 437ms\n",
      "789:\tlearn: 23.9582172\ttotal: 1.64s\tremaining: 435ms\n",
      "790:\tlearn: 23.9466945\ttotal: 1.64s\tremaining: 433ms\n",
      "791:\tlearn: 23.9012494\ttotal: 1.64s\tremaining: 430ms\n",
      "792:\tlearn: 23.8902062\ttotal: 1.64s\tremaining: 428ms\n",
      "793:\tlearn: 23.8375677\ttotal: 1.64s\tremaining: 426ms\n",
      "794:\tlearn: 23.8275049\ttotal: 1.64s\tremaining: 424ms\n",
      "795:\tlearn: 23.7639978\ttotal: 1.64s\tremaining: 421ms\n",
      "796:\tlearn: 23.7210385\ttotal: 1.65s\tremaining: 420ms\n",
      "797:\tlearn: 23.7118867\ttotal: 1.65s\tremaining: 418ms\n",
      "798:\tlearn: 23.6210770\ttotal: 1.65s\tremaining: 415ms\n",
      "799:\tlearn: 23.5667973\ttotal: 1.65s\tremaining: 413ms\n",
      "800:\tlearn: 23.5093551\ttotal: 1.65s\tremaining: 411ms\n",
      "801:\tlearn: 23.4248240\ttotal: 1.65s\tremaining: 409ms\n",
      "802:\tlearn: 23.3851975\ttotal: 1.66s\tremaining: 406ms\n",
      "803:\tlearn: 23.2576151\ttotal: 1.66s\tremaining: 404ms\n",
      "804:\tlearn: 23.1403284\ttotal: 1.66s\tremaining: 403ms\n",
      "805:\tlearn: 23.0861220\ttotal: 1.66s\tremaining: 401ms\n",
      "806:\tlearn: 23.0179965\ttotal: 1.67s\tremaining: 399ms\n",
      "807:\tlearn: 22.9499510\ttotal: 1.67s\tremaining: 396ms\n",
      "808:\tlearn: 22.9093322\ttotal: 1.67s\tremaining: 394ms\n",
      "809:\tlearn: 22.8749288\ttotal: 1.67s\tremaining: 392ms\n",
      "810:\tlearn: 22.8082947\ttotal: 1.67s\tremaining: 390ms\n",
      "811:\tlearn: 22.7734708\ttotal: 1.67s\tremaining: 388ms\n",
      "812:\tlearn: 22.6526692\ttotal: 1.68s\tremaining: 386ms\n",
      "813:\tlearn: 22.5530242\ttotal: 1.68s\tremaining: 383ms\n",
      "814:\tlearn: 22.4717488\ttotal: 1.68s\tremaining: 381ms\n",
      "815:\tlearn: 22.4620780\ttotal: 1.68s\tremaining: 379ms\n",
      "816:\tlearn: 22.4023061\ttotal: 1.68s\tremaining: 377ms\n",
      "817:\tlearn: 22.3578971\ttotal: 1.68s\tremaining: 374ms\n",
      "818:\tlearn: 22.3087689\ttotal: 1.68s\tremaining: 372ms\n",
      "819:\tlearn: 22.3046658\ttotal: 1.68s\tremaining: 370ms\n",
      "820:\tlearn: 22.2330663\ttotal: 1.69s\tremaining: 367ms\n",
      "821:\tlearn: 22.1591095\ttotal: 1.69s\tremaining: 365ms\n",
      "822:\tlearn: 22.1550239\ttotal: 1.69s\tremaining: 363ms\n",
      "823:\tlearn: 22.1463899\ttotal: 1.69s\tremaining: 361ms\n",
      "824:\tlearn: 22.1315815\ttotal: 1.69s\tremaining: 359ms\n",
      "825:\tlearn: 22.0652590\ttotal: 1.69s\tremaining: 356ms\n",
      "826:\tlearn: 22.0221121\ttotal: 1.69s\tremaining: 354ms\n",
      "827:\tlearn: 21.9774501\ttotal: 1.69s\tremaining: 352ms\n",
      "828:\tlearn: 21.9395292\ttotal: 1.7s\tremaining: 350ms\n",
      "829:\tlearn: 21.8508549\ttotal: 1.7s\tremaining: 348ms\n",
      "830:\tlearn: 21.8190935\ttotal: 1.7s\tremaining: 345ms\n",
      "831:\tlearn: 21.8109670\ttotal: 1.7s\tremaining: 344ms\n",
      "832:\tlearn: 21.7578310\ttotal: 1.7s\tremaining: 342ms\n",
      "833:\tlearn: 21.6862934\ttotal: 1.71s\tremaining: 340ms\n",
      "834:\tlearn: 21.6036840\ttotal: 1.71s\tremaining: 337ms\n",
      "835:\tlearn: 21.5099448\ttotal: 1.71s\tremaining: 335ms\n",
      "836:\tlearn: 21.4677400\ttotal: 1.71s\tremaining: 333ms\n",
      "837:\tlearn: 21.4091690\ttotal: 1.71s\tremaining: 331ms\n",
      "838:\tlearn: 21.3466938\ttotal: 1.71s\tremaining: 329ms\n",
      "839:\tlearn: 21.2298144\ttotal: 1.72s\tremaining: 327ms\n",
      "840:\tlearn: 21.1270373\ttotal: 1.72s\tremaining: 325ms\n",
      "841:\tlearn: 21.0373314\ttotal: 1.72s\tremaining: 323ms\n",
      "842:\tlearn: 20.9835159\ttotal: 1.72s\tremaining: 320ms\n",
      "843:\tlearn: 20.8484600\ttotal: 1.72s\tremaining: 318ms\n",
      "844:\tlearn: 20.7891557\ttotal: 1.72s\tremaining: 316ms\n",
      "845:\tlearn: 20.7291399\ttotal: 1.72s\tremaining: 314ms\n",
      "846:\tlearn: 20.6849494\ttotal: 1.73s\tremaining: 312ms\n",
      "847:\tlearn: 20.6154963\ttotal: 1.73s\tremaining: 310ms\n",
      "848:\tlearn: 20.5405276\ttotal: 1.73s\tremaining: 308ms\n",
      "849:\tlearn: 20.5016669\ttotal: 1.73s\tremaining: 306ms\n",
      "850:\tlearn: 20.4700003\ttotal: 1.73s\tremaining: 303ms\n",
      "851:\tlearn: 20.4163286\ttotal: 1.73s\tremaining: 301ms\n",
      "852:\tlearn: 20.3832418\ttotal: 1.74s\tremaining: 299ms\n",
      "853:\tlearn: 20.3012184\ttotal: 1.74s\tremaining: 297ms\n",
      "854:\tlearn: 20.2920333\ttotal: 1.74s\tremaining: 295ms\n",
      "855:\tlearn: 20.2053869\ttotal: 1.74s\tremaining: 293ms\n",
      "856:\tlearn: 20.1658977\ttotal: 1.74s\tremaining: 291ms\n",
      "857:\tlearn: 20.1100216\ttotal: 1.75s\tremaining: 289ms\n",
      "858:\tlearn: 20.0083729\ttotal: 1.75s\tremaining: 287ms\n",
      "859:\tlearn: 19.9455311\ttotal: 1.75s\tremaining: 285ms\n",
      "860:\tlearn: 19.8796059\ttotal: 1.75s\tremaining: 283ms\n",
      "861:\tlearn: 19.8565398\ttotal: 1.75s\tremaining: 281ms\n",
      "862:\tlearn: 19.7320152\ttotal: 1.75s\tremaining: 278ms\n",
      "863:\tlearn: 19.6553629\ttotal: 1.76s\tremaining: 276ms\n",
      "864:\tlearn: 19.5653904\ttotal: 1.76s\tremaining: 274ms\n",
      "865:\tlearn: 19.5044019\ttotal: 1.76s\tremaining: 272ms\n",
      "866:\tlearn: 19.4952821\ttotal: 1.76s\tremaining: 270ms\n",
      "867:\tlearn: 19.4417196\ttotal: 1.76s\tremaining: 268ms\n",
      "868:\tlearn: 19.3928280\ttotal: 1.76s\tremaining: 266ms\n",
      "869:\tlearn: 19.3310543\ttotal: 1.76s\tremaining: 264ms\n",
      "870:\tlearn: 19.2860856\ttotal: 1.77s\tremaining: 262ms\n",
      "871:\tlearn: 19.1689820\ttotal: 1.77s\tremaining: 259ms\n",
      "872:\tlearn: 19.0656586\ttotal: 1.77s\tremaining: 257ms\n",
      "873:\tlearn: 19.0585347\ttotal: 1.77s\tremaining: 255ms\n",
      "874:\tlearn: 19.0124418\ttotal: 1.77s\tremaining: 253ms\n",
      "875:\tlearn: 18.9798186\ttotal: 1.77s\tremaining: 251ms\n",
      "876:\tlearn: 18.8896499\ttotal: 1.77s\tremaining: 249ms\n",
      "877:\tlearn: 18.8379639\ttotal: 1.78s\tremaining: 247ms\n",
      "878:\tlearn: 18.8312106\ttotal: 1.78s\tremaining: 245ms\n",
      "879:\tlearn: 18.7718969\ttotal: 1.78s\tremaining: 243ms\n",
      "880:\tlearn: 18.7453473\ttotal: 1.78s\tremaining: 241ms\n",
      "881:\tlearn: 18.6851317\ttotal: 1.78s\tremaining: 238ms\n",
      "882:\tlearn: 18.5988650\ttotal: 1.78s\tremaining: 237ms\n",
      "883:\tlearn: 18.5525116\ttotal: 1.79s\tremaining: 235ms\n",
      "884:\tlearn: 18.4964362\ttotal: 1.79s\tremaining: 233ms\n",
      "885:\tlearn: 18.4542378\ttotal: 1.79s\tremaining: 230ms\n",
      "886:\tlearn: 18.4053368\ttotal: 1.79s\tremaining: 228ms\n",
      "887:\tlearn: 18.3676513\ttotal: 1.79s\tremaining: 226ms\n",
      "888:\tlearn: 18.3048839\ttotal: 1.79s\tremaining: 224ms\n",
      "889:\tlearn: 18.2501678\ttotal: 1.8s\tremaining: 222ms\n",
      "890:\tlearn: 18.2421410\ttotal: 1.8s\tremaining: 220ms\n",
      "891:\tlearn: 18.1820355\ttotal: 1.8s\tremaining: 218ms\n",
      "892:\tlearn: 18.1045997\ttotal: 1.8s\tremaining: 216ms\n",
      "893:\tlearn: 18.0516539\ttotal: 1.8s\tremaining: 214ms\n",
      "894:\tlearn: 17.9507407\ttotal: 1.8s\tremaining: 212ms\n",
      "895:\tlearn: 17.8656394\ttotal: 1.81s\tremaining: 210ms\n",
      "896:\tlearn: 17.8130004\ttotal: 1.81s\tremaining: 208ms\n",
      "897:\tlearn: 17.8056685\ttotal: 1.81s\tremaining: 206ms\n",
      "898:\tlearn: 17.7479301\ttotal: 1.81s\tremaining: 204ms\n",
      "899:\tlearn: 17.6628775\ttotal: 1.81s\tremaining: 202ms\n",
      "900:\tlearn: 17.6036263\ttotal: 1.82s\tremaining: 200ms\n",
      "901:\tlearn: 17.5548725\ttotal: 1.82s\tremaining: 198ms\n",
      "902:\tlearn: 17.5112982\ttotal: 1.82s\tremaining: 196ms\n",
      "903:\tlearn: 17.4337097\ttotal: 1.82s\tremaining: 194ms\n",
      "904:\tlearn: 17.3438812\ttotal: 1.82s\tremaining: 192ms\n",
      "905:\tlearn: 17.2978952\ttotal: 1.83s\tremaining: 190ms\n",
      "906:\tlearn: 17.2705120\ttotal: 1.83s\tremaining: 188ms\n",
      "907:\tlearn: 17.2197843\ttotal: 1.84s\tremaining: 186ms\n",
      "908:\tlearn: 17.1672918\ttotal: 1.84s\tremaining: 184ms\n",
      "909:\tlearn: 17.0962813\ttotal: 1.84s\tremaining: 182ms\n",
      "910:\tlearn: 17.0367884\ttotal: 1.84s\tremaining: 180ms\n",
      "911:\tlearn: 16.9995434\ttotal: 1.84s\tremaining: 178ms\n",
      "912:\tlearn: 16.9503108\ttotal: 1.85s\tremaining: 176ms\n",
      "913:\tlearn: 16.8634821\ttotal: 1.85s\tremaining: 174ms\n",
      "914:\tlearn: 16.8562342\ttotal: 1.85s\tremaining: 172ms\n",
      "915:\tlearn: 16.8266675\ttotal: 1.85s\tremaining: 170ms\n",
      "916:\tlearn: 16.8202756\ttotal: 1.86s\tremaining: 168ms\n",
      "917:\tlearn: 16.8140117\ttotal: 1.86s\tremaining: 166ms\n",
      "918:\tlearn: 16.7657793\ttotal: 1.86s\tremaining: 164ms\n",
      "919:\tlearn: 16.7455489\ttotal: 1.86s\tremaining: 162ms\n",
      "920:\tlearn: 16.7350234\ttotal: 1.86s\tremaining: 160ms\n",
      "921:\tlearn: 16.6764784\ttotal: 1.87s\tremaining: 158ms\n",
      "922:\tlearn: 16.6413683\ttotal: 1.87s\tremaining: 156ms\n",
      "923:\tlearn: 16.6313216\ttotal: 1.88s\tremaining: 154ms\n",
      "924:\tlearn: 16.5737890\ttotal: 1.88s\tremaining: 152ms\n",
      "925:\tlearn: 16.5612564\ttotal: 1.88s\tremaining: 150ms\n",
      "926:\tlearn: 16.5194103\ttotal: 1.88s\tremaining: 148ms\n",
      "927:\tlearn: 16.4774875\ttotal: 1.88s\tremaining: 146ms\n",
      "928:\tlearn: 16.4716862\ttotal: 1.88s\tremaining: 144ms\n",
      "929:\tlearn: 16.4373752\ttotal: 1.89s\tremaining: 142ms\n",
      "930:\tlearn: 16.4285377\ttotal: 1.89s\tremaining: 140ms\n",
      "931:\tlearn: 16.3673869\ttotal: 1.89s\tremaining: 138ms\n",
      "932:\tlearn: 16.3185470\ttotal: 1.89s\tremaining: 136ms\n",
      "933:\tlearn: 16.2631467\ttotal: 1.89s\tremaining: 134ms\n",
      "934:\tlearn: 16.1934975\ttotal: 1.9s\tremaining: 132ms\n",
      "935:\tlearn: 16.1884481\ttotal: 1.9s\tremaining: 130ms\n",
      "936:\tlearn: 16.1500024\ttotal: 1.9s\tremaining: 128ms\n",
      "937:\tlearn: 16.1409804\ttotal: 1.9s\tremaining: 126ms\n",
      "938:\tlearn: 16.0683587\ttotal: 1.9s\tremaining: 124ms\n",
      "939:\tlearn: 15.9809030\ttotal: 1.9s\tremaining: 121ms\n",
      "940:\tlearn: 15.8978202\ttotal: 1.9s\tremaining: 119ms\n",
      "941:\tlearn: 15.8709900\ttotal: 1.91s\tremaining: 117ms\n",
      "942:\tlearn: 15.8344018\ttotal: 1.91s\tremaining: 116ms\n",
      "943:\tlearn: 15.8295482\ttotal: 1.91s\tremaining: 113ms\n",
      "944:\tlearn: 15.7744973\ttotal: 1.91s\tremaining: 111ms\n",
      "945:\tlearn: 15.7305450\ttotal: 1.92s\tremaining: 109ms\n",
      "946:\tlearn: 15.6857434\ttotal: 1.92s\tremaining: 107ms\n",
      "947:\tlearn: 15.6591016\ttotal: 1.92s\tremaining: 105ms\n",
      "948:\tlearn: 15.6314256\ttotal: 1.92s\tremaining: 103ms\n",
      "949:\tlearn: 15.5788777\ttotal: 1.92s\tremaining: 101ms\n",
      "950:\tlearn: 15.5325554\ttotal: 1.93s\tremaining: 99.3ms\n",
      "951:\tlearn: 15.4890930\ttotal: 1.93s\tremaining: 97.3ms\n",
      "952:\tlearn: 15.4263779\ttotal: 1.93s\tremaining: 95.2ms\n",
      "953:\tlearn: 15.3892307\ttotal: 1.93s\tremaining: 93.1ms\n",
      "954:\tlearn: 15.3531641\ttotal: 1.93s\tremaining: 91.1ms\n",
      "955:\tlearn: 15.3172544\ttotal: 1.94s\tremaining: 89.1ms\n",
      "956:\tlearn: 15.2722481\ttotal: 1.94s\tremaining: 87.1ms\n",
      "957:\tlearn: 15.2509946\ttotal: 1.94s\tremaining: 85ms\n",
      "958:\tlearn: 15.2106080\ttotal: 1.94s\tremaining: 83ms\n",
      "959:\tlearn: 15.1550705\ttotal: 1.94s\tremaining: 80.9ms\n",
      "960:\tlearn: 15.1198927\ttotal: 1.94s\tremaining: 78.9ms\n",
      "961:\tlearn: 15.0521121\ttotal: 1.94s\tremaining: 76.8ms\n",
      "962:\tlearn: 15.0138282\ttotal: 1.95s\tremaining: 74.8ms\n",
      "963:\tlearn: 14.9511473\ttotal: 1.95s\tremaining: 72.9ms\n",
      "964:\tlearn: 14.9013556\ttotal: 1.95s\tremaining: 70.9ms\n",
      "965:\tlearn: 14.8491591\ttotal: 1.96s\tremaining: 68.8ms\n",
      "966:\tlearn: 14.7846364\ttotal: 1.96s\tremaining: 66.8ms\n",
      "967:\tlearn: 14.7378076\ttotal: 1.96s\tremaining: 64.7ms\n",
      "968:\tlearn: 14.6963646\ttotal: 1.96s\tremaining: 62.7ms\n",
      "969:\tlearn: 14.6368320\ttotal: 1.96s\tremaining: 60.6ms\n",
      "970:\tlearn: 14.5641432\ttotal: 1.96s\tremaining: 58.6ms\n",
      "971:\tlearn: 14.5009366\ttotal: 1.96s\tremaining: 56.6ms\n",
      "972:\tlearn: 14.4934257\ttotal: 1.97s\tremaining: 54.6ms\n",
      "973:\tlearn: 14.4521224\ttotal: 1.97s\tremaining: 52.5ms\n",
      "974:\tlearn: 14.4111253\ttotal: 1.97s\tremaining: 50.5ms\n",
      "975:\tlearn: 14.3698632\ttotal: 1.97s\tremaining: 48.5ms\n",
      "976:\tlearn: 14.3591191\ttotal: 1.97s\tremaining: 46.4ms\n",
      "977:\tlearn: 14.3269189\ttotal: 1.97s\tremaining: 44.4ms\n",
      "978:\tlearn: 14.2789397\ttotal: 1.98s\tremaining: 42.4ms\n",
      "979:\tlearn: 14.2216384\ttotal: 1.98s\tremaining: 40.4ms\n",
      "980:\tlearn: 14.1751644\ttotal: 1.98s\tremaining: 38.4ms\n",
      "981:\tlearn: 14.1256092\ttotal: 1.98s\tremaining: 36.3ms\n",
      "982:\tlearn: 14.0731502\ttotal: 1.98s\tremaining: 34.3ms\n",
      "983:\tlearn: 14.0117995\ttotal: 1.99s\tremaining: 32.3ms\n",
      "984:\tlearn: 13.9841830\ttotal: 1.99s\tremaining: 30.3ms\n",
      "985:\tlearn: 13.9230955\ttotal: 1.99s\tremaining: 28.3ms\n",
      "986:\tlearn: 13.8746811\ttotal: 2s\tremaining: 26.3ms\n",
      "987:\tlearn: 13.8092980\ttotal: 2s\tremaining: 24.3ms\n",
      "988:\tlearn: 13.7921958\ttotal: 2s\tremaining: 22.3ms\n",
      "989:\tlearn: 13.7424480\ttotal: 2.01s\tremaining: 20.3ms\n",
      "990:\tlearn: 13.6967360\ttotal: 2.01s\tremaining: 18.3ms\n",
      "991:\tlearn: 13.6709582\ttotal: 2.01s\tremaining: 16.2ms\n",
      "992:\tlearn: 13.6094706\ttotal: 2.01s\tremaining: 14.2ms\n",
      "993:\tlearn: 13.5641205\ttotal: 2.02s\tremaining: 12.2ms\n",
      "994:\tlearn: 13.5192775\ttotal: 2.02s\tremaining: 10.1ms\n",
      "995:\tlearn: 13.4902451\ttotal: 2.02s\tremaining: 8.12ms\n",
      "996:\tlearn: 13.4806052\ttotal: 2.02s\tremaining: 6.08ms\n",
      "997:\tlearn: 13.4282445\ttotal: 2.02s\tremaining: 4.05ms\n",
      "998:\tlearn: 13.4020177\ttotal: 2.02s\tremaining: 2.03ms\n",
      "999:\tlearn: 13.3781902\ttotal: 2.03s\tremaining: 0us\n"
     ]
    }
   ],
   "source": [
    "catB = CatBoostRegressor()\n",
    "catB_model = catB.fit(X_train, y_train)"
   ]
  },
  {
   "cell_type": "code",
   "execution_count": 172,
   "metadata": {},
   "outputs": [],
   "source": [
    "y_pred = catB_model.predict(X_test)"
   ]
  },
  {
   "cell_type": "code",
   "execution_count": 173,
   "metadata": {},
   "outputs": [
    {
     "data": {
      "text/plain": [
       "350.2683163098795"
      ]
     },
     "execution_count": 173,
     "metadata": {},
     "output_type": "execute_result"
    }
   ],
   "source": [
    "np.sqrt(mean_squared_error(y_test, y_pred))"
   ]
  },
  {
   "cell_type": "markdown",
   "metadata": {},
   "source": [
    "## Model Tuning"
   ]
  },
  {
   "cell_type": "code",
   "execution_count": 174,
   "metadata": {},
   "outputs": [],
   "source": [
    "catB_grid = {\n",
    "    'iterations': [200, 500, 1000, 2000],\n",
    "    'learning_rate': [0.01, 0.03, 0.05, 0.1],\n",
    "    'depth': [3,4,5,6,7,8]\n",
    "}"
   ]
  },
  {
   "cell_type": "code",
   "execution_count": 175,
   "metadata": {},
   "outputs": [],
   "source": [
    "catB_cv_model = GridSearchCV(catB, catB_grid, cv = 5, n_jobs = -1, verbose = 2)"
   ]
  },
  {
   "cell_type": "code",
   "execution_count": 177,
   "metadata": {},
   "outputs": [
    {
     "name": "stdout",
     "output_type": "stream",
     "text": [
      "Fitting 5 folds for each of 96 candidates, totalling 480 fits\n",
      "0:\tlearn: 422.4143448\ttotal: 1.26ms\tremaining: 1.26s\n",
      "1:\tlearn: 404.1864276\ttotal: 2.24ms\tremaining: 1.12s\n",
      "2:\tlearn: 386.3231718\ttotal: 3.15ms\tremaining: 1.05s\n",
      "3:\tlearn: 370.5548032\ttotal: 4.12ms\tremaining: 1.02s\n",
      "4:\tlearn: 354.9242038\ttotal: 5.14ms\tremaining: 1.02s\n",
      "5:\tlearn: 342.3403984\ttotal: 6.16ms\tremaining: 1.02s\n",
      "6:\tlearn: 328.2370070\ttotal: 7.17ms\tremaining: 1.02s\n",
      "7:\tlearn: 317.5056526\ttotal: 8.12ms\tremaining: 1.01s\n",
      "8:\tlearn: 306.6243511\ttotal: 9.13ms\tremaining: 1s\n",
      "9:\tlearn: 297.3147023\ttotal: 10.2ms\tremaining: 1.01s\n",
      "10:\tlearn: 288.3685892\ttotal: 11.2ms\tremaining: 1.01s\n",
      "11:\tlearn: 281.0996220\ttotal: 12.2ms\tremaining: 1.01s\n",
      "12:\tlearn: 273.2254898\ttotal: 13.2ms\tremaining: 1s\n",
      "13:\tlearn: 266.9003385\ttotal: 14.2ms\tremaining: 1s\n",
      "14:\tlearn: 261.9092500\ttotal: 15.2ms\tremaining: 997ms\n",
      "15:\tlearn: 256.2637350\ttotal: 16.1ms\tremaining: 992ms\n",
      "16:\tlearn: 250.3667935\ttotal: 17.2ms\tremaining: 993ms\n",
      "17:\tlearn: 244.8631098\ttotal: 18.4ms\tremaining: 1s\n",
      "18:\tlearn: 240.1540669\ttotal: 19.6ms\tremaining: 1.01s\n",
      "19:\tlearn: 235.6057263\ttotal: 20.8ms\tremaining: 1.02s\n",
      "20:\tlearn: 231.2431102\ttotal: 21.9ms\tremaining: 1.02s\n",
      "21:\tlearn: 226.4912464\ttotal: 22.9ms\tremaining: 1.02s\n",
      "22:\tlearn: 223.5591707\ttotal: 23.4ms\tremaining: 994ms\n",
      "23:\tlearn: 219.6098928\ttotal: 24.6ms\tremaining: 1s\n",
      "24:\tlearn: 215.3653069\ttotal: 25.8ms\tremaining: 1s\n",
      "25:\tlearn: 212.0589058\ttotal: 26.9ms\tremaining: 1s\n",
      "26:\tlearn: 209.7717728\ttotal: 27.8ms\tremaining: 1s\n",
      "27:\tlearn: 206.4800180\ttotal: 28.8ms\tremaining: 999ms\n",
      "28:\tlearn: 204.4998286\ttotal: 29.7ms\tremaining: 995ms\n",
      "29:\tlearn: 202.5999376\ttotal: 30.7ms\tremaining: 994ms\n",
      "30:\tlearn: 199.5099986\ttotal: 31.6ms\tremaining: 988ms\n",
      "31:\tlearn: 196.9435690\ttotal: 32.6ms\tremaining: 988ms\n",
      "32:\tlearn: 194.9855023\ttotal: 33.6ms\tremaining: 984ms\n",
      "33:\tlearn: 193.0037094\ttotal: 34.5ms\tremaining: 980ms\n",
      "34:\tlearn: 191.6771224\ttotal: 35.4ms\tremaining: 977ms\n",
      "35:\tlearn: 188.6440989\ttotal: 36.4ms\tremaining: 974ms\n",
      "36:\tlearn: 186.7575822\ttotal: 37.3ms\tremaining: 970ms\n",
      "37:\tlearn: 183.5070965\ttotal: 38.3ms\tremaining: 969ms\n",
      "38:\tlearn: 181.9932704\ttotal: 39.3ms\tremaining: 968ms\n",
      "39:\tlearn: 180.4612043\ttotal: 40.2ms\tremaining: 965ms\n",
      "40:\tlearn: 178.9727236\ttotal: 41.1ms\tremaining: 962ms\n",
      "41:\tlearn: 176.9704782\ttotal: 42ms\tremaining: 959ms\n",
      "42:\tlearn: 172.9583917\ttotal: 42.9ms\tremaining: 956ms\n",
      "43:\tlearn: 172.0259404\ttotal: 43.9ms\tremaining: 955ms\n",
      "44:\tlearn: 169.6703908\ttotal: 44.9ms\tremaining: 952ms\n",
      "45:\tlearn: 167.0349788\ttotal: 45.8ms\tremaining: 950ms\n",
      "46:\tlearn: 166.0151540\ttotal: 47ms\tremaining: 954ms\n",
      "47:\tlearn: 164.3432866\ttotal: 48.1ms\tremaining: 953ms\n",
      "48:\tlearn: 163.7139546\ttotal: 49ms\tremaining: 951ms\n",
      "49:\tlearn: 162.0231882\ttotal: 49.9ms\tremaining: 947ms\n",
      "50:\tlearn: 159.4806540\ttotal: 50.8ms\tremaining: 945ms\n",
      "51:\tlearn: 156.5835618\ttotal: 51.8ms\tremaining: 945ms\n",
      "52:\tlearn: 155.1124833\ttotal: 52.7ms\tremaining: 942ms\n",
      "53:\tlearn: 154.3849650\ttotal: 53.7ms\tremaining: 941ms\n",
      "54:\tlearn: 153.2243534\ttotal: 54.7ms\tremaining: 939ms\n",
      "55:\tlearn: 152.3205510\ttotal: 55.6ms\tremaining: 937ms\n",
      "56:\tlearn: 151.0666069\ttotal: 56.5ms\tremaining: 934ms\n",
      "57:\tlearn: 150.0992693\ttotal: 57.4ms\tremaining: 933ms\n",
      "58:\tlearn: 149.7214223\ttotal: 58.4ms\tremaining: 931ms\n",
      "59:\tlearn: 149.3420563\ttotal: 59.3ms\tremaining: 930ms\n",
      "60:\tlearn: 147.1527638\ttotal: 60.3ms\tremaining: 928ms\n",
      "61:\tlearn: 146.0849045\ttotal: 61.3ms\tremaining: 928ms\n",
      "62:\tlearn: 145.2592821\ttotal: 62.2ms\tremaining: 926ms\n",
      "63:\tlearn: 143.9723823\ttotal: 63.3ms\tremaining: 925ms\n",
      "64:\tlearn: 142.9337890\ttotal: 64.4ms\tremaining: 926ms\n",
      "65:\tlearn: 141.2456060\ttotal: 65.4ms\tremaining: 925ms\n",
      "66:\tlearn: 140.0933886\ttotal: 66.2ms\tremaining: 922ms\n",
      "67:\tlearn: 139.0122411\ttotal: 67.1ms\tremaining: 920ms\n",
      "68:\tlearn: 137.0658535\ttotal: 68.1ms\tremaining: 919ms\n",
      "69:\tlearn: 136.5187600\ttotal: 69.1ms\tremaining: 918ms\n",
      "70:\tlearn: 135.3177866\ttotal: 70ms\tremaining: 916ms\n",
      "71:\tlearn: 134.4397288\ttotal: 71ms\tremaining: 915ms\n",
      "72:\tlearn: 133.9689054\ttotal: 72ms\tremaining: 914ms\n",
      "73:\tlearn: 132.9503812\ttotal: 73ms\tremaining: 913ms\n",
      "74:\tlearn: 132.4790284\ttotal: 74ms\tremaining: 913ms\n",
      "75:\tlearn: 130.0079846\ttotal: 74.9ms\tremaining: 911ms\n",
      "76:\tlearn: 128.6536311\ttotal: 75.8ms\tremaining: 909ms\n",
      "77:\tlearn: 126.4149435\ttotal: 76.8ms\tremaining: 907ms\n",
      "78:\tlearn: 124.7339610\ttotal: 77.7ms\tremaining: 906ms\n",
      "79:\tlearn: 123.6799098\ttotal: 78.8ms\tremaining: 906ms\n",
      "80:\tlearn: 122.0132818\ttotal: 79.8ms\tremaining: 905ms\n",
      "81:\tlearn: 121.7718402\ttotal: 80.6ms\tremaining: 903ms\n",
      "82:\tlearn: 121.0226763\ttotal: 81.6ms\tremaining: 901ms\n",
      "83:\tlearn: 119.0352412\ttotal: 82.5ms\tremaining: 900ms\n",
      "84:\tlearn: 118.1578472\ttotal: 83.5ms\tremaining: 898ms\n",
      "85:\tlearn: 117.3963152\ttotal: 84.4ms\tremaining: 897ms\n",
      "86:\tlearn: 116.8601830\ttotal: 85.5ms\tremaining: 898ms\n",
      "87:\tlearn: 115.1485488\ttotal: 86.7ms\tremaining: 898ms\n",
      "88:\tlearn: 113.3802066\ttotal: 87.6ms\tremaining: 897ms\n",
      "89:\tlearn: 111.8047507\ttotal: 88.6ms\tremaining: 896ms\n",
      "90:\tlearn: 111.2173889\ttotal: 89.5ms\tremaining: 894ms\n",
      "91:\tlearn: 109.7797673\ttotal: 90.5ms\tremaining: 893ms\n",
      "92:\tlearn: 108.5968886\ttotal: 91.5ms\tremaining: 893ms\n",
      "93:\tlearn: 107.3902106\ttotal: 92.5ms\tremaining: 892ms\n",
      "94:\tlearn: 106.5920119\ttotal: 93.4ms\tremaining: 890ms\n",
      "95:\tlearn: 105.9400132\ttotal: 94.3ms\tremaining: 888ms\n",
      "96:\tlearn: 104.5018068\ttotal: 95.2ms\tremaining: 886ms\n",
      "97:\tlearn: 104.2449785\ttotal: 96.2ms\tremaining: 885ms\n",
      "98:\tlearn: 102.4745810\ttotal: 97.2ms\tremaining: 885ms\n",
      "99:\tlearn: 101.5007722\ttotal: 98.1ms\tremaining: 883ms\n",
      "100:\tlearn: 101.0929742\ttotal: 99ms\tremaining: 882ms\n",
      "101:\tlearn: 100.8864538\ttotal: 100ms\tremaining: 880ms\n",
      "102:\tlearn: 99.5007076\ttotal: 101ms\tremaining: 880ms\n",
      "103:\tlearn: 98.1646778\ttotal: 102ms\tremaining: 879ms\n",
      "104:\tlearn: 97.1950961\ttotal: 103ms\tremaining: 878ms\n",
      "105:\tlearn: 96.0991462\ttotal: 104ms\tremaining: 876ms\n",
      "106:\tlearn: 95.4337941\ttotal: 105ms\tremaining: 875ms\n",
      "107:\tlearn: 94.9099345\ttotal: 106ms\tremaining: 874ms\n",
      "108:\tlearn: 94.3889362\ttotal: 107ms\tremaining: 872ms\n",
      "109:\tlearn: 94.2091744\ttotal: 108ms\tremaining: 871ms\n",
      "110:\tlearn: 92.8508793\ttotal: 109ms\tremaining: 870ms\n",
      "111:\tlearn: 92.1784338\ttotal: 110ms\tremaining: 869ms\n",
      "112:\tlearn: 91.6689944\ttotal: 111ms\tremaining: 868ms\n",
      "113:\tlearn: 90.6644520\ttotal: 112ms\tremaining: 868ms\n",
      "114:\tlearn: 90.5375287\ttotal: 113ms\tremaining: 866ms\n",
      "115:\tlearn: 90.3442623\ttotal: 114ms\tremaining: 865ms\n",
      "116:\tlearn: 89.3637881\ttotal: 115ms\tremaining: 865ms\n",
      "117:\tlearn: 88.5340073\ttotal: 116ms\tremaining: 863ms\n",
      "118:\tlearn: 88.3598014\ttotal: 116ms\tremaining: 862ms\n",
      "119:\tlearn: 87.1290719\ttotal: 117ms\tremaining: 860ms\n",
      "120:\tlearn: 87.0034893\ttotal: 118ms\tremaining: 859ms\n",
      "121:\tlearn: 85.9581724\ttotal: 119ms\tremaining: 858ms\n",
      "122:\tlearn: 84.7062226\ttotal: 120ms\tremaining: 857ms\n",
      "123:\tlearn: 84.6114296\ttotal: 121ms\tremaining: 856ms\n",
      "124:\tlearn: 83.3769126\ttotal: 122ms\tremaining: 854ms\n",
      "125:\tlearn: 82.2866094\ttotal: 123ms\tremaining: 853ms\n",
      "126:\tlearn: 81.7817112\ttotal: 124ms\tremaining: 852ms\n",
      "127:\tlearn: 80.3710545\ttotal: 125ms\tremaining: 851ms\n",
      "128:\tlearn: 79.3458239\ttotal: 126ms\tremaining: 849ms\n",
      "129:\tlearn: 78.8966509\ttotal: 127ms\tremaining: 848ms\n",
      "130:\tlearn: 78.7683699\ttotal: 128ms\tremaining: 847ms\n",
      "131:\tlearn: 78.0116712\ttotal: 129ms\tremaining: 846ms\n",
      "132:\tlearn: 77.5728582\ttotal: 130ms\tremaining: 845ms\n",
      "133:\tlearn: 76.4635356\ttotal: 131ms\tremaining: 844ms\n",
      "134:\tlearn: 75.6109482\ttotal: 132ms\tremaining: 843ms\n",
      "135:\tlearn: 74.8287886\ttotal: 132ms\tremaining: 841ms\n",
      "136:\tlearn: 74.2493825\ttotal: 134ms\tremaining: 841ms\n",
      "137:\tlearn: 73.3192822\ttotal: 134ms\tremaining: 840ms\n",
      "138:\tlearn: 72.9755066\ttotal: 135ms\tremaining: 839ms\n",
      "139:\tlearn: 72.8423874\ttotal: 137ms\tremaining: 839ms\n",
      "140:\tlearn: 71.5949506\ttotal: 138ms\tremaining: 838ms\n",
      "141:\tlearn: 70.9408732\ttotal: 139ms\tremaining: 837ms\n",
      "142:\tlearn: 70.1699642\ttotal: 140ms\tremaining: 836ms\n",
      "143:\tlearn: 69.8737644\ttotal: 141ms\tremaining: 836ms\n",
      "144:\tlearn: 69.0963759\ttotal: 142ms\tremaining: 835ms\n",
      "145:\tlearn: 68.9702397\ttotal: 143ms\tremaining: 835ms\n",
      "146:\tlearn: 67.8950397\ttotal: 144ms\tremaining: 834ms\n",
      "147:\tlearn: 67.1501269\ttotal: 145ms\tremaining: 835ms\n",
      "148:\tlearn: 66.4028868\ttotal: 146ms\tremaining: 836ms\n",
      "149:\tlearn: 65.3349813\ttotal: 147ms\tremaining: 835ms\n",
      "150:\tlearn: 64.6766190\ttotal: 149ms\tremaining: 835ms\n",
      "151:\tlearn: 63.7390417\ttotal: 150ms\tremaining: 835ms\n",
      "152:\tlearn: 62.9043101\ttotal: 151ms\tremaining: 835ms\n",
      "153:\tlearn: 62.5922794\ttotal: 152ms\tremaining: 835ms\n",
      "154:\tlearn: 62.1160450\ttotal: 153ms\tremaining: 836ms\n",
      "155:\tlearn: 61.7702532\ttotal: 155ms\tremaining: 837ms\n",
      "156:\tlearn: 61.2433354\ttotal: 156ms\tremaining: 837ms\n",
      "157:\tlearn: 60.8455422\ttotal: 157ms\tremaining: 838ms\n",
      "158:\tlearn: 60.6755303\ttotal: 158ms\tremaining: 837ms\n",
      "159:\tlearn: 59.9631043\ttotal: 160ms\tremaining: 837ms\n",
      "160:\tlearn: 59.2211911\ttotal: 161ms\tremaining: 837ms\n",
      "161:\tlearn: 59.1400932\ttotal: 162ms\tremaining: 837ms\n",
      "162:\tlearn: 58.9164262\ttotal: 163ms\tremaining: 837ms\n",
      "163:\tlearn: 58.2084420\ttotal: 164ms\tremaining: 836ms\n",
      "164:\tlearn: 57.9934649\ttotal: 165ms\tremaining: 836ms\n",
      "165:\tlearn: 57.3736694\ttotal: 166ms\tremaining: 835ms\n",
      "166:\tlearn: 56.8338370\ttotal: 167ms\tremaining: 835ms\n",
      "167:\tlearn: 56.5518049\ttotal: 169ms\tremaining: 835ms\n",
      "168:\tlearn: 55.9777349\ttotal: 170ms\tremaining: 834ms\n",
      "169:\tlearn: 55.4485860\ttotal: 171ms\tremaining: 833ms\n",
      "170:\tlearn: 55.0892542\ttotal: 172ms\tremaining: 833ms\n",
      "171:\tlearn: 54.9915464\ttotal: 173ms\tremaining: 832ms\n",
      "172:\tlearn: 54.3968112\ttotal: 174ms\tremaining: 832ms\n",
      "173:\tlearn: 53.7708163\ttotal: 175ms\tremaining: 832ms\n",
      "174:\tlearn: 53.1993023\ttotal: 176ms\tremaining: 832ms\n",
      "175:\tlearn: 52.7773821\ttotal: 178ms\tremaining: 831ms\n",
      "176:\tlearn: 52.5186612\ttotal: 179ms\tremaining: 831ms\n",
      "177:\tlearn: 52.0038075\ttotal: 180ms\tremaining: 830ms\n",
      "178:\tlearn: 51.7971195\ttotal: 181ms\tremaining: 831ms\n",
      "179:\tlearn: 51.4334863\ttotal: 182ms\tremaining: 830ms\n",
      "180:\tlearn: 50.9151359\ttotal: 183ms\tremaining: 830ms\n",
      "181:\tlearn: 50.8252320\ttotal: 185ms\tremaining: 830ms\n",
      "182:\tlearn: 50.4143487\ttotal: 186ms\tremaining: 829ms\n",
      "183:\tlearn: 50.0253432\ttotal: 187ms\tremaining: 829ms\n",
      "184:\tlearn: 49.6769233\ttotal: 188ms\tremaining: 828ms\n",
      "185:\tlearn: 49.5689505\ttotal: 189ms\tremaining: 828ms\n",
      "186:\tlearn: 49.0813531\ttotal: 190ms\tremaining: 827ms\n",
      "187:\tlearn: 48.9396335\ttotal: 191ms\tremaining: 827ms\n",
      "188:\tlearn: 48.5040716\ttotal: 192ms\tremaining: 826ms\n",
      "189:\tlearn: 47.9644995\ttotal: 194ms\tremaining: 825ms\n",
      "190:\tlearn: 47.8292554\ttotal: 195ms\tremaining: 825ms\n",
      "191:\tlearn: 47.4433025\ttotal: 196ms\tremaining: 824ms\n",
      "192:\tlearn: 46.9286959\ttotal: 197ms\tremaining: 824ms\n",
      "193:\tlearn: 46.3092347\ttotal: 198ms\tremaining: 823ms\n",
      "194:\tlearn: 45.7431428\ttotal: 199ms\tremaining: 823ms\n",
      "195:\tlearn: 45.6714261\ttotal: 200ms\tremaining: 822ms\n",
      "196:\tlearn: 45.5088158\ttotal: 202ms\tremaining: 822ms\n",
      "197:\tlearn: 45.4713460\ttotal: 203ms\tremaining: 823ms\n",
      "198:\tlearn: 45.0942536\ttotal: 205ms\tremaining: 823ms\n",
      "199:\tlearn: 44.7625600\ttotal: 205ms\tremaining: 822ms\n",
      "200:\tlearn: 44.3247006\ttotal: 206ms\tremaining: 821ms\n",
      "201:\tlearn: 43.8054974\ttotal: 208ms\tremaining: 822ms\n",
      "202:\tlearn: 43.3359785\ttotal: 209ms\tremaining: 822ms\n",
      "203:\tlearn: 42.8698272\ttotal: 211ms\tremaining: 822ms\n",
      "204:\tlearn: 42.4275364\ttotal: 212ms\tremaining: 823ms\n",
      "205:\tlearn: 41.9463597\ttotal: 213ms\tremaining: 823ms\n",
      "206:\tlearn: 41.7547985\ttotal: 215ms\tremaining: 822ms\n",
      "207:\tlearn: 41.6019714\ttotal: 216ms\tremaining: 821ms\n",
      "208:\tlearn: 41.4342896\ttotal: 217ms\tremaining: 821ms\n",
      "209:\tlearn: 41.0764993\ttotal: 218ms\tremaining: 820ms\n",
      "210:\tlearn: 40.7895715\ttotal: 219ms\tremaining: 820ms\n",
      "211:\tlearn: 40.4428042\ttotal: 220ms\tremaining: 819ms\n",
      "212:\tlearn: 39.9370849\ttotal: 221ms\tremaining: 818ms\n",
      "213:\tlearn: 39.4885257\ttotal: 223ms\tremaining: 818ms\n",
      "214:\tlearn: 39.1268375\ttotal: 224ms\tremaining: 817ms\n",
      "215:\tlearn: 38.9591271\ttotal: 225ms\tremaining: 817ms\n",
      "216:\tlearn: 38.8008893\ttotal: 226ms\tremaining: 816ms\n",
      "217:\tlearn: 38.4956003\ttotal: 227ms\tremaining: 815ms\n",
      "218:\tlearn: 38.3528545\ttotal: 229ms\tremaining: 815ms\n",
      "219:\tlearn: 38.1794276\ttotal: 230ms\tremaining: 815ms\n",
      "220:\tlearn: 38.1135196\ttotal: 231ms\tremaining: 816ms\n",
      "221:\tlearn: 37.9126665\ttotal: 233ms\tremaining: 816ms\n",
      "222:\tlearn: 37.5375523\ttotal: 234ms\tremaining: 815ms\n",
      "223:\tlearn: 37.3774479\ttotal: 235ms\tremaining: 815ms\n",
      "224:\tlearn: 36.8965396\ttotal: 237ms\tremaining: 815ms\n",
      "225:\tlearn: 36.4012999\ttotal: 239ms\tremaining: 819ms\n",
      "226:\tlearn: 35.9300616\ttotal: 241ms\tremaining: 822ms\n",
      "227:\tlearn: 35.6148029\ttotal: 242ms\tremaining: 821ms\n",
      "228:\tlearn: 35.2741594\ttotal: 243ms\tremaining: 820ms\n",
      "229:\tlearn: 35.0196015\ttotal: 244ms\tremaining: 818ms\n",
      "230:\tlearn: 34.5877862\ttotal: 245ms\tremaining: 817ms\n",
      "231:\tlearn: 34.4128370\ttotal: 246ms\tremaining: 815ms\n",
      "232:\tlearn: 34.2685016\ttotal: 248ms\tremaining: 815ms\n",
      "233:\tlearn: 34.2021290\ttotal: 249ms\tremaining: 815ms\n",
      "234:\tlearn: 34.1117548\ttotal: 250ms\tremaining: 813ms\n",
      "235:\tlearn: 33.7038307\ttotal: 251ms\tremaining: 812ms\n",
      "236:\tlearn: 33.6591145\ttotal: 252ms\tremaining: 811ms\n",
      "237:\tlearn: 33.6134076\ttotal: 253ms\tremaining: 809ms\n",
      "238:\tlearn: 33.3091022\ttotal: 254ms\tremaining: 808ms\n",
      "239:\tlearn: 33.2050988\ttotal: 255ms\tremaining: 807ms\n",
      "240:\tlearn: 32.7984087\ttotal: 256ms\tremaining: 805ms\n",
      "241:\tlearn: 32.4886567\ttotal: 257ms\tremaining: 804ms\n",
      "242:\tlearn: 32.3354906\ttotal: 258ms\tremaining: 803ms\n",
      "243:\tlearn: 32.1610609\ttotal: 259ms\tremaining: 802ms\n",
      "244:\tlearn: 31.9242693\ttotal: 260ms\tremaining: 802ms\n",
      "245:\tlearn: 31.4693550\ttotal: 261ms\tremaining: 801ms\n",
      "246:\tlearn: 31.1071532\ttotal: 262ms\tremaining: 799ms\n",
      "247:\tlearn: 30.7311162\ttotal: 263ms\tremaining: 798ms\n",
      "248:\tlearn: 30.4892550\ttotal: 264ms\tremaining: 797ms\n",
      "249:\tlearn: 30.3680212\ttotal: 265ms\tremaining: 795ms\n",
      "250:\tlearn: 30.1346007\ttotal: 266ms\tremaining: 794ms\n",
      "251:\tlearn: 29.8046285\ttotal: 267ms\tremaining: 793ms\n",
      "252:\tlearn: 29.6637514\ttotal: 268ms\tremaining: 792ms\n",
      "253:\tlearn: 29.5176095\ttotal: 269ms\tremaining: 790ms\n",
      "254:\tlearn: 29.3723319\ttotal: 270ms\tremaining: 789ms\n",
      "255:\tlearn: 29.1301438\ttotal: 271ms\tremaining: 788ms\n",
      "256:\tlearn: 29.1025017\ttotal: 272ms\tremaining: 786ms\n",
      "257:\tlearn: 28.8276340\ttotal: 273ms\tremaining: 785ms\n",
      "258:\tlearn: 28.6313979\ttotal: 274ms\tremaining: 784ms\n",
      "259:\tlearn: 28.3904787\ttotal: 275ms\tremaining: 782ms\n",
      "260:\tlearn: 27.9496011\ttotal: 276ms\tremaining: 781ms\n",
      "261:\tlearn: 27.6744647\ttotal: 277ms\tremaining: 780ms\n",
      "262:\tlearn: 27.5631687\ttotal: 278ms\tremaining: 779ms\n",
      "263:\tlearn: 27.2940171\ttotal: 279ms\tremaining: 777ms\n",
      "264:\tlearn: 27.0524989\ttotal: 280ms\tremaining: 776ms\n",
      "265:\tlearn: 26.9019408\ttotal: 281ms\tremaining: 775ms\n",
      "266:\tlearn: 26.7539234\ttotal: 282ms\tremaining: 773ms\n",
      "267:\tlearn: 26.5906135\ttotal: 283ms\tremaining: 772ms\n",
      "268:\tlearn: 26.3413069\ttotal: 284ms\tremaining: 771ms\n",
      "269:\tlearn: 26.2300985\ttotal: 285ms\tremaining: 769ms\n",
      "270:\tlearn: 25.7633750\ttotal: 285ms\tremaining: 768ms\n",
      "271:\tlearn: 25.5999298\ttotal: 286ms\tremaining: 767ms\n",
      "272:\tlearn: 25.4034221\ttotal: 287ms\tremaining: 765ms\n",
      "273:\tlearn: 25.3449361\ttotal: 288ms\tremaining: 764ms\n",
      "274:\tlearn: 25.1308675\ttotal: 289ms\tremaining: 763ms\n",
      "275:\tlearn: 24.8170605\ttotal: 290ms\tremaining: 761ms\n",
      "276:\tlearn: 24.5265387\ttotal: 291ms\tremaining: 760ms\n",
      "277:\tlearn: 24.3891773\ttotal: 292ms\tremaining: 759ms\n",
      "278:\tlearn: 24.1691955\ttotal: 293ms\tremaining: 758ms\n",
      "279:\tlearn: 23.9780841\ttotal: 294ms\tremaining: 757ms\n",
      "280:\tlearn: 23.7459991\ttotal: 295ms\tremaining: 756ms\n",
      "281:\tlearn: 23.5762098\ttotal: 297ms\tremaining: 755ms\n",
      "282:\tlearn: 23.4130148\ttotal: 298ms\tremaining: 754ms\n",
      "283:\tlearn: 23.1365659\ttotal: 299ms\tremaining: 753ms\n",
      "284:\tlearn: 22.9605139\ttotal: 300ms\tremaining: 753ms\n",
      "285:\tlearn: 22.8198952\ttotal: 301ms\tremaining: 752ms\n",
      "286:\tlearn: 22.7220776\ttotal: 302ms\tremaining: 751ms\n",
      "287:\tlearn: 22.6349162\ttotal: 303ms\tremaining: 750ms\n",
      "288:\tlearn: 22.5037731\ttotal: 304ms\tremaining: 748ms\n",
      "289:\tlearn: 22.4280658\ttotal: 305ms\tremaining: 748ms\n",
      "290:\tlearn: 22.4111078\ttotal: 306ms\tremaining: 747ms\n",
      "291:\tlearn: 22.2582825\ttotal: 307ms\tremaining: 745ms\n",
      "292:\tlearn: 22.0361847\ttotal: 308ms\tremaining: 744ms\n",
      "293:\tlearn: 21.9197616\ttotal: 310ms\tremaining: 743ms\n",
      "294:\tlearn: 21.8934931\ttotal: 311ms\tremaining: 743ms\n",
      "295:\tlearn: 21.8385467\ttotal: 312ms\tremaining: 742ms\n",
      "296:\tlearn: 21.6056469\ttotal: 313ms\tremaining: 741ms\n",
      "297:\tlearn: 21.3638471\ttotal: 314ms\tremaining: 740ms\n",
      "298:\tlearn: 21.2403020\ttotal: 315ms\tremaining: 739ms\n",
      "299:\tlearn: 20.9940588\ttotal: 316ms\tremaining: 738ms\n",
      "300:\tlearn: 20.8606002\ttotal: 317ms\tremaining: 737ms\n",
      "301:\tlearn: 20.7521062\ttotal: 318ms\tremaining: 736ms\n",
      "302:\tlearn: 20.4914061\ttotal: 319ms\tremaining: 735ms\n",
      "303:\tlearn: 20.4390781\ttotal: 320ms\tremaining: 733ms\n",
      "304:\tlearn: 20.4261039\ttotal: 321ms\tremaining: 732ms\n",
      "305:\tlearn: 20.3429361\ttotal: 322ms\tremaining: 731ms\n",
      "306:\tlearn: 20.3186699\ttotal: 324ms\tremaining: 731ms\n",
      "307:\tlearn: 20.2200547\ttotal: 325ms\tremaining: 730ms\n",
      "308:\tlearn: 20.0363798\ttotal: 326ms\tremaining: 729ms\n",
      "309:\tlearn: 19.9375964\ttotal: 327ms\tremaining: 728ms\n",
      "310:\tlearn: 19.8562475\ttotal: 328ms\tremaining: 727ms\n",
      "311:\tlearn: 19.7207383\ttotal: 329ms\tremaining: 726ms\n",
      "312:\tlearn: 19.5840205\ttotal: 330ms\tremaining: 725ms\n",
      "313:\tlearn: 19.4498604\ttotal: 331ms\tremaining: 724ms\n",
      "314:\tlearn: 19.3106313\ttotal: 332ms\tremaining: 723ms\n",
      "315:\tlearn: 19.1555646\ttotal: 334ms\tremaining: 722ms\n",
      "316:\tlearn: 19.1426558\ttotal: 335ms\tremaining: 721ms\n",
      "317:\tlearn: 19.0179770\ttotal: 336ms\tremaining: 721ms\n",
      "318:\tlearn: 18.9331646\ttotal: 337ms\tremaining: 720ms\n",
      "319:\tlearn: 18.7759664\ttotal: 339ms\tremaining: 719ms\n",
      "320:\tlearn: 18.7302473\ttotal: 340ms\tremaining: 719ms\n",
      "321:\tlearn: 18.6822773\ttotal: 341ms\tremaining: 717ms\n",
      "322:\tlearn: 18.6212081\ttotal: 342ms\tremaining: 716ms\n",
      "323:\tlearn: 18.3825932\ttotal: 343ms\tremaining: 715ms\n",
      "324:\tlearn: 18.0840511\ttotal: 344ms\tremaining: 714ms\n",
      "325:\tlearn: 17.9626242\ttotal: 345ms\tremaining: 713ms\n",
      "326:\tlearn: 17.8194649\ttotal: 346ms\tremaining: 712ms\n",
      "327:\tlearn: 17.6897852\ttotal: 347ms\tremaining: 711ms\n",
      "328:\tlearn: 17.6729587\ttotal: 348ms\tremaining: 710ms\n",
      "329:\tlearn: 17.5730192\ttotal: 349ms\tremaining: 709ms\n",
      "330:\tlearn: 17.3061709\ttotal: 350ms\tremaining: 708ms\n",
      "331:\tlearn: 17.2732138\ttotal: 351ms\tremaining: 707ms\n",
      "332:\tlearn: 17.1284244\ttotal: 352ms\tremaining: 706ms\n",
      "333:\tlearn: 17.0578788\ttotal: 353ms\tremaining: 705ms\n",
      "334:\tlearn: 16.9109643\ttotal: 354ms\tremaining: 704ms\n",
      "335:\tlearn: 16.6595095\ttotal: 356ms\tremaining: 703ms\n",
      "336:\tlearn: 16.5240861\ttotal: 357ms\tremaining: 702ms\n",
      "337:\tlearn: 16.3631551\ttotal: 358ms\tremaining: 701ms\n",
      "338:\tlearn: 16.2364521\ttotal: 359ms\tremaining: 700ms\n",
      "339:\tlearn: 16.1259236\ttotal: 360ms\tremaining: 699ms\n",
      "340:\tlearn: 16.1070160\ttotal: 361ms\tremaining: 698ms\n",
      "341:\tlearn: 15.9446333\ttotal: 362ms\tremaining: 697ms\n",
      "342:\tlearn: 15.8404109\ttotal: 363ms\tremaining: 696ms\n",
      "343:\tlearn: 15.7616719\ttotal: 365ms\tremaining: 695ms\n",
      "344:\tlearn: 15.7046860\ttotal: 366ms\tremaining: 694ms\n",
      "345:\tlearn: 15.5565531\ttotal: 367ms\tremaining: 694ms\n",
      "346:\tlearn: 15.4739767\ttotal: 368ms\tremaining: 693ms\n",
      "347:\tlearn: 15.4214691\ttotal: 369ms\tremaining: 692ms\n",
      "348:\tlearn: 15.3830392\ttotal: 371ms\tremaining: 691ms\n",
      "349:\tlearn: 15.2925503\ttotal: 372ms\tremaining: 690ms\n",
      "350:\tlearn: 15.2685305\ttotal: 373ms\tremaining: 690ms\n",
      "351:\tlearn: 15.0959980\ttotal: 374ms\tremaining: 689ms\n",
      "352:\tlearn: 15.0185539\ttotal: 375ms\tremaining: 688ms\n",
      "353:\tlearn: 14.9344909\ttotal: 376ms\tremaining: 687ms\n",
      "354:\tlearn: 14.8185511\ttotal: 378ms\tremaining: 686ms\n",
      "355:\tlearn: 14.7621205\ttotal: 379ms\tremaining: 685ms\n",
      "356:\tlearn: 14.6824384\ttotal: 380ms\tremaining: 684ms\n",
      "357:\tlearn: 14.5918871\ttotal: 382ms\tremaining: 685ms\n",
      "358:\tlearn: 14.4898356\ttotal: 384ms\tremaining: 685ms\n",
      "359:\tlearn: 14.4773981\ttotal: 385ms\tremaining: 684ms\n",
      "360:\tlearn: 14.3256006\ttotal: 386ms\tremaining: 683ms\n",
      "361:\tlearn: 14.1704867\ttotal: 387ms\tremaining: 682ms\n",
      "362:\tlearn: 14.0453382\ttotal: 388ms\tremaining: 681ms\n",
      "363:\tlearn: 13.9488312\ttotal: 389ms\tremaining: 680ms\n",
      "364:\tlearn: 13.8932251\ttotal: 390ms\tremaining: 679ms\n",
      "365:\tlearn: 13.7368549\ttotal: 391ms\tremaining: 677ms\n",
      "366:\tlearn: 13.6533268\ttotal: 392ms\tremaining: 676ms\n",
      "367:\tlearn: 13.5191569\ttotal: 393ms\tremaining: 675ms\n",
      "368:\tlearn: 13.4712080\ttotal: 394ms\tremaining: 674ms\n",
      "369:\tlearn: 13.3454926\ttotal: 395ms\tremaining: 672ms\n",
      "370:\tlearn: 13.2804919\ttotal: 396ms\tremaining: 672ms\n",
      "371:\tlearn: 13.2609934\ttotal: 397ms\tremaining: 670ms\n",
      "372:\tlearn: 13.1804458\ttotal: 398ms\tremaining: 669ms\n",
      "373:\tlearn: 13.0381162\ttotal: 399ms\tremaining: 668ms\n",
      "374:\tlearn: 13.0250736\ttotal: 400ms\tremaining: 667ms\n",
      "375:\tlearn: 13.0006609\ttotal: 401ms\tremaining: 665ms\n",
      "376:\tlearn: 12.8507663\ttotal: 402ms\tremaining: 664ms\n",
      "377:\tlearn: 12.6986039\ttotal: 403ms\tremaining: 663ms\n",
      "378:\tlearn: 12.5574544\ttotal: 404ms\tremaining: 661ms\n",
      "379:\tlearn: 12.4864386\ttotal: 405ms\tremaining: 660ms\n",
      "380:\tlearn: 12.3739036\ttotal: 406ms\tremaining: 659ms\n",
      "381:\tlearn: 12.3110117\ttotal: 406ms\tremaining: 658ms\n",
      "382:\tlearn: 12.2077088\ttotal: 407ms\tremaining: 656ms\n",
      "383:\tlearn: 12.1065885\ttotal: 408ms\tremaining: 655ms\n",
      "384:\tlearn: 12.0323948\ttotal: 409ms\tremaining: 654ms\n",
      "385:\tlearn: 12.0014896\ttotal: 410ms\tremaining: 652ms\n",
      "386:\tlearn: 11.8568080\ttotal: 411ms\tremaining: 651ms\n",
      "387:\tlearn: 11.7867144\ttotal: 412ms\tremaining: 650ms\n",
      "388:\tlearn: 11.7500836\ttotal: 413ms\tremaining: 649ms\n",
      "389:\tlearn: 11.7348877\ttotal: 414ms\tremaining: 647ms\n",
      "390:\tlearn: 11.7286653\ttotal: 415ms\tremaining: 646ms\n",
      "391:\tlearn: 11.6241305\ttotal: 416ms\tremaining: 645ms\n",
      "392:\tlearn: 11.5960420\ttotal: 417ms\tremaining: 644ms\n",
      "393:\tlearn: 11.5729987\ttotal: 418ms\tremaining: 643ms\n",
      "394:\tlearn: 11.5635235\ttotal: 419ms\tremaining: 641ms\n",
      "395:\tlearn: 11.4873129\ttotal: 420ms\tremaining: 640ms\n",
      "396:\tlearn: 11.3564378\ttotal: 421ms\tremaining: 639ms\n",
      "397:\tlearn: 11.2078876\ttotal: 421ms\tremaining: 637ms\n",
      "398:\tlearn: 11.1598904\ttotal: 422ms\tremaining: 636ms\n",
      "399:\tlearn: 11.0885074\ttotal: 423ms\tremaining: 635ms\n",
      "400:\tlearn: 11.0278575\ttotal: 424ms\tremaining: 634ms\n",
      "401:\tlearn: 10.9865756\ttotal: 425ms\tremaining: 632ms\n",
      "402:\tlearn: 10.8794931\ttotal: 426ms\tremaining: 631ms\n",
      "403:\tlearn: 10.8382558\ttotal: 427ms\tremaining: 630ms\n",
      "404:\tlearn: 10.7596014\ttotal: 428ms\tremaining: 629ms\n",
      "405:\tlearn: 10.7064165\ttotal: 429ms\tremaining: 628ms\n",
      "406:\tlearn: 10.6372130\ttotal: 430ms\tremaining: 626ms\n",
      "407:\tlearn: 10.5505037\ttotal: 431ms\tremaining: 625ms\n",
      "408:\tlearn: 10.4676489\ttotal: 432ms\tremaining: 624ms\n",
      "409:\tlearn: 10.3632792\ttotal: 433ms\tremaining: 623ms\n",
      "410:\tlearn: 10.3399756\ttotal: 434ms\tremaining: 621ms\n",
      "411:\tlearn: 10.2905778\ttotal: 435ms\tremaining: 620ms\n",
      "412:\tlearn: 10.2175164\ttotal: 435ms\tremaining: 619ms\n",
      "413:\tlearn: 10.1482923\ttotal: 436ms\tremaining: 618ms\n",
      "414:\tlearn: 10.0590953\ttotal: 437ms\tremaining: 617ms\n",
      "415:\tlearn: 9.9982795\ttotal: 438ms\tremaining: 615ms\n",
      "416:\tlearn: 9.9099074\ttotal: 439ms\tremaining: 614ms\n",
      "417:\tlearn: 9.8641812\ttotal: 440ms\tremaining: 613ms\n",
      "418:\tlearn: 9.8207799\ttotal: 441ms\tremaining: 612ms\n",
      "419:\tlearn: 9.7000976\ttotal: 442ms\tremaining: 610ms\n",
      "420:\tlearn: 9.6211675\ttotal: 443ms\tremaining: 609ms\n",
      "421:\tlearn: 9.5821946\ttotal: 444ms\tremaining: 608ms\n",
      "422:\tlearn: 9.5314530\ttotal: 445ms\tremaining: 607ms\n",
      "423:\tlearn: 9.5231706\ttotal: 446ms\tremaining: 605ms\n",
      "424:\tlearn: 9.4897613\ttotal: 447ms\tremaining: 604ms\n",
      "425:\tlearn: 9.4178254\ttotal: 447ms\tremaining: 603ms\n",
      "426:\tlearn: 9.3468512\ttotal: 449ms\tremaining: 602ms\n",
      "427:\tlearn: 9.2916542\ttotal: 450ms\tremaining: 601ms\n",
      "428:\tlearn: 9.2671046\ttotal: 451ms\tremaining: 600ms\n",
      "429:\tlearn: 9.1507425\ttotal: 452ms\tremaining: 600ms\n",
      "430:\tlearn: 9.0905964\ttotal: 454ms\tremaining: 599ms\n",
      "431:\tlearn: 9.0599172\ttotal: 455ms\tremaining: 598ms\n",
      "432:\tlearn: 8.9911670\ttotal: 456ms\tremaining: 597ms\n",
      "433:\tlearn: 8.9769178\ttotal: 457ms\tremaining: 596ms\n",
      "434:\tlearn: 8.9011639\ttotal: 459ms\tremaining: 596ms\n",
      "435:\tlearn: 8.8578447\ttotal: 460ms\tremaining: 595ms\n",
      "436:\tlearn: 8.7766216\ttotal: 461ms\tremaining: 594ms\n",
      "437:\tlearn: 8.7600187\ttotal: 462ms\tremaining: 593ms\n",
      "438:\tlearn: 8.7039464\ttotal: 463ms\tremaining: 592ms\n",
      "439:\tlearn: 8.6701908\ttotal: 464ms\tremaining: 591ms\n",
      "440:\tlearn: 8.6561906\ttotal: 466ms\tremaining: 590ms\n",
      "441:\tlearn: 8.6030579\ttotal: 467ms\tremaining: 589ms\n",
      "442:\tlearn: 8.5192884\ttotal: 468ms\tremaining: 588ms\n",
      "443:\tlearn: 8.4605490\ttotal: 469ms\tremaining: 587ms\n",
      "444:\tlearn: 8.3846572\ttotal: 470ms\tremaining: 586ms\n",
      "445:\tlearn: 8.3429264\ttotal: 471ms\tremaining: 585ms\n",
      "446:\tlearn: 8.3068488\ttotal: 472ms\tremaining: 584ms\n",
      "447:\tlearn: 8.2662142\ttotal: 473ms\tremaining: 583ms\n",
      "448:\tlearn: 8.1806196\ttotal: 474ms\tremaining: 582ms\n",
      "449:\tlearn: 8.1475696\ttotal: 475ms\tremaining: 581ms\n",
      "450:\tlearn: 8.1145904\ttotal: 476ms\tremaining: 580ms\n",
      "451:\tlearn: 8.0740309\ttotal: 477ms\tremaining: 579ms\n",
      "452:\tlearn: 8.0095799\ttotal: 478ms\tremaining: 578ms\n",
      "453:\tlearn: 7.9857193\ttotal: 479ms\tremaining: 577ms\n",
      "454:\tlearn: 7.9300069\ttotal: 480ms\tremaining: 575ms\n",
      "455:\tlearn: 7.9088282\ttotal: 481ms\tremaining: 574ms\n",
      "456:\tlearn: 7.8726359\ttotal: 483ms\tremaining: 573ms\n",
      "457:\tlearn: 7.8453260\ttotal: 484ms\tremaining: 572ms\n",
      "458:\tlearn: 7.8015145\ttotal: 485ms\tremaining: 571ms\n",
      "459:\tlearn: 7.7552434\ttotal: 486ms\tremaining: 570ms\n",
      "460:\tlearn: 7.7033074\ttotal: 487ms\tremaining: 569ms\n",
      "461:\tlearn: 7.6732816\ttotal: 488ms\tremaining: 568ms\n",
      "462:\tlearn: 7.6387343\ttotal: 489ms\tremaining: 567ms\n",
      "463:\tlearn: 7.5939225\ttotal: 490ms\tremaining: 566ms\n",
      "464:\tlearn: 7.5495985\ttotal: 491ms\tremaining: 565ms\n",
      "465:\tlearn: 7.5164784\ttotal: 492ms\tremaining: 564ms\n",
      "466:\tlearn: 7.4692120\ttotal: 493ms\tremaining: 563ms\n",
      "467:\tlearn: 7.4602739\ttotal: 494ms\tremaining: 562ms\n",
      "468:\tlearn: 7.4245927\ttotal: 495ms\tremaining: 560ms\n",
      "469:\tlearn: 7.3402299\ttotal: 496ms\tremaining: 559ms\n",
      "470:\tlearn: 7.2998185\ttotal: 497ms\tremaining: 558ms\n",
      "471:\tlearn: 7.2014577\ttotal: 498ms\tremaining: 557ms\n",
      "472:\tlearn: 7.1904207\ttotal: 499ms\tremaining: 556ms\n",
      "473:\tlearn: 7.1527862\ttotal: 500ms\tremaining: 555ms\n",
      "474:\tlearn: 7.0771473\ttotal: 501ms\tremaining: 554ms\n",
      "475:\tlearn: 7.0539525\ttotal: 502ms\tremaining: 553ms\n",
      "476:\tlearn: 6.9846025\ttotal: 504ms\tremaining: 552ms\n",
      "477:\tlearn: 6.9534313\ttotal: 505ms\tremaining: 551ms\n",
      "478:\tlearn: 6.8975880\ttotal: 506ms\tremaining: 550ms\n",
      "479:\tlearn: 6.8254191\ttotal: 507ms\tremaining: 549ms\n",
      "480:\tlearn: 6.8112478\ttotal: 508ms\tremaining: 548ms\n",
      "481:\tlearn: 6.7648902\ttotal: 509ms\tremaining: 547ms\n",
      "482:\tlearn: 6.6860735\ttotal: 510ms\tremaining: 546ms\n",
      "483:\tlearn: 6.6633461\ttotal: 511ms\tremaining: 545ms\n",
      "484:\tlearn: 6.6475279\ttotal: 512ms\tremaining: 544ms\n",
      "485:\tlearn: 6.5921608\ttotal: 513ms\tremaining: 543ms\n",
      "486:\tlearn: 6.5602794\ttotal: 514ms\tremaining: 541ms\n",
      "487:\tlearn: 6.5499659\ttotal: 515ms\tremaining: 540ms\n",
      "488:\tlearn: 6.4940006\ttotal: 516ms\tremaining: 539ms\n",
      "489:\tlearn: 6.4247752\ttotal: 517ms\tremaining: 538ms\n",
      "490:\tlearn: 6.3877601\ttotal: 518ms\tremaining: 537ms\n",
      "491:\tlearn: 6.3314191\ttotal: 519ms\tremaining: 536ms\n",
      "492:\tlearn: 6.2812751\ttotal: 520ms\tremaining: 535ms\n",
      "493:\tlearn: 6.2685065\ttotal: 522ms\tremaining: 535ms\n",
      "494:\tlearn: 6.2241138\ttotal: 523ms\tremaining: 534ms\n",
      "495:\tlearn: 6.1695214\ttotal: 524ms\tremaining: 533ms\n",
      "496:\tlearn: 6.1421906\ttotal: 525ms\tremaining: 532ms\n",
      "497:\tlearn: 6.1331850\ttotal: 527ms\tremaining: 531ms\n",
      "498:\tlearn: 6.1166327\ttotal: 528ms\tremaining: 530ms\n",
      "499:\tlearn: 6.0829602\ttotal: 529ms\tremaining: 529ms\n",
      "500:\tlearn: 6.0650422\ttotal: 531ms\tremaining: 528ms\n",
      "501:\tlearn: 6.0436563\ttotal: 532ms\tremaining: 527ms\n",
      "502:\tlearn: 5.9902804\ttotal: 533ms\tremaining: 527ms\n",
      "503:\tlearn: 5.9121675\ttotal: 534ms\tremaining: 526ms\n",
      "504:\tlearn: 5.9091850\ttotal: 535ms\tremaining: 524ms\n",
      "505:\tlearn: 5.8967995\ttotal: 536ms\tremaining: 523ms\n",
      "506:\tlearn: 5.8430221\ttotal: 538ms\tremaining: 523ms\n",
      "507:\tlearn: 5.8135495\ttotal: 539ms\tremaining: 522ms\n",
      "508:\tlearn: 5.7890913\ttotal: 540ms\tremaining: 521ms\n",
      "509:\tlearn: 5.7577091\ttotal: 541ms\tremaining: 519ms\n",
      "510:\tlearn: 5.7523488\ttotal: 541ms\tremaining: 518ms\n",
      "511:\tlearn: 5.6546493\ttotal: 542ms\tremaining: 517ms\n",
      "512:\tlearn: 5.6194513\ttotal: 543ms\tremaining: 516ms\n",
      "513:\tlearn: 5.5672252\ttotal: 544ms\tremaining: 514ms\n",
      "514:\tlearn: 5.5539421\ttotal: 545ms\tremaining: 513ms\n",
      "515:\tlearn: 5.5185620\ttotal: 546ms\tremaining: 512ms\n",
      "516:\tlearn: 5.4789463\ttotal: 548ms\tremaining: 512ms\n",
      "517:\tlearn: 5.4236755\ttotal: 549ms\tremaining: 511ms\n",
      "518:\tlearn: 5.3864207\ttotal: 550ms\tremaining: 509ms\n",
      "519:\tlearn: 5.3533466\ttotal: 551ms\tremaining: 508ms\n",
      "520:\tlearn: 5.3369921\ttotal: 551ms\tremaining: 507ms\n",
      "521:\tlearn: 5.2560437\ttotal: 552ms\tremaining: 506ms\n",
      "522:\tlearn: 5.2017840\ttotal: 553ms\tremaining: 505ms\n",
      "523:\tlearn: 5.1755812\ttotal: 554ms\tremaining: 503ms\n",
      "524:\tlearn: 5.1385832\ttotal: 555ms\tremaining: 502ms\n",
      "525:\tlearn: 5.1335579\ttotal: 556ms\tremaining: 501ms\n",
      "526:\tlearn: 5.0585358\ttotal: 557ms\tremaining: 500ms\n",
      "527:\tlearn: 5.0021152\ttotal: 558ms\tremaining: 499ms\n",
      "528:\tlearn: 4.9822398\ttotal: 559ms\tremaining: 498ms\n",
      "529:\tlearn: 4.9752376\ttotal: 560ms\tremaining: 496ms\n",
      "530:\tlearn: 4.9479232\ttotal: 561ms\tremaining: 495ms\n",
      "531:\tlearn: 4.9271142\ttotal: 562ms\tremaining: 494ms\n",
      "532:\tlearn: 4.9023595\ttotal: 563ms\tremaining: 493ms\n",
      "533:\tlearn: 4.8555527\ttotal: 563ms\tremaining: 492ms\n",
      "534:\tlearn: 4.8367794\ttotal: 564ms\tremaining: 490ms\n",
      "535:\tlearn: 4.7952444\ttotal: 565ms\tremaining: 489ms\n",
      "536:\tlearn: 4.7409194\ttotal: 566ms\tremaining: 488ms\n",
      "537:\tlearn: 4.6929973\ttotal: 567ms\tremaining: 487ms\n",
      "538:\tlearn: 4.6579685\ttotal: 568ms\tremaining: 486ms\n",
      "539:\tlearn: 4.6195745\ttotal: 569ms\tremaining: 485ms\n",
      "540:\tlearn: 4.5964136\ttotal: 570ms\tremaining: 483ms\n",
      "541:\tlearn: 4.5836819\ttotal: 571ms\tremaining: 482ms\n",
      "542:\tlearn: 4.5766395\ttotal: 571ms\tremaining: 481ms\n",
      "543:\tlearn: 4.5639948\ttotal: 572ms\tremaining: 480ms\n",
      "544:\tlearn: 4.5321336\ttotal: 573ms\tremaining: 479ms\n",
      "545:\tlearn: 4.5257262\ttotal: 574ms\tremaining: 478ms\n",
      "546:\tlearn: 4.5121200\ttotal: 575ms\tremaining: 476ms\n",
      "547:\tlearn: 4.5000971\ttotal: 576ms\tremaining: 475ms\n",
      "548:\tlearn: 4.4699564\ttotal: 577ms\tremaining: 474ms\n",
      "549:\tlearn: 4.4223918\ttotal: 578ms\tremaining: 473ms\n",
      "550:\tlearn: 4.3900850\ttotal: 579ms\tremaining: 472ms\n",
      "551:\tlearn: 4.3865832\ttotal: 580ms\tremaining: 471ms\n",
      "552:\tlearn: 4.3555236\ttotal: 581ms\tremaining: 469ms\n",
      "553:\tlearn: 4.3326942\ttotal: 582ms\tremaining: 468ms\n",
      "554:\tlearn: 4.3083453\ttotal: 583ms\tremaining: 467ms\n",
      "555:\tlearn: 4.2783012\ttotal: 583ms\tremaining: 466ms\n",
      "556:\tlearn: 4.2386680\ttotal: 584ms\tremaining: 465ms\n",
      "557:\tlearn: 4.1982182\ttotal: 585ms\tremaining: 463ms\n",
      "558:\tlearn: 4.1818634\ttotal: 586ms\tremaining: 462ms\n",
      "559:\tlearn: 4.1603123\ttotal: 587ms\tremaining: 461ms\n",
      "560:\tlearn: 4.1162392\ttotal: 588ms\tremaining: 460ms\n",
      "561:\tlearn: 4.0942539\ttotal: 589ms\tremaining: 459ms\n",
      "562:\tlearn: 4.0833944\ttotal: 590ms\tremaining: 458ms\n",
      "563:\tlearn: 4.0651220\ttotal: 591ms\tremaining: 457ms\n",
      "564:\tlearn: 4.0359525\ttotal: 592ms\tremaining: 455ms\n",
      "565:\tlearn: 4.0331482\ttotal: 593ms\tremaining: 454ms\n",
      "566:\tlearn: 4.0110785\ttotal: 594ms\tremaining: 453ms\n",
      "567:\tlearn: 3.9846807\ttotal: 595ms\tremaining: 452ms\n",
      "568:\tlearn: 3.9611224\ttotal: 596ms\tremaining: 451ms\n",
      "569:\tlearn: 3.9238317\ttotal: 597ms\tremaining: 450ms\n",
      "570:\tlearn: 3.9105718\ttotal: 598ms\tremaining: 449ms\n",
      "571:\tlearn: 3.8725349\ttotal: 599ms\tremaining: 448ms\n",
      "572:\tlearn: 3.8589458\ttotal: 600ms\tremaining: 447ms\n",
      "573:\tlearn: 3.8201118\ttotal: 601ms\tremaining: 446ms\n",
      "574:\tlearn: 3.8100971\ttotal: 602ms\tremaining: 445ms\n",
      "575:\tlearn: 3.7824233\ttotal: 603ms\tremaining: 444ms\n",
      "576:\tlearn: 3.7652240\ttotal: 605ms\tremaining: 443ms\n",
      "577:\tlearn: 3.7320270\ttotal: 606ms\tremaining: 442ms\n",
      "578:\tlearn: 3.7227983\ttotal: 607ms\tremaining: 441ms\n",
      "579:\tlearn: 3.7007934\ttotal: 608ms\tremaining: 440ms\n",
      "580:\tlearn: 3.6703626\ttotal: 609ms\tremaining: 439ms\n",
      "581:\tlearn: 3.6587500\ttotal: 610ms\tremaining: 438ms\n",
      "582:\tlearn: 3.6435213\ttotal: 611ms\tremaining: 437ms\n",
      "583:\tlearn: 3.6165255\ttotal: 612ms\tremaining: 436ms\n",
      "584:\tlearn: 3.5921438\ttotal: 613ms\tremaining: 435ms\n",
      "585:\tlearn: 3.5823094\ttotal: 614ms\tremaining: 434ms\n",
      "586:\tlearn: 3.5707107\ttotal: 615ms\tremaining: 433ms\n",
      "587:\tlearn: 3.5585582\ttotal: 616ms\tremaining: 432ms\n",
      "588:\tlearn: 3.5083056\ttotal: 617ms\tremaining: 431ms\n",
      "589:\tlearn: 3.4896083\ttotal: 618ms\tremaining: 430ms\n",
      "590:\tlearn: 3.4745190\ttotal: 619ms\tremaining: 429ms\n",
      "591:\tlearn: 3.4627260\ttotal: 620ms\tremaining: 428ms\n",
      "592:\tlearn: 3.4385625\ttotal: 621ms\tremaining: 427ms\n",
      "593:\tlearn: 3.3997235\ttotal: 622ms\tremaining: 425ms\n",
      "594:\tlearn: 3.3764192\ttotal: 623ms\tremaining: 424ms\n",
      "595:\tlearn: 3.3590522\ttotal: 624ms\tremaining: 423ms\n",
      "596:\tlearn: 3.3474857\ttotal: 625ms\tremaining: 422ms\n",
      "597:\tlearn: 3.3123623\ttotal: 626ms\tremaining: 421ms\n",
      "598:\tlearn: 3.2999589\ttotal: 628ms\tremaining: 420ms\n",
      "599:\tlearn: 3.2767538\ttotal: 629ms\tremaining: 419ms\n",
      "600:\tlearn: 3.2530783\ttotal: 630ms\tremaining: 418ms\n",
      "601:\tlearn: 3.2269777\ttotal: 631ms\tremaining: 417ms\n",
      "602:\tlearn: 3.1938868\ttotal: 632ms\tremaining: 416ms\n",
      "603:\tlearn: 3.1728589\ttotal: 633ms\tremaining: 415ms\n",
      "604:\tlearn: 3.1549029\ttotal: 634ms\tremaining: 414ms\n",
      "605:\tlearn: 3.1478118\ttotal: 635ms\tremaining: 413ms\n",
      "606:\tlearn: 3.1145245\ttotal: 636ms\tremaining: 412ms\n",
      "607:\tlearn: 3.0718905\ttotal: 637ms\tremaining: 411ms\n",
      "608:\tlearn: 3.0352714\ttotal: 638ms\tremaining: 410ms\n",
      "609:\tlearn: 2.9984985\ttotal: 640ms\tremaining: 409ms\n",
      "610:\tlearn: 2.9594115\ttotal: 641ms\tremaining: 408ms\n",
      "611:\tlearn: 2.9438145\ttotal: 642ms\tremaining: 407ms\n",
      "612:\tlearn: 2.9265773\ttotal: 643ms\tremaining: 406ms\n",
      "613:\tlearn: 2.9036898\ttotal: 644ms\tremaining: 405ms\n",
      "614:\tlearn: 2.8790612\ttotal: 645ms\tremaining: 404ms\n",
      "615:\tlearn: 2.8654898\ttotal: 646ms\tremaining: 403ms\n",
      "616:\tlearn: 2.8462561\ttotal: 647ms\tremaining: 402ms\n",
      "617:\tlearn: 2.8254976\ttotal: 648ms\tremaining: 401ms\n",
      "618:\tlearn: 2.8190407\ttotal: 650ms\tremaining: 400ms\n",
      "619:\tlearn: 2.8129812\ttotal: 651ms\tremaining: 399ms\n",
      "620:\tlearn: 2.8097755\ttotal: 652ms\tremaining: 398ms\n",
      "621:\tlearn: 2.7960320\ttotal: 653ms\tremaining: 397ms\n",
      "622:\tlearn: 2.7878495\ttotal: 654ms\tremaining: 396ms\n",
      "623:\tlearn: 2.7602980\ttotal: 655ms\tremaining: 395ms\n",
      "624:\tlearn: 2.7341408\ttotal: 656ms\tremaining: 394ms\n",
      "625:\tlearn: 2.7302545\ttotal: 657ms\tremaining: 393ms\n",
      "626:\tlearn: 2.7120252\ttotal: 658ms\tremaining: 392ms\n",
      "627:\tlearn: 2.7075024\ttotal: 659ms\tremaining: 391ms\n",
      "628:\tlearn: 2.6970031\ttotal: 660ms\tremaining: 390ms\n",
      "629:\tlearn: 2.6928246\ttotal: 662ms\tremaining: 389ms\n",
      "630:\tlearn: 2.6709120\ttotal: 663ms\tremaining: 388ms\n",
      "631:\tlearn: 2.6656247\ttotal: 664ms\tremaining: 387ms\n",
      "632:\tlearn: 2.6452838\ttotal: 665ms\tremaining: 386ms\n",
      "633:\tlearn: 2.6271014\ttotal: 666ms\tremaining: 385ms\n",
      "634:\tlearn: 2.6089454\ttotal: 667ms\tremaining: 383ms\n",
      "635:\tlearn: 2.5996271\ttotal: 668ms\tremaining: 382ms\n",
      "636:\tlearn: 2.5923568\ttotal: 669ms\tremaining: 381ms\n",
      "637:\tlearn: 2.5837611\ttotal: 670ms\tremaining: 380ms\n",
      "638:\tlearn: 2.5726721\ttotal: 672ms\tremaining: 379ms\n",
      "639:\tlearn: 2.5577477\ttotal: 673ms\tremaining: 378ms\n",
      "640:\tlearn: 2.5500744\ttotal: 674ms\tremaining: 377ms\n",
      "641:\tlearn: 2.5274442\ttotal: 675ms\tremaining: 376ms\n",
      "642:\tlearn: 2.5157559\ttotal: 676ms\tremaining: 375ms\n",
      "643:\tlearn: 2.5053856\ttotal: 677ms\tremaining: 374ms\n",
      "644:\tlearn: 2.4841922\ttotal: 678ms\tremaining: 373ms\n",
      "645:\tlearn: 2.4674035\ttotal: 679ms\tremaining: 372ms\n",
      "646:\tlearn: 2.4484158\ttotal: 681ms\tremaining: 371ms\n",
      "647:\tlearn: 2.4263246\ttotal: 682ms\tremaining: 370ms\n",
      "648:\tlearn: 2.4052258\ttotal: 683ms\tremaining: 369ms\n",
      "649:\tlearn: 2.3816894\ttotal: 684ms\tremaining: 368ms\n",
      "650:\tlearn: 2.3659119\ttotal: 685ms\tremaining: 367ms\n",
      "651:\tlearn: 2.3576051\ttotal: 686ms\tremaining: 366ms\n",
      "652:\tlearn: 2.3288476\ttotal: 687ms\tremaining: 365ms\n",
      "653:\tlearn: 2.3109502\ttotal: 689ms\tremaining: 364ms\n",
      "654:\tlearn: 2.3021504\ttotal: 690ms\tremaining: 363ms\n",
      "655:\tlearn: 2.3009515\ttotal: 691ms\tremaining: 362ms\n",
      "656:\tlearn: 2.2893680\ttotal: 692ms\tremaining: 361ms\n",
      "657:\tlearn: 2.2852898\ttotal: 693ms\tremaining: 360ms\n",
      "658:\tlearn: 2.2647131\ttotal: 694ms\tremaining: 359ms\n",
      "659:\tlearn: 2.2437777\ttotal: 695ms\tremaining: 358ms\n",
      "660:\tlearn: 2.2228007\ttotal: 696ms\tremaining: 357ms\n",
      "661:\tlearn: 2.2030047\ttotal: 698ms\tremaining: 356ms\n",
      "662:\tlearn: 2.1823076\ttotal: 699ms\tremaining: 355ms\n",
      "663:\tlearn: 2.1607769\ttotal: 700ms\tremaining: 354ms\n",
      "664:\tlearn: 2.1491049\ttotal: 702ms\tremaining: 353ms\n",
      "665:\tlearn: 2.1403920\ttotal: 703ms\tremaining: 352ms\n",
      "666:\tlearn: 2.1255852\ttotal: 704ms\tremaining: 351ms\n",
      "667:\tlearn: 2.1087714\ttotal: 705ms\tremaining: 350ms\n",
      "668:\tlearn: 2.1033385\ttotal: 706ms\tremaining: 349ms\n",
      "669:\tlearn: 2.0923091\ttotal: 707ms\tremaining: 348ms\n",
      "670:\tlearn: 2.0834076\ttotal: 708ms\tremaining: 347ms\n",
      "671:\tlearn: 2.0735926\ttotal: 709ms\tremaining: 346ms\n",
      "672:\tlearn: 2.0603541\ttotal: 711ms\tremaining: 345ms\n",
      "673:\tlearn: 2.0576392\ttotal: 712ms\tremaining: 344ms\n",
      "674:\tlearn: 2.0455537\ttotal: 713ms\tremaining: 343ms\n",
      "675:\tlearn: 2.0282804\ttotal: 714ms\tremaining: 342ms\n",
      "676:\tlearn: 2.0217423\ttotal: 715ms\tremaining: 341ms\n",
      "677:\tlearn: 2.0119192\ttotal: 716ms\tremaining: 340ms\n",
      "678:\tlearn: 2.0001332\ttotal: 717ms\tremaining: 339ms\n",
      "679:\tlearn: 1.9979894\ttotal: 718ms\tremaining: 338ms\n",
      "680:\tlearn: 1.9907747\ttotal: 719ms\tremaining: 337ms\n",
      "681:\tlearn: 1.9736817\ttotal: 720ms\tremaining: 336ms\n",
      "682:\tlearn: 1.9600965\ttotal: 721ms\tremaining: 335ms\n",
      "683:\tlearn: 1.9539201\ttotal: 723ms\tremaining: 334ms\n",
      "684:\tlearn: 1.9449369\ttotal: 724ms\tremaining: 333ms\n",
      "685:\tlearn: 1.9419454\ttotal: 725ms\tremaining: 332ms\n",
      "686:\tlearn: 1.9326842\ttotal: 726ms\tremaining: 331ms\n",
      "687:\tlearn: 1.9288548\ttotal: 727ms\tremaining: 330ms\n",
      "688:\tlearn: 1.9236716\ttotal: 728ms\tremaining: 328ms\n",
      "689:\tlearn: 1.9228496\ttotal: 729ms\tremaining: 327ms\n",
      "690:\tlearn: 1.9176354\ttotal: 730ms\tremaining: 326ms\n",
      "691:\tlearn: 1.9147659\ttotal: 731ms\tremaining: 325ms\n",
      "692:\tlearn: 1.9079892\ttotal: 732ms\tremaining: 324ms\n",
      "693:\tlearn: 1.9048238\ttotal: 733ms\tremaining: 323ms\n",
      "694:\tlearn: 1.8959419\ttotal: 734ms\tremaining: 322ms\n",
      "695:\tlearn: 1.8711502\ttotal: 735ms\tremaining: 321ms\n",
      "696:\tlearn: 1.8583228\ttotal: 736ms\tremaining: 320ms\n",
      "697:\tlearn: 1.8482604\ttotal: 737ms\tremaining: 319ms\n",
      "698:\tlearn: 1.8456936\ttotal: 738ms\tremaining: 318ms\n",
      "699:\tlearn: 1.8273471\ttotal: 739ms\tremaining: 317ms\n",
      "700:\tlearn: 1.8067825\ttotal: 740ms\tremaining: 316ms\n",
      "701:\tlearn: 1.8022221\ttotal: 741ms\tremaining: 315ms\n",
      "702:\tlearn: 1.7912070\ttotal: 742ms\tremaining: 313ms\n",
      "703:\tlearn: 1.7755760\ttotal: 743ms\tremaining: 312ms\n",
      "704:\tlearn: 1.7712682\ttotal: 744ms\tremaining: 311ms\n",
      "705:\tlearn: 1.7648319\ttotal: 745ms\tremaining: 310ms\n",
      "706:\tlearn: 1.7532904\ttotal: 746ms\tremaining: 309ms\n",
      "707:\tlearn: 1.7463625\ttotal: 747ms\tremaining: 308ms\n",
      "708:\tlearn: 1.7418161\ttotal: 748ms\tremaining: 307ms\n",
      "709:\tlearn: 1.7272345\ttotal: 749ms\tremaining: 306ms\n",
      "710:\tlearn: 1.7217505\ttotal: 750ms\tremaining: 305ms\n",
      "711:\tlearn: 1.7151154\ttotal: 751ms\tremaining: 304ms\n",
      "712:\tlearn: 1.7092925\ttotal: 752ms\tremaining: 303ms\n",
      "713:\tlearn: 1.7025995\ttotal: 753ms\tremaining: 302ms\n",
      "714:\tlearn: 1.6807623\ttotal: 755ms\tremaining: 301ms\n",
      "715:\tlearn: 1.6674907\ttotal: 756ms\tremaining: 300ms\n",
      "716:\tlearn: 1.6544638\ttotal: 757ms\tremaining: 299ms\n",
      "717:\tlearn: 1.6411236\ttotal: 758ms\tremaining: 298ms\n",
      "718:\tlearn: 1.6290477\ttotal: 759ms\tremaining: 297ms\n",
      "719:\tlearn: 1.6222366\ttotal: 760ms\tremaining: 296ms\n",
      "720:\tlearn: 1.6142656\ttotal: 761ms\tremaining: 294ms\n",
      "721:\tlearn: 1.6004470\ttotal: 762ms\tremaining: 294ms\n",
      "722:\tlearn: 1.5932177\ttotal: 764ms\tremaining: 293ms\n",
      "723:\tlearn: 1.5743215\ttotal: 765ms\tremaining: 292ms\n",
      "724:\tlearn: 1.5629066\ttotal: 766ms\tremaining: 291ms\n",
      "725:\tlearn: 1.5505525\ttotal: 767ms\tremaining: 289ms\n",
      "726:\tlearn: 1.5302974\ttotal: 768ms\tremaining: 288ms\n",
      "727:\tlearn: 1.5260700\ttotal: 769ms\tremaining: 287ms\n",
      "728:\tlearn: 1.5188723\ttotal: 770ms\tremaining: 286ms\n",
      "729:\tlearn: 1.5085309\ttotal: 771ms\tremaining: 285ms\n",
      "730:\tlearn: 1.5038733\ttotal: 772ms\tremaining: 284ms\n",
      "731:\tlearn: 1.5008194\ttotal: 774ms\tremaining: 283ms\n",
      "732:\tlearn: 1.4908829\ttotal: 775ms\tremaining: 282ms\n",
      "733:\tlearn: 1.4782605\ttotal: 776ms\tremaining: 281ms\n",
      "734:\tlearn: 1.4639356\ttotal: 777ms\tremaining: 280ms\n",
      "735:\tlearn: 1.4471455\ttotal: 778ms\tremaining: 279ms\n",
      "736:\tlearn: 1.4454285\ttotal: 779ms\tremaining: 278ms\n",
      "737:\tlearn: 1.4416273\ttotal: 780ms\tremaining: 277ms\n",
      "738:\tlearn: 1.4302267\ttotal: 781ms\tremaining: 276ms\n",
      "739:\tlearn: 1.4219328\ttotal: 783ms\tremaining: 275ms\n",
      "740:\tlearn: 1.4105579\ttotal: 784ms\tremaining: 274ms\n",
      "741:\tlearn: 1.4075838\ttotal: 785ms\tremaining: 273ms\n",
      "742:\tlearn: 1.4017014\ttotal: 786ms\tremaining: 272ms\n",
      "743:\tlearn: 1.3974208\ttotal: 787ms\tremaining: 271ms\n",
      "744:\tlearn: 1.3862572\ttotal: 788ms\tremaining: 270ms\n",
      "745:\tlearn: 1.3729360\ttotal: 790ms\tremaining: 269ms\n",
      "746:\tlearn: 1.3630904\ttotal: 791ms\tremaining: 268ms\n",
      "747:\tlearn: 1.3477583\ttotal: 792ms\tremaining: 267ms\n",
      "748:\tlearn: 1.3348270\ttotal: 793ms\tremaining: 266ms\n",
      "749:\tlearn: 1.3236754\ttotal: 794ms\tremaining: 265ms\n",
      "750:\tlearn: 1.3171961\ttotal: 795ms\tremaining: 264ms\n",
      "751:\tlearn: 1.3113457\ttotal: 796ms\tremaining: 263ms\n",
      "752:\tlearn: 1.3036391\ttotal: 798ms\tremaining: 262ms\n",
      "753:\tlearn: 1.2935829\ttotal: 799ms\tremaining: 261ms\n",
      "754:\tlearn: 1.2837612\ttotal: 800ms\tremaining: 260ms\n",
      "755:\tlearn: 1.2768260\ttotal: 801ms\tremaining: 258ms\n",
      "756:\tlearn: 1.2689370\ttotal: 802ms\tremaining: 257ms\n",
      "757:\tlearn: 1.2561567\ttotal: 803ms\tremaining: 256ms\n",
      "758:\tlearn: 1.2475100\ttotal: 804ms\tremaining: 255ms\n",
      "759:\tlearn: 1.2405978\ttotal: 806ms\tremaining: 254ms\n",
      "760:\tlearn: 1.2342628\ttotal: 807ms\tremaining: 253ms\n",
      "761:\tlearn: 1.2271880\ttotal: 808ms\tremaining: 252ms\n",
      "762:\tlearn: 1.2138527\ttotal: 809ms\tremaining: 251ms\n",
      "763:\tlearn: 1.2076889\ttotal: 810ms\tremaining: 250ms\n",
      "764:\tlearn: 1.2041847\ttotal: 811ms\tremaining: 249ms\n",
      "765:\tlearn: 1.1970019\ttotal: 812ms\tremaining: 248ms\n",
      "766:\tlearn: 1.1892878\ttotal: 813ms\tremaining: 247ms\n",
      "767:\tlearn: 1.1858432\ttotal: 814ms\tremaining: 246ms\n",
      "768:\tlearn: 1.1746182\ttotal: 816ms\tremaining: 245ms\n",
      "769:\tlearn: 1.1694876\ttotal: 817ms\tremaining: 244ms\n",
      "770:\tlearn: 1.1657055\ttotal: 818ms\tremaining: 243ms\n",
      "771:\tlearn: 1.1556043\ttotal: 819ms\tremaining: 242ms\n",
      "772:\tlearn: 1.1540774\ttotal: 820ms\tremaining: 241ms\n",
      "773:\tlearn: 1.1473715\ttotal: 821ms\tremaining: 240ms\n",
      "774:\tlearn: 1.1419763\ttotal: 822ms\tremaining: 239ms\n",
      "775:\tlearn: 1.1303590\ttotal: 823ms\tremaining: 238ms\n",
      "776:\tlearn: 1.1230587\ttotal: 824ms\tremaining: 237ms\n",
      "777:\tlearn: 1.1143917\ttotal: 826ms\tremaining: 236ms\n",
      "778:\tlearn: 1.1112687\ttotal: 827ms\tremaining: 235ms\n",
      "779:\tlearn: 1.1009863\ttotal: 828ms\tremaining: 233ms\n",
      "780:\tlearn: 1.0899260\ttotal: 829ms\tremaining: 232ms\n",
      "781:\tlearn: 1.0855158\ttotal: 830ms\tremaining: 231ms\n",
      "782:\tlearn: 1.0808031\ttotal: 832ms\tremaining: 230ms\n",
      "783:\tlearn: 1.0763884\ttotal: 833ms\tremaining: 229ms\n",
      "784:\tlearn: 1.0710758\ttotal: 834ms\tremaining: 228ms\n",
      "785:\tlearn: 1.0634482\ttotal: 835ms\tremaining: 227ms\n",
      "786:\tlearn: 1.0529874\ttotal: 836ms\tremaining: 226ms\n",
      "787:\tlearn: 1.0501903\ttotal: 838ms\tremaining: 225ms\n",
      "788:\tlearn: 1.0410587\ttotal: 839ms\tremaining: 224ms\n",
      "789:\tlearn: 1.0386261\ttotal: 840ms\tremaining: 223ms\n",
      "790:\tlearn: 1.0351082\ttotal: 841ms\tremaining: 222ms\n",
      "791:\tlearn: 1.0320987\ttotal: 842ms\tremaining: 221ms\n",
      "792:\tlearn: 1.0294915\ttotal: 843ms\tremaining: 220ms\n",
      "793:\tlearn: 1.0233284\ttotal: 844ms\tremaining: 219ms\n",
      "794:\tlearn: 1.0176815\ttotal: 846ms\tremaining: 218ms\n",
      "795:\tlearn: 1.0074411\ttotal: 847ms\tremaining: 217ms\n",
      "796:\tlearn: 1.0020197\ttotal: 848ms\tremaining: 216ms\n",
      "797:\tlearn: 0.9989044\ttotal: 849ms\tremaining: 215ms\n",
      "798:\tlearn: 0.9937483\ttotal: 850ms\tremaining: 214ms\n",
      "799:\tlearn: 0.9867329\ttotal: 851ms\tremaining: 213ms\n",
      "800:\tlearn: 0.9819829\ttotal: 852ms\tremaining: 212ms\n",
      "801:\tlearn: 0.9777514\ttotal: 853ms\tremaining: 211ms\n",
      "802:\tlearn: 0.9757462\ttotal: 854ms\tremaining: 210ms\n",
      "803:\tlearn: 0.9702440\ttotal: 856ms\tremaining: 209ms\n",
      "804:\tlearn: 0.9636471\ttotal: 857ms\tremaining: 208ms\n",
      "805:\tlearn: 0.9548362\ttotal: 858ms\tremaining: 207ms\n",
      "806:\tlearn: 0.9470745\ttotal: 860ms\tremaining: 206ms\n",
      "807:\tlearn: 0.9408578\ttotal: 861ms\tremaining: 205ms\n",
      "808:\tlearn: 0.9350692\ttotal: 862ms\tremaining: 203ms\n",
      "809:\tlearn: 0.9290967\ttotal: 863ms\tremaining: 202ms\n",
      "810:\tlearn: 0.9267158\ttotal: 863ms\tremaining: 201ms\n",
      "811:\tlearn: 0.9235794\ttotal: 864ms\tremaining: 200ms\n",
      "812:\tlearn: 0.9226084\ttotal: 865ms\tremaining: 199ms\n",
      "813:\tlearn: 0.9139012\ttotal: 866ms\tremaining: 198ms\n",
      "814:\tlearn: 0.9073690\ttotal: 867ms\tremaining: 197ms\n",
      "815:\tlearn: 0.9024018\ttotal: 869ms\tremaining: 196ms\n",
      "816:\tlearn: 0.9001693\ttotal: 870ms\tremaining: 195ms\n",
      "817:\tlearn: 0.8970481\ttotal: 871ms\tremaining: 194ms\n",
      "818:\tlearn: 0.8907494\ttotal: 872ms\tremaining: 193ms\n",
      "819:\tlearn: 0.8886718\ttotal: 873ms\tremaining: 192ms\n",
      "820:\tlearn: 0.8869259\ttotal: 874ms\tremaining: 191ms\n",
      "821:\tlearn: 0.8804683\ttotal: 875ms\tremaining: 190ms\n",
      "822:\tlearn: 0.8666371\ttotal: 877ms\tremaining: 189ms\n",
      "823:\tlearn: 0.8659600\ttotal: 877ms\tremaining: 187ms\n",
      "824:\tlearn: 0.8604612\ttotal: 878ms\tremaining: 186ms\n",
      "825:\tlearn: 0.8544955\ttotal: 879ms\tremaining: 185ms\n",
      "826:\tlearn: 0.8496739\ttotal: 880ms\tremaining: 184ms\n",
      "827:\tlearn: 0.8420906\ttotal: 881ms\tremaining: 183ms\n",
      "828:\tlearn: 0.8398457\ttotal: 882ms\tremaining: 182ms\n",
      "829:\tlearn: 0.8358570\ttotal: 883ms\tremaining: 181ms\n",
      "830:\tlearn: 0.8293211\ttotal: 884ms\tremaining: 180ms\n",
      "831:\tlearn: 0.8236188\ttotal: 885ms\tremaining: 179ms\n",
      "832:\tlearn: 0.8175017\ttotal: 886ms\tremaining: 178ms\n",
      "833:\tlearn: 0.8128315\ttotal: 887ms\tremaining: 177ms\n",
      "834:\tlearn: 0.8096197\ttotal: 888ms\tremaining: 175ms\n",
      "835:\tlearn: 0.8027133\ttotal: 889ms\tremaining: 174ms\n",
      "836:\tlearn: 0.7987555\ttotal: 890ms\tremaining: 173ms\n",
      "837:\tlearn: 0.7928141\ttotal: 891ms\tremaining: 172ms\n",
      "838:\tlearn: 0.7897563\ttotal: 892ms\tremaining: 171ms\n",
      "839:\tlearn: 0.7876758\ttotal: 893ms\tremaining: 170ms\n",
      "840:\tlearn: 0.7777598\ttotal: 894ms\tremaining: 169ms\n",
      "841:\tlearn: 0.7767597\ttotal: 895ms\tremaining: 168ms\n",
      "842:\tlearn: 0.7665043\ttotal: 896ms\tremaining: 167ms\n",
      "843:\tlearn: 0.7626478\ttotal: 897ms\tremaining: 166ms\n",
      "844:\tlearn: 0.7540439\ttotal: 898ms\tremaining: 165ms\n",
      "845:\tlearn: 0.7508537\ttotal: 899ms\tremaining: 164ms\n",
      "846:\tlearn: 0.7459152\ttotal: 900ms\tremaining: 163ms\n",
      "847:\tlearn: 0.7447900\ttotal: 901ms\tremaining: 161ms\n",
      "848:\tlearn: 0.7418475\ttotal: 902ms\tremaining: 160ms\n",
      "849:\tlearn: 0.7379949\ttotal: 903ms\tremaining: 159ms\n",
      "850:\tlearn: 0.7369054\ttotal: 904ms\tremaining: 158ms\n",
      "851:\tlearn: 0.7327236\ttotal: 905ms\tremaining: 157ms\n",
      "852:\tlearn: 0.7311790\ttotal: 906ms\tremaining: 156ms\n",
      "853:\tlearn: 0.7226495\ttotal: 907ms\tremaining: 155ms\n",
      "854:\tlearn: 0.7168390\ttotal: 908ms\tremaining: 154ms\n",
      "855:\tlearn: 0.7117890\ttotal: 909ms\tremaining: 153ms\n",
      "856:\tlearn: 0.7040100\ttotal: 910ms\tremaining: 152ms\n",
      "857:\tlearn: 0.6960021\ttotal: 912ms\tremaining: 151ms\n",
      "858:\tlearn: 0.6920263\ttotal: 913ms\tremaining: 150ms\n",
      "859:\tlearn: 0.6853317\ttotal: 914ms\tremaining: 149ms\n",
      "860:\tlearn: 0.6805108\ttotal: 915ms\tremaining: 148ms\n",
      "861:\tlearn: 0.6771728\ttotal: 916ms\tremaining: 147ms\n",
      "862:\tlearn: 0.6708199\ttotal: 917ms\tremaining: 146ms\n",
      "863:\tlearn: 0.6689468\ttotal: 918ms\tremaining: 145ms\n",
      "864:\tlearn: 0.6647579\ttotal: 919ms\tremaining: 143ms\n",
      "865:\tlearn: 0.6587745\ttotal: 920ms\tremaining: 142ms\n",
      "866:\tlearn: 0.6549437\ttotal: 921ms\tremaining: 141ms\n",
      "867:\tlearn: 0.6484944\ttotal: 923ms\tremaining: 140ms\n",
      "868:\tlearn: 0.6455316\ttotal: 924ms\tremaining: 139ms\n",
      "869:\tlearn: 0.6420739\ttotal: 925ms\tremaining: 138ms\n",
      "870:\tlearn: 0.6375667\ttotal: 926ms\tremaining: 137ms\n",
      "871:\tlearn: 0.6358236\ttotal: 927ms\tremaining: 136ms\n",
      "872:\tlearn: 0.6320335\ttotal: 928ms\tremaining: 135ms\n",
      "873:\tlearn: 0.6288025\ttotal: 929ms\tremaining: 134ms\n",
      "874:\tlearn: 0.6243292\ttotal: 931ms\tremaining: 133ms\n",
      "875:\tlearn: 0.6165696\ttotal: 932ms\tremaining: 132ms\n",
      "876:\tlearn: 0.6128782\ttotal: 933ms\tremaining: 131ms\n",
      "877:\tlearn: 0.6057460\ttotal: 934ms\tremaining: 130ms\n",
      "878:\tlearn: 0.6048833\ttotal: 935ms\tremaining: 129ms\n",
      "879:\tlearn: 0.5984637\ttotal: 936ms\tremaining: 128ms\n",
      "880:\tlearn: 0.5935168\ttotal: 937ms\tremaining: 127ms\n",
      "881:\tlearn: 0.5892604\ttotal: 938ms\tremaining: 126ms\n",
      "882:\tlearn: 0.5846504\ttotal: 940ms\tremaining: 125ms\n",
      "883:\tlearn: 0.5814985\ttotal: 941ms\tremaining: 123ms\n",
      "884:\tlearn: 0.5778053\ttotal: 942ms\tremaining: 122ms\n",
      "885:\tlearn: 0.5739896\ttotal: 943ms\tremaining: 121ms\n",
      "886:\tlearn: 0.5729847\ttotal: 944ms\tremaining: 120ms\n",
      "887:\tlearn: 0.5724598\ttotal: 945ms\tremaining: 119ms\n",
      "888:\tlearn: 0.5718988\ttotal: 947ms\tremaining: 118ms\n",
      "889:\tlearn: 0.5672314\ttotal: 948ms\tremaining: 117ms\n",
      "890:\tlearn: 0.5659035\ttotal: 949ms\tremaining: 116ms\n",
      "891:\tlearn: 0.5587131\ttotal: 950ms\tremaining: 115ms\n",
      "892:\tlearn: 0.5562858\ttotal: 951ms\tremaining: 114ms\n",
      "893:\tlearn: 0.5555127\ttotal: 952ms\tremaining: 113ms\n",
      "894:\tlearn: 0.5527685\ttotal: 953ms\tremaining: 112ms\n",
      "895:\tlearn: 0.5499500\ttotal: 954ms\tremaining: 111ms\n",
      "896:\tlearn: 0.5456148\ttotal: 956ms\tremaining: 110ms\n",
      "897:\tlearn: 0.5403285\ttotal: 957ms\tremaining: 109ms\n",
      "898:\tlearn: 0.5377774\ttotal: 958ms\tremaining: 108ms\n",
      "899:\tlearn: 0.5371353\ttotal: 959ms\tremaining: 107ms\n",
      "900:\tlearn: 0.5332613\ttotal: 960ms\tremaining: 106ms\n",
      "901:\tlearn: 0.5289379\ttotal: 961ms\tremaining: 104ms\n",
      "902:\tlearn: 0.5277948\ttotal: 962ms\tremaining: 103ms\n",
      "903:\tlearn: 0.5229979\ttotal: 964ms\tremaining: 102ms\n",
      "904:\tlearn: 0.5176545\ttotal: 965ms\tremaining: 101ms\n",
      "905:\tlearn: 0.5167566\ttotal: 966ms\tremaining: 100ms\n",
      "906:\tlearn: 0.5163313\ttotal: 967ms\tremaining: 99.2ms\n",
      "907:\tlearn: 0.5116777\ttotal: 968ms\tremaining: 98.1ms\n",
      "908:\tlearn: 0.5097952\ttotal: 969ms\tremaining: 97ms\n",
      "909:\tlearn: 0.5071290\ttotal: 970ms\tremaining: 96ms\n",
      "910:\tlearn: 0.5049191\ttotal: 971ms\tremaining: 94.9ms\n",
      "911:\tlearn: 0.5018383\ttotal: 972ms\tremaining: 93.8ms\n",
      "912:\tlearn: 0.5007466\ttotal: 973ms\tremaining: 92.8ms\n",
      "913:\tlearn: 0.4998771\ttotal: 975ms\tremaining: 91.7ms\n",
      "914:\tlearn: 0.4954624\ttotal: 976ms\tremaining: 90.7ms\n",
      "915:\tlearn: 0.4942071\ttotal: 977ms\tremaining: 89.6ms\n",
      "916:\tlearn: 0.4893003\ttotal: 978ms\tremaining: 88.5ms\n",
      "917:\tlearn: 0.4870233\ttotal: 979ms\tremaining: 87.5ms\n",
      "918:\tlearn: 0.4830379\ttotal: 980ms\tremaining: 86.4ms\n",
      "919:\tlearn: 0.4753426\ttotal: 982ms\tremaining: 85.4ms\n",
      "920:\tlearn: 0.4730706\ttotal: 983ms\tremaining: 84.3ms\n",
      "921:\tlearn: 0.4679650\ttotal: 984ms\tremaining: 83.2ms\n",
      "922:\tlearn: 0.4651630\ttotal: 985ms\tremaining: 82.2ms\n",
      "923:\tlearn: 0.4634313\ttotal: 986ms\tremaining: 81.1ms\n",
      "924:\tlearn: 0.4607284\ttotal: 987ms\tremaining: 80ms\n",
      "925:\tlearn: 0.4589159\ttotal: 988ms\tremaining: 79ms\n",
      "926:\tlearn: 0.4532169\ttotal: 989ms\tremaining: 77.9ms\n",
      "927:\tlearn: 0.4509932\ttotal: 991ms\tremaining: 76.9ms\n",
      "928:\tlearn: 0.4506088\ttotal: 992ms\tremaining: 75.8ms\n",
      "929:\tlearn: 0.4501478\ttotal: 993ms\tremaining: 74.7ms\n",
      "930:\tlearn: 0.4490581\ttotal: 994ms\tremaining: 73.7ms\n",
      "931:\tlearn: 0.4447316\ttotal: 995ms\tremaining: 72.6ms\n",
      "932:\tlearn: 0.4415148\ttotal: 996ms\tremaining: 71.5ms\n",
      "933:\tlearn: 0.4391051\ttotal: 997ms\tremaining: 70.5ms\n",
      "934:\tlearn: 0.4357356\ttotal: 999ms\tremaining: 69.4ms\n",
      "935:\tlearn: 0.4323983\ttotal: 1000ms\tremaining: 68.4ms\n",
      "936:\tlearn: 0.4302143\ttotal: 1s\tremaining: 67.3ms\n",
      "937:\tlearn: 0.4289117\ttotal: 1s\tremaining: 66.2ms\n",
      "938:\tlearn: 0.4284339\ttotal: 1s\tremaining: 65.2ms\n",
      "939:\tlearn: 0.4244107\ttotal: 1s\tremaining: 64.1ms\n",
      "940:\tlearn: 0.4237451\ttotal: 1s\tremaining: 63.1ms\n",
      "941:\tlearn: 0.4215386\ttotal: 1.01s\tremaining: 62ms\n",
      "942:\tlearn: 0.4180705\ttotal: 1.01s\tremaining: 60.9ms\n",
      "943:\tlearn: 0.4154760\ttotal: 1.01s\tremaining: 59.9ms\n",
      "944:\tlearn: 0.4124859\ttotal: 1.01s\tremaining: 58.8ms\n",
      "945:\tlearn: 0.4119886\ttotal: 1.01s\tremaining: 57.8ms\n",
      "946:\tlearn: 0.4115906\ttotal: 1.01s\tremaining: 56.7ms\n",
      "947:\tlearn: 0.4081974\ttotal: 1.01s\tremaining: 55.6ms\n",
      "948:\tlearn: 0.4064530\ttotal: 1.02s\tremaining: 54.6ms\n",
      "949:\tlearn: 0.4040915\ttotal: 1.02s\tremaining: 53.5ms\n",
      "950:\tlearn: 0.4008861\ttotal: 1.02s\tremaining: 52.5ms\n",
      "951:\tlearn: 0.3970913\ttotal: 1.02s\tremaining: 51.4ms\n",
      "952:\tlearn: 0.3943258\ttotal: 1.02s\tremaining: 50.3ms\n",
      "953:\tlearn: 0.3926270\ttotal: 1.02s\tremaining: 49.3ms\n",
      "954:\tlearn: 0.3909448\ttotal: 1.02s\tremaining: 48.2ms\n",
      "955:\tlearn: 0.3887707\ttotal: 1.02s\tremaining: 47.1ms\n",
      "956:\tlearn: 0.3868345\ttotal: 1.02s\tremaining: 46ms\n",
      "957:\tlearn: 0.3839349\ttotal: 1.02s\tremaining: 45ms\n",
      "958:\tlearn: 0.3808497\ttotal: 1.03s\tremaining: 43.9ms\n",
      "959:\tlearn: 0.3779283\ttotal: 1.03s\tremaining: 42.8ms\n",
      "960:\tlearn: 0.3755090\ttotal: 1.03s\tremaining: 41.8ms\n",
      "961:\tlearn: 0.3734292\ttotal: 1.03s\tremaining: 40.7ms\n",
      "962:\tlearn: 0.3731558\ttotal: 1.03s\tremaining: 39.6ms\n",
      "963:\tlearn: 0.3716642\ttotal: 1.03s\tremaining: 38.5ms\n",
      "964:\tlearn: 0.3700879\ttotal: 1.03s\tremaining: 37.5ms\n",
      "965:\tlearn: 0.3676034\ttotal: 1.03s\tremaining: 36.4ms\n",
      "966:\tlearn: 0.3640425\ttotal: 1.03s\tremaining: 35.3ms\n",
      "967:\tlearn: 0.3632495\ttotal: 1.03s\tremaining: 34.2ms\n",
      "968:\tlearn: 0.3603878\ttotal: 1.04s\tremaining: 33.2ms\n",
      "969:\tlearn: 0.3584398\ttotal: 1.04s\tremaining: 32.1ms\n",
      "970:\tlearn: 0.3560019\ttotal: 1.04s\tremaining: 31ms\n",
      "971:\tlearn: 0.3535719\ttotal: 1.04s\tremaining: 30ms\n",
      "972:\tlearn: 0.3518950\ttotal: 1.04s\tremaining: 28.9ms\n",
      "973:\tlearn: 0.3479039\ttotal: 1.04s\tremaining: 27.8ms\n",
      "974:\tlearn: 0.3463938\ttotal: 1.04s\tremaining: 26.8ms\n",
      "975:\tlearn: 0.3433932\ttotal: 1.04s\tremaining: 25.7ms\n",
      "976:\tlearn: 0.3410148\ttotal: 1.04s\tremaining: 24.6ms\n",
      "977:\tlearn: 0.3393532\ttotal: 1.05s\tremaining: 23.5ms\n",
      "978:\tlearn: 0.3373067\ttotal: 1.05s\tremaining: 22.5ms\n",
      "979:\tlearn: 0.3359122\ttotal: 1.05s\tremaining: 21.4ms\n",
      "980:\tlearn: 0.3340848\ttotal: 1.05s\tremaining: 20.3ms\n",
      "981:\tlearn: 0.3331220\ttotal: 1.05s\tremaining: 19.3ms\n",
      "982:\tlearn: 0.3308795\ttotal: 1.05s\tremaining: 18.2ms\n",
      "983:\tlearn: 0.3288012\ttotal: 1.05s\tremaining: 17.1ms\n",
      "984:\tlearn: 0.3271648\ttotal: 1.05s\tremaining: 16.1ms\n",
      "985:\tlearn: 0.3246514\ttotal: 1.05s\tremaining: 15ms\n",
      "986:\tlearn: 0.3218383\ttotal: 1.06s\tremaining: 13.9ms\n",
      "987:\tlearn: 0.3206535\ttotal: 1.06s\tremaining: 12.8ms\n",
      "988:\tlearn: 0.3190063\ttotal: 1.06s\tremaining: 11.8ms\n",
      "989:\tlearn: 0.3176250\ttotal: 1.06s\tremaining: 10.7ms\n",
      "990:\tlearn: 0.3146329\ttotal: 1.06s\tremaining: 9.64ms\n",
      "991:\tlearn: 0.3130835\ttotal: 1.06s\tremaining: 8.57ms\n",
      "992:\tlearn: 0.3107534\ttotal: 1.06s\tremaining: 7.5ms\n",
      "993:\tlearn: 0.3089626\ttotal: 1.06s\tremaining: 6.43ms\n",
      "994:\tlearn: 0.3080205\ttotal: 1.07s\tremaining: 5.36ms\n",
      "995:\tlearn: 0.3055692\ttotal: 1.07s\tremaining: 4.29ms\n",
      "996:\tlearn: 0.3035687\ttotal: 1.07s\tremaining: 3.21ms\n",
      "997:\tlearn: 0.3019582\ttotal: 1.07s\tremaining: 2.14ms\n",
      "998:\tlearn: 0.3000480\ttotal: 1.07s\tremaining: 1.07ms\n",
      "999:\tlearn: 0.2971131\ttotal: 1.07s\tremaining: 0us\n"
     ]
    },
    {
     "data": {
      "text/plain": [
       "GridSearchCV(cv=5,\n",
       "             estimator=<catboost.core.CatBoostRegressor object at 0x000001D2B29D0400>,\n",
       "             n_jobs=-1,\n",
       "             param_grid={'depth': [3, 4, 5, 6, 7, 8],\n",
       "                         'iterations': [200, 500, 1000, 2000],\n",
       "                         'learning_rate': [0.01, 0.03, 0.05, 0.1]},\n",
       "             verbose=2)"
      ]
     },
     "execution_count": 177,
     "metadata": {},
     "output_type": "execute_result"
    }
   ],
   "source": [
    "catB_cv_model.fit(X_train, y_train)"
   ]
  },
  {
   "cell_type": "code",
   "execution_count": 178,
   "metadata": {},
   "outputs": [
    {
     "data": {
      "text/plain": [
       "{'depth': 5, 'iterations': 1000, 'learning_rate': 0.1}"
      ]
     },
     "execution_count": 178,
     "metadata": {},
     "output_type": "execute_result"
    }
   ],
   "source": [
    "catB_cv_model.best_params_"
   ]
  },
  {
   "cell_type": "code",
   "execution_count": 179,
   "metadata": {},
   "outputs": [
    {
     "name": "stdout",
     "output_type": "stream",
     "text": [
      "0:\tlearn: 422.4143448\ttotal: 1.92ms\tremaining: 1.92s\n",
      "1:\tlearn: 404.1864276\ttotal: 3.1ms\tremaining: 1.54s\n",
      "2:\tlearn: 386.3231718\ttotal: 4.06ms\tremaining: 1.35s\n",
      "3:\tlearn: 370.5548032\ttotal: 4.96ms\tremaining: 1.24s\n",
      "4:\tlearn: 354.9242038\ttotal: 5.81ms\tremaining: 1.16s\n",
      "5:\tlearn: 342.3403984\ttotal: 6.72ms\tremaining: 1.11s\n",
      "6:\tlearn: 328.2370070\ttotal: 7.67ms\tremaining: 1.09s\n",
      "7:\tlearn: 317.5056526\ttotal: 8.63ms\tremaining: 1.07s\n",
      "8:\tlearn: 306.6243511\ttotal: 9.72ms\tremaining: 1.07s\n",
      "9:\tlearn: 297.3147023\ttotal: 10.6ms\tremaining: 1.05s\n",
      "10:\tlearn: 288.3685892\ttotal: 11.6ms\tremaining: 1.05s\n",
      "11:\tlearn: 281.0996220\ttotal: 12.7ms\tremaining: 1.04s\n",
      "12:\tlearn: 273.2254898\ttotal: 13.6ms\tremaining: 1.03s\n",
      "13:\tlearn: 266.9003385\ttotal: 14.6ms\tremaining: 1.03s\n",
      "14:\tlearn: 261.9092500\ttotal: 15.5ms\tremaining: 1.02s\n",
      "15:\tlearn: 256.2637350\ttotal: 16.5ms\tremaining: 1.01s\n",
      "16:\tlearn: 250.3667935\ttotal: 17.3ms\tremaining: 1s\n",
      "17:\tlearn: 244.8631098\ttotal: 18.3ms\tremaining: 997ms\n",
      "18:\tlearn: 240.1540669\ttotal: 19.1ms\tremaining: 988ms\n",
      "19:\tlearn: 235.6057263\ttotal: 20.3ms\tremaining: 992ms\n",
      "20:\tlearn: 231.2431102\ttotal: 21.3ms\tremaining: 994ms\n",
      "21:\tlearn: 226.4912464\ttotal: 22.3ms\tremaining: 991ms\n",
      "22:\tlearn: 223.5591707\ttotal: 22.9ms\tremaining: 973ms\n",
      "23:\tlearn: 219.6098928\ttotal: 24ms\tremaining: 977ms\n",
      "24:\tlearn: 215.3653069\ttotal: 25ms\tremaining: 975ms\n",
      "25:\tlearn: 212.0589058\ttotal: 26ms\tremaining: 973ms\n",
      "26:\tlearn: 209.7717728\ttotal: 26.9ms\tremaining: 970ms\n",
      "27:\tlearn: 206.4800180\ttotal: 27.8ms\tremaining: 964ms\n",
      "28:\tlearn: 204.4998286\ttotal: 28.6ms\tremaining: 958ms\n",
      "29:\tlearn: 202.5999376\ttotal: 29.5ms\tremaining: 955ms\n",
      "30:\tlearn: 199.5099986\ttotal: 30.4ms\tremaining: 952ms\n",
      "31:\tlearn: 196.9435690\ttotal: 31.4ms\tremaining: 949ms\n",
      "32:\tlearn: 194.9855023\ttotal: 32.2ms\tremaining: 944ms\n",
      "33:\tlearn: 193.0037094\ttotal: 33.2ms\tremaining: 943ms\n",
      "34:\tlearn: 191.6771224\ttotal: 34.1ms\tremaining: 940ms\n",
      "35:\tlearn: 188.6440989\ttotal: 35ms\tremaining: 937ms\n",
      "36:\tlearn: 186.7575822\ttotal: 35.8ms\tremaining: 932ms\n",
      "37:\tlearn: 183.5070965\ttotal: 36.8ms\tremaining: 933ms\n",
      "38:\tlearn: 181.9932704\ttotal: 38ms\tremaining: 936ms\n",
      "39:\tlearn: 180.4612043\ttotal: 38.9ms\tremaining: 934ms\n",
      "40:\tlearn: 178.9727236\ttotal: 40ms\tremaining: 934ms\n",
      "41:\tlearn: 176.9704782\ttotal: 40.9ms\tremaining: 933ms\n",
      "42:\tlearn: 172.9583917\ttotal: 41.9ms\tremaining: 931ms\n",
      "43:\tlearn: 172.0259404\ttotal: 42.8ms\tremaining: 930ms\n",
      "44:\tlearn: 169.6703908\ttotal: 43.8ms\tremaining: 930ms\n",
      "45:\tlearn: 167.0349788\ttotal: 44.7ms\tremaining: 928ms\n",
      "46:\tlearn: 166.0151540\ttotal: 45.6ms\tremaining: 925ms\n",
      "47:\tlearn: 164.3432866\ttotal: 46.6ms\tremaining: 924ms\n",
      "48:\tlearn: 163.7139546\ttotal: 47.7ms\tremaining: 925ms\n",
      "49:\tlearn: 162.0231882\ttotal: 48.7ms\tremaining: 926ms\n",
      "50:\tlearn: 159.4806540\ttotal: 49.7ms\tremaining: 925ms\n",
      "51:\tlearn: 156.5835618\ttotal: 50.7ms\tremaining: 925ms\n",
      "52:\tlearn: 155.1124833\ttotal: 51.7ms\tremaining: 923ms\n",
      "53:\tlearn: 154.3849650\ttotal: 52.6ms\tremaining: 922ms\n",
      "54:\tlearn: 153.2243534\ttotal: 53.5ms\tremaining: 919ms\n",
      "55:\tlearn: 152.3205510\ttotal: 54.4ms\tremaining: 918ms\n",
      "56:\tlearn: 151.0666069\ttotal: 55.4ms\tremaining: 917ms\n",
      "57:\tlearn: 150.0992693\ttotal: 56.4ms\tremaining: 916ms\n",
      "58:\tlearn: 149.7214223\ttotal: 57.4ms\tremaining: 916ms\n",
      "59:\tlearn: 149.3420563\ttotal: 58.4ms\tremaining: 915ms\n",
      "60:\tlearn: 147.1527638\ttotal: 59.3ms\tremaining: 913ms\n",
      "61:\tlearn: 146.0849045\ttotal: 60.1ms\tremaining: 909ms\n",
      "62:\tlearn: 145.2592821\ttotal: 60.9ms\tremaining: 906ms\n",
      "63:\tlearn: 143.9723823\ttotal: 61.8ms\tremaining: 904ms\n",
      "64:\tlearn: 142.9337890\ttotal: 62.7ms\tremaining: 902ms\n",
      "65:\tlearn: 141.2456060\ttotal: 63.6ms\tremaining: 900ms\n",
      "66:\tlearn: 140.0933886\ttotal: 64.5ms\tremaining: 898ms\n",
      "67:\tlearn: 139.0122411\ttotal: 65.3ms\tremaining: 894ms\n",
      "68:\tlearn: 137.0658535\ttotal: 66.1ms\tremaining: 892ms\n",
      "69:\tlearn: 136.5187600\ttotal: 67ms\tremaining: 890ms\n",
      "70:\tlearn: 135.3177866\ttotal: 67.9ms\tremaining: 888ms\n",
      "71:\tlearn: 134.4397288\ttotal: 68.7ms\tremaining: 886ms\n",
      "72:\tlearn: 133.9689054\ttotal: 69.5ms\tremaining: 883ms\n",
      "73:\tlearn: 132.9503812\ttotal: 70.3ms\tremaining: 880ms\n",
      "74:\tlearn: 132.4790284\ttotal: 71.2ms\tremaining: 878ms\n",
      "75:\tlearn: 130.0079846\ttotal: 72ms\tremaining: 875ms\n",
      "76:\tlearn: 128.6536311\ttotal: 72.8ms\tremaining: 872ms\n",
      "77:\tlearn: 126.4149435\ttotal: 73.6ms\tremaining: 870ms\n",
      "78:\tlearn: 124.7339610\ttotal: 74.4ms\tremaining: 868ms\n",
      "79:\tlearn: 123.6799098\ttotal: 75.3ms\tremaining: 866ms\n",
      "80:\tlearn: 122.0132818\ttotal: 76.1ms\tremaining: 863ms\n",
      "81:\tlearn: 121.7718402\ttotal: 77ms\tremaining: 861ms\n",
      "82:\tlearn: 121.0226763\ttotal: 77.9ms\tremaining: 861ms\n",
      "83:\tlearn: 119.0352412\ttotal: 78.7ms\tremaining: 859ms\n",
      "84:\tlearn: 118.1578472\ttotal: 79.5ms\tremaining: 856ms\n",
      "85:\tlearn: 117.3963152\ttotal: 80.3ms\tremaining: 854ms\n",
      "86:\tlearn: 116.8601830\ttotal: 81.2ms\tremaining: 852ms\n",
      "87:\tlearn: 115.1485488\ttotal: 82.2ms\tremaining: 852ms\n",
      "88:\tlearn: 113.3802066\ttotal: 83ms\tremaining: 850ms\n",
      "89:\tlearn: 111.8047507\ttotal: 83.9ms\tremaining: 849ms\n",
      "90:\tlearn: 111.2173889\ttotal: 84.8ms\tremaining: 847ms\n",
      "91:\tlearn: 109.7797673\ttotal: 85.8ms\tremaining: 846ms\n",
      "92:\tlearn: 108.5968886\ttotal: 86.9ms\tremaining: 847ms\n",
      "93:\tlearn: 107.3902106\ttotal: 87.8ms\tremaining: 846ms\n",
      "94:\tlearn: 106.5920119\ttotal: 88.7ms\tremaining: 845ms\n",
      "95:\tlearn: 105.9400132\ttotal: 89.7ms\tremaining: 845ms\n",
      "96:\tlearn: 104.5018068\ttotal: 90.7ms\tremaining: 845ms\n",
      "97:\tlearn: 104.2449785\ttotal: 91.8ms\tremaining: 845ms\n",
      "98:\tlearn: 102.4745810\ttotal: 93ms\tremaining: 846ms\n",
      "99:\tlearn: 101.5007722\ttotal: 94ms\tremaining: 846ms\n",
      "100:\tlearn: 101.0929742\ttotal: 94.9ms\tremaining: 844ms\n",
      "101:\tlearn: 100.8864538\ttotal: 95.8ms\tremaining: 844ms\n",
      "102:\tlearn: 99.5007076\ttotal: 96.7ms\tremaining: 842ms\n",
      "103:\tlearn: 98.1646778\ttotal: 97.5ms\tremaining: 840ms\n",
      "104:\tlearn: 97.1950961\ttotal: 98.9ms\tremaining: 843ms\n",
      "105:\tlearn: 96.0991462\ttotal: 100ms\tremaining: 844ms\n",
      "106:\tlearn: 95.4337941\ttotal: 101ms\tremaining: 842ms\n",
      "107:\tlearn: 94.9099345\ttotal: 102ms\tremaining: 840ms\n",
      "108:\tlearn: 94.3889362\ttotal: 103ms\tremaining: 838ms\n",
      "109:\tlearn: 94.2091744\ttotal: 103ms\tremaining: 836ms\n",
      "110:\tlearn: 92.8508793\ttotal: 104ms\tremaining: 834ms\n",
      "111:\tlearn: 92.1784338\ttotal: 105ms\tremaining: 832ms\n",
      "112:\tlearn: 91.6689944\ttotal: 106ms\tremaining: 830ms\n",
      "113:\tlearn: 90.6644520\ttotal: 107ms\tremaining: 828ms\n",
      "114:\tlearn: 90.5375287\ttotal: 107ms\tremaining: 826ms\n",
      "115:\tlearn: 90.3442623\ttotal: 108ms\tremaining: 824ms\n",
      "116:\tlearn: 89.3637881\ttotal: 109ms\tremaining: 825ms\n",
      "117:\tlearn: 88.5340073\ttotal: 111ms\tremaining: 828ms\n",
      "118:\tlearn: 88.3598014\ttotal: 112ms\tremaining: 826ms\n",
      "119:\tlearn: 87.1290719\ttotal: 112ms\tremaining: 824ms\n",
      "120:\tlearn: 87.0034893\ttotal: 113ms\tremaining: 823ms\n",
      "121:\tlearn: 85.9581724\ttotal: 114ms\tremaining: 822ms\n",
      "122:\tlearn: 84.7062226\ttotal: 115ms\tremaining: 821ms\n",
      "123:\tlearn: 84.6114296\ttotal: 116ms\tremaining: 820ms\n",
      "124:\tlearn: 83.3769126\ttotal: 117ms\tremaining: 818ms\n",
      "125:\tlearn: 82.2866094\ttotal: 118ms\tremaining: 816ms\n",
      "126:\tlearn: 81.7817112\ttotal: 118ms\tremaining: 814ms\n",
      "127:\tlearn: 80.3710545\ttotal: 119ms\tremaining: 812ms\n",
      "128:\tlearn: 79.3458239\ttotal: 120ms\tremaining: 811ms\n",
      "129:\tlearn: 78.8966509\ttotal: 121ms\tremaining: 809ms\n",
      "130:\tlearn: 78.7683699\ttotal: 122ms\tremaining: 807ms\n",
      "131:\tlearn: 78.0116712\ttotal: 123ms\tremaining: 806ms\n",
      "132:\tlearn: 77.5728582\ttotal: 123ms\tremaining: 804ms\n",
      "133:\tlearn: 76.4635356\ttotal: 124ms\tremaining: 802ms\n",
      "134:\tlearn: 75.6109482\ttotal: 125ms\tremaining: 801ms\n",
      "135:\tlearn: 74.8287886\ttotal: 126ms\tremaining: 799ms\n",
      "136:\tlearn: 74.2493825\ttotal: 127ms\tremaining: 797ms\n",
      "137:\tlearn: 73.3192822\ttotal: 127ms\tremaining: 796ms\n",
      "138:\tlearn: 72.9755066\ttotal: 128ms\tremaining: 795ms\n",
      "139:\tlearn: 72.8423874\ttotal: 129ms\tremaining: 794ms\n",
      "140:\tlearn: 71.5949506\ttotal: 130ms\tremaining: 792ms\n",
      "141:\tlearn: 70.9408732\ttotal: 131ms\tremaining: 791ms\n",
      "142:\tlearn: 70.1699642\ttotal: 132ms\tremaining: 790ms\n",
      "143:\tlearn: 69.8737644\ttotal: 133ms\tremaining: 788ms\n",
      "144:\tlearn: 69.0963759\ttotal: 134ms\tremaining: 788ms\n",
      "145:\tlearn: 68.9702397\ttotal: 134ms\tremaining: 787ms\n",
      "146:\tlearn: 67.8950397\ttotal: 135ms\tremaining: 785ms\n",
      "147:\tlearn: 67.1501269\ttotal: 136ms\tremaining: 785ms\n",
      "148:\tlearn: 66.4028868\ttotal: 138ms\tremaining: 789ms\n",
      "149:\tlearn: 65.3349813\ttotal: 139ms\tremaining: 789ms\n",
      "150:\tlearn: 64.6766190\ttotal: 140ms\tremaining: 788ms\n",
      "151:\tlearn: 63.7390417\ttotal: 141ms\tremaining: 788ms\n",
      "152:\tlearn: 62.9043101\ttotal: 142ms\tremaining: 786ms\n",
      "153:\tlearn: 62.5922794\ttotal: 143ms\tremaining: 785ms\n",
      "154:\tlearn: 62.1160450\ttotal: 144ms\tremaining: 784ms\n",
      "155:\tlearn: 61.7702532\ttotal: 145ms\tremaining: 782ms\n",
      "156:\tlearn: 61.2433354\ttotal: 145ms\tremaining: 781ms\n",
      "157:\tlearn: 60.8455422\ttotal: 146ms\tremaining: 779ms\n",
      "158:\tlearn: 60.6755303\ttotal: 147ms\tremaining: 778ms\n",
      "159:\tlearn: 59.9631043\ttotal: 148ms\tremaining: 776ms\n",
      "160:\tlearn: 59.2211911\ttotal: 149ms\tremaining: 774ms\n",
      "161:\tlearn: 59.1400932\ttotal: 150ms\tremaining: 775ms\n",
      "162:\tlearn: 58.9164262\ttotal: 151ms\tremaining: 776ms\n",
      "163:\tlearn: 58.2084420\ttotal: 152ms\tremaining: 774ms\n",
      "164:\tlearn: 57.9934649\ttotal: 153ms\tremaining: 773ms\n",
      "165:\tlearn: 57.3736694\ttotal: 153ms\tremaining: 771ms\n",
      "166:\tlearn: 56.8338370\ttotal: 154ms\tremaining: 770ms\n",
      "167:\tlearn: 56.5518049\ttotal: 155ms\tremaining: 769ms\n",
      "168:\tlearn: 55.9777349\ttotal: 156ms\tremaining: 768ms\n",
      "169:\tlearn: 55.4485860\ttotal: 157ms\tremaining: 767ms\n",
      "170:\tlearn: 55.0892542\ttotal: 158ms\tremaining: 766ms\n",
      "171:\tlearn: 54.9915464\ttotal: 159ms\tremaining: 766ms\n",
      "172:\tlearn: 54.3968112\ttotal: 160ms\tremaining: 765ms\n",
      "173:\tlearn: 53.7708163\ttotal: 161ms\tremaining: 764ms\n",
      "174:\tlearn: 53.1993023\ttotal: 162ms\tremaining: 762ms\n",
      "175:\tlearn: 52.7773821\ttotal: 163ms\tremaining: 761ms\n",
      "176:\tlearn: 52.5186612\ttotal: 164ms\tremaining: 762ms\n",
      "177:\tlearn: 52.0038075\ttotal: 165ms\tremaining: 761ms\n",
      "178:\tlearn: 51.7971195\ttotal: 166ms\tremaining: 759ms\n",
      "179:\tlearn: 51.4334863\ttotal: 166ms\tremaining: 758ms\n",
      "180:\tlearn: 50.9151359\ttotal: 167ms\tremaining: 756ms\n",
      "181:\tlearn: 50.8252320\ttotal: 168ms\tremaining: 755ms\n",
      "182:\tlearn: 50.4143487\ttotal: 169ms\tremaining: 754ms\n",
      "183:\tlearn: 50.0253432\ttotal: 170ms\tremaining: 752ms\n",
      "184:\tlearn: 49.6769233\ttotal: 170ms\tremaining: 751ms\n",
      "185:\tlearn: 49.5689505\ttotal: 171ms\tremaining: 749ms\n",
      "186:\tlearn: 49.0813531\ttotal: 172ms\tremaining: 748ms\n",
      "187:\tlearn: 48.9396335\ttotal: 173ms\tremaining: 747ms\n",
      "188:\tlearn: 48.5040716\ttotal: 174ms\tremaining: 745ms\n",
      "189:\tlearn: 47.9644995\ttotal: 175ms\tremaining: 746ms\n",
      "190:\tlearn: 47.8292554\ttotal: 176ms\tremaining: 745ms\n",
      "191:\tlearn: 47.4433025\ttotal: 177ms\tremaining: 745ms\n",
      "192:\tlearn: 46.9286959\ttotal: 178ms\tremaining: 744ms\n",
      "193:\tlearn: 46.3092347\ttotal: 179ms\tremaining: 743ms\n",
      "194:\tlearn: 45.7431428\ttotal: 180ms\tremaining: 743ms\n",
      "195:\tlearn: 45.6714261\ttotal: 181ms\tremaining: 741ms\n",
      "196:\tlearn: 45.5088158\ttotal: 182ms\tremaining: 740ms\n",
      "197:\tlearn: 45.4713460\ttotal: 182ms\tremaining: 738ms\n",
      "198:\tlearn: 45.0942536\ttotal: 183ms\tremaining: 737ms\n",
      "199:\tlearn: 44.7625600\ttotal: 184ms\tremaining: 736ms\n",
      "200:\tlearn: 44.3247006\ttotal: 185ms\tremaining: 734ms\n",
      "201:\tlearn: 43.8054974\ttotal: 185ms\tremaining: 733ms\n",
      "202:\tlearn: 43.3359785\ttotal: 186ms\tremaining: 732ms\n",
      "203:\tlearn: 42.8698272\ttotal: 187ms\tremaining: 732ms\n",
      "204:\tlearn: 42.4275364\ttotal: 188ms\tremaining: 730ms\n",
      "205:\tlearn: 41.9463597\ttotal: 189ms\tremaining: 729ms\n",
      "206:\tlearn: 41.7547985\ttotal: 190ms\tremaining: 727ms\n",
      "207:\tlearn: 41.6019714\ttotal: 191ms\tremaining: 727ms\n",
      "208:\tlearn: 41.4342896\ttotal: 192ms\tremaining: 726ms\n",
      "209:\tlearn: 41.0764993\ttotal: 193ms\tremaining: 725ms\n",
      "210:\tlearn: 40.7895715\ttotal: 194ms\tremaining: 725ms\n",
      "211:\tlearn: 40.4428042\ttotal: 195ms\tremaining: 724ms\n",
      "212:\tlearn: 39.9370849\ttotal: 196ms\tremaining: 723ms\n",
      "213:\tlearn: 39.4885257\ttotal: 196ms\tremaining: 721ms\n",
      "214:\tlearn: 39.1268375\ttotal: 197ms\tremaining: 720ms\n",
      "215:\tlearn: 38.9591271\ttotal: 198ms\tremaining: 719ms\n",
      "216:\tlearn: 38.8008893\ttotal: 199ms\tremaining: 718ms\n",
      "217:\tlearn: 38.4956003\ttotal: 200ms\tremaining: 716ms\n",
      "218:\tlearn: 38.3528545\ttotal: 200ms\tremaining: 715ms\n",
      "219:\tlearn: 38.1794276\ttotal: 201ms\tremaining: 713ms\n",
      "220:\tlearn: 38.1135196\ttotal: 202ms\tremaining: 712ms\n",
      "221:\tlearn: 37.9126665\ttotal: 203ms\tremaining: 711ms\n",
      "222:\tlearn: 37.5375523\ttotal: 204ms\tremaining: 710ms\n",
      "223:\tlearn: 37.3774479\ttotal: 205ms\tremaining: 709ms\n",
      "224:\tlearn: 36.8965396\ttotal: 205ms\tremaining: 708ms\n",
      "225:\tlearn: 36.4012999\ttotal: 206ms\tremaining: 706ms\n",
      "226:\tlearn: 35.9300616\ttotal: 207ms\tremaining: 705ms\n",
      "227:\tlearn: 35.6148029\ttotal: 208ms\tremaining: 704ms\n",
      "228:\tlearn: 35.2741594\ttotal: 209ms\tremaining: 703ms\n",
      "229:\tlearn: 35.0196015\ttotal: 209ms\tremaining: 701ms\n",
      "230:\tlearn: 34.5877862\ttotal: 210ms\tremaining: 700ms\n",
      "231:\tlearn: 34.4128370\ttotal: 211ms\tremaining: 699ms\n",
      "232:\tlearn: 34.2685016\ttotal: 212ms\tremaining: 698ms\n",
      "233:\tlearn: 34.2021290\ttotal: 213ms\tremaining: 696ms\n",
      "234:\tlearn: 34.1117548\ttotal: 214ms\tremaining: 695ms\n",
      "235:\tlearn: 33.7038307\ttotal: 214ms\tremaining: 694ms\n",
      "236:\tlearn: 33.6591145\ttotal: 215ms\tremaining: 692ms\n",
      "237:\tlearn: 33.6134076\ttotal: 216ms\tremaining: 691ms\n",
      "238:\tlearn: 33.3091022\ttotal: 217ms\tremaining: 690ms\n",
      "239:\tlearn: 33.2050988\ttotal: 218ms\tremaining: 689ms\n",
      "240:\tlearn: 32.7984087\ttotal: 219ms\tremaining: 688ms\n",
      "241:\tlearn: 32.4886567\ttotal: 219ms\tremaining: 687ms\n",
      "242:\tlearn: 32.3354906\ttotal: 220ms\tremaining: 686ms\n",
      "243:\tlearn: 32.1610609\ttotal: 221ms\tremaining: 685ms\n",
      "244:\tlearn: 31.9242693\ttotal: 222ms\tremaining: 684ms\n",
      "245:\tlearn: 31.4693550\ttotal: 223ms\tremaining: 682ms\n",
      "246:\tlearn: 31.1071532\ttotal: 224ms\tremaining: 681ms\n",
      "247:\tlearn: 30.7311162\ttotal: 224ms\tremaining: 681ms\n",
      "248:\tlearn: 30.4892550\ttotal: 225ms\tremaining: 680ms\n",
      "249:\tlearn: 30.3680212\ttotal: 226ms\tremaining: 678ms\n",
      "250:\tlearn: 30.1346007\ttotal: 227ms\tremaining: 677ms\n",
      "251:\tlearn: 29.8046285\ttotal: 228ms\tremaining: 676ms\n",
      "252:\tlearn: 29.6637514\ttotal: 229ms\tremaining: 675ms\n",
      "253:\tlearn: 29.5176095\ttotal: 230ms\tremaining: 675ms\n",
      "254:\tlearn: 29.3723319\ttotal: 231ms\tremaining: 675ms\n",
      "255:\tlearn: 29.1301438\ttotal: 232ms\tremaining: 674ms\n",
      "256:\tlearn: 29.1025017\ttotal: 234ms\tremaining: 675ms\n",
      "257:\tlearn: 28.8276340\ttotal: 234ms\tremaining: 674ms\n",
      "258:\tlearn: 28.6313979\ttotal: 235ms\tremaining: 673ms\n",
      "259:\tlearn: 28.3904787\ttotal: 236ms\tremaining: 671ms\n",
      "260:\tlearn: 27.9496011\ttotal: 237ms\tremaining: 670ms\n",
      "261:\tlearn: 27.6744647\ttotal: 238ms\tremaining: 669ms\n",
      "262:\tlearn: 27.5631687\ttotal: 238ms\tremaining: 668ms\n",
      "263:\tlearn: 27.2940171\ttotal: 239ms\tremaining: 667ms\n",
      "264:\tlearn: 27.0524989\ttotal: 240ms\tremaining: 666ms\n",
      "265:\tlearn: 26.9019408\ttotal: 241ms\tremaining: 664ms\n",
      "266:\tlearn: 26.7539234\ttotal: 241ms\tremaining: 663ms\n",
      "267:\tlearn: 26.5906135\ttotal: 242ms\tremaining: 662ms\n",
      "268:\tlearn: 26.3413069\ttotal: 243ms\tremaining: 660ms\n",
      "269:\tlearn: 26.2300985\ttotal: 244ms\tremaining: 659ms\n",
      "270:\tlearn: 25.7633750\ttotal: 245ms\tremaining: 658ms\n",
      "271:\tlearn: 25.5999298\ttotal: 245ms\tremaining: 657ms\n",
      "272:\tlearn: 25.4034221\ttotal: 246ms\tremaining: 656ms\n",
      "273:\tlearn: 25.3449361\ttotal: 247ms\tremaining: 655ms\n",
      "274:\tlearn: 25.1308675\ttotal: 248ms\tremaining: 654ms\n",
      "275:\tlearn: 24.8170605\ttotal: 249ms\tremaining: 652ms\n",
      "276:\tlearn: 24.5265387\ttotal: 249ms\tremaining: 651ms\n",
      "277:\tlearn: 24.3891773\ttotal: 250ms\tremaining: 650ms\n",
      "278:\tlearn: 24.1691955\ttotal: 251ms\tremaining: 649ms\n",
      "279:\tlearn: 23.9780841\ttotal: 252ms\tremaining: 647ms\n",
      "280:\tlearn: 23.7459991\ttotal: 253ms\tremaining: 646ms\n",
      "281:\tlearn: 23.5762098\ttotal: 253ms\tremaining: 645ms\n",
      "282:\tlearn: 23.4130148\ttotal: 254ms\tremaining: 644ms\n",
      "283:\tlearn: 23.1365659\ttotal: 255ms\tremaining: 642ms\n",
      "284:\tlearn: 22.9605139\ttotal: 256ms\tremaining: 641ms\n",
      "285:\tlearn: 22.8198952\ttotal: 256ms\tremaining: 640ms\n",
      "286:\tlearn: 22.7220776\ttotal: 257ms\tremaining: 639ms\n",
      "287:\tlearn: 22.6349162\ttotal: 258ms\tremaining: 638ms\n",
      "288:\tlearn: 22.5037731\ttotal: 259ms\tremaining: 636ms\n",
      "289:\tlearn: 22.4280658\ttotal: 259ms\tremaining: 635ms\n",
      "290:\tlearn: 22.4111078\ttotal: 260ms\tremaining: 634ms\n",
      "291:\tlearn: 22.2582825\ttotal: 261ms\tremaining: 633ms\n",
      "292:\tlearn: 22.0361847\ttotal: 262ms\tremaining: 632ms\n",
      "293:\tlearn: 21.9197616\ttotal: 263ms\tremaining: 631ms\n",
      "294:\tlearn: 21.8934931\ttotal: 263ms\tremaining: 629ms\n",
      "295:\tlearn: 21.8385467\ttotal: 264ms\tremaining: 628ms\n",
      "296:\tlearn: 21.6056469\ttotal: 265ms\tremaining: 627ms\n",
      "297:\tlearn: 21.3638471\ttotal: 266ms\tremaining: 626ms\n",
      "298:\tlearn: 21.2403020\ttotal: 267ms\tremaining: 625ms\n",
      "299:\tlearn: 20.9940588\ttotal: 267ms\tremaining: 624ms\n",
      "300:\tlearn: 20.8606002\ttotal: 268ms\tremaining: 623ms\n",
      "301:\tlearn: 20.7521062\ttotal: 269ms\tremaining: 622ms\n",
      "302:\tlearn: 20.4914061\ttotal: 270ms\tremaining: 620ms\n",
      "303:\tlearn: 20.4390781\ttotal: 270ms\tremaining: 619ms\n",
      "304:\tlearn: 20.4261039\ttotal: 271ms\tremaining: 618ms\n",
      "305:\tlearn: 20.3429361\ttotal: 272ms\tremaining: 617ms\n",
      "306:\tlearn: 20.3186699\ttotal: 273ms\tremaining: 616ms\n",
      "307:\tlearn: 20.2200547\ttotal: 274ms\tremaining: 615ms\n",
      "308:\tlearn: 20.0363798\ttotal: 274ms\tremaining: 614ms\n",
      "309:\tlearn: 19.9375964\ttotal: 275ms\tremaining: 612ms\n",
      "310:\tlearn: 19.8562475\ttotal: 276ms\tremaining: 611ms\n",
      "311:\tlearn: 19.7207383\ttotal: 277ms\tremaining: 610ms\n",
      "312:\tlearn: 19.5840205\ttotal: 277ms\tremaining: 609ms\n",
      "313:\tlearn: 19.4498604\ttotal: 278ms\tremaining: 608ms\n",
      "314:\tlearn: 19.3106313\ttotal: 279ms\tremaining: 607ms\n",
      "315:\tlearn: 19.1555646\ttotal: 280ms\tremaining: 606ms\n",
      "316:\tlearn: 19.1426558\ttotal: 281ms\tremaining: 605ms\n",
      "317:\tlearn: 19.0179770\ttotal: 281ms\tremaining: 603ms\n",
      "318:\tlearn: 18.9331646\ttotal: 282ms\tremaining: 602ms\n",
      "319:\tlearn: 18.7759664\ttotal: 283ms\tremaining: 601ms\n",
      "320:\tlearn: 18.7302473\ttotal: 284ms\tremaining: 600ms\n",
      "321:\tlearn: 18.6822773\ttotal: 284ms\tremaining: 599ms\n",
      "322:\tlearn: 18.6212081\ttotal: 285ms\tremaining: 598ms\n",
      "323:\tlearn: 18.3825932\ttotal: 286ms\tremaining: 596ms\n",
      "324:\tlearn: 18.0840511\ttotal: 287ms\tremaining: 595ms\n",
      "325:\tlearn: 17.9626242\ttotal: 287ms\tremaining: 594ms\n",
      "326:\tlearn: 17.8194649\ttotal: 288ms\tremaining: 593ms\n",
      "327:\tlearn: 17.6897852\ttotal: 289ms\tremaining: 592ms\n",
      "328:\tlearn: 17.6729587\ttotal: 290ms\tremaining: 591ms\n",
      "329:\tlearn: 17.5730192\ttotal: 291ms\tremaining: 590ms\n",
      "330:\tlearn: 17.3061709\ttotal: 291ms\tremaining: 589ms\n",
      "331:\tlearn: 17.2732138\ttotal: 292ms\tremaining: 588ms\n",
      "332:\tlearn: 17.1284244\ttotal: 293ms\tremaining: 587ms\n",
      "333:\tlearn: 17.0578788\ttotal: 294ms\tremaining: 586ms\n",
      "334:\tlearn: 16.9109643\ttotal: 294ms\tremaining: 584ms\n",
      "335:\tlearn: 16.6595095\ttotal: 295ms\tremaining: 583ms\n",
      "336:\tlearn: 16.5240861\ttotal: 296ms\tremaining: 582ms\n",
      "337:\tlearn: 16.3631551\ttotal: 297ms\tremaining: 581ms\n",
      "338:\tlearn: 16.2364521\ttotal: 298ms\tremaining: 580ms\n",
      "339:\tlearn: 16.1259236\ttotal: 298ms\tremaining: 579ms\n",
      "340:\tlearn: 16.1070160\ttotal: 299ms\tremaining: 578ms\n",
      "341:\tlearn: 15.9446333\ttotal: 300ms\tremaining: 577ms\n",
      "342:\tlearn: 15.8404109\ttotal: 301ms\tremaining: 576ms\n",
      "343:\tlearn: 15.7616719\ttotal: 302ms\tremaining: 575ms\n",
      "344:\tlearn: 15.7046860\ttotal: 302ms\tremaining: 574ms\n",
      "345:\tlearn: 15.5565531\ttotal: 303ms\tremaining: 573ms\n",
      "346:\tlearn: 15.4739767\ttotal: 304ms\tremaining: 572ms\n",
      "347:\tlearn: 15.4214691\ttotal: 305ms\tremaining: 571ms\n",
      "348:\tlearn: 15.3830392\ttotal: 305ms\tremaining: 570ms\n",
      "349:\tlearn: 15.2925503\ttotal: 306ms\tremaining: 569ms\n",
      "350:\tlearn: 15.2685305\ttotal: 307ms\tremaining: 568ms\n",
      "351:\tlearn: 15.0959980\ttotal: 308ms\tremaining: 567ms\n",
      "352:\tlearn: 15.0185539\ttotal: 309ms\tremaining: 566ms\n",
      "353:\tlearn: 14.9344909\ttotal: 309ms\tremaining: 565ms\n",
      "354:\tlearn: 14.8185511\ttotal: 310ms\tremaining: 564ms\n",
      "355:\tlearn: 14.7621205\ttotal: 311ms\tremaining: 563ms\n",
      "356:\tlearn: 14.6824384\ttotal: 312ms\tremaining: 562ms\n",
      "357:\tlearn: 14.5918871\ttotal: 313ms\tremaining: 560ms\n",
      "358:\tlearn: 14.4898356\ttotal: 313ms\tremaining: 559ms\n",
      "359:\tlearn: 14.4773981\ttotal: 314ms\tremaining: 558ms\n",
      "360:\tlearn: 14.3256006\ttotal: 315ms\tremaining: 558ms\n",
      "361:\tlearn: 14.1704867\ttotal: 316ms\tremaining: 557ms\n",
      "362:\tlearn: 14.0453382\ttotal: 317ms\tremaining: 556ms\n",
      "363:\tlearn: 13.9488312\ttotal: 318ms\tremaining: 555ms\n",
      "364:\tlearn: 13.8932251\ttotal: 319ms\tremaining: 555ms\n",
      "365:\tlearn: 13.7368549\ttotal: 320ms\tremaining: 554ms\n",
      "366:\tlearn: 13.6533268\ttotal: 320ms\tremaining: 553ms\n",
      "367:\tlearn: 13.5191569\ttotal: 321ms\tremaining: 552ms\n",
      "368:\tlearn: 13.4712080\ttotal: 322ms\tremaining: 551ms\n",
      "369:\tlearn: 13.3454926\ttotal: 323ms\tremaining: 550ms\n",
      "370:\tlearn: 13.2804919\ttotal: 324ms\tremaining: 549ms\n",
      "371:\tlearn: 13.2609934\ttotal: 325ms\tremaining: 548ms\n",
      "372:\tlearn: 13.1804458\ttotal: 325ms\tremaining: 547ms\n",
      "373:\tlearn: 13.0381162\ttotal: 326ms\tremaining: 546ms\n",
      "374:\tlearn: 13.0250736\ttotal: 327ms\tremaining: 545ms\n",
      "375:\tlearn: 13.0006609\ttotal: 328ms\tremaining: 544ms\n",
      "376:\tlearn: 12.8507663\ttotal: 329ms\tremaining: 543ms\n",
      "377:\tlearn: 12.6986039\ttotal: 329ms\tremaining: 542ms\n",
      "378:\tlearn: 12.5574544\ttotal: 330ms\tremaining: 541ms\n",
      "379:\tlearn: 12.4864386\ttotal: 331ms\tremaining: 540ms\n",
      "380:\tlearn: 12.3739036\ttotal: 332ms\tremaining: 539ms\n",
      "381:\tlearn: 12.3110117\ttotal: 333ms\tremaining: 539ms\n",
      "382:\tlearn: 12.2077088\ttotal: 334ms\tremaining: 538ms\n",
      "383:\tlearn: 12.1065885\ttotal: 335ms\tremaining: 537ms\n",
      "384:\tlearn: 12.0323948\ttotal: 335ms\tremaining: 536ms\n",
      "385:\tlearn: 12.0014896\ttotal: 336ms\tremaining: 535ms\n",
      "386:\tlearn: 11.8568080\ttotal: 337ms\tremaining: 534ms\n",
      "387:\tlearn: 11.7867144\ttotal: 338ms\tremaining: 533ms\n",
      "388:\tlearn: 11.7500836\ttotal: 339ms\tremaining: 532ms\n",
      "389:\tlearn: 11.7348877\ttotal: 340ms\tremaining: 531ms\n",
      "390:\tlearn: 11.7286653\ttotal: 341ms\tremaining: 530ms\n",
      "391:\tlearn: 11.6241305\ttotal: 341ms\tremaining: 530ms\n",
      "392:\tlearn: 11.5960420\ttotal: 342ms\tremaining: 529ms\n",
      "393:\tlearn: 11.5729987\ttotal: 343ms\tremaining: 528ms\n",
      "394:\tlearn: 11.5635235\ttotal: 344ms\tremaining: 527ms\n",
      "395:\tlearn: 11.4873129\ttotal: 345ms\tremaining: 526ms\n",
      "396:\tlearn: 11.3564378\ttotal: 345ms\tremaining: 525ms\n",
      "397:\tlearn: 11.2078876\ttotal: 346ms\tremaining: 524ms\n",
      "398:\tlearn: 11.1598904\ttotal: 347ms\tremaining: 523ms\n",
      "399:\tlearn: 11.0885074\ttotal: 348ms\tremaining: 522ms\n",
      "400:\tlearn: 11.0278575\ttotal: 349ms\tremaining: 521ms\n",
      "401:\tlearn: 10.9865756\ttotal: 350ms\tremaining: 520ms\n",
      "402:\tlearn: 10.8794931\ttotal: 350ms\tremaining: 519ms\n",
      "403:\tlearn: 10.8382558\ttotal: 351ms\tremaining: 518ms\n",
      "404:\tlearn: 10.7596014\ttotal: 352ms\tremaining: 517ms\n",
      "405:\tlearn: 10.7064165\ttotal: 353ms\tremaining: 516ms\n",
      "406:\tlearn: 10.6372130\ttotal: 354ms\tremaining: 515ms\n",
      "407:\tlearn: 10.5505037\ttotal: 355ms\tremaining: 514ms\n",
      "408:\tlearn: 10.4676489\ttotal: 355ms\tremaining: 513ms\n",
      "409:\tlearn: 10.3632792\ttotal: 356ms\tremaining: 513ms\n",
      "410:\tlearn: 10.3399756\ttotal: 357ms\tremaining: 512ms\n",
      "411:\tlearn: 10.2905778\ttotal: 358ms\tremaining: 511ms\n",
      "412:\tlearn: 10.2175164\ttotal: 359ms\tremaining: 510ms\n",
      "413:\tlearn: 10.1482923\ttotal: 359ms\tremaining: 509ms\n",
      "414:\tlearn: 10.0590953\ttotal: 360ms\tremaining: 508ms\n",
      "415:\tlearn: 9.9982795\ttotal: 361ms\tremaining: 507ms\n",
      "416:\tlearn: 9.9099074\ttotal: 362ms\tremaining: 506ms\n",
      "417:\tlearn: 9.8641812\ttotal: 363ms\tremaining: 505ms\n",
      "418:\tlearn: 9.8207799\ttotal: 364ms\tremaining: 504ms\n",
      "419:\tlearn: 9.7000976\ttotal: 364ms\tremaining: 503ms\n",
      "420:\tlearn: 9.6211675\ttotal: 365ms\tremaining: 502ms\n",
      "421:\tlearn: 9.5821946\ttotal: 366ms\tremaining: 501ms\n",
      "422:\tlearn: 9.5314530\ttotal: 367ms\tremaining: 500ms\n",
      "423:\tlearn: 9.5231706\ttotal: 368ms\tremaining: 500ms\n",
      "424:\tlearn: 9.4897613\ttotal: 369ms\tremaining: 499ms\n",
      "425:\tlearn: 9.4178254\ttotal: 369ms\tremaining: 498ms\n",
      "426:\tlearn: 9.3468512\ttotal: 370ms\tremaining: 497ms\n",
      "427:\tlearn: 9.2916542\ttotal: 371ms\tremaining: 496ms\n",
      "428:\tlearn: 9.2671046\ttotal: 372ms\tremaining: 495ms\n",
      "429:\tlearn: 9.1507425\ttotal: 373ms\tremaining: 494ms\n",
      "430:\tlearn: 9.0905964\ttotal: 374ms\tremaining: 493ms\n",
      "431:\tlearn: 9.0599172\ttotal: 374ms\tremaining: 492ms\n",
      "432:\tlearn: 8.9911670\ttotal: 375ms\tremaining: 492ms\n",
      "433:\tlearn: 8.9769178\ttotal: 376ms\tremaining: 491ms\n",
      "434:\tlearn: 8.9011639\ttotal: 377ms\tremaining: 490ms\n",
      "435:\tlearn: 8.8578447\ttotal: 378ms\tremaining: 489ms\n",
      "436:\tlearn: 8.7766216\ttotal: 379ms\tremaining: 488ms\n",
      "437:\tlearn: 8.7600187\ttotal: 380ms\tremaining: 487ms\n",
      "438:\tlearn: 8.7039464\ttotal: 380ms\tremaining: 486ms\n",
      "439:\tlearn: 8.6701908\ttotal: 381ms\tremaining: 486ms\n",
      "440:\tlearn: 8.6561906\ttotal: 383ms\tremaining: 485ms\n",
      "441:\tlearn: 8.6030579\ttotal: 385ms\tremaining: 486ms\n",
      "442:\tlearn: 8.5192884\ttotal: 386ms\tremaining: 486ms\n",
      "443:\tlearn: 8.4605490\ttotal: 387ms\tremaining: 485ms\n",
      "444:\tlearn: 8.3846572\ttotal: 388ms\tremaining: 484ms\n",
      "445:\tlearn: 8.3429264\ttotal: 389ms\tremaining: 484ms\n",
      "446:\tlearn: 8.3068488\ttotal: 390ms\tremaining: 483ms\n",
      "447:\tlearn: 8.2662142\ttotal: 392ms\tremaining: 483ms\n",
      "448:\tlearn: 8.1806196\ttotal: 393ms\tremaining: 483ms\n",
      "449:\tlearn: 8.1475696\ttotal: 394ms\tremaining: 482ms\n",
      "450:\tlearn: 8.1145904\ttotal: 395ms\tremaining: 481ms\n",
      "451:\tlearn: 8.0740309\ttotal: 396ms\tremaining: 480ms\n",
      "452:\tlearn: 8.0095799\ttotal: 397ms\tremaining: 480ms\n",
      "453:\tlearn: 7.9857193\ttotal: 398ms\tremaining: 479ms\n",
      "454:\tlearn: 7.9300069\ttotal: 399ms\tremaining: 478ms\n",
      "455:\tlearn: 7.9088282\ttotal: 400ms\tremaining: 477ms\n",
      "456:\tlearn: 7.8726359\ttotal: 401ms\tremaining: 476ms\n",
      "457:\tlearn: 7.8453260\ttotal: 402ms\tremaining: 475ms\n",
      "458:\tlearn: 7.8015145\ttotal: 403ms\tremaining: 475ms\n",
      "459:\tlearn: 7.7552434\ttotal: 404ms\tremaining: 474ms\n",
      "460:\tlearn: 7.7033074\ttotal: 404ms\tremaining: 473ms\n",
      "461:\tlearn: 7.6732816\ttotal: 405ms\tremaining: 472ms\n",
      "462:\tlearn: 7.6387343\ttotal: 406ms\tremaining: 471ms\n",
      "463:\tlearn: 7.5939225\ttotal: 407ms\tremaining: 470ms\n",
      "464:\tlearn: 7.5495985\ttotal: 408ms\tremaining: 470ms\n",
      "465:\tlearn: 7.5164784\ttotal: 409ms\tremaining: 469ms\n",
      "466:\tlearn: 7.4692120\ttotal: 410ms\tremaining: 468ms\n",
      "467:\tlearn: 7.4602739\ttotal: 411ms\tremaining: 467ms\n",
      "468:\tlearn: 7.4245927\ttotal: 411ms\tremaining: 466ms\n",
      "469:\tlearn: 7.3402299\ttotal: 412ms\tremaining: 465ms\n",
      "470:\tlearn: 7.2998185\ttotal: 413ms\tremaining: 464ms\n",
      "471:\tlearn: 7.2014577\ttotal: 414ms\tremaining: 463ms\n",
      "472:\tlearn: 7.1904207\ttotal: 414ms\tremaining: 462ms\n",
      "473:\tlearn: 7.1527862\ttotal: 415ms\tremaining: 461ms\n",
      "474:\tlearn: 7.0771473\ttotal: 416ms\tremaining: 460ms\n",
      "475:\tlearn: 7.0539525\ttotal: 417ms\tremaining: 459ms\n",
      "476:\tlearn: 6.9846025\ttotal: 418ms\tremaining: 458ms\n",
      "477:\tlearn: 6.9534313\ttotal: 419ms\tremaining: 457ms\n",
      "478:\tlearn: 6.8975880\ttotal: 420ms\tremaining: 456ms\n",
      "479:\tlearn: 6.8254191\ttotal: 420ms\tremaining: 456ms\n",
      "480:\tlearn: 6.8112478\ttotal: 421ms\tremaining: 455ms\n",
      "481:\tlearn: 6.7648902\ttotal: 422ms\tremaining: 454ms\n",
      "482:\tlearn: 6.6860735\ttotal: 423ms\tremaining: 453ms\n",
      "483:\tlearn: 6.6633461\ttotal: 424ms\tremaining: 452ms\n",
      "484:\tlearn: 6.6475279\ttotal: 424ms\tremaining: 451ms\n",
      "485:\tlearn: 6.5921608\ttotal: 425ms\tremaining: 450ms\n",
      "486:\tlearn: 6.5602794\ttotal: 426ms\tremaining: 449ms\n",
      "487:\tlearn: 6.5499659\ttotal: 427ms\tremaining: 448ms\n",
      "488:\tlearn: 6.4940006\ttotal: 427ms\tremaining: 447ms\n",
      "489:\tlearn: 6.4247752\ttotal: 428ms\tremaining: 446ms\n",
      "490:\tlearn: 6.3877601\ttotal: 429ms\tremaining: 445ms\n",
      "491:\tlearn: 6.3314191\ttotal: 430ms\tremaining: 444ms\n",
      "492:\tlearn: 6.2812751\ttotal: 431ms\tremaining: 443ms\n",
      "493:\tlearn: 6.2685065\ttotal: 431ms\tremaining: 442ms\n",
      "494:\tlearn: 6.2241138\ttotal: 432ms\tremaining: 441ms\n",
      "495:\tlearn: 6.1695214\ttotal: 433ms\tremaining: 440ms\n",
      "496:\tlearn: 6.1421906\ttotal: 434ms\tremaining: 439ms\n",
      "497:\tlearn: 6.1331850\ttotal: 434ms\tremaining: 438ms\n",
      "498:\tlearn: 6.1166327\ttotal: 435ms\tremaining: 437ms\n",
      "499:\tlearn: 6.0829602\ttotal: 436ms\tremaining: 436ms\n",
      "500:\tlearn: 6.0650422\ttotal: 437ms\tremaining: 435ms\n",
      "501:\tlearn: 6.0436563\ttotal: 438ms\tremaining: 434ms\n",
      "502:\tlearn: 5.9902804\ttotal: 438ms\tremaining: 433ms\n",
      "503:\tlearn: 5.9121675\ttotal: 439ms\tremaining: 432ms\n",
      "504:\tlearn: 5.9091850\ttotal: 440ms\tremaining: 431ms\n",
      "505:\tlearn: 5.8967995\ttotal: 441ms\tremaining: 430ms\n",
      "506:\tlearn: 5.8430221\ttotal: 441ms\tremaining: 429ms\n",
      "507:\tlearn: 5.8135495\ttotal: 442ms\tremaining: 428ms\n",
      "508:\tlearn: 5.7890913\ttotal: 443ms\tremaining: 427ms\n",
      "509:\tlearn: 5.7577091\ttotal: 444ms\tremaining: 426ms\n",
      "510:\tlearn: 5.7523488\ttotal: 445ms\tremaining: 425ms\n",
      "511:\tlearn: 5.6546493\ttotal: 445ms\tremaining: 424ms\n",
      "512:\tlearn: 5.6194513\ttotal: 446ms\tremaining: 424ms\n",
      "513:\tlearn: 5.5672252\ttotal: 447ms\tremaining: 423ms\n",
      "514:\tlearn: 5.5539421\ttotal: 448ms\tremaining: 422ms\n",
      "515:\tlearn: 5.5185620\ttotal: 449ms\tremaining: 421ms\n",
      "516:\tlearn: 5.4789463\ttotal: 449ms\tremaining: 420ms\n",
      "517:\tlearn: 5.4236755\ttotal: 450ms\tremaining: 419ms\n",
      "518:\tlearn: 5.3864207\ttotal: 451ms\tremaining: 418ms\n",
      "519:\tlearn: 5.3533466\ttotal: 452ms\tremaining: 417ms\n",
      "520:\tlearn: 5.3369921\ttotal: 453ms\tremaining: 416ms\n",
      "521:\tlearn: 5.2560437\ttotal: 454ms\tremaining: 415ms\n",
      "522:\tlearn: 5.2017840\ttotal: 454ms\tremaining: 414ms\n",
      "523:\tlearn: 5.1755812\ttotal: 455ms\tremaining: 413ms\n",
      "524:\tlearn: 5.1385832\ttotal: 456ms\tremaining: 413ms\n",
      "525:\tlearn: 5.1335579\ttotal: 457ms\tremaining: 412ms\n",
      "526:\tlearn: 5.0585358\ttotal: 458ms\tremaining: 411ms\n",
      "527:\tlearn: 5.0021152\ttotal: 458ms\tremaining: 410ms\n",
      "528:\tlearn: 4.9822398\ttotal: 460ms\tremaining: 409ms\n",
      "529:\tlearn: 4.9752376\ttotal: 461ms\tremaining: 409ms\n",
      "530:\tlearn: 4.9479232\ttotal: 462ms\tremaining: 408ms\n",
      "531:\tlearn: 4.9271142\ttotal: 463ms\tremaining: 408ms\n",
      "532:\tlearn: 4.9023595\ttotal: 464ms\tremaining: 407ms\n",
      "533:\tlearn: 4.8555527\ttotal: 465ms\tremaining: 406ms\n",
      "534:\tlearn: 4.8367794\ttotal: 466ms\tremaining: 405ms\n",
      "535:\tlearn: 4.7952444\ttotal: 467ms\tremaining: 404ms\n",
      "536:\tlearn: 4.7409194\ttotal: 468ms\tremaining: 403ms\n",
      "537:\tlearn: 4.6929973\ttotal: 469ms\tremaining: 402ms\n",
      "538:\tlearn: 4.6579685\ttotal: 469ms\tremaining: 402ms\n",
      "539:\tlearn: 4.6195745\ttotal: 470ms\tremaining: 401ms\n",
      "540:\tlearn: 4.5964136\ttotal: 471ms\tremaining: 400ms\n",
      "541:\tlearn: 4.5836819\ttotal: 472ms\tremaining: 399ms\n",
      "542:\tlearn: 4.5766395\ttotal: 473ms\tremaining: 398ms\n",
      "543:\tlearn: 4.5639948\ttotal: 474ms\tremaining: 398ms\n",
      "544:\tlearn: 4.5321336\ttotal: 475ms\tremaining: 397ms\n",
      "545:\tlearn: 4.5257262\ttotal: 476ms\tremaining: 396ms\n",
      "546:\tlearn: 4.5121200\ttotal: 477ms\tremaining: 395ms\n",
      "547:\tlearn: 4.5000971\ttotal: 478ms\tremaining: 394ms\n",
      "548:\tlearn: 4.4699564\ttotal: 479ms\tremaining: 393ms\n",
      "549:\tlearn: 4.4223918\ttotal: 480ms\tremaining: 392ms\n",
      "550:\tlearn: 4.3900850\ttotal: 480ms\tremaining: 391ms\n",
      "551:\tlearn: 4.3865832\ttotal: 481ms\tremaining: 390ms\n",
      "552:\tlearn: 4.3555236\ttotal: 482ms\tremaining: 390ms\n",
      "553:\tlearn: 4.3326942\ttotal: 483ms\tremaining: 389ms\n",
      "554:\tlearn: 4.3083453\ttotal: 484ms\tremaining: 388ms\n",
      "555:\tlearn: 4.2783012\ttotal: 485ms\tremaining: 387ms\n",
      "556:\tlearn: 4.2386680\ttotal: 485ms\tremaining: 386ms\n",
      "557:\tlearn: 4.1982182\ttotal: 486ms\tremaining: 385ms\n",
      "558:\tlearn: 4.1818634\ttotal: 487ms\tremaining: 384ms\n",
      "559:\tlearn: 4.1603123\ttotal: 488ms\tremaining: 383ms\n",
      "560:\tlearn: 4.1162392\ttotal: 489ms\tremaining: 382ms\n",
      "561:\tlearn: 4.0942539\ttotal: 490ms\tremaining: 382ms\n",
      "562:\tlearn: 4.0833944\ttotal: 491ms\tremaining: 381ms\n",
      "563:\tlearn: 4.0651220\ttotal: 491ms\tremaining: 380ms\n",
      "564:\tlearn: 4.0359525\ttotal: 492ms\tremaining: 379ms\n",
      "565:\tlearn: 4.0331482\ttotal: 493ms\tremaining: 378ms\n",
      "566:\tlearn: 4.0110785\ttotal: 494ms\tremaining: 377ms\n",
      "567:\tlearn: 3.9846807\ttotal: 495ms\tremaining: 377ms\n",
      "568:\tlearn: 3.9611224\ttotal: 496ms\tremaining: 376ms\n",
      "569:\tlearn: 3.9238317\ttotal: 497ms\tremaining: 375ms\n",
      "570:\tlearn: 3.9105718\ttotal: 498ms\tremaining: 374ms\n",
      "571:\tlearn: 3.8725349\ttotal: 499ms\tremaining: 374ms\n",
      "572:\tlearn: 3.8589458\ttotal: 500ms\tremaining: 373ms\n",
      "573:\tlearn: 3.8201118\ttotal: 501ms\tremaining: 372ms\n",
      "574:\tlearn: 3.8100971\ttotal: 502ms\tremaining: 371ms\n",
      "575:\tlearn: 3.7824233\ttotal: 503ms\tremaining: 370ms\n",
      "576:\tlearn: 3.7652240\ttotal: 504ms\tremaining: 369ms\n",
      "577:\tlearn: 3.7320270\ttotal: 504ms\tremaining: 368ms\n",
      "578:\tlearn: 3.7227983\ttotal: 505ms\tremaining: 367ms\n",
      "579:\tlearn: 3.7007934\ttotal: 506ms\tremaining: 366ms\n",
      "580:\tlearn: 3.6703626\ttotal: 507ms\tremaining: 365ms\n",
      "581:\tlearn: 3.6587500\ttotal: 508ms\tremaining: 365ms\n",
      "582:\tlearn: 3.6435213\ttotal: 508ms\tremaining: 364ms\n",
      "583:\tlearn: 3.6165255\ttotal: 509ms\tremaining: 363ms\n",
      "584:\tlearn: 3.5921438\ttotal: 510ms\tremaining: 362ms\n",
      "585:\tlearn: 3.5823094\ttotal: 511ms\tremaining: 361ms\n",
      "586:\tlearn: 3.5707107\ttotal: 512ms\tremaining: 360ms\n",
      "587:\tlearn: 3.5585582\ttotal: 513ms\tremaining: 359ms\n",
      "588:\tlearn: 3.5083056\ttotal: 514ms\tremaining: 359ms\n",
      "589:\tlearn: 3.4896083\ttotal: 515ms\tremaining: 358ms\n",
      "590:\tlearn: 3.4745190\ttotal: 516ms\tremaining: 357ms\n",
      "591:\tlearn: 3.4627260\ttotal: 516ms\tremaining: 356ms\n",
      "592:\tlearn: 3.4385625\ttotal: 517ms\tremaining: 355ms\n",
      "593:\tlearn: 3.3997235\ttotal: 518ms\tremaining: 354ms\n",
      "594:\tlearn: 3.3764192\ttotal: 519ms\tremaining: 353ms\n",
      "595:\tlearn: 3.3590522\ttotal: 520ms\tremaining: 352ms\n",
      "596:\tlearn: 3.3474857\ttotal: 520ms\tremaining: 351ms\n",
      "597:\tlearn: 3.3123623\ttotal: 521ms\tremaining: 350ms\n",
      "598:\tlearn: 3.2999589\ttotal: 522ms\tremaining: 350ms\n",
      "599:\tlearn: 3.2767538\ttotal: 523ms\tremaining: 349ms\n",
      "600:\tlearn: 3.2530783\ttotal: 524ms\tremaining: 348ms\n",
      "601:\tlearn: 3.2269777\ttotal: 525ms\tremaining: 347ms\n",
      "602:\tlearn: 3.1938868\ttotal: 525ms\tremaining: 346ms\n",
      "603:\tlearn: 3.1728589\ttotal: 526ms\tremaining: 345ms\n",
      "604:\tlearn: 3.1549029\ttotal: 527ms\tremaining: 344ms\n",
      "605:\tlearn: 3.1478118\ttotal: 528ms\tremaining: 343ms\n",
      "606:\tlearn: 3.1145245\ttotal: 529ms\tremaining: 342ms\n",
      "607:\tlearn: 3.0718905\ttotal: 530ms\tremaining: 341ms\n",
      "608:\tlearn: 3.0352714\ttotal: 531ms\tremaining: 341ms\n",
      "609:\tlearn: 2.9984985\ttotal: 531ms\tremaining: 340ms\n",
      "610:\tlearn: 2.9594115\ttotal: 532ms\tremaining: 339ms\n",
      "611:\tlearn: 2.9438145\ttotal: 533ms\tremaining: 338ms\n",
      "612:\tlearn: 2.9265773\ttotal: 534ms\tremaining: 337ms\n",
      "613:\tlearn: 2.9036898\ttotal: 535ms\tremaining: 336ms\n",
      "614:\tlearn: 2.8790612\ttotal: 535ms\tremaining: 335ms\n",
      "615:\tlearn: 2.8654898\ttotal: 536ms\tremaining: 334ms\n",
      "616:\tlearn: 2.8462561\ttotal: 537ms\tremaining: 333ms\n",
      "617:\tlearn: 2.8254976\ttotal: 538ms\tremaining: 332ms\n",
      "618:\tlearn: 2.8190407\ttotal: 539ms\tremaining: 332ms\n",
      "619:\tlearn: 2.8129812\ttotal: 539ms\tremaining: 331ms\n",
      "620:\tlearn: 2.8097755\ttotal: 540ms\tremaining: 330ms\n",
      "621:\tlearn: 2.7960320\ttotal: 541ms\tremaining: 329ms\n",
      "622:\tlearn: 2.7878495\ttotal: 542ms\tremaining: 328ms\n",
      "623:\tlearn: 2.7602980\ttotal: 543ms\tremaining: 327ms\n",
      "624:\tlearn: 2.7341408\ttotal: 544ms\tremaining: 326ms\n",
      "625:\tlearn: 2.7302545\ttotal: 545ms\tremaining: 325ms\n",
      "626:\tlearn: 2.7120252\ttotal: 545ms\tremaining: 324ms\n",
      "627:\tlearn: 2.7075024\ttotal: 546ms\tremaining: 324ms\n",
      "628:\tlearn: 2.6970031\ttotal: 547ms\tremaining: 323ms\n",
      "629:\tlearn: 2.6928246\ttotal: 548ms\tremaining: 322ms\n",
      "630:\tlearn: 2.6709120\ttotal: 549ms\tremaining: 321ms\n",
      "631:\tlearn: 2.6656247\ttotal: 549ms\tremaining: 320ms\n",
      "632:\tlearn: 2.6452838\ttotal: 550ms\tremaining: 319ms\n",
      "633:\tlearn: 2.6271014\ttotal: 551ms\tremaining: 318ms\n",
      "634:\tlearn: 2.6089454\ttotal: 552ms\tremaining: 317ms\n",
      "635:\tlearn: 2.5996271\ttotal: 553ms\tremaining: 316ms\n",
      "636:\tlearn: 2.5923568\ttotal: 554ms\tremaining: 315ms\n",
      "637:\tlearn: 2.5837611\ttotal: 554ms\tremaining: 315ms\n",
      "638:\tlearn: 2.5726721\ttotal: 555ms\tremaining: 314ms\n",
      "639:\tlearn: 2.5577477\ttotal: 556ms\tremaining: 313ms\n",
      "640:\tlearn: 2.5500744\ttotal: 557ms\tremaining: 312ms\n",
      "641:\tlearn: 2.5274442\ttotal: 558ms\tremaining: 311ms\n",
      "642:\tlearn: 2.5157559\ttotal: 559ms\tremaining: 310ms\n",
      "643:\tlearn: 2.5053856\ttotal: 559ms\tremaining: 309ms\n",
      "644:\tlearn: 2.4841922\ttotal: 560ms\tremaining: 308ms\n",
      "645:\tlearn: 2.4674035\ttotal: 561ms\tremaining: 307ms\n",
      "646:\tlearn: 2.4484158\ttotal: 562ms\tremaining: 307ms\n",
      "647:\tlearn: 2.4263246\ttotal: 563ms\tremaining: 306ms\n",
      "648:\tlearn: 2.4052258\ttotal: 564ms\tremaining: 305ms\n",
      "649:\tlearn: 2.3816894\ttotal: 564ms\tremaining: 304ms\n",
      "650:\tlearn: 2.3659119\ttotal: 565ms\tremaining: 303ms\n",
      "651:\tlearn: 2.3576051\ttotal: 566ms\tremaining: 302ms\n",
      "652:\tlearn: 2.3288476\ttotal: 567ms\tremaining: 302ms\n",
      "653:\tlearn: 2.3109502\ttotal: 568ms\tremaining: 301ms\n",
      "654:\tlearn: 2.3021504\ttotal: 570ms\tremaining: 300ms\n",
      "655:\tlearn: 2.3009515\ttotal: 571ms\tremaining: 299ms\n",
      "656:\tlearn: 2.2893680\ttotal: 571ms\tremaining: 298ms\n",
      "657:\tlearn: 2.2852898\ttotal: 572ms\tremaining: 297ms\n",
      "658:\tlearn: 2.2647131\ttotal: 573ms\tremaining: 296ms\n",
      "659:\tlearn: 2.2437777\ttotal: 574ms\tremaining: 296ms\n",
      "660:\tlearn: 2.2228007\ttotal: 574ms\tremaining: 295ms\n",
      "661:\tlearn: 2.2030047\ttotal: 575ms\tremaining: 294ms\n",
      "662:\tlearn: 2.1823076\ttotal: 576ms\tremaining: 293ms\n",
      "663:\tlearn: 2.1607769\ttotal: 577ms\tremaining: 292ms\n",
      "664:\tlearn: 2.1491049\ttotal: 578ms\tremaining: 291ms\n",
      "665:\tlearn: 2.1403920\ttotal: 579ms\tremaining: 290ms\n",
      "666:\tlearn: 2.1255852\ttotal: 579ms\tremaining: 289ms\n",
      "667:\tlearn: 2.1087714\ttotal: 580ms\tremaining: 288ms\n",
      "668:\tlearn: 2.1033385\ttotal: 581ms\tremaining: 287ms\n",
      "669:\tlearn: 2.0923091\ttotal: 582ms\tremaining: 286ms\n",
      "670:\tlearn: 2.0834076\ttotal: 582ms\tremaining: 286ms\n",
      "671:\tlearn: 2.0735926\ttotal: 583ms\tremaining: 285ms\n",
      "672:\tlearn: 2.0603541\ttotal: 584ms\tremaining: 284ms\n",
      "673:\tlearn: 2.0576392\ttotal: 585ms\tremaining: 283ms\n",
      "674:\tlearn: 2.0455537\ttotal: 586ms\tremaining: 282ms\n",
      "675:\tlearn: 2.0282804\ttotal: 587ms\tremaining: 281ms\n",
      "676:\tlearn: 2.0217423\ttotal: 588ms\tremaining: 280ms\n",
      "677:\tlearn: 2.0119192\ttotal: 588ms\tremaining: 279ms\n",
      "678:\tlearn: 2.0001332\ttotal: 589ms\tremaining: 279ms\n",
      "679:\tlearn: 1.9979894\ttotal: 590ms\tremaining: 278ms\n",
      "680:\tlearn: 1.9907747\ttotal: 591ms\tremaining: 277ms\n",
      "681:\tlearn: 1.9736817\ttotal: 592ms\tremaining: 276ms\n",
      "682:\tlearn: 1.9600965\ttotal: 592ms\tremaining: 275ms\n",
      "683:\tlearn: 1.9539201\ttotal: 593ms\tremaining: 274ms\n",
      "684:\tlearn: 1.9449369\ttotal: 594ms\tremaining: 273ms\n",
      "685:\tlearn: 1.9419454\ttotal: 595ms\tremaining: 272ms\n",
      "686:\tlearn: 1.9326842\ttotal: 595ms\tremaining: 271ms\n",
      "687:\tlearn: 1.9288548\ttotal: 596ms\tremaining: 270ms\n",
      "688:\tlearn: 1.9236716\ttotal: 597ms\tremaining: 270ms\n",
      "689:\tlearn: 1.9228496\ttotal: 598ms\tremaining: 269ms\n",
      "690:\tlearn: 1.9176354\ttotal: 599ms\tremaining: 268ms\n",
      "691:\tlearn: 1.9147659\ttotal: 599ms\tremaining: 267ms\n",
      "692:\tlearn: 1.9079892\ttotal: 600ms\tremaining: 266ms\n",
      "693:\tlearn: 1.9048238\ttotal: 601ms\tremaining: 265ms\n",
      "694:\tlearn: 1.8959419\ttotal: 602ms\tremaining: 264ms\n",
      "695:\tlearn: 1.8711502\ttotal: 603ms\tremaining: 263ms\n",
      "696:\tlearn: 1.8583228\ttotal: 603ms\tremaining: 262ms\n",
      "697:\tlearn: 1.8482604\ttotal: 604ms\tremaining: 261ms\n",
      "698:\tlearn: 1.8456936\ttotal: 605ms\tremaining: 261ms\n",
      "699:\tlearn: 1.8273471\ttotal: 606ms\tremaining: 260ms\n",
      "700:\tlearn: 1.8067825\ttotal: 607ms\tremaining: 259ms\n",
      "701:\tlearn: 1.8022221\ttotal: 607ms\tremaining: 258ms\n",
      "702:\tlearn: 1.7912070\ttotal: 608ms\tremaining: 257ms\n",
      "703:\tlearn: 1.7755760\ttotal: 609ms\tremaining: 256ms\n",
      "704:\tlearn: 1.7712682\ttotal: 610ms\tremaining: 255ms\n",
      "705:\tlearn: 1.7648319\ttotal: 611ms\tremaining: 254ms\n",
      "706:\tlearn: 1.7532904\ttotal: 611ms\tremaining: 253ms\n",
      "707:\tlearn: 1.7463625\ttotal: 612ms\tremaining: 252ms\n",
      "708:\tlearn: 1.7418161\ttotal: 613ms\tremaining: 252ms\n",
      "709:\tlearn: 1.7272345\ttotal: 614ms\tremaining: 251ms\n",
      "710:\tlearn: 1.7217505\ttotal: 614ms\tremaining: 250ms\n",
      "711:\tlearn: 1.7151154\ttotal: 615ms\tremaining: 249ms\n",
      "712:\tlearn: 1.7092925\ttotal: 616ms\tremaining: 248ms\n",
      "713:\tlearn: 1.7025995\ttotal: 617ms\tremaining: 247ms\n",
      "714:\tlearn: 1.6807623\ttotal: 618ms\tremaining: 246ms\n",
      "715:\tlearn: 1.6674907\ttotal: 618ms\tremaining: 245ms\n",
      "716:\tlearn: 1.6544638\ttotal: 619ms\tremaining: 244ms\n",
      "717:\tlearn: 1.6411236\ttotal: 620ms\tremaining: 243ms\n",
      "718:\tlearn: 1.6290477\ttotal: 621ms\tremaining: 243ms\n",
      "719:\tlearn: 1.6222366\ttotal: 621ms\tremaining: 242ms\n",
      "720:\tlearn: 1.6142656\ttotal: 622ms\tremaining: 241ms\n",
      "721:\tlearn: 1.6004470\ttotal: 623ms\tremaining: 240ms\n",
      "722:\tlearn: 1.5932177\ttotal: 624ms\tremaining: 239ms\n",
      "723:\tlearn: 1.5743215\ttotal: 625ms\tremaining: 238ms\n",
      "724:\tlearn: 1.5629066\ttotal: 625ms\tremaining: 237ms\n",
      "725:\tlearn: 1.5505525\ttotal: 626ms\tremaining: 236ms\n",
      "726:\tlearn: 1.5302974\ttotal: 627ms\tremaining: 235ms\n",
      "727:\tlearn: 1.5260700\ttotal: 628ms\tremaining: 235ms\n",
      "728:\tlearn: 1.5188723\ttotal: 629ms\tremaining: 234ms\n",
      "729:\tlearn: 1.5085309\ttotal: 629ms\tremaining: 233ms\n",
      "730:\tlearn: 1.5038733\ttotal: 630ms\tremaining: 232ms\n",
      "731:\tlearn: 1.5008194\ttotal: 631ms\tremaining: 231ms\n",
      "732:\tlearn: 1.4908829\ttotal: 632ms\tremaining: 230ms\n",
      "733:\tlearn: 1.4782605\ttotal: 633ms\tremaining: 229ms\n",
      "734:\tlearn: 1.4639356\ttotal: 634ms\tremaining: 228ms\n",
      "735:\tlearn: 1.4471455\ttotal: 634ms\tremaining: 228ms\n",
      "736:\tlearn: 1.4454285\ttotal: 635ms\tremaining: 227ms\n",
      "737:\tlearn: 1.4416273\ttotal: 636ms\tremaining: 226ms\n",
      "738:\tlearn: 1.4302267\ttotal: 637ms\tremaining: 225ms\n",
      "739:\tlearn: 1.4219328\ttotal: 638ms\tremaining: 224ms\n",
      "740:\tlearn: 1.4105579\ttotal: 638ms\tremaining: 223ms\n",
      "741:\tlearn: 1.4075838\ttotal: 639ms\tremaining: 222ms\n",
      "742:\tlearn: 1.4017014\ttotal: 640ms\tremaining: 221ms\n",
      "743:\tlearn: 1.3974208\ttotal: 641ms\tremaining: 221ms\n",
      "744:\tlearn: 1.3862572\ttotal: 642ms\tremaining: 220ms\n",
      "745:\tlearn: 1.3729360\ttotal: 643ms\tremaining: 219ms\n",
      "746:\tlearn: 1.3630904\ttotal: 643ms\tremaining: 218ms\n",
      "747:\tlearn: 1.3477583\ttotal: 644ms\tremaining: 217ms\n",
      "748:\tlearn: 1.3348270\ttotal: 645ms\tremaining: 216ms\n",
      "749:\tlearn: 1.3236754\ttotal: 646ms\tremaining: 215ms\n",
      "750:\tlearn: 1.3171961\ttotal: 647ms\tremaining: 214ms\n",
      "751:\tlearn: 1.3113457\ttotal: 647ms\tremaining: 214ms\n",
      "752:\tlearn: 1.3036391\ttotal: 648ms\tremaining: 213ms\n",
      "753:\tlearn: 1.2935829\ttotal: 649ms\tremaining: 212ms\n",
      "754:\tlearn: 1.2837612\ttotal: 650ms\tremaining: 211ms\n",
      "755:\tlearn: 1.2768260\ttotal: 651ms\tremaining: 210ms\n",
      "756:\tlearn: 1.2689370\ttotal: 652ms\tremaining: 209ms\n",
      "757:\tlearn: 1.2561567\ttotal: 652ms\tremaining: 208ms\n",
      "758:\tlearn: 1.2475100\ttotal: 653ms\tremaining: 207ms\n",
      "759:\tlearn: 1.2405978\ttotal: 654ms\tremaining: 207ms\n",
      "760:\tlearn: 1.2342628\ttotal: 655ms\tremaining: 206ms\n",
      "761:\tlearn: 1.2271880\ttotal: 656ms\tremaining: 205ms\n",
      "762:\tlearn: 1.2138527\ttotal: 656ms\tremaining: 204ms\n",
      "763:\tlearn: 1.2076889\ttotal: 657ms\tremaining: 203ms\n",
      "764:\tlearn: 1.2041847\ttotal: 658ms\tremaining: 202ms\n",
      "765:\tlearn: 1.1970019\ttotal: 659ms\tremaining: 201ms\n",
      "766:\tlearn: 1.1892878\ttotal: 660ms\tremaining: 200ms\n",
      "767:\tlearn: 1.1858432\ttotal: 660ms\tremaining: 200ms\n",
      "768:\tlearn: 1.1746182\ttotal: 661ms\tremaining: 199ms\n",
      "769:\tlearn: 1.1694876\ttotal: 662ms\tremaining: 198ms\n",
      "770:\tlearn: 1.1657055\ttotal: 663ms\tremaining: 197ms\n",
      "771:\tlearn: 1.1556043\ttotal: 664ms\tremaining: 196ms\n",
      "772:\tlearn: 1.1540774\ttotal: 665ms\tremaining: 195ms\n",
      "773:\tlearn: 1.1473715\ttotal: 666ms\tremaining: 194ms\n",
      "774:\tlearn: 1.1419763\ttotal: 667ms\tremaining: 194ms\n",
      "775:\tlearn: 1.1303590\ttotal: 667ms\tremaining: 193ms\n",
      "776:\tlearn: 1.1230587\ttotal: 668ms\tremaining: 192ms\n",
      "777:\tlearn: 1.1143917\ttotal: 669ms\tremaining: 191ms\n",
      "778:\tlearn: 1.1112687\ttotal: 670ms\tremaining: 190ms\n",
      "779:\tlearn: 1.1009863\ttotal: 671ms\tremaining: 189ms\n",
      "780:\tlearn: 1.0899260\ttotal: 671ms\tremaining: 188ms\n",
      "781:\tlearn: 1.0855158\ttotal: 672ms\tremaining: 187ms\n",
      "782:\tlearn: 1.0808031\ttotal: 673ms\tremaining: 187ms\n",
      "783:\tlearn: 1.0763884\ttotal: 674ms\tremaining: 186ms\n",
      "784:\tlearn: 1.0710758\ttotal: 675ms\tremaining: 185ms\n",
      "785:\tlearn: 1.0634482\ttotal: 676ms\tremaining: 184ms\n",
      "786:\tlearn: 1.0529874\ttotal: 676ms\tremaining: 183ms\n",
      "787:\tlearn: 1.0501903\ttotal: 677ms\tremaining: 182ms\n",
      "788:\tlearn: 1.0410587\ttotal: 678ms\tremaining: 181ms\n",
      "789:\tlearn: 1.0386261\ttotal: 679ms\tremaining: 180ms\n",
      "790:\tlearn: 1.0351082\ttotal: 680ms\tremaining: 180ms\n",
      "791:\tlearn: 1.0320987\ttotal: 680ms\tremaining: 179ms\n",
      "792:\tlearn: 1.0294915\ttotal: 681ms\tremaining: 178ms\n",
      "793:\tlearn: 1.0233284\ttotal: 682ms\tremaining: 177ms\n",
      "794:\tlearn: 1.0176815\ttotal: 683ms\tremaining: 176ms\n",
      "795:\tlearn: 1.0074411\ttotal: 684ms\tremaining: 175ms\n",
      "796:\tlearn: 1.0020197\ttotal: 685ms\tremaining: 174ms\n",
      "797:\tlearn: 0.9989044\ttotal: 686ms\tremaining: 174ms\n",
      "798:\tlearn: 0.9937483\ttotal: 686ms\tremaining: 173ms\n",
      "799:\tlearn: 0.9867329\ttotal: 687ms\tremaining: 172ms\n",
      "800:\tlearn: 0.9819829\ttotal: 688ms\tremaining: 171ms\n",
      "801:\tlearn: 0.9777514\ttotal: 689ms\tremaining: 170ms\n",
      "802:\tlearn: 0.9757462\ttotal: 690ms\tremaining: 169ms\n",
      "803:\tlearn: 0.9702440\ttotal: 691ms\tremaining: 168ms\n",
      "804:\tlearn: 0.9636471\ttotal: 691ms\tremaining: 167ms\n",
      "805:\tlearn: 0.9548362\ttotal: 692ms\tremaining: 167ms\n",
      "806:\tlearn: 0.9470745\ttotal: 693ms\tremaining: 166ms\n",
      "807:\tlearn: 0.9408578\ttotal: 694ms\tremaining: 165ms\n",
      "808:\tlearn: 0.9350692\ttotal: 695ms\tremaining: 164ms\n",
      "809:\tlearn: 0.9290967\ttotal: 695ms\tremaining: 163ms\n",
      "810:\tlearn: 0.9267158\ttotal: 696ms\tremaining: 162ms\n",
      "811:\tlearn: 0.9235794\ttotal: 697ms\tremaining: 161ms\n",
      "812:\tlearn: 0.9226084\ttotal: 698ms\tremaining: 161ms\n",
      "813:\tlearn: 0.9139012\ttotal: 699ms\tremaining: 160ms\n",
      "814:\tlearn: 0.9073690\ttotal: 700ms\tremaining: 159ms\n",
      "815:\tlearn: 0.9024018\ttotal: 701ms\tremaining: 158ms\n",
      "816:\tlearn: 0.9001693\ttotal: 701ms\tremaining: 157ms\n",
      "817:\tlearn: 0.8970481\ttotal: 702ms\tremaining: 156ms\n",
      "818:\tlearn: 0.8907494\ttotal: 703ms\tremaining: 155ms\n",
      "819:\tlearn: 0.8886718\ttotal: 704ms\tremaining: 155ms\n",
      "820:\tlearn: 0.8869259\ttotal: 705ms\tremaining: 154ms\n",
      "821:\tlearn: 0.8804683\ttotal: 705ms\tremaining: 153ms\n",
      "822:\tlearn: 0.8666371\ttotal: 706ms\tremaining: 152ms\n",
      "823:\tlearn: 0.8659600\ttotal: 707ms\tremaining: 151ms\n",
      "824:\tlearn: 0.8604612\ttotal: 708ms\tremaining: 150ms\n",
      "825:\tlearn: 0.8544955\ttotal: 709ms\tremaining: 149ms\n",
      "826:\tlearn: 0.8496739\ttotal: 710ms\tremaining: 148ms\n",
      "827:\tlearn: 0.8420906\ttotal: 710ms\tremaining: 148ms\n",
      "828:\tlearn: 0.8398457\ttotal: 711ms\tremaining: 147ms\n",
      "829:\tlearn: 0.8358570\ttotal: 712ms\tremaining: 146ms\n",
      "830:\tlearn: 0.8293211\ttotal: 713ms\tremaining: 145ms\n",
      "831:\tlearn: 0.8236188\ttotal: 714ms\tremaining: 144ms\n",
      "832:\tlearn: 0.8175017\ttotal: 715ms\tremaining: 143ms\n",
      "833:\tlearn: 0.8128315\ttotal: 716ms\tremaining: 143ms\n",
      "834:\tlearn: 0.8096197\ttotal: 717ms\tremaining: 142ms\n",
      "835:\tlearn: 0.8027133\ttotal: 718ms\tremaining: 141ms\n",
      "836:\tlearn: 0.7987555\ttotal: 719ms\tremaining: 140ms\n",
      "837:\tlearn: 0.7928141\ttotal: 719ms\tremaining: 139ms\n",
      "838:\tlearn: 0.7897563\ttotal: 720ms\tremaining: 138ms\n",
      "839:\tlearn: 0.7876758\ttotal: 721ms\tremaining: 137ms\n",
      "840:\tlearn: 0.7777598\ttotal: 722ms\tremaining: 137ms\n",
      "841:\tlearn: 0.7767597\ttotal: 723ms\tremaining: 136ms\n",
      "842:\tlearn: 0.7665043\ttotal: 724ms\tremaining: 135ms\n",
      "843:\tlearn: 0.7626478\ttotal: 725ms\tremaining: 134ms\n",
      "844:\tlearn: 0.7540439\ttotal: 726ms\tremaining: 133ms\n",
      "845:\tlearn: 0.7508537\ttotal: 727ms\tremaining: 132ms\n",
      "846:\tlearn: 0.7459152\ttotal: 728ms\tremaining: 131ms\n",
      "847:\tlearn: 0.7447900\ttotal: 728ms\tremaining: 131ms\n",
      "848:\tlearn: 0.7418475\ttotal: 729ms\tremaining: 130ms\n",
      "849:\tlearn: 0.7379949\ttotal: 730ms\tremaining: 129ms\n",
      "850:\tlearn: 0.7369054\ttotal: 731ms\tremaining: 128ms\n",
      "851:\tlearn: 0.7327236\ttotal: 731ms\tremaining: 127ms\n",
      "852:\tlearn: 0.7311790\ttotal: 732ms\tremaining: 126ms\n",
      "853:\tlearn: 0.7226495\ttotal: 733ms\tremaining: 125ms\n",
      "854:\tlearn: 0.7168390\ttotal: 734ms\tremaining: 124ms\n",
      "855:\tlearn: 0.7117890\ttotal: 735ms\tremaining: 124ms\n",
      "856:\tlearn: 0.7040100\ttotal: 735ms\tremaining: 123ms\n",
      "857:\tlearn: 0.6960021\ttotal: 736ms\tremaining: 122ms\n",
      "858:\tlearn: 0.6920263\ttotal: 737ms\tremaining: 121ms\n",
      "859:\tlearn: 0.6853317\ttotal: 738ms\tremaining: 120ms\n",
      "860:\tlearn: 0.6805108\ttotal: 738ms\tremaining: 119ms\n",
      "861:\tlearn: 0.6771728\ttotal: 739ms\tremaining: 118ms\n",
      "862:\tlearn: 0.6708199\ttotal: 740ms\tremaining: 117ms\n",
      "863:\tlearn: 0.6689468\ttotal: 741ms\tremaining: 117ms\n",
      "864:\tlearn: 0.6647579\ttotal: 742ms\tremaining: 116ms\n",
      "865:\tlearn: 0.6587745\ttotal: 742ms\tremaining: 115ms\n",
      "866:\tlearn: 0.6549437\ttotal: 743ms\tremaining: 114ms\n",
      "867:\tlearn: 0.6484944\ttotal: 744ms\tremaining: 113ms\n",
      "868:\tlearn: 0.6455316\ttotal: 745ms\tremaining: 112ms\n",
      "869:\tlearn: 0.6420739\ttotal: 746ms\tremaining: 111ms\n",
      "870:\tlearn: 0.6375667\ttotal: 746ms\tremaining: 111ms\n",
      "871:\tlearn: 0.6358236\ttotal: 747ms\tremaining: 110ms\n",
      "872:\tlearn: 0.6320335\ttotal: 748ms\tremaining: 109ms\n",
      "873:\tlearn: 0.6288025\ttotal: 749ms\tremaining: 108ms\n",
      "874:\tlearn: 0.6243292\ttotal: 749ms\tremaining: 107ms\n",
      "875:\tlearn: 0.6165696\ttotal: 750ms\tremaining: 106ms\n",
      "876:\tlearn: 0.6128782\ttotal: 751ms\tremaining: 105ms\n",
      "877:\tlearn: 0.6057460\ttotal: 752ms\tremaining: 104ms\n",
      "878:\tlearn: 0.6048833\ttotal: 753ms\tremaining: 104ms\n",
      "879:\tlearn: 0.5984637\ttotal: 754ms\tremaining: 103ms\n",
      "880:\tlearn: 0.5935168\ttotal: 754ms\tremaining: 102ms\n",
      "881:\tlearn: 0.5892604\ttotal: 755ms\tremaining: 101ms\n",
      "882:\tlearn: 0.5846504\ttotal: 756ms\tremaining: 100ms\n",
      "883:\tlearn: 0.5814985\ttotal: 757ms\tremaining: 99.3ms\n",
      "884:\tlearn: 0.5778053\ttotal: 757ms\tremaining: 98.4ms\n",
      "885:\tlearn: 0.5739896\ttotal: 758ms\tremaining: 97.6ms\n",
      "886:\tlearn: 0.5729847\ttotal: 759ms\tremaining: 96.7ms\n",
      "887:\tlearn: 0.5724598\ttotal: 760ms\tremaining: 95.8ms\n",
      "888:\tlearn: 0.5718988\ttotal: 761ms\tremaining: 95ms\n",
      "889:\tlearn: 0.5672314\ttotal: 761ms\tremaining: 94.1ms\n",
      "890:\tlearn: 0.5659035\ttotal: 762ms\tremaining: 93.2ms\n",
      "891:\tlearn: 0.5587131\ttotal: 763ms\tremaining: 92.4ms\n",
      "892:\tlearn: 0.5562858\ttotal: 764ms\tremaining: 91.5ms\n",
      "893:\tlearn: 0.5555127\ttotal: 765ms\tremaining: 90.7ms\n",
      "894:\tlearn: 0.5527685\ttotal: 765ms\tremaining: 89.8ms\n",
      "895:\tlearn: 0.5499500\ttotal: 766ms\tremaining: 88.9ms\n",
      "896:\tlearn: 0.5456148\ttotal: 767ms\tremaining: 88.1ms\n",
      "897:\tlearn: 0.5403285\ttotal: 768ms\tremaining: 87.2ms\n",
      "898:\tlearn: 0.5377774\ttotal: 768ms\tremaining: 86.3ms\n",
      "899:\tlearn: 0.5371353\ttotal: 769ms\tremaining: 85.5ms\n",
      "900:\tlearn: 0.5332613\ttotal: 770ms\tremaining: 84.6ms\n",
      "901:\tlearn: 0.5289379\ttotal: 771ms\tremaining: 83.7ms\n",
      "902:\tlearn: 0.5277948\ttotal: 772ms\tremaining: 82.9ms\n",
      "903:\tlearn: 0.5229979\ttotal: 772ms\tremaining: 82ms\n",
      "904:\tlearn: 0.5176545\ttotal: 773ms\tremaining: 81.2ms\n",
      "905:\tlearn: 0.5167566\ttotal: 774ms\tremaining: 80.3ms\n",
      "906:\tlearn: 0.5163313\ttotal: 775ms\tremaining: 79.4ms\n",
      "907:\tlearn: 0.5116777\ttotal: 775ms\tremaining: 78.6ms\n",
      "908:\tlearn: 0.5097952\ttotal: 776ms\tremaining: 77.7ms\n",
      "909:\tlearn: 0.5071290\ttotal: 777ms\tremaining: 76.8ms\n",
      "910:\tlearn: 0.5049191\ttotal: 778ms\tremaining: 76ms\n",
      "911:\tlearn: 0.5018383\ttotal: 778ms\tremaining: 75.1ms\n",
      "912:\tlearn: 0.5007466\ttotal: 779ms\tremaining: 74.3ms\n",
      "913:\tlearn: 0.4998771\ttotal: 780ms\tremaining: 73.4ms\n",
      "914:\tlearn: 0.4954624\ttotal: 781ms\tremaining: 72.5ms\n",
      "915:\tlearn: 0.4942071\ttotal: 782ms\tremaining: 71.7ms\n",
      "916:\tlearn: 0.4893003\ttotal: 782ms\tremaining: 70.8ms\n",
      "917:\tlearn: 0.4870233\ttotal: 783ms\tremaining: 69.9ms\n",
      "918:\tlearn: 0.4830379\ttotal: 784ms\tremaining: 69.1ms\n",
      "919:\tlearn: 0.4753426\ttotal: 785ms\tremaining: 68.2ms\n",
      "920:\tlearn: 0.4730706\ttotal: 785ms\tremaining: 67.4ms\n",
      "921:\tlearn: 0.4679650\ttotal: 786ms\tremaining: 66.5ms\n",
      "922:\tlearn: 0.4651630\ttotal: 787ms\tremaining: 65.6ms\n",
      "923:\tlearn: 0.4634313\ttotal: 787ms\tremaining: 64.8ms\n",
      "924:\tlearn: 0.4607284\ttotal: 788ms\tremaining: 63.9ms\n",
      "925:\tlearn: 0.4589159\ttotal: 789ms\tremaining: 63.1ms\n",
      "926:\tlearn: 0.4532169\ttotal: 790ms\tremaining: 62.2ms\n",
      "927:\tlearn: 0.4509932\ttotal: 790ms\tremaining: 61.3ms\n",
      "928:\tlearn: 0.4506088\ttotal: 791ms\tremaining: 60.5ms\n",
      "929:\tlearn: 0.4501478\ttotal: 792ms\tremaining: 59.6ms\n",
      "930:\tlearn: 0.4490581\ttotal: 793ms\tremaining: 58.8ms\n",
      "931:\tlearn: 0.4447316\ttotal: 794ms\tremaining: 57.9ms\n",
      "932:\tlearn: 0.4415148\ttotal: 795ms\tremaining: 57.1ms\n",
      "933:\tlearn: 0.4391051\ttotal: 796ms\tremaining: 56.2ms\n",
      "934:\tlearn: 0.4357356\ttotal: 797ms\tremaining: 55.4ms\n",
      "935:\tlearn: 0.4323983\ttotal: 797ms\tremaining: 54.5ms\n",
      "936:\tlearn: 0.4302143\ttotal: 798ms\tremaining: 53.7ms\n",
      "937:\tlearn: 0.4289117\ttotal: 799ms\tremaining: 52.8ms\n",
      "938:\tlearn: 0.4284339\ttotal: 800ms\tremaining: 52ms\n",
      "939:\tlearn: 0.4244107\ttotal: 801ms\tremaining: 51.1ms\n",
      "940:\tlearn: 0.4237451\ttotal: 802ms\tremaining: 50.3ms\n",
      "941:\tlearn: 0.4215386\ttotal: 802ms\tremaining: 49.4ms\n",
      "942:\tlearn: 0.4180705\ttotal: 803ms\tremaining: 48.5ms\n",
      "943:\tlearn: 0.4154760\ttotal: 804ms\tremaining: 47.7ms\n",
      "944:\tlearn: 0.4124859\ttotal: 805ms\tremaining: 46.8ms\n",
      "945:\tlearn: 0.4119886\ttotal: 806ms\tremaining: 46ms\n",
      "946:\tlearn: 0.4115906\ttotal: 807ms\tremaining: 45.1ms\n",
      "947:\tlearn: 0.4081974\ttotal: 807ms\tremaining: 44.3ms\n",
      "948:\tlearn: 0.4064530\ttotal: 808ms\tremaining: 43.4ms\n",
      "949:\tlearn: 0.4040915\ttotal: 809ms\tremaining: 42.6ms\n",
      "950:\tlearn: 0.4008861\ttotal: 810ms\tremaining: 41.7ms\n",
      "951:\tlearn: 0.3970913\ttotal: 811ms\tremaining: 40.9ms\n",
      "952:\tlearn: 0.3943258\ttotal: 811ms\tremaining: 40ms\n",
      "953:\tlearn: 0.3926270\ttotal: 812ms\tremaining: 39.2ms\n",
      "954:\tlearn: 0.3909448\ttotal: 813ms\tremaining: 38.3ms\n",
      "955:\tlearn: 0.3887707\ttotal: 814ms\tremaining: 37.5ms\n",
      "956:\tlearn: 0.3868345\ttotal: 815ms\tremaining: 36.6ms\n",
      "957:\tlearn: 0.3839349\ttotal: 816ms\tremaining: 35.8ms\n",
      "958:\tlearn: 0.3808497\ttotal: 816ms\tremaining: 34.9ms\n",
      "959:\tlearn: 0.3779283\ttotal: 817ms\tremaining: 34ms\n",
      "960:\tlearn: 0.3755090\ttotal: 818ms\tremaining: 33.2ms\n",
      "961:\tlearn: 0.3734292\ttotal: 819ms\tremaining: 32.3ms\n",
      "962:\tlearn: 0.3731558\ttotal: 820ms\tremaining: 31.5ms\n",
      "963:\tlearn: 0.3716642\ttotal: 821ms\tremaining: 30.6ms\n",
      "964:\tlearn: 0.3700879\ttotal: 822ms\tremaining: 29.8ms\n",
      "965:\tlearn: 0.3676034\ttotal: 822ms\tremaining: 28.9ms\n",
      "966:\tlearn: 0.3640425\ttotal: 823ms\tremaining: 28.1ms\n",
      "967:\tlearn: 0.3632495\ttotal: 824ms\tremaining: 27.2ms\n",
      "968:\tlearn: 0.3603878\ttotal: 825ms\tremaining: 26.4ms\n",
      "969:\tlearn: 0.3584398\ttotal: 826ms\tremaining: 25.6ms\n",
      "970:\tlearn: 0.3560019\ttotal: 827ms\tremaining: 24.7ms\n",
      "971:\tlearn: 0.3535719\ttotal: 828ms\tremaining: 23.8ms\n",
      "972:\tlearn: 0.3518950\ttotal: 829ms\tremaining: 23ms\n",
      "973:\tlearn: 0.3479039\ttotal: 829ms\tremaining: 22.1ms\n",
      "974:\tlearn: 0.3463938\ttotal: 830ms\tremaining: 21.3ms\n",
      "975:\tlearn: 0.3433932\ttotal: 831ms\tremaining: 20.4ms\n",
      "976:\tlearn: 0.3410148\ttotal: 832ms\tremaining: 19.6ms\n",
      "977:\tlearn: 0.3393532\ttotal: 833ms\tremaining: 18.7ms\n",
      "978:\tlearn: 0.3373067\ttotal: 834ms\tremaining: 17.9ms\n",
      "979:\tlearn: 0.3359122\ttotal: 835ms\tremaining: 17ms\n",
      "980:\tlearn: 0.3340848\ttotal: 836ms\tremaining: 16.2ms\n",
      "981:\tlearn: 0.3331220\ttotal: 837ms\tremaining: 15.3ms\n",
      "982:\tlearn: 0.3308795\ttotal: 838ms\tremaining: 14.5ms\n",
      "983:\tlearn: 0.3288012\ttotal: 838ms\tremaining: 13.6ms\n",
      "984:\tlearn: 0.3271648\ttotal: 839ms\tremaining: 12.8ms\n",
      "985:\tlearn: 0.3246514\ttotal: 840ms\tremaining: 11.9ms\n",
      "986:\tlearn: 0.3218383\ttotal: 841ms\tremaining: 11.1ms\n",
      "987:\tlearn: 0.3206535\ttotal: 842ms\tremaining: 10.2ms\n",
      "988:\tlearn: 0.3190063\ttotal: 843ms\tremaining: 9.38ms\n",
      "989:\tlearn: 0.3176250\ttotal: 844ms\tremaining: 8.52ms\n",
      "990:\tlearn: 0.3146329\ttotal: 845ms\tremaining: 7.67ms\n",
      "991:\tlearn: 0.3130835\ttotal: 846ms\tremaining: 6.82ms\n",
      "992:\tlearn: 0.3107534\ttotal: 846ms\tremaining: 5.97ms\n",
      "993:\tlearn: 0.3089626\ttotal: 847ms\tremaining: 5.12ms\n",
      "994:\tlearn: 0.3080205\ttotal: 848ms\tremaining: 4.26ms\n",
      "995:\tlearn: 0.3055692\ttotal: 849ms\tremaining: 3.41ms\n",
      "996:\tlearn: 0.3035687\ttotal: 850ms\tremaining: 2.56ms\n",
      "997:\tlearn: 0.3019582\ttotal: 851ms\tremaining: 1.71ms\n",
      "998:\tlearn: 0.3000480\ttotal: 852ms\tremaining: 852us\n",
      "999:\tlearn: 0.2971131\ttotal: 853ms\tremaining: 0us\n"
     ]
    }
   ],
   "source": [
    "catB_tuned = CatBoostRegressor(depth = 5, \n",
    "                               iterations = 1000, \n",
    "                               learning_rate = 0.1).fit(X_train, y_train)"
   ]
  },
  {
   "cell_type": "code",
   "execution_count": 180,
   "metadata": {},
   "outputs": [],
   "source": [
    "y_pred = catB_tuned.predict(X_test)"
   ]
  },
  {
   "cell_type": "code",
   "execution_count": 181,
   "metadata": {},
   "outputs": [
    {
     "data": {
      "text/plain": [
       "356.665762904938"
      ]
     },
     "execution_count": 181,
     "metadata": {},
     "output_type": "execute_result"
    }
   ],
   "source": [
    "np.sqrt(mean_squared_error(y_test, y_pred))"
   ]
  }
 ],
 "metadata": {
  "kernelspec": {
   "display_name": "Python 3",
   "language": "python",
   "name": "python3"
  },
  "language_info": {
   "codemirror_mode": {
    "name": "ipython",
    "version": 3
   },
   "file_extension": ".py",
   "mimetype": "text/x-python",
   "name": "python",
   "nbconvert_exporter": "python",
   "pygments_lexer": "ipython3",
   "version": "3.7.3"
  }
 },
 "nbformat": 4,
 "nbformat_minor": 2
}
