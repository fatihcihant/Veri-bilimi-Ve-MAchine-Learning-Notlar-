{
 "cells": [
  {
   "cell_type": "markdown",
   "metadata": {},
   "source": [
    "#  Siniflandirma Yontemleri"
   ]
  },
  {
   "cell_type": "markdown",
   "metadata": {},
   "source": [
    "## Logistic Regresyon"
   ]
  },
  {
   "cell_type": "markdown",
   "metadata": {},
   "source": [
    "* Siniflandirma problemleri icin bagimli ve bagimsiz degiskenler arasindaki iliskiyi tanimlayan dogrusal model kurma amaclar."
   ]
  },
  {
   "cell_type": "markdown",
   "metadata": {},
   "source": [
    "* Yanit degiskeninin iki deger alabildigi durumlarda dogrusal regresyon kullanabiliriz fakat yanıt degiskeni ikiden fazla deger alma durumunda kullanamayız bu yuzden logistic regresyon tercih edilir.\n",
    "* Logistic regresyon yapisi geregi cikti degerinin 0 ile 1 arasinda tutar.\n",
    "* Bagimli degiskenin 1 olarak(baktigimiz sinifta olma durumu) tanimlanan degerinin gerceklesme olasiligi hesaplanir."
   ]
  },
  {
   "cell_type": "markdown",
   "metadata": {},
   "source": [
    "## Model"
   ]
  },
  {
   "cell_type": "code",
   "execution_count": 45,
   "metadata": {},
   "outputs": [],
   "source": [
    "import numpy as np\n",
    "import pandas as pd \n",
    "import statsmodels.api as sm\n",
    "import statsmodels.formula.api as smf\n",
    "import seaborn as sns\n",
    "from sklearn.preprocessing import scale \n",
    "from sklearn.model_selection import train_test_split, GridSearchCV, cross_val_score\n",
    "from sklearn.metrics import confusion_matrix, accuracy_score, classification_report\n",
    "from sklearn.metrics import roc_auc_score,roc_curve\n",
    "import statsmodels.formula.api as smf\n",
    "import matplotlib.pyplot as plt\n",
    "from sklearn.neighbors import KNeighborsClassifier\n",
    "from sklearn.discriminant_analysis import LinearDiscriminantAnalysis\n",
    "from sklearn.linear_model import LogisticRegression\n",
    "from sklearn.svm import SVC\n",
    "from sklearn.naive_bayes import GaussianNB\n",
    "from sklearn import tree\n",
    "from sklearn.ensemble import RandomForestClassifier\n",
    "from sklearn.ensemble import GradientBoostingClassifier\n",
    "from xgboost import XGBClassifier\n",
    "from lightgbm import LGBMClassifier\n",
    "from catboost import CatBoostClassifier\n",
    "\n",
    "from warnings import filterwarnings\n",
    "filterwarnings('ignore')"
   ]
  },
  {
   "cell_type": "code",
   "execution_count": null,
   "metadata": {},
   "outputs": [],
   "source": []
  },
  {
   "cell_type": "code",
   "execution_count": 46,
   "metadata": {},
   "outputs": [],
   "source": [
    "url = 'https://raw.githubusercontent.com/fatihcihant/VeribilimiveMachineLearningNotlar/master/diabetes.csv'\n",
    "data = pd.read_csv(url)\n",
    "df = data.copy()"
   ]
  },
  {
   "cell_type": "code",
   "execution_count": 47,
   "metadata": {},
   "outputs": [
    {
     "data": {
      "text/html": [
       "<div>\n",
       "<style scoped>\n",
       "    .dataframe tbody tr th:only-of-type {\n",
       "        vertical-align: middle;\n",
       "    }\n",
       "\n",
       "    .dataframe tbody tr th {\n",
       "        vertical-align: top;\n",
       "    }\n",
       "\n",
       "    .dataframe thead th {\n",
       "        text-align: right;\n",
       "    }\n",
       "</style>\n",
       "<table border=\"1\" class=\"dataframe\">\n",
       "  <thead>\n",
       "    <tr style=\"text-align: right;\">\n",
       "      <th></th>\n",
       "      <th>Pregnancies</th>\n",
       "      <th>Glucose</th>\n",
       "      <th>BloodPressure</th>\n",
       "      <th>SkinThickness</th>\n",
       "      <th>Insulin</th>\n",
       "      <th>BMI</th>\n",
       "      <th>DiabetesPedigreeFunction</th>\n",
       "      <th>Age</th>\n",
       "      <th>Outcome</th>\n",
       "    </tr>\n",
       "  </thead>\n",
       "  <tbody>\n",
       "    <tr>\n",
       "      <th>0</th>\n",
       "      <td>6</td>\n",
       "      <td>148</td>\n",
       "      <td>72</td>\n",
       "      <td>35</td>\n",
       "      <td>0</td>\n",
       "      <td>33.6</td>\n",
       "      <td>0.627</td>\n",
       "      <td>50</td>\n",
       "      <td>1</td>\n",
       "    </tr>\n",
       "    <tr>\n",
       "      <th>1</th>\n",
       "      <td>1</td>\n",
       "      <td>85</td>\n",
       "      <td>66</td>\n",
       "      <td>29</td>\n",
       "      <td>0</td>\n",
       "      <td>26.6</td>\n",
       "      <td>0.351</td>\n",
       "      <td>31</td>\n",
       "      <td>0</td>\n",
       "    </tr>\n",
       "    <tr>\n",
       "      <th>2</th>\n",
       "      <td>8</td>\n",
       "      <td>183</td>\n",
       "      <td>64</td>\n",
       "      <td>0</td>\n",
       "      <td>0</td>\n",
       "      <td>23.3</td>\n",
       "      <td>0.672</td>\n",
       "      <td>32</td>\n",
       "      <td>1</td>\n",
       "    </tr>\n",
       "    <tr>\n",
       "      <th>3</th>\n",
       "      <td>1</td>\n",
       "      <td>89</td>\n",
       "      <td>66</td>\n",
       "      <td>23</td>\n",
       "      <td>94</td>\n",
       "      <td>28.1</td>\n",
       "      <td>0.167</td>\n",
       "      <td>21</td>\n",
       "      <td>0</td>\n",
       "    </tr>\n",
       "    <tr>\n",
       "      <th>4</th>\n",
       "      <td>0</td>\n",
       "      <td>137</td>\n",
       "      <td>40</td>\n",
       "      <td>35</td>\n",
       "      <td>168</td>\n",
       "      <td>43.1</td>\n",
       "      <td>2.288</td>\n",
       "      <td>33</td>\n",
       "      <td>1</td>\n",
       "    </tr>\n",
       "  </tbody>\n",
       "</table>\n",
       "</div>"
      ],
      "text/plain": [
       "   Pregnancies  Glucose  BloodPressure  SkinThickness  Insulin   BMI  \\\n",
       "0            6      148             72             35        0  33.6   \n",
       "1            1       85             66             29        0  26.6   \n",
       "2            8      183             64              0        0  23.3   \n",
       "3            1       89             66             23       94  28.1   \n",
       "4            0      137             40             35      168  43.1   \n",
       "\n",
       "   DiabetesPedigreeFunction  Age  Outcome  \n",
       "0                     0.627   50        1  \n",
       "1                     0.351   31        0  \n",
       "2                     0.672   32        1  \n",
       "3                     0.167   21        0  \n",
       "4                     2.288   33        1  "
      ]
     },
     "execution_count": 47,
     "metadata": {},
     "output_type": "execute_result"
    }
   ],
   "source": [
    "df.dropna()\n",
    "df.head()"
   ]
  },
  {
   "cell_type": "code",
   "execution_count": 48,
   "metadata": {},
   "outputs": [
    {
     "name": "stdout",
     "output_type": "stream",
     "text": [
      "<class 'pandas.core.frame.DataFrame'>\n",
      "RangeIndex: 768 entries, 0 to 767\n",
      "Data columns (total 9 columns):\n",
      "Pregnancies                 768 non-null int64\n",
      "Glucose                     768 non-null int64\n",
      "BloodPressure               768 non-null int64\n",
      "SkinThickness               768 non-null int64\n",
      "Insulin                     768 non-null int64\n",
      "BMI                         768 non-null float64\n",
      "DiabetesPedigreeFunction    768 non-null float64\n",
      "Age                         768 non-null int64\n",
      "Outcome                     768 non-null int64\n",
      "dtypes: float64(2), int64(7)\n",
      "memory usage: 54.1 KB\n"
     ]
    }
   ],
   "source": [
    "df.info()"
   ]
  },
  {
   "cell_type": "markdown",
   "metadata": {},
   "source": [
    "* Bu datasette hastalarin ozellikleri ve seker hastasi olup olmadiklarinin bilgisi verilmiş\n",
    "* Bİz Outcome 1 degerinie bakacagiz, yani diabet hastasi olma durumunu kontrol eddecegiz."
   ]
  },
  {
   "cell_type": "code",
   "execution_count": 49,
   "metadata": {},
   "outputs": [
    {
     "data": {
      "text/plain": [
       "0    500\n",
       "1    268\n",
       "Name: Outcome, dtype: int64"
      ]
     },
     "execution_count": 49,
     "metadata": {},
     "output_type": "execute_result"
    }
   ],
   "source": [
    "df[\"Outcome\"].value_counts()"
   ]
  },
  {
   "cell_type": "code",
   "execution_count": 50,
   "metadata": {},
   "outputs": [
    {
     "data": {
      "text/plain": [
       "<matplotlib.axes._subplots.AxesSubplot at 0x1d4d1429c50>"
      ]
     },
     "execution_count": 50,
     "metadata": {},
     "output_type": "execute_result"
    },
    {
     "data": {
      "image/png": "[encoded data removed]",
      "text/plain": [
       "<Figure size 432x288 with 1 Axes>"
      ]
     },
     "metadata": {
      "needs_background": "light"
     },
     "output_type": "display_data"
    }
   ],
   "source": [
    "df[\"Outcome\"].value_counts().plot.barh()"
   ]
  },
  {
   "cell_type": "code",
   "execution_count": 51,
   "metadata": {},
   "outputs": [
    {
     "data": {
      "text/html": [
       "<div>\n",
       "<style scoped>\n",
       "    .dataframe tbody tr th:only-of-type {\n",
       "        vertical-align: middle;\n",
       "    }\n",
       "\n",
       "    .dataframe tbody tr th {\n",
       "        vertical-align: top;\n",
       "    }\n",
       "\n",
       "    .dataframe thead th {\n",
       "        text-align: right;\n",
       "    }\n",
       "</style>\n",
       "<table border=\"1\" class=\"dataframe\">\n",
       "  <thead>\n",
       "    <tr style=\"text-align: right;\">\n",
       "      <th></th>\n",
       "      <th>count</th>\n",
       "      <th>mean</th>\n",
       "      <th>std</th>\n",
       "      <th>min</th>\n",
       "      <th>25%</th>\n",
       "      <th>50%</th>\n",
       "      <th>75%</th>\n",
       "      <th>max</th>\n",
       "    </tr>\n",
       "  </thead>\n",
       "  <tbody>\n",
       "    <tr>\n",
       "      <th>Pregnancies</th>\n",
       "      <td>768.0</td>\n",
       "      <td>3.845052</td>\n",
       "      <td>3.369578</td>\n",
       "      <td>0.000</td>\n",
       "      <td>1.00000</td>\n",
       "      <td>3.0000</td>\n",
       "      <td>6.00000</td>\n",
       "      <td>17.00</td>\n",
       "    </tr>\n",
       "    <tr>\n",
       "      <th>Glucose</th>\n",
       "      <td>768.0</td>\n",
       "      <td>120.894531</td>\n",
       "      <td>31.972618</td>\n",
       "      <td>0.000</td>\n",
       "      <td>99.00000</td>\n",
       "      <td>117.0000</td>\n",
       "      <td>140.25000</td>\n",
       "      <td>199.00</td>\n",
       "    </tr>\n",
       "    <tr>\n",
       "      <th>BloodPressure</th>\n",
       "      <td>768.0</td>\n",
       "      <td>69.105469</td>\n",
       "      <td>19.355807</td>\n",
       "      <td>0.000</td>\n",
       "      <td>62.00000</td>\n",
       "      <td>72.0000</td>\n",
       "      <td>80.00000</td>\n",
       "      <td>122.00</td>\n",
       "    </tr>\n",
       "    <tr>\n",
       "      <th>SkinThickness</th>\n",
       "      <td>768.0</td>\n",
       "      <td>20.536458</td>\n",
       "      <td>15.952218</td>\n",
       "      <td>0.000</td>\n",
       "      <td>0.00000</td>\n",
       "      <td>23.0000</td>\n",
       "      <td>32.00000</td>\n",
       "      <td>99.00</td>\n",
       "    </tr>\n",
       "    <tr>\n",
       "      <th>Insulin</th>\n",
       "      <td>768.0</td>\n",
       "      <td>79.799479</td>\n",
       "      <td>115.244002</td>\n",
       "      <td>0.000</td>\n",
       "      <td>0.00000</td>\n",
       "      <td>30.5000</td>\n",
       "      <td>127.25000</td>\n",
       "      <td>846.00</td>\n",
       "    </tr>\n",
       "    <tr>\n",
       "      <th>BMI</th>\n",
       "      <td>768.0</td>\n",
       "      <td>31.992578</td>\n",
       "      <td>7.884160</td>\n",
       "      <td>0.000</td>\n",
       "      <td>27.30000</td>\n",
       "      <td>32.0000</td>\n",
       "      <td>36.60000</td>\n",
       "      <td>67.10</td>\n",
       "    </tr>\n",
       "    <tr>\n",
       "      <th>DiabetesPedigreeFunction</th>\n",
       "      <td>768.0</td>\n",
       "      <td>0.471876</td>\n",
       "      <td>0.331329</td>\n",
       "      <td>0.078</td>\n",
       "      <td>0.24375</td>\n",
       "      <td>0.3725</td>\n",
       "      <td>0.62625</td>\n",
       "      <td>2.42</td>\n",
       "    </tr>\n",
       "    <tr>\n",
       "      <th>Age</th>\n",
       "      <td>768.0</td>\n",
       "      <td>33.240885</td>\n",
       "      <td>11.760232</td>\n",
       "      <td>21.000</td>\n",
       "      <td>24.00000</td>\n",
       "      <td>29.0000</td>\n",
       "      <td>41.00000</td>\n",
       "      <td>81.00</td>\n",
       "    </tr>\n",
       "    <tr>\n",
       "      <th>Outcome</th>\n",
       "      <td>768.0</td>\n",
       "      <td>0.348958</td>\n",
       "      <td>0.476951</td>\n",
       "      <td>0.000</td>\n",
       "      <td>0.00000</td>\n",
       "      <td>0.0000</td>\n",
       "      <td>1.00000</td>\n",
       "      <td>1.00</td>\n",
       "    </tr>\n",
       "  </tbody>\n",
       "</table>\n",
       "</div>"
      ],
      "text/plain": [
       "                          count        mean         std     min       25%  \\\n",
       "Pregnancies               768.0    3.845052    3.369578   0.000   1.00000   \n",
       "Glucose                   768.0  120.894531   31.972618   0.000  99.00000   \n",
       "BloodPressure             768.0   69.105469   19.355807   0.000  62.00000   \n",
       "SkinThickness             768.0   20.536458   15.952218   0.000   0.00000   \n",
       "Insulin                   768.0   79.799479  115.244002   0.000   0.00000   \n",
       "BMI                       768.0   31.992578    7.884160   0.000  27.30000   \n",
       "DiabetesPedigreeFunction  768.0    0.471876    0.331329   0.078   0.24375   \n",
       "Age                       768.0   33.240885   11.760232  21.000  24.00000   \n",
       "Outcome                   768.0    0.348958    0.476951   0.000   0.00000   \n",
       "\n",
       "                               50%        75%     max  \n",
       "Pregnancies                 3.0000    6.00000   17.00  \n",
       "Glucose                   117.0000  140.25000  199.00  \n",
       "BloodPressure              72.0000   80.00000  122.00  \n",
       "SkinThickness              23.0000   32.00000   99.00  \n",
       "Insulin                    30.5000  127.25000  846.00  \n",
       "BMI                        32.0000   36.60000   67.10  \n",
       "DiabetesPedigreeFunction    0.3725    0.62625    2.42  \n",
       "Age                        29.0000   41.00000   81.00  \n",
       "Outcome                     0.0000    1.00000    1.00  "
      ]
     },
     "execution_count": 51,
     "metadata": {},
     "output_type": "execute_result"
    }
   ],
   "source": [
    "df.describe().T"
   ]
  },
  {
   "cell_type": "code",
   "execution_count": 52,
   "metadata": {},
   "outputs": [],
   "source": [
    "y = df[\"Outcome\"]\n",
    "X = df.drop([\"Outcome\"], axis = 1)"
   ]
  },
  {
   "cell_type": "code",
   "execution_count": 53,
   "metadata": {},
   "outputs": [
    {
     "name": "stdout",
     "output_type": "stream",
     "text": [
      "Optimization terminated successfully.\n",
      "         Current function value: 0.608498\n",
      "         Iterations 5\n"
     ]
    },
    {
     "data": {
      "text/html": [
       "<table class=\"simpletable\">\n",
       "<caption>Logit Regression Results</caption>\n",
       "<tr>\n",
       "  <th>Dep. Variable:</th>      <td>Outcome</td>     <th>  No. Observations:  </th>  <td>   768</td>  \n",
       "</tr>\n",
       "<tr>\n",
       "  <th>Model:</th>               <td>Logit</td>      <th>  Df Residuals:      </th>  <td>   760</td>  \n",
       "</tr>\n",
       "<tr>\n",
       "  <th>Method:</th>               <td>MLE</td>       <th>  Df Model:          </th>  <td>     7</td>  \n",
       "</tr>\n",
       "<tr>\n",
       "  <th>Date:</th>          <td>Thu, 30 Sep 2021</td> <th>  Pseudo R-squ.:     </th>  <td>0.05922</td> \n",
       "</tr>\n",
       "<tr>\n",
       "  <th>Time:</th>              <td>15:37:14</td>     <th>  Log-Likelihood:    </th> <td> -467.33</td> \n",
       "</tr>\n",
       "<tr>\n",
       "  <th>converged:</th>           <td>True</td>       <th>  LL-Null:           </th> <td> -496.74</td> \n",
       "</tr>\n",
       "<tr>\n",
       "  <th> </th>                      <td> </td>        <th>  LLR p-value:       </th> <td>2.583e-10</td>\n",
       "</tr>\n",
       "</table>\n",
       "<table class=\"simpletable\">\n",
       "<tr>\n",
       "              <td></td>                <th>coef</th>     <th>std err</th>      <th>z</th>      <th>P>|z|</th>  <th>[0.025</th>    <th>0.975]</th>  \n",
       "</tr>\n",
       "<tr>\n",
       "  <th>Pregnancies</th>              <td>    0.1284</td> <td>    0.029</td> <td>    4.484</td> <td> 0.000</td> <td>    0.072</td> <td>    0.185</td>\n",
       "</tr>\n",
       "<tr>\n",
       "  <th>Glucose</th>                  <td>    0.0129</td> <td>    0.003</td> <td>    4.757</td> <td> 0.000</td> <td>    0.008</td> <td>    0.018</td>\n",
       "</tr>\n",
       "<tr>\n",
       "  <th>BloodPressure</th>            <td>   -0.0303</td> <td>    0.005</td> <td>   -6.481</td> <td> 0.000</td> <td>   -0.039</td> <td>   -0.021</td>\n",
       "</tr>\n",
       "<tr>\n",
       "  <th>SkinThickness</th>            <td>    0.0002</td> <td>    0.006</td> <td>    0.032</td> <td> 0.974</td> <td>   -0.012</td> <td>    0.012</td>\n",
       "</tr>\n",
       "<tr>\n",
       "  <th>Insulin</th>                  <td>    0.0007</td> <td>    0.001</td> <td>    0.942</td> <td> 0.346</td> <td>   -0.001</td> <td>    0.002</td>\n",
       "</tr>\n",
       "<tr>\n",
       "  <th>BMI</th>                      <td>   -0.0048</td> <td>    0.011</td> <td>   -0.449</td> <td> 0.653</td> <td>   -0.026</td> <td>    0.016</td>\n",
       "</tr>\n",
       "<tr>\n",
       "  <th>DiabetesPedigreeFunction</th> <td>    0.3203</td> <td>    0.240</td> <td>    1.335</td> <td> 0.182</td> <td>   -0.150</td> <td>    0.790</td>\n",
       "</tr>\n",
       "<tr>\n",
       "  <th>Age</th>                      <td>   -0.0156</td> <td>    0.008</td> <td>   -1.852</td> <td> 0.064</td> <td>   -0.032</td> <td>    0.001</td>\n",
       "</tr>\n",
       "</table>"
      ],
      "text/plain": [
       "<class 'statsmodels.iolib.summary.Summary'>\n",
       "\"\"\"\n",
       "                           Logit Regression Results                           \n",
       "==============================================================================\n",
       "Dep. Variable:                Outcome   No. Observations:                  768\n",
       "Model:                          Logit   Df Residuals:                      760\n",
       "Method:                           MLE   Df Model:                            7\n",
       "Date:                Thu, 30 Sep 2021   Pseudo R-squ.:                 0.05922\n",
       "Time:                        15:37:14   Log-Likelihood:                -467.33\n",
       "converged:                       True   LL-Null:                       -496.74\n",
       "                                        LLR p-value:                 2.583e-10\n",
       "============================================================================================\n",
       "                               coef    std err          z      P>|z|      [0.025      0.975]\n",
       "--------------------------------------------------------------------------------------------\n",
       "Pregnancies                  0.1284      0.029      4.484      0.000       0.072       0.185\n",
       "Glucose                      0.0129      0.003      4.757      0.000       0.008       0.018\n",
       "BloodPressure               -0.0303      0.005     -6.481      0.000      -0.039      -0.021\n",
       "SkinThickness                0.0002      0.006      0.032      0.974      -0.012       0.012\n",
       "Insulin                      0.0007      0.001      0.942      0.346      -0.001       0.002\n",
       "BMI                         -0.0048      0.011     -0.449      0.653      -0.026       0.016\n",
       "DiabetesPedigreeFunction     0.3203      0.240      1.335      0.182      -0.150       0.790\n",
       "Age                         -0.0156      0.008     -1.852      0.064      -0.032       0.001\n",
       "============================================================================================\n",
       "\"\"\""
      ]
     },
     "execution_count": 53,
     "metadata": {},
     "output_type": "execute_result"
    }
   ],
   "source": [
    "#statsmodel\n",
    "loj = sm.Logit(y, X)\n",
    "loj_model = loj.fit()\n",
    "loj_model.summary()"
   ]
  },
  {
   "cell_type": "code",
   "execution_count": 54,
   "metadata": {},
   "outputs": [],
   "source": [
    "# scikit-learn"
   ]
  },
  {
   "cell_type": "code",
   "execution_count": 55,
   "metadata": {},
   "outputs": [
    {
     "data": {
      "text/plain": [
       "LogisticRegression(solver='liblinear')"
      ]
     },
     "execution_count": 55,
     "metadata": {},
     "output_type": "execute_result"
    }
   ],
   "source": [
    "from sklearn.linear_model import LogisticRegression\n",
    "loj = LogisticRegression(solver = \"liblinear\")\n",
    "loj_model = loj.fit(X,y)\n",
    "loj_model"
   ]
  },
  {
   "cell_type": "code",
   "execution_count": 56,
   "metadata": {},
   "outputs": [
    {
     "data": {
      "text/plain": [
       "array([-5.89139955])"
      ]
     },
     "execution_count": 56,
     "metadata": {},
     "output_type": "execute_result"
    }
   ],
   "source": [
    "loj_model.intercept_"
   ]
  },
  {
   "cell_type": "code",
   "execution_count": 57,
   "metadata": {},
   "outputs": [
    {
     "data": {
      "text/plain": [
       "array([[ 1.17045952e-01,  2.83868025e-02, -1.68886321e-02,\n",
       "         7.55752835e-04, -6.42670357e-04,  5.97559674e-02,\n",
       "         6.77534900e-01,  7.24016631e-03]])"
      ]
     },
     "execution_count": 57,
     "metadata": {},
     "output_type": "execute_result"
    }
   ],
   "source": [
    "loj_model.coef_"
   ]
  },
  {
   "cell_type": "markdown",
   "metadata": {},
   "source": [
    "## Tahmin & Tuning"
   ]
  },
  {
   "cell_type": "markdown",
   "metadata": {},
   "source": [
    "* Siniflandirma problemlerinde 1 ve 0 'in hangi durumlara karsilik olduguna dikkat edilmeli\n",
    "* Genellikle olusma ihtimali az olan durum odaklanilan, yani degeri 1 olan durum olur"
   ]
  },
  {
   "cell_type": "code",
   "execution_count": 58,
   "metadata": {},
   "outputs": [],
   "source": [
    "y_pred = loj_model.predict(X)\n"
   ]
  },
  {
   "cell_type": "code",
   "execution_count": 59,
   "metadata": {},
   "outputs": [
    {
     "data": {
      "text/plain": [
       "array([[448,  52],\n",
       "       [121, 147]], dtype=int64)"
      ]
     },
     "execution_count": 59,
     "metadata": {},
     "output_type": "execute_result"
    }
   ],
   "source": [
    "confusion_matrix(y, y_pred)"
   ]
  },
  {
   "cell_type": "code",
   "execution_count": 60,
   "metadata": {},
   "outputs": [
    {
     "data": {
      "text/plain": [
       "0.7747395833333334"
      ]
     },
     "execution_count": 60,
     "metadata": {},
     "output_type": "execute_result"
    }
   ],
   "source": [
    "accuracy_score(y, y_pred)"
   ]
  },
  {
   "cell_type": "code",
   "execution_count": 61,
   "metadata": {},
   "outputs": [
    {
     "name": "stdout",
     "output_type": "stream",
     "text": [
      "              precision    recall  f1-score   support\n",
      "\n",
      "           0       0.79      0.90      0.84       500\n",
      "           1       0.74      0.55      0.63       268\n",
      "\n",
      "    accuracy                           0.77       768\n",
      "   macro avg       0.76      0.72      0.73       768\n",
      "weighted avg       0.77      0.77      0.77       768\n",
      "\n"
     ]
    }
   ],
   "source": [
    "print(classification_report(y, y_pred))"
   ]
  },
  {
   "cell_type": "code",
   "execution_count": 62,
   "metadata": {},
   "outputs": [
    {
     "data": {
      "text/plain": [
       "array([1, 0, 1, 0, 1, 0, 0, 1, 1, 0], dtype=int64)"
      ]
     },
     "execution_count": 62,
     "metadata": {},
     "output_type": "execute_result"
    }
   ],
   "source": [
    "loj_model.predict(X)[0:10] # bize direkt siniflandirdigi degerleri gosterir"
   ]
  },
  {
   "cell_type": "code",
   "execution_count": 63,
   "metadata": {},
   "outputs": [
    {
     "data": {
      "text/plain": [
       "array([[0.3504149 , 0.6495851 ],\n",
       "       [0.91701315, 0.08298685],\n",
       "       [0.22475237, 0.77524763],\n",
       "       [0.92138186, 0.07861814],\n",
       "       [0.16726482, 0.83273518],\n",
       "       [0.7989777 , 0.2010223 ],\n",
       "       [0.88018525, 0.11981475],\n",
       "       [0.27814486, 0.72185514],\n",
       "       [0.32058963, 0.67941037],\n",
       "       [0.92271591, 0.07728409]])"
      ]
     },
     "execution_count": 63,
     "metadata": {},
     "output_type": "execute_result"
    }
   ],
   "source": [
    "loj_model.predict_proba(X)[0:10]\n",
    "# siniflandirma ihtimallerini gormek icin. Ilk deger 0, ikinci deger 1 olma ihtimali"
   ]
  },
  {
   "cell_type": "code",
   "execution_count": 64,
   "metadata": {},
   "outputs": [
    {
     "data": {
      "text/plain": [
       "0    1\n",
       "1    0\n",
       "2    1\n",
       "3    0\n",
       "4    1\n",
       "5    0\n",
       "6    1\n",
       "7    0\n",
       "8    1\n",
       "9    1\n",
       "Name: Outcome, dtype: int64"
      ]
     },
     "execution_count": 64,
     "metadata": {},
     "output_type": "execute_result"
    }
   ],
   "source": [
    "y[0:10]"
   ]
  },
  {
   "cell_type": "markdown",
   "metadata": {},
   "source": [
    "* Degerleri kontrol ederek olasilik atamalarinda bir terslik var mi bakmis oluruz"
   ]
  },
  {
   "cell_type": "code",
   "execution_count": 65,
   "metadata": {},
   "outputs": [],
   "source": [
    "y_probs = loj_model.predict_proba(X)\n",
    "y_probs = y_probs[:,1] "
   ]
  },
  {
   "cell_type": "markdown",
   "metadata": {},
   "source": [
    " * 1 olma durumu inceliyoruz, 1 olma olasiliklarini arraye topladik"
   ]
  },
  {
   "cell_type": "code",
   "execution_count": 66,
   "metadata": {},
   "outputs": [],
   "source": [
    "y_pred = [1 if i > 0.5 else 0 for i in y_probs] \n"
   ]
  },
  {
   "cell_type": "markdown",
   "metadata": {},
   "source": [
    "* kendi esik degerimizi secip 1 olma olasiliklarini yeniden bulduk\n",
    "* genelde 0.5 default olarak esik deger olarak kullanilir"
   ]
  },
  {
   "cell_type": "code",
   "execution_count": 67,
   "metadata": {},
   "outputs": [
    {
     "data": {
      "image/png": "[encoded data removed]",
      "text/plain": [
       "<Figure size 432x288 with 1 Axes>"
      ]
     },
     "metadata": {
      "needs_background": "light"
     },
     "output_type": "display_data"
    }
   ],
   "source": [
    "logit_roc_auc = roc_auc_score(y, loj_model.predict(X))\n",
    "\n",
    "fpr, tpr, thresholds = roc_curve(y, loj_model.predict_proba(X)[:,1])\n",
    "plt.figure()\n",
    "plt.plot(fpr, tpr, label='AUC (area = %0.2f)' % logit_roc_auc)\n",
    "plt.plot([0, 1], [0, 1],'r--')\n",
    "plt.xlim([0.0, 1.0])\n",
    "plt.ylim([0.0, 1.05])\n",
    "plt.xlabel('False Positive Oranı')\n",
    "plt.ylabel('True Positive Oranı')\n",
    "plt.title('ROC')\n",
    "plt.show()"
   ]
  },
  {
   "cell_type": "code",
   "execution_count": 68,
   "metadata": {},
   "outputs": [],
   "source": [
    "X_train, X_test, y_train, y_test = train_test_split(X, y, \n",
    "                                                    test_size = 0.30, \n",
    "                                                    random_state = 42)\n"
   ]
  },
  {
   "cell_type": "code",
   "execution_count": 69,
   "metadata": {},
   "outputs": [
    {
     "data": {
      "text/plain": [
       "LogisticRegression(solver='liblinear')"
      ]
     },
     "execution_count": 69,
     "metadata": {},
     "output_type": "execute_result"
    }
   ],
   "source": [
    "loj = LogisticRegression(solver = \"liblinear\")\n",
    "loj_model = loj.fit(X_train,y_train)\n",
    "loj_model"
   ]
  },
  {
   "cell_type": "code",
   "execution_count": 70,
   "metadata": {},
   "outputs": [
    {
     "data": {
      "text/plain": [
       "0.7532467532467533"
      ]
     },
     "execution_count": 70,
     "metadata": {},
     "output_type": "execute_result"
    }
   ],
   "source": [
    "accuracy_score(y_test, loj_model.predict(X_test))"
   ]
  },
  {
   "cell_type": "code",
   "execution_count": 71,
   "metadata": {},
   "outputs": [
    {
     "data": {
      "text/plain": [
       "0.7748188405797102"
      ]
     },
     "execution_count": 71,
     "metadata": {},
     "output_type": "execute_result"
    }
   ],
   "source": [
    "cross_val_score(loj_model, X_test, y_test, cv = 10).mean() # cv ile ideal accuracy_score"
   ]
  },
  {
   "cell_type": "markdown",
   "metadata": {},
   "source": [
    "## Naive Bayes"
   ]
  },
  {
   "cell_type": "markdown",
   "metadata": {},
   "source": [
    "* Olasilik temelli bir modelleme teknigi. Amac belirli bir ornegin her bir sinifa ait olma olasiliginin kosullu olasilik temelli hesaplanmasidir."
   ]
  },
  {
   "cell_type": "markdown",
   "metadata": {},
   "source": [
    "* Hedef yanit degiskeni cok sinifliysa ve aralarinda eleme yapamiyorsak bunu kullanabiliriz."
   ]
  },
  {
   "cell_type": "markdown",
   "metadata": {},
   "source": [
    "### Model Tahmin"
   ]
  },
  {
   "cell_type": "code",
   "execution_count": 72,
   "metadata": {},
   "outputs": [],
   "source": [
    "url = 'https://raw.githubusercontent.com/fatihcihant/VeribilimiveMachineLearningNotlar/master/diabetes.csv'\n",
    "data = pd.read_csv(url)\n",
    "df = data.copy()\n",
    "df = df.dropna()\n",
    "y = df[\"Outcome\"]\n",
    "X = df.drop(['Outcome'], axis=1)\n",
    "X_train, X_test, y_train, y_test = train_test_split(X, y, \n",
    "                                                    test_size=0.30, \n",
    "                                                    random_state=42)"
   ]
  },
  {
   "cell_type": "code",
   "execution_count": 73,
   "metadata": {},
   "outputs": [],
   "source": [
    "from sklearn.naive_bayes import GaussianNB"
   ]
  },
  {
   "cell_type": "code",
   "execution_count": 74,
   "metadata": {},
   "outputs": [],
   "source": [
    "nb = GaussianNB()\n",
    "nb_model = nb.fit(X_train, y_train)\n"
   ]
  },
  {
   "cell_type": "code",
   "execution_count": 75,
   "metadata": {},
   "outputs": [
    {
     "data": {
      "text/plain": [
       "array([0, 0, 0, 0, 1, 1, 0, 0, 0, 1], dtype=int64)"
      ]
     },
     "execution_count": 75,
     "metadata": {},
     "output_type": "execute_result"
    }
   ],
   "source": [
    "nb_model.predict(X_test)[0:10]"
   ]
  },
  {
   "cell_type": "code",
   "execution_count": 76,
   "metadata": {},
   "outputs": [
    {
     "data": {
      "text/plain": [
       "array([[0.73815858, 0.26184142],\n",
       "       [0.94027894, 0.05972106],\n",
       "       [0.97242831, 0.02757169],\n",
       "       [0.82840069, 0.17159931],\n",
       "       [0.47153473, 0.52846527],\n",
       "       [0.47274458, 0.52725542],\n",
       "       [0.99607705, 0.00392295],\n",
       "       [0.69925055, 0.30074945],\n",
       "       [0.53838117, 0.46161883],\n",
       "       [0.25004536, 0.74995464]])"
      ]
     },
     "execution_count": 76,
     "metadata": {},
     "output_type": "execute_result"
    }
   ],
   "source": [
    "nb_model.predict_proba(X_test)[0:10]"
   ]
  },
  {
   "cell_type": "code",
   "execution_count": 77,
   "metadata": {},
   "outputs": [],
   "source": [
    "y_pred = nb_model.predict(X_test)"
   ]
  },
  {
   "cell_type": "code",
   "execution_count": 78,
   "metadata": {},
   "outputs": [
    {
     "data": {
      "text/plain": [
       "0.7445887445887446"
      ]
     },
     "execution_count": 78,
     "metadata": {},
     "output_type": "execute_result"
    }
   ],
   "source": [
    "accuracy_score(y_test, y_pred)"
   ]
  },
  {
   "cell_type": "code",
   "execution_count": 79,
   "metadata": {},
   "outputs": [
    {
     "data": {
      "text/plain": [
       "0.775"
      ]
     },
     "execution_count": 79,
     "metadata": {},
     "output_type": "execute_result"
    }
   ],
   "source": [
    "cross_val_score(nb_model, X_test, y_test, cv = 10).mean() # dogrulanmis test skorumuz"
   ]
  },
  {
   "cell_type": "markdown",
   "metadata": {},
   "source": [
    "## KNN"
   ]
  },
  {
   "cell_type": "markdown",
   "metadata": {},
   "source": [
    "* Tahminler gozlem benzerligine gore yapilir."
   ]
  },
  {
   "cell_type": "markdown",
   "metadata": {},
   "source": [
    "* Knn basamaklari:\n",
    "    - Komsu sayisi belrilenir\n",
    "    - Bilinmeyen noktalar ile diger um noktalar arasindaki uzaklik hesaplanir\n",
    "    - Uzakliklar siralanir ve belirlenen k sayisina gore en yakın k adeet gozlem secilir\n",
    "    - Siniflandirirken en sik sinif tahmi olarak verilir"
   ]
  },
  {
   "cell_type": "markdown",
   "metadata": {},
   "source": [
    "### Model & Tahmin"
   ]
  },
  {
   "cell_type": "code",
   "execution_count": 80,
   "metadata": {},
   "outputs": [],
   "source": [
    "url = 'https://raw.githubusercontent.com/fatihcihant/VeribilimiveMachineLearningNotlar/master/diabetes.csv'\n",
    "data = pd.read_csv(url)\n",
    "df = data.copy()\n",
    "df = df.dropna()\n",
    "y = df[\"Outcome\"]\n",
    "X = df.drop(['Outcome'], axis=1)\n",
    "X_train, X_test, y_train, y_test = train_test_split(X, y, \n",
    "                                                    test_size=0.30, \n",
    "                                                    random_state=42)"
   ]
  },
  {
   "cell_type": "code",
   "execution_count": 81,
   "metadata": {},
   "outputs": [],
   "source": [
    "knn = KNeighborsClassifier()\n",
    "knn_model = knn.fit(X_train, y_train)\n"
   ]
  },
  {
   "cell_type": "code",
   "execution_count": 82,
   "metadata": {},
   "outputs": [],
   "source": [
    "y_pred = knn_model.predict(X_test)"
   ]
  },
  {
   "cell_type": "code",
   "execution_count": 83,
   "metadata": {},
   "outputs": [
    {
     "data": {
      "text/plain": [
       "0.6883116883116883"
      ]
     },
     "execution_count": 83,
     "metadata": {},
     "output_type": "execute_result"
    }
   ],
   "source": [
    "accuracy_score(y_test, y_pred)"
   ]
  },
  {
   "cell_type": "code",
   "execution_count": 84,
   "metadata": {},
   "outputs": [
    {
     "name": "stdout",
     "output_type": "stream",
     "text": [
      "              precision    recall  f1-score   support\n",
      "\n",
      "           0       0.77      0.75      0.76       151\n",
      "           1       0.55      0.56      0.56        80\n",
      "\n",
      "    accuracy                           0.69       231\n",
      "   macro avg       0.66      0.66      0.66       231\n",
      "weighted avg       0.69      0.69      0.69       231\n",
      "\n"
     ]
    }
   ],
   "source": [
    "print(classification_report(y_test, y_pred))"
   ]
  },
  {
   "cell_type": "markdown",
   "metadata": {},
   "source": [
    "### Model Tuning"
   ]
  },
  {
   "cell_type": "code",
   "execution_count": 85,
   "metadata": {},
   "outputs": [],
   "source": [
    "knn_params = {'n_neighbors':np.arange(1,50)}"
   ]
  },
  {
   "cell_type": "code",
   "execution_count": 86,
   "metadata": {},
   "outputs": [
    {
     "data": {
      "text/plain": [
       "GridSearchCV(cv=10, estimator=KNeighborsClassifier(),\n",
       "             param_grid={'n_neighbors': array([ 1,  2,  3,  4,  5,  6,  7,  8,  9, 10, 11, 12, 13, 14, 15, 16, 17,\n",
       "       18, 19, 20, 21, 22, 23, 24, 25, 26, 27, 28, 29, 30, 31, 32, 33, 34,\n",
       "       35, 36, 37, 38, 39, 40, 41, 42, 43, 44, 45, 46, 47, 48, 49])})"
      ]
     },
     "execution_count": 86,
     "metadata": {},
     "output_type": "execute_result"
    }
   ],
   "source": [
    "knn = KNeighborsClassifier()\n",
    "knn_cv = GridSearchCV(knn, knn_params, cv = 10)\n",
    "knn_cv.fit(X_train, y_train)"
   ]
  },
  {
   "cell_type": "code",
   "execution_count": 87,
   "metadata": {},
   "outputs": [
    {
     "data": {
      "text/plain": [
       "{'n_neighbors': 11}"
      ]
     },
     "execution_count": 87,
     "metadata": {},
     "output_type": "execute_result"
    }
   ],
   "source": [
    "knn_cv.best_params_"
   ]
  },
  {
   "cell_type": "code",
   "execution_count": 88,
   "metadata": {},
   "outputs": [
    {
     "data": {
      "text/plain": [
       "0.748637316561845"
      ]
     },
     "execution_count": 88,
     "metadata": {},
     "output_type": "execute_result"
    }
   ],
   "source": [
    "knn_cv.best_score_"
   ]
  },
  {
   "cell_type": "code",
   "execution_count": 89,
   "metadata": {},
   "outputs": [
    {
     "data": {
      "text/plain": [
       "KNeighborsClassifier(n_neighbors=11)"
      ]
     },
     "execution_count": 89,
     "metadata": {},
     "output_type": "execute_result"
    }
   ],
   "source": [
    "knn_tuned = KNeighborsClassifier(n_neighbors = 11)\n",
    "knn_tuned.fit(X_train, y_train)"
   ]
  },
  {
   "cell_type": "code",
   "execution_count": 90,
   "metadata": {},
   "outputs": [
    {
     "data": {
      "text/plain": [
       "0.7316017316017316"
      ]
     },
     "execution_count": 90,
     "metadata": {},
     "output_type": "execute_result"
    }
   ],
   "source": [
    "knn_tuned.score(X_test, y_test)"
   ]
  },
  {
   "cell_type": "code",
   "execution_count": 91,
   "metadata": {},
   "outputs": [],
   "source": [
    "y_pred = knn_tuned.predict(X_test)"
   ]
  },
  {
   "cell_type": "code",
   "execution_count": 92,
   "metadata": {},
   "outputs": [
    {
     "data": {
      "text/plain": [
       "0.7316017316017316"
      ]
     },
     "execution_count": 92,
     "metadata": {},
     "output_type": "execute_result"
    }
   ],
   "source": [
    "accuracy_score(y_test, y_pred)"
   ]
  },
  {
   "cell_type": "markdown",
   "metadata": {},
   "source": [
    "## Destek Vektor Siniflandirici SVC"
   ]
  },
  {
   "cell_type": "markdown",
   "metadata": {},
   "source": [
    "* Amac  iki sinif arasindaki ayrimin optimum olmasini saglayacak hiper duzlemi bulmaktir."
   ]
  },
  {
   "cell_type": "markdown",
   "metadata": {},
   "source": [
    "### Model Tuning"
   ]
  },
  {
   "cell_type": "code",
   "execution_count": 93,
   "metadata": {},
   "outputs": [
    {
     "name": "stdout",
     "output_type": "stream",
     "text": [
      "Fitting 10 folds for each of 9 candidates, totalling 90 fits\n"
     ]
    },
    {
     "data": {
      "text/plain": [
       "GridSearchCV(cv=10, estimator=SVC(kernel='linear'), n_jobs=-1,\n",
       "             param_grid={'C': array([1, 2, 3, 4, 5, 6, 7, 8, 9])}, verbose=2)"
      ]
     },
     "execution_count": 93,
     "metadata": {},
     "output_type": "execute_result"
    }
   ],
   "source": [
    "svc_params = { 'C': np.arange(1,10)}\n",
    "svc = SVC(kernel = 'linear')\n",
    "svc_cv = GridSearchCV(svc,\n",
    "                      svc_params,\n",
    "                      cv = 10, \n",
    "                      n_jobs = -1,\n",
    "                      verbose = 2\n",
    "                     )\n",
    "svc_cv.fit(X_train, y_train)"
   ]
  },
  {
   "cell_type": "markdown",
   "metadata": {},
   "source": [
    "* 'C': np.arange(0,10) olamaz cunku c degerinin 0 olmamasi gerekir."
   ]
  },
  {
   "cell_type": "code",
   "execution_count": 94,
   "metadata": {},
   "outputs": [
    {
     "data": {
      "text/plain": [
       "{'C': 5}"
      ]
     },
     "execution_count": 94,
     "metadata": {},
     "output_type": "execute_result"
    }
   ],
   "source": [
    "svc_cv.best_params_"
   ]
  },
  {
   "cell_type": "code",
   "execution_count": 95,
   "metadata": {},
   "outputs": [
    {
     "data": {
      "text/plain": [
       "SVC(C=5, kernel='linear')"
      ]
     },
     "execution_count": 95,
     "metadata": {},
     "output_type": "execute_result"
    }
   ],
   "source": [
    "svc_tuned = SVC(kernel = 'linear', C = 5)\n",
    "svc_tuned.fit(X_train, y_train)"
   ]
  },
  {
   "cell_type": "code",
   "execution_count": 96,
   "metadata": {},
   "outputs": [],
   "source": [
    "y_pred = svc_tuned.predict(X_test)"
   ]
  },
  {
   "cell_type": "code",
   "execution_count": 97,
   "metadata": {},
   "outputs": [
    {
     "data": {
      "text/plain": [
       "0.7445887445887446"
      ]
     },
     "execution_count": 97,
     "metadata": {},
     "output_type": "execute_result"
    }
   ],
   "source": [
    "accuracy_score(y_test, y_pred)"
   ]
  },
  {
   "cell_type": "markdown",
   "metadata": {},
   "source": [
    "## RBF SVC"
   ]
  },
  {
   "cell_type": "markdown",
   "metadata": {},
   "source": [
    "* Dogrusal olmayan svc"
   ]
  },
  {
   "cell_type": "code",
   "execution_count": 98,
   "metadata": {},
   "outputs": [],
   "source": [
    "url = 'https://raw.githubusercontent.com/fatihcihant/VeribilimiveMachineLearningNotlar/master/diabetes.csv'\n",
    "data = pd.read_csv(url)\n",
    "df = data.copy()\n",
    "df = df.dropna()\n",
    "y = df[\"Outcome\"]\n",
    "X = df.drop(['Outcome'], axis=1)\n",
    "X_train, X_test, y_train, y_test = train_test_split(X, y, \n",
    "                                                    test_size=0.30, \n",
    "                                                    random_state=42)"
   ]
  },
  {
   "cell_type": "code",
   "execution_count": 99,
   "metadata": {},
   "outputs": [],
   "source": [
    "svc_model = SVC(kernel = 'rbf', ).fit(X_train, y_train) # rbf zaten ontanimli kernel"
   ]
  },
  {
   "cell_type": "code",
   "execution_count": 100,
   "metadata": {},
   "outputs": [],
   "source": [
    "y_pred = svc_model.predict(X_test)"
   ]
  },
  {
   "cell_type": "code",
   "execution_count": 101,
   "metadata": {},
   "outputs": [
    {
     "data": {
      "text/plain": [
       "0.7359307359307359"
      ]
     },
     "execution_count": 101,
     "metadata": {},
     "output_type": "execute_result"
    }
   ],
   "source": [
    "accuracy_score(y_test, y_pred)"
   ]
  },
  {
   "cell_type": "markdown",
   "metadata": {},
   "source": [
    "### Model tuning"
   ]
  },
  {
   "cell_type": "code",
   "execution_count": 102,
   "metadata": {},
   "outputs": [],
   "source": [
    "svc_params = { 'C': [0.0001, 0.001, 0.1, 1, 5, 10, 50 ,100],\n",
    "             \"gamma\": [0.0001, 0.001, 0.1, 1, 5, 10, 50 ,100]}"
   ]
  },
  {
   "cell_type": "code",
   "execution_count": 103,
   "metadata": {},
   "outputs": [
    {
     "name": "stdout",
     "output_type": "stream",
     "text": [
      "Fitting 10 folds for each of 64 candidates, totalling 640 fits\n"
     ]
    }
   ],
   "source": [
    "svc = SVC()\n",
    "svc_cv = GridSearchCV(svc, \n",
    "                      svc_params, \n",
    "                      cv = 10, \n",
    "                      n_jobs = -1,\n",
    "                      verbose = 2 ).fit(X_train, y_train)"
   ]
  },
  {
   "cell_type": "code",
   "execution_count": 104,
   "metadata": {},
   "outputs": [
    {
     "data": {
      "text/plain": [
       "{'C': 10, 'gamma': 0.0001}"
      ]
     },
     "execution_count": 104,
     "metadata": {},
     "output_type": "execute_result"
    }
   ],
   "source": [
    "svc_cv.best_params_"
   ]
  },
  {
   "cell_type": "code",
   "execution_count": 105,
   "metadata": {},
   "outputs": [],
   "source": [
    "svc_tuned = SVC(C = 10, gamma = 0.0001).fit(X_train, y_train)"
   ]
  },
  {
   "cell_type": "code",
   "execution_count": 106,
   "metadata": {},
   "outputs": [],
   "source": [
    "y_pred = svc_tuned.predict(X_test)"
   ]
  },
  {
   "cell_type": "code",
   "execution_count": 107,
   "metadata": {},
   "outputs": [
    {
     "data": {
      "text/plain": [
       "0.7359307359307359"
      ]
     },
     "execution_count": 107,
     "metadata": {},
     "output_type": "execute_result"
    }
   ],
   "source": [
    "accuracy_score(y_test, y_pred)"
   ]
  },
  {
   "cell_type": "markdown",
   "metadata": {},
   "source": [
    "## Yapay Sinir Aglari"
   ]
  },
  {
   "cell_type": "markdown",
   "metadata": {},
   "source": [
    "* Insan beyninin bilgi isleme seklini referans alan regresyon ve siniflandirma problemleri icin kullanilan kuvvetli makine ogrenmesi algoritmasidir."
   ]
  },
  {
   "cell_type": "markdown",
   "metadata": {},
   "source": [
    "### Model & Tahmin"
   ]
  },
  {
   "cell_type": "code",
   "execution_count": 108,
   "metadata": {},
   "outputs": [],
   "source": [
    "url = 'https://raw.githubusercontent.com/fatihcihant/VeribilimiveMachineLearningNotlar/master/diabetes.csv'\n",
    "data = pd.read_csv(url)\n",
    "df = data.copy()\n",
    "df = df.dropna()\n",
    "y = df[\"Outcome\"]\n",
    "X = df.drop(['Outcome'], axis=1)\n",
    "X_train, X_test, y_train, y_test = train_test_split(X, y, \n",
    "                                                    test_size=0.30, \n",
    "                                                    random_state=42)"
   ]
  },
  {
   "cell_type": "code",
   "execution_count": 109,
   "metadata": {},
   "outputs": [],
   "source": [
    "from sklearn.preprocessing import StandardScaler"
   ]
  },
  {
   "cell_type": "code",
   "execution_count": 110,
   "metadata": {},
   "outputs": [],
   "source": [
    "scaler = StandardScaler()"
   ]
  },
  {
   "cell_type": "code",
   "execution_count": 111,
   "metadata": {},
   "outputs": [],
   "source": [
    "scaler.fit(X_train)\n",
    "X_train_scaled = scaler.transform(X_train)\n",
    "X_test_scaled =  scaler.transform(X_test)"
   ]
  },
  {
   "cell_type": "code",
   "execution_count": 112,
   "metadata": {},
   "outputs": [],
   "source": [
    "from sklearn.neural_network import MLPClassifier"
   ]
  },
  {
   "cell_type": "code",
   "execution_count": 113,
   "metadata": {},
   "outputs": [],
   "source": [
    "mlpc = MLPClassifier().fit(X_train_scaled, y_train)"
   ]
  },
  {
   "cell_type": "code",
   "execution_count": 114,
   "metadata": {},
   "outputs": [
    {
     "data": {
      "text/plain": [
       "0.7359307359307359"
      ]
     },
     "execution_count": 114,
     "metadata": {},
     "output_type": "execute_result"
    }
   ],
   "source": [
    "y_pred = mlpc.predict(X_test_scaled)\n",
    "accuracy_score(y_test, y_pred)"
   ]
  },
  {
   "cell_type": "markdown",
   "metadata": {},
   "source": [
    "### Model Tuning"
   ]
  },
  {
   "cell_type": "code",
   "execution_count": 115,
   "metadata": {},
   "outputs": [
    {
     "data": {
      "text/plain": [
       "\u001b[1;31mType:\u001b[0m        MLPClassifier\n",
       "\u001b[1;31mString form:\u001b[0m MLPClassifier()\n",
       "\u001b[1;31mFile:\u001b[0m        c:\\users\\90530\\anaconda3\\lib\\site-packages\\sklearn\\neural_network\\_multilayer_perceptron.py\n",
       "\u001b[1;31mDocstring:\u001b[0m  \n",
       "Multi-layer Perceptron classifier.\n",
       "\n",
       "This model optimizes the log-loss function using LBFGS or stochastic\n",
       "gradient descent.\n",
       "\n",
       ".. versionadded:: 0.18\n",
       "\n",
       "Parameters\n",
       "----------\n",
       "hidden_layer_sizes : tuple, length = n_layers - 2, default=(100,)\n",
       "    The ith element represents the number of neurons in the ith\n",
       "    hidden layer.\n",
       "\n",
       "activation : {'identity', 'logistic', 'tanh', 'relu'}, default='relu'\n",
       "    Activation function for the hidden layer.\n",
       "\n",
       "    - 'identity', no-op activation, useful to implement linear bottleneck,\n",
       "      returns f(x) = x\n",
       "\n",
       "    - 'logistic', the logistic sigmoid function,\n",
       "      returns f(x) = 1 / (1 + exp(-x)).\n",
       "\n",
       "    - 'tanh', the hyperbolic tan function,\n",
       "      returns f(x) = tanh(x).\n",
       "\n",
       "    - 'relu', the rectified linear unit function,\n",
       "      returns f(x) = max(0, x)\n",
       "\n",
       "solver : {'lbfgs', 'sgd', 'adam'}, default='adam'\n",
       "    The solver for weight optimization.\n",
       "\n",
       "    - 'lbfgs' is an optimizer in the family of quasi-Newton methods.\n",
       "\n",
       "    - 'sgd' refers to stochastic gradient descent.\n",
       "\n",
       "    - 'adam' refers to a stochastic gradient-based optimizer proposed\n",
       "      by Kingma, Diederik, and Jimmy Ba\n",
       "\n",
       "    Note: The default solver 'adam' works pretty well on relatively\n",
       "    large datasets (with thousands of training samples or more) in terms of\n",
       "    both training time and validation score.\n",
       "    For small datasets, however, 'lbfgs' can converge faster and perform\n",
       "    better.\n",
       "\n",
       "alpha : float, default=0.0001\n",
       "    L2 penalty (regularization term) parameter.\n",
       "\n",
       "batch_size : int, default='auto'\n",
       "    Size of minibatches for stochastic optimizers.\n",
       "    If the solver is 'lbfgs', the classifier will not use minibatch.\n",
       "    When set to \"auto\", `batch_size=min(200, n_samples)`\n",
       "\n",
       "learning_rate : {'constant', 'invscaling', 'adaptive'}, default='constant'\n",
       "    Learning rate schedule for weight updates.\n",
       "\n",
       "    - 'constant' is a constant learning rate given by\n",
       "      'learning_rate_init'.\n",
       "\n",
       "    - 'invscaling' gradually decreases the learning rate at each\n",
       "      time step 't' using an inverse scaling exponent of 'power_t'.\n",
       "      effective_learning_rate = learning_rate_init / pow(t, power_t)\n",
       "\n",
       "    - 'adaptive' keeps the learning rate constant to\n",
       "      'learning_rate_init' as long as training loss keeps decreasing.\n",
       "      Each time two consecutive epochs fail to decrease training loss by at\n",
       "      least tol, or fail to increase validation score by at least tol if\n",
       "      'early_stopping' is on, the current learning rate is divided by 5.\n",
       "\n",
       "    Only used when ``solver='sgd'``.\n",
       "\n",
       "learning_rate_init : double, default=0.001\n",
       "    The initial learning rate used. It controls the step-size\n",
       "    in updating the weights. Only used when solver='sgd' or 'adam'.\n",
       "\n",
       "power_t : double, default=0.5\n",
       "    The exponent for inverse scaling learning rate.\n",
       "    It is used in updating effective learning rate when the learning_rate\n",
       "    is set to 'invscaling'. Only used when solver='sgd'.\n",
       "\n",
       "max_iter : int, default=200\n",
       "    Maximum number of iterations. The solver iterates until convergence\n",
       "    (determined by 'tol') or this number of iterations. For stochastic\n",
       "    solvers ('sgd', 'adam'), note that this determines the number of epochs\n",
       "    (how many times each data point will be used), not the number of\n",
       "    gradient steps.\n",
       "\n",
       "shuffle : bool, default=True\n",
       "    Whether to shuffle samples in each iteration. Only used when\n",
       "    solver='sgd' or 'adam'.\n",
       "\n",
       "random_state : int, RandomState instance, default=None\n",
       "    Determines random number generation for weights and bias\n",
       "    initialization, train-test split if early stopping is used, and batch\n",
       "    sampling when solver='sgd' or 'adam'.\n",
       "    Pass an int for reproducible results across multiple function calls.\n",
       "    See :term:`Glossary <random_state>`.\n",
       "\n",
       "tol : float, default=1e-4\n",
       "    Tolerance for the optimization. When the loss or score is not improving\n",
       "    by at least ``tol`` for ``n_iter_no_change`` consecutive iterations,\n",
       "    unless ``learning_rate`` is set to 'adaptive', convergence is\n",
       "    considered to be reached and training stops.\n",
       "\n",
       "verbose : bool, default=False\n",
       "    Whether to print progress messages to stdout.\n",
       "\n",
       "warm_start : bool, default=False\n",
       "    When set to True, reuse the solution of the previous\n",
       "    call to fit as initialization, otherwise, just erase the\n",
       "    previous solution. See :term:`the Glossary <warm_start>`.\n",
       "\n",
       "momentum : float, default=0.9\n",
       "    Momentum for gradient descent update. Should be between 0 and 1. Only\n",
       "    used when solver='sgd'.\n",
       "\n",
       "nesterovs_momentum : bool, default=True\n",
       "    Whether to use Nesterov's momentum. Only used when solver='sgd' and\n",
       "    momentum > 0.\n",
       "\n",
       "early_stopping : bool, default=False\n",
       "    Whether to use early stopping to terminate training when validation\n",
       "    score is not improving. If set to true, it will automatically set\n",
       "    aside 10% of training data as validation and terminate training when\n",
       "    validation score is not improving by at least tol for\n",
       "    ``n_iter_no_change`` consecutive epochs. The split is stratified,\n",
       "    except in a multilabel setting.\n",
       "    If early stopping is False, then the training stops when the training\n",
       "    loss does not improve by more than tol for n_iter_no_change consecutive\n",
       "    passes over the training set.\n",
       "    Only effective when solver='sgd' or 'adam'\n",
       "\n",
       "validation_fraction : float, default=0.1\n",
       "    The proportion of training data to set aside as validation set for\n",
       "    early stopping. Must be between 0 and 1.\n",
       "    Only used if early_stopping is True\n",
       "\n",
       "beta_1 : float, default=0.9\n",
       "    Exponential decay rate for estimates of first moment vector in adam,\n",
       "    should be in [0, 1). Only used when solver='adam'\n",
       "\n",
       "beta_2 : float, default=0.999\n",
       "    Exponential decay rate for estimates of second moment vector in adam,\n",
       "    should be in [0, 1). Only used when solver='adam'\n",
       "\n",
       "epsilon : float, default=1e-8\n",
       "    Value for numerical stability in adam. Only used when solver='adam'\n",
       "\n",
       "n_iter_no_change : int, default=10\n",
       "    Maximum number of epochs to not meet ``tol`` improvement.\n",
       "    Only effective when solver='sgd' or 'adam'\n",
       "\n",
       "    .. versionadded:: 0.20\n",
       "\n",
       "max_fun : int, default=15000\n",
       "    Only used when solver='lbfgs'. Maximum number of loss function calls.\n",
       "    The solver iterates until convergence (determined by 'tol'), number\n",
       "    of iterations reaches max_iter, or this number of loss function calls.\n",
       "    Note that number of loss function calls will be greater than or equal\n",
       "    to the number of iterations for the `MLPClassifier`.\n",
       "\n",
       "    .. versionadded:: 0.22\n",
       "\n",
       "Attributes\n",
       "----------\n",
       "classes_ : ndarray or list of ndarray of shape (n_classes,)\n",
       "    Class labels for each output.\n",
       "\n",
       "loss_ : float\n",
       "    The current loss computed with the loss function.\n",
       "\n",
       "best_loss_ : float\n",
       "    The minimum loss reached by the solver throughout fitting.\n",
       "\n",
       "loss_curve_ : list of shape (`n_iter_`,)\n",
       "    The ith element in the list represents the loss at the ith iteration.\n",
       "\n",
       "t_ : int\n",
       "    The number of training samples seen by the solver during fitting.\n",
       "\n",
       "coefs_ : list of shape (n_layers - 1,)\n",
       "    The ith element in the list represents the weight matrix corresponding\n",
       "    to layer i.\n",
       "\n",
       "intercepts_ : list of shape (n_layers - 1,)\n",
       "    The ith element in the list represents the bias vector corresponding to\n",
       "    layer i + 1.\n",
       "\n",
       "n_iter_ : int\n",
       "    The number of iterations the solver has run.\n",
       "\n",
       "n_layers_ : int\n",
       "    Number of layers.\n",
       "\n",
       "n_outputs_ : int\n",
       "    Number of outputs.\n",
       "\n",
       "out_activation_ : str\n",
       "    Name of the output activation function.\n",
       "\n",
       "Examples\n",
       "--------\n",
       ">>> from sklearn.neural_network import MLPClassifier\n",
       ">>> from sklearn.datasets import make_classification\n",
       ">>> from sklearn.model_selection import train_test_split\n",
       ">>> X, y = make_classification(n_samples=100, random_state=1)\n",
       ">>> X_train, X_test, y_train, y_test = train_test_split(X, y, stratify=y,\n",
       "...                                                     random_state=1)\n",
       ">>> clf = MLPClassifier(random_state=1, max_iter=300).fit(X_train, y_train)\n",
       ">>> clf.predict_proba(X_test[:1])\n",
       "array([[0.038..., 0.961...]])\n",
       ">>> clf.predict(X_test[:5, :])\n",
       "array([1, 0, 1, 0, 1])\n",
       ">>> clf.score(X_test, y_test)\n",
       "0.8...\n",
       "\n",
       "Notes\n",
       "-----\n",
       "MLPClassifier trains iteratively since at each time step\n",
       "the partial derivatives of the loss function with respect to the model\n",
       "parameters are computed to update the parameters.\n",
       "\n",
       "It can also have a regularization term added to the loss function\n",
       "that shrinks model parameters to prevent overfitting.\n",
       "\n",
       "This implementation works with data represented as dense numpy arrays or\n",
       "sparse scipy arrays of floating point values.\n",
       "\n",
       "References\n",
       "----------\n",
       "Hinton, Geoffrey E.\n",
       "    \"Connectionist learning procedures.\" Artificial intelligence 40.1\n",
       "    (1989): 185-234.\n",
       "\n",
       "Glorot, Xavier, and Yoshua Bengio. \"Understanding the difficulty of\n",
       "    training deep feedforward neural networks.\" International Conference\n",
       "    on Artificial Intelligence and Statistics. 2010.\n",
       "\n",
       "He, Kaiming, et al. \"Delving deep into rectifiers: Surpassing human-level\n",
       "    performance on imagenet classification.\" arXiv preprint\n",
       "    arXiv:1502.01852 (2015).\n",
       "\n",
       "Kingma, Diederik, and Jimmy Ba. \"Adam: A method for stochastic\n",
       "    optimization.\" arXiv preprint arXiv:1412.6980 (2014).\n"
      ]
     },
     "metadata": {},
     "output_type": "display_data"
    }
   ],
   "source": [
    "?mlpc"
   ]
  },
  {
   "cell_type": "code",
   "execution_count": 116,
   "metadata": {},
   "outputs": [],
   "source": [
    "mlpc_params = {\"alpha\": [0.1, 0.01, 0.02, 0.005, 0.0001,0.00001],\n",
    "              \"hidden_layer_sizes\": [(10,10,10),\n",
    "                                     (100,100,100),\n",
    "                                     (100,100),\n",
    "                                     (3,5), \n",
    "                                     (5, 3)],\n",
    "              \"solver\" : [\"lbfgs\",\"adam\",\"sgd\"],\n",
    "              \"activation\": [\"relu\",\"logistic\"]}"
   ]
  },
  {
   "cell_type": "code",
   "execution_count": 117,
   "metadata": {},
   "outputs": [
    {
     "name": "stdout",
     "output_type": "stream",
     "text": [
      "Fitting 10 folds for each of 180 candidates, totalling 1800 fits\n"
     ]
    }
   ],
   "source": [
    "mlpc = MLPClassifier()\n",
    "mlpc_cv = GridSearchCV(mlpc, \n",
    "                       mlpc_params, \n",
    "                       cv = 10, \n",
    "                       n_jobs = -1, \n",
    "                       verbose = 2).fit(X_train_scaled,y_train)\n",
    "  "
   ]
  },
  {
   "cell_type": "code",
   "execution_count": 118,
   "metadata": {},
   "outputs": [
    {
     "data": {
      "text/plain": [
       "{'activation': 'relu',\n",
       " 'alpha': 0.1,\n",
       " 'hidden_layer_sizes': (100, 100, 100),\n",
       " 'solver': 'sgd'}"
      ]
     },
     "execution_count": 118,
     "metadata": {},
     "output_type": "execute_result"
    }
   ],
   "source": [
    "mlpc_cv.best_params_"
   ]
  },
  {
   "cell_type": "code",
   "execution_count": 119,
   "metadata": {},
   "outputs": [],
   "source": [
    "mlpc_tuned = MLPClassifier(activation = 'relu',\n",
    "                          alpha = 0.005,\n",
    "                          hidden_layer_sizes = (100, 100, 100),\n",
    "                          solver = 'sgd').fit(X_train_scaled, y_train)"
   ]
  },
  {
   "cell_type": "code",
   "execution_count": 120,
   "metadata": {},
   "outputs": [],
   "source": [
    "y_pred = mlpc_tuned.predict(X_test_scaled)"
   ]
  },
  {
   "cell_type": "code",
   "execution_count": 121,
   "metadata": {},
   "outputs": [
    {
     "data": {
      "text/plain": [
       "0.7402597402597403"
      ]
     },
     "execution_count": 121,
     "metadata": {},
     "output_type": "execute_result"
    }
   ],
   "source": [
    "accuracy_score(y_test, y_pred)"
   ]
  },
  {
   "cell_type": "markdown",
   "metadata": {},
   "source": [
    "## Siniflandirma Agaclari CART"
   ]
  },
  {
   "cell_type": "code",
   "execution_count": 122,
   "metadata": {},
   "outputs": [],
   "source": [
    "url = 'https://raw.githubusercontent.com/fatihcihant/VeribilimiveMachineLearningNotlar/master/diabetes.csv'\n",
    "data = pd.read_csv(url)\n",
    "df = data.copy()\n",
    "df = df.dropna()\n",
    "y = df[\"Outcome\"]\n",
    "X = df.drop(['Outcome'], axis=1)\n",
    "X_train, X_test, y_train, y_test = train_test_split(X, y, \n",
    "                                                    test_size=0.30, \n",
    "                                                    random_state=42)"
   ]
  },
  {
   "cell_type": "code",
   "execution_count": 123,
   "metadata": {},
   "outputs": [],
   "source": [
    "from sklearn.tree import DecisionTreeClassifier"
   ]
  },
  {
   "cell_type": "code",
   "execution_count": 124,
   "metadata": {},
   "outputs": [],
   "source": [
    "cart = DecisionTreeClassifier()\n",
    "cart_model = cart.fit(X_train, y_train)"
   ]
  },
  {
   "cell_type": "code",
   "execution_count": 125,
   "metadata": {},
   "outputs": [
    {
     "name": "stdout",
     "output_type": "stream",
     "text": [
      "Requirement already satisfied: skompiler in c:\\users\\90530\\anaconda3\\lib\\site-packages (0.6)\n",
      "Requirement already satisfied: scikit-learn>=0.22 in c:\\users\\90530\\anaconda3\\lib\\site-packages (from skompiler) (0.24.2)\n",
      "Requirement already satisfied: scipy>=0.19.1 in c:\\users\\90530\\anaconda3\\lib\\site-packages (from scikit-learn>=0.22->skompiler) (1.2.1)\n",
      "Requirement already satisfied: joblib>=0.11 in c:\\users\\90530\\anaconda3\\lib\\site-packages (from scikit-learn>=0.22->skompiler) (1.0.1)\n",
      "Requirement already satisfied: numpy>=1.13.3 in c:\\users\\90530\\anaconda3\\lib\\site-packages (from scikit-learn>=0.22->skompiler) (1.19.5)\n",
      "Requirement already satisfied: threadpoolctl>=2.0.0 in c:\\users\\90530\\anaconda3\\lib\\site-packages (from scikit-learn>=0.22->skompiler) (2.2.0)\n"
     ]
    }
   ],
   "source": [
    "!pip install skompiler"
   ]
  },
  {
   "cell_type": "code",
   "execution_count": 126,
   "metadata": {},
   "outputs": [],
   "source": [
    "from skompiler import skompile"
   ]
  },
  {
   "cell_type": "code",
   "execution_count": 127,
   "metadata": {},
   "outputs": [
    {
     "name": "stdout",
     "output_type": "stream",
     "text": [
      "((((((0 if x[6] <= 0.671999990940094 else 1 if x[6] <= 0.6974999904632568 else\n",
      "    0) if x[5] <= 31.40000057220459 else ((0 if x[3] <= 40.5 else 1) if x[1\n",
      "    ] <= 111.5 else ((1 if x[1] <= 123.0 else 0) if x[2] <= 65.0 else 0) if\n",
      "    x[2] <= 72.0 else 1) if x[4] <= 9.0 else (0 if x[6] <= \n",
      "    0.6395000219345093 else 1 if x[6] <= 0.6759999990463257 else 0) if x[0] <=\n",
      "    4.5 else 0 if x[6] <= 0.39149999618530273 else 1) if x[5] <= \n",
      "    49.10000038146973 else 1) if x[1] <= 127.5 else 1 if x[2] <= 56.0 else \n",
      "    (0 if x[7] <= 27.5 else 1 if x[2] <= 69.5 else 0) if x[5] <= \n",
      "    30.300000190734863 else 1 if x[5] <= 32.000000953674316 else ((0 if x[5\n",
      "    ] <= 33.75 else 1) if x[0] <= 0.5 else 1 if x[5] <= 32.45000076293945 else\n",
      "    0) if x[2] <= 85.0 else 1) if x[7] <= 28.5 else (1 if x[7] <= 29.5 else\n",
      "    (0 if x[2] <= 89.0 else 1) if x[5] <= 9.649999618530273 else 0 if x[1] <=\n",
      "    133.0 else (0 if x[7] <= 57.5 else 1) if x[2] <= 73.0 else 0) if x[5] <=\n",
      "    26.949999809265137 else (1 if x[1] <= 28.5 else 0 if x[0] <= 9.5 else 0 if\n",
      "    x[3] <= 27.0 else 1 if x[4] <= 27.0 else 0) if x[1] <= 94.5 else ((((0 if\n",
      "    x[6] <= 0.24950000643730164 else 1 if x[1] <= 126.5 else 0) if x[5] <= \n",
      "    28.34999942779541 else 1 if x[5] <= 31.15000057220459 else 1 if x[2] <=\n",
      "    67.0 else 0 if x[7] <= 36.5 else 0 if x[2] <= 71.0 else (1 if x[2] <= \n",
      "    77.0 else 0) if x[6] <= 0.21000000089406967 else 1) if x[3] <= 26.5 else\n",
      "    ((0 if x[3] <= 29.5 else 0 if x[2] <= 45.0 else 1) if x[2] <= 67.0 else\n",
      "    0 if x[4] <= 155.0 else 1 if x[6] <= 0.2709999978542328 else 0) if x[1] <=\n",
      "    127.5 else (1 if x[1] <= 140.0 else 0) if x[6] <= 0.3110000044107437 else\n",
      "    1) if x[2] <= 83.0 else ((0 if x[3] <= 39.5 else 1 if x[7] <= 37.0 else\n",
      "    0) if x[5] <= 41.19999885559082 else 1) if x[4] <= 124.0 else 0 if x[3] <=\n",
      "    19.5 else 1) if x[6] <= 0.527999997138977 else ((((0 if x[5] <= \n",
      "    27.59999942779541 else 1) if x[1] <= 108.5 else 1) if x[1] <= 132.0 else\n",
      "    0) if x[5] <= 29.09999942779541 else 0 if x[2] <= 86.0 else 1) if x[5] <=\n",
      "    31.600000381469727 else ((1 if x[2] <= 87.0 else 0 if x[7] <= 31.5 else\n",
      "    1) if x[3] <= 54.5 else 0) if x[6] <= 1.1489999890327454 else 1 if x[7] <=\n",
      "    36.0 else 0) if x[1] <= 154.5 else (1 if x[5] <= 25.350000381469727 else\n",
      "    0 if x[6] <= 0.3684999942779541 else 1 if x[1] <= 179.5 else 0 if x[1] <=\n",
      "    195.5 else 1) if x[5] <= 28.700000762939453 else (((0 if x[6] <= \n",
      "    0.14100000262260437 else 0 if x[7] <= 24.5 else 1) if x[1] <= 164.5 else\n",
      "    0) if x[1] <= 165.5 else ((0 if x[5] <= 35.89999961853027 else 1) if x[\n",
      "    2] <= 67.0 else 1) if x[7] <= 26.5 else 1) if x[6] <= \n",
      "    1.4275000095367432 else 1 if x[0] <= 3.5 else 0)\n",
      "\n"
     ]
    }
   ],
   "source": [
    "print(skompile(cart_model.predict).to(\"python/code\")) # kural yapisi bu sekilde formulize edilir"
   ]
  },
  {
   "cell_type": "code",
   "execution_count": 128,
   "metadata": {},
   "outputs": [],
   "source": [
    "x = [34]"
   ]
  },
  {
   "cell_type": "code",
   "execution_count": 129,
   "metadata": {},
   "outputs": [],
   "source": [
    "y_pred = cart_model.predict(X_test)"
   ]
  },
  {
   "cell_type": "code",
   "execution_count": 130,
   "metadata": {},
   "outputs": [
    {
     "data": {
      "text/plain": [
       "0.696969696969697"
      ]
     },
     "execution_count": 130,
     "metadata": {},
     "output_type": "execute_result"
    }
   ],
   "source": [
    "accuracy_score(y_test, y_pred)"
   ]
  },
  {
   "cell_type": "markdown",
   "metadata": {},
   "source": [
    "### Model Tuning"
   ]
  },
  {
   "cell_type": "code",
   "execution_count": 131,
   "metadata": {},
   "outputs": [
    {
     "data": {
      "text/plain": [
       "\u001b[1;31mType:\u001b[0m        DecisionTreeClassifier\n",
       "\u001b[1;31mString form:\u001b[0m DecisionTreeClassifier()\n",
       "\u001b[1;31mFile:\u001b[0m        c:\\users\\90530\\anaconda3\\lib\\site-packages\\sklearn\\tree\\_classes.py\n",
       "\u001b[1;31mDocstring:\u001b[0m  \n",
       "A decision tree classifier.\n",
       "\n",
       "Read more in the :ref:`User Guide <tree>`.\n",
       "\n",
       "Parameters\n",
       "----------\n",
       "criterion : {\"gini\", \"entropy\"}, default=\"gini\"\n",
       "    The function to measure the quality of a split. Supported criteria are\n",
       "    \"gini\" for the Gini impurity and \"entropy\" for the information gain.\n",
       "\n",
       "splitter : {\"best\", \"random\"}, default=\"best\"\n",
       "    The strategy used to choose the split at each node. Supported\n",
       "    strategies are \"best\" to choose the best split and \"random\" to choose\n",
       "    the best random split.\n",
       "\n",
       "max_depth : int, default=None\n",
       "    The maximum depth of the tree. If None, then nodes are expanded until\n",
       "    all leaves are pure or until all leaves contain less than\n",
       "    min_samples_split samples.\n",
       "\n",
       "min_samples_split : int or float, default=2\n",
       "    The minimum number of samples required to split an internal node:\n",
       "\n",
       "    - If int, then consider `min_samples_split` as the minimum number.\n",
       "    - If float, then `min_samples_split` is a fraction and\n",
       "      `ceil(min_samples_split * n_samples)` are the minimum\n",
       "      number of samples for each split.\n",
       "\n",
       "    .. versionchanged:: 0.18\n",
       "       Added float values for fractions.\n",
       "\n",
       "min_samples_leaf : int or float, default=1\n",
       "    The minimum number of samples required to be at a leaf node.\n",
       "    A split point at any depth will only be considered if it leaves at\n",
       "    least ``min_samples_leaf`` training samples in each of the left and\n",
       "    right branches.  This may have the effect of smoothing the model,\n",
       "    especially in regression.\n",
       "\n",
       "    - If int, then consider `min_samples_leaf` as the minimum number.\n",
       "    - If float, then `min_samples_leaf` is a fraction and\n",
       "      `ceil(min_samples_leaf * n_samples)` are the minimum\n",
       "      number of samples for each node.\n",
       "\n",
       "    .. versionchanged:: 0.18\n",
       "       Added float values for fractions.\n",
       "\n",
       "min_weight_fraction_leaf : float, default=0.0\n",
       "    The minimum weighted fraction of the sum total of weights (of all\n",
       "    the input samples) required to be at a leaf node. Samples have\n",
       "    equal weight when sample_weight is not provided.\n",
       "\n",
       "max_features : int, float or {\"auto\", \"sqrt\", \"log2\"}, default=None\n",
       "    The number of features to consider when looking for the best split:\n",
       "\n",
       "        - If int, then consider `max_features` features at each split.\n",
       "        - If float, then `max_features` is a fraction and\n",
       "          `int(max_features * n_features)` features are considered at each\n",
       "          split.\n",
       "        - If \"auto\", then `max_features=sqrt(n_features)`.\n",
       "        - If \"sqrt\", then `max_features=sqrt(n_features)`.\n",
       "        - If \"log2\", then `max_features=log2(n_features)`.\n",
       "        - If None, then `max_features=n_features`.\n",
       "\n",
       "    Note: the search for a split does not stop until at least one\n",
       "    valid partition of the node samples is found, even if it requires to\n",
       "    effectively inspect more than ``max_features`` features.\n",
       "\n",
       "random_state : int, RandomState instance or None, default=None\n",
       "    Controls the randomness of the estimator. The features are always\n",
       "    randomly permuted at each split, even if ``splitter`` is set to\n",
       "    ``\"best\"``. When ``max_features < n_features``, the algorithm will\n",
       "    select ``max_features`` at random at each split before finding the best\n",
       "    split among them. But the best found split may vary across different\n",
       "    runs, even if ``max_features=n_features``. That is the case, if the\n",
       "    improvement of the criterion is identical for several splits and one\n",
       "    split has to be selected at random. To obtain a deterministic behaviour\n",
       "    during fitting, ``random_state`` has to be fixed to an integer.\n",
       "    See :term:`Glossary <random_state>` for details.\n",
       "\n",
       "max_leaf_nodes : int, default=None\n",
       "    Grow a tree with ``max_leaf_nodes`` in best-first fashion.\n",
       "    Best nodes are defined as relative reduction in impurity.\n",
       "    If None then unlimited number of leaf nodes.\n",
       "\n",
       "min_impurity_decrease : float, default=0.0\n",
       "    A node will be split if this split induces a decrease of the impurity\n",
       "    greater than or equal to this value.\n",
       "\n",
       "    The weighted impurity decrease equation is the following::\n",
       "\n",
       "        N_t / N * (impurity - N_t_R / N_t * right_impurity\n",
       "                            - N_t_L / N_t * left_impurity)\n",
       "\n",
       "    where ``N`` is the total number of samples, ``N_t`` is the number of\n",
       "    samples at the current node, ``N_t_L`` is the number of samples in the\n",
       "    left child, and ``N_t_R`` is the number of samples in the right child.\n",
       "\n",
       "    ``N``, ``N_t``, ``N_t_R`` and ``N_t_L`` all refer to the weighted sum,\n",
       "    if ``sample_weight`` is passed.\n",
       "\n",
       "    .. versionadded:: 0.19\n",
       "\n",
       "min_impurity_split : float, default=0\n",
       "    Threshold for early stopping in tree growth. A node will split\n",
       "    if its impurity is above the threshold, otherwise it is a leaf.\n",
       "\n",
       "    .. deprecated:: 0.19\n",
       "       ``min_impurity_split`` has been deprecated in favor of\n",
       "       ``min_impurity_decrease`` in 0.19. The default value of\n",
       "       ``min_impurity_split`` has changed from 1e-7 to 0 in 0.23 and it\n",
       "       will be removed in 1.0 (renaming of 0.25).\n",
       "       Use ``min_impurity_decrease`` instead.\n",
       "\n",
       "class_weight : dict, list of dict or \"balanced\", default=None\n",
       "    Weights associated with classes in the form ``{class_label: weight}``.\n",
       "    If None, all classes are supposed to have weight one. For\n",
       "    multi-output problems, a list of dicts can be provided in the same\n",
       "    order as the columns of y.\n",
       "\n",
       "    Note that for multioutput (including multilabel) weights should be\n",
       "    defined for each class of every column in its own dict. For example,\n",
       "    for four-class multilabel classification weights should be\n",
       "    [{0: 1, 1: 1}, {0: 1, 1: 5}, {0: 1, 1: 1}, {0: 1, 1: 1}] instead of\n",
       "    [{1:1}, {2:5}, {3:1}, {4:1}].\n",
       "\n",
       "    The \"balanced\" mode uses the values of y to automatically adjust\n",
       "    weights inversely proportional to class frequencies in the input data\n",
       "    as ``n_samples / (n_classes * np.bincount(y))``\n",
       "\n",
       "    For multi-output, the weights of each column of y will be multiplied.\n",
       "\n",
       "    Note that these weights will be multiplied with sample_weight (passed\n",
       "    through the fit method) if sample_weight is specified.\n",
       "\n",
       "ccp_alpha : non-negative float, default=0.0\n",
       "    Complexity parameter used for Minimal Cost-Complexity Pruning. The\n",
       "    subtree with the largest cost complexity that is smaller than\n",
       "    ``ccp_alpha`` will be chosen. By default, no pruning is performed. See\n",
       "    :ref:`minimal_cost_complexity_pruning` for details.\n",
       "\n",
       "    .. versionadded:: 0.22\n",
       "\n",
       "Attributes\n",
       "----------\n",
       "classes_ : ndarray of shape (n_classes,) or list of ndarray\n",
       "    The classes labels (single output problem),\n",
       "    or a list of arrays of class labels (multi-output problem).\n",
       "\n",
       "feature_importances_ : ndarray of shape (n_features,)\n",
       "    The impurity-based feature importances.\n",
       "    The higher, the more important the feature.\n",
       "    The importance of a feature is computed as the (normalized)\n",
       "    total reduction of the criterion brought by that feature.  It is also\n",
       "    known as the Gini importance [4]_.\n",
       "\n",
       "    Warning: impurity-based feature importances can be misleading for\n",
       "    high cardinality features (many unique values). See\n",
       "    :func:`sklearn.inspection.permutation_importance` as an alternative.\n",
       "\n",
       "max_features_ : int\n",
       "    The inferred value of max_features.\n",
       "\n",
       "n_classes_ : int or list of int\n",
       "    The number of classes (for single output problems),\n",
       "    or a list containing the number of classes for each\n",
       "    output (for multi-output problems).\n",
       "\n",
       "n_features_ : int\n",
       "    The number of features when ``fit`` is performed.\n",
       "\n",
       "n_outputs_ : int\n",
       "    The number of outputs when ``fit`` is performed.\n",
       "\n",
       "tree_ : Tree instance\n",
       "    The underlying Tree object. Please refer to\n",
       "    ``help(sklearn.tree._tree.Tree)`` for attributes of Tree object and\n",
       "    :ref:`sphx_glr_auto_examples_tree_plot_unveil_tree_structure.py`\n",
       "    for basic usage of these attributes.\n",
       "\n",
       "See Also\n",
       "--------\n",
       "DecisionTreeRegressor : A decision tree regressor.\n",
       "\n",
       "Notes\n",
       "-----\n",
       "The default values for the parameters controlling the size of the trees\n",
       "(e.g. ``max_depth``, ``min_samples_leaf``, etc.) lead to fully grown and\n",
       "unpruned trees which can potentially be very large on some data sets. To\n",
       "reduce memory consumption, the complexity and size of the trees should be\n",
       "controlled by setting those parameter values.\n",
       "\n",
       "The :meth:`predict` method operates using the :func:`numpy.argmax`\n",
       "function on the outputs of :meth:`predict_proba`. This means that in\n",
       "case the highest predicted probabilities are tied, the classifier will\n",
       "predict the tied class with the lowest index in :term:`classes_`.\n",
       "\n",
       "References\n",
       "----------\n",
       "\n",
       ".. [1] https://en.wikipedia.org/wiki/Decision_tree_learning\n",
       "\n",
       ".. [2] L. Breiman, J. Friedman, R. Olshen, and C. Stone, \"Classification\n",
       "       and Regression Trees\", Wadsworth, Belmont, CA, 1984.\n",
       "\n",
       ".. [3] T. Hastie, R. Tibshirani and J. Friedman. \"Elements of Statistical\n",
       "       Learning\", Springer, 2009.\n",
       "\n",
       ".. [4] L. Breiman, and A. Cutler, \"Random Forests\",\n",
       "       https://www.stat.berkeley.edu/~breiman/RandomForests/cc_home.htm\n",
       "\n",
       "Examples\n",
       "--------\n",
       ">>> from sklearn.datasets import load_iris\n",
       ">>> from sklearn.model_selection import cross_val_score\n",
       ">>> from sklearn.tree import DecisionTreeClassifier\n",
       ">>> clf = DecisionTreeClassifier(random_state=0)\n",
       ">>> iris = load_iris()\n",
       ">>> cross_val_score(clf, iris.data, iris.target, cv=10)\n",
       "...                             # doctest: +SKIP\n",
       "...\n",
       "array([ 1.     ,  0.93...,  0.86...,  0.93...,  0.93...,\n",
       "        0.93...,  0.93...,  1.     ,  0.93...,  1.      ])\n"
      ]
     },
     "metadata": {},
     "output_type": "display_data"
    }
   ],
   "source": [
    "?cart"
   ]
  },
  {
   "cell_type": "code",
   "execution_count": 132,
   "metadata": {},
   "outputs": [],
   "source": [
    "cart_grid = {'max_depth': range(1,10),\n",
    "             'min_samples_split': list(range(2,50))\n",
    "    \n",
    "}"
   ]
  },
  {
   "cell_type": "code",
   "execution_count": 133,
   "metadata": {},
   "outputs": [
    {
     "name": "stdout",
     "output_type": "stream",
     "text": [
      "Fitting 10 folds for each of 432 candidates, totalling 4320 fits\n"
     ]
    }
   ],
   "source": [
    "cart = tree.DecisionTreeClassifier()\n",
    "cart_cv = GridSearchCV(cart, \n",
    "                       cart_grid, \n",
    "                       cv = 10, \n",
    "                       n_jobs = -1, \n",
    "                       verbose = 2).fit(X_train, y_train)"
   ]
  },
  {
   "cell_type": "code",
   "execution_count": 134,
   "metadata": {},
   "outputs": [
    {
     "data": {
      "text/plain": [
       "{'max_depth': 5, 'min_samples_split': 19}"
      ]
     },
     "execution_count": 134,
     "metadata": {},
     "output_type": "execute_result"
    }
   ],
   "source": [
    "cart_cv.best_params_"
   ]
  },
  {
   "cell_type": "code",
   "execution_count": 135,
   "metadata": {},
   "outputs": [],
   "source": [
    "cart_tuned = DecisionTreeClassifier(max_depth = 5, \n",
    "                                    min_samples_split = 19).fit(X_train, y_train)"
   ]
  },
  {
   "cell_type": "code",
   "execution_count": 136,
   "metadata": {},
   "outputs": [],
   "source": [
    "y_pred = cart_tuned.predict(X_test)"
   ]
  },
  {
   "cell_type": "code",
   "execution_count": 137,
   "metadata": {},
   "outputs": [
    {
     "data": {
      "text/plain": [
       "0.7532467532467533"
      ]
     },
     "execution_count": 137,
     "metadata": {},
     "output_type": "execute_result"
    }
   ],
   "source": [
    "accuracy_score(y_test, y_pred)"
   ]
  },
  {
   "cell_type": "markdown",
   "metadata": {},
   "source": [
    "## Random Forests RF"
   ]
  },
  {
   "cell_type": "markdown",
   "metadata": {},
   "source": [
    "### Model & Tahmin"
   ]
  },
  {
   "cell_type": "code",
   "execution_count": 138,
   "metadata": {},
   "outputs": [],
   "source": [
    "url = 'https://raw.githubusercontent.com/fatihcihant/VeribilimiveMachineLearningNotlar/master/diabetes.csv'\n",
    "data = pd.read_csv(url)\n",
    "df = data.copy()\n",
    "df = df.dropna()\n",
    "y = df[\"Outcome\"]\n",
    "X = df.drop(['Outcome'], axis=1)\n",
    "X_train, X_test, y_train, y_test = train_test_split(X, y, \n",
    "                                                    test_size=0.30, \n",
    "                                                    random_state=42)"
   ]
  },
  {
   "cell_type": "code",
   "execution_count": 139,
   "metadata": {},
   "outputs": [],
   "source": [
    "from sklearn.ensemble import RandomForestClassifier"
   ]
  },
  {
   "cell_type": "code",
   "execution_count": 140,
   "metadata": {},
   "outputs": [],
   "source": [
    "rf_model = RandomForestClassifier().fit(X_train, y_train)"
   ]
  },
  {
   "cell_type": "code",
   "execution_count": 141,
   "metadata": {},
   "outputs": [],
   "source": [
    "y_pred = rf_model.predict(X_test)"
   ]
  },
  {
   "cell_type": "code",
   "execution_count": 142,
   "metadata": {},
   "outputs": [
    {
     "data": {
      "text/plain": [
       "0.7359307359307359"
      ]
     },
     "execution_count": 142,
     "metadata": {},
     "output_type": "execute_result"
    }
   ],
   "source": [
    "accuracy_score(y_test, y_pred)"
   ]
  },
  {
   "cell_type": "markdown",
   "metadata": {},
   "source": [
    "### Model Tuning"
   ]
  },
  {
   "cell_type": "code",
   "execution_count": 143,
   "metadata": {},
   "outputs": [
    {
     "data": {
      "text/plain": [
       "\u001b[1;31mType:\u001b[0m        RandomForestClassifier\n",
       "\u001b[1;31mString form:\u001b[0m RandomForestClassifier()\n",
       "\u001b[1;31mLength:\u001b[0m      100\n",
       "\u001b[1;31mFile:\u001b[0m        c:\\users\\90530\\anaconda3\\lib\\site-packages\\sklearn\\ensemble\\_forest.py\n",
       "\u001b[1;31mDocstring:\u001b[0m  \n",
       "A random forest classifier.\n",
       "\n",
       "A random forest is a meta estimator that fits a number of decision tree\n",
       "classifiers on various sub-samples of the dataset and uses averaging to\n",
       "improve the predictive accuracy and control over-fitting.\n",
       "The sub-sample size is controlled with the `max_samples` parameter if\n",
       "`bootstrap=True` (default), otherwise the whole dataset is used to build\n",
       "each tree.\n",
       "\n",
       "Read more in the :ref:`User Guide <forest>`.\n",
       "\n",
       "Parameters\n",
       "----------\n",
       "n_estimators : int, default=100\n",
       "    The number of trees in the forest.\n",
       "\n",
       "    .. versionchanged:: 0.22\n",
       "       The default value of ``n_estimators`` changed from 10 to 100\n",
       "       in 0.22.\n",
       "\n",
       "criterion : {\"gini\", \"entropy\"}, default=\"gini\"\n",
       "    The function to measure the quality of a split. Supported criteria are\n",
       "    \"gini\" for the Gini impurity and \"entropy\" for the information gain.\n",
       "    Note: this parameter is tree-specific.\n",
       "\n",
       "max_depth : int, default=None\n",
       "    The maximum depth of the tree. If None, then nodes are expanded until\n",
       "    all leaves are pure or until all leaves contain less than\n",
       "    min_samples_split samples.\n",
       "\n",
       "min_samples_split : int or float, default=2\n",
       "    The minimum number of samples required to split an internal node:\n",
       "\n",
       "    - If int, then consider `min_samples_split` as the minimum number.\n",
       "    - If float, then `min_samples_split` is a fraction and\n",
       "      `ceil(min_samples_split * n_samples)` are the minimum\n",
       "      number of samples for each split.\n",
       "\n",
       "    .. versionchanged:: 0.18\n",
       "       Added float values for fractions.\n",
       "\n",
       "min_samples_leaf : int or float, default=1\n",
       "    The minimum number of samples required to be at a leaf node.\n",
       "    A split point at any depth will only be considered if it leaves at\n",
       "    least ``min_samples_leaf`` training samples in each of the left and\n",
       "    right branches.  This may have the effect of smoothing the model,\n",
       "    especially in regression.\n",
       "\n",
       "    - If int, then consider `min_samples_leaf` as the minimum number.\n",
       "    - If float, then `min_samples_leaf` is a fraction and\n",
       "      `ceil(min_samples_leaf * n_samples)` are the minimum\n",
       "      number of samples for each node.\n",
       "\n",
       "    .. versionchanged:: 0.18\n",
       "       Added float values for fractions.\n",
       "\n",
       "min_weight_fraction_leaf : float, default=0.0\n",
       "    The minimum weighted fraction of the sum total of weights (of all\n",
       "    the input samples) required to be at a leaf node. Samples have\n",
       "    equal weight when sample_weight is not provided.\n",
       "\n",
       "max_features : {\"auto\", \"sqrt\", \"log2\"}, int or float, default=\"auto\"\n",
       "    The number of features to consider when looking for the best split:\n",
       "\n",
       "    - If int, then consider `max_features` features at each split.\n",
       "    - If float, then `max_features` is a fraction and\n",
       "      `round(max_features * n_features)` features are considered at each\n",
       "      split.\n",
       "    - If \"auto\", then `max_features=sqrt(n_features)`.\n",
       "    - If \"sqrt\", then `max_features=sqrt(n_features)` (same as \"auto\").\n",
       "    - If \"log2\", then `max_features=log2(n_features)`.\n",
       "    - If None, then `max_features=n_features`.\n",
       "\n",
       "    Note: the search for a split does not stop until at least one\n",
       "    valid partition of the node samples is found, even if it requires to\n",
       "    effectively inspect more than ``max_features`` features.\n",
       "\n",
       "max_leaf_nodes : int, default=None\n",
       "    Grow trees with ``max_leaf_nodes`` in best-first fashion.\n",
       "    Best nodes are defined as relative reduction in impurity.\n",
       "    If None then unlimited number of leaf nodes.\n",
       "\n",
       "min_impurity_decrease : float, default=0.0\n",
       "    A node will be split if this split induces a decrease of the impurity\n",
       "    greater than or equal to this value.\n",
       "\n",
       "    The weighted impurity decrease equation is the following::\n",
       "\n",
       "        N_t / N * (impurity - N_t_R / N_t * right_impurity\n",
       "                            - N_t_L / N_t * left_impurity)\n",
       "\n",
       "    where ``N`` is the total number of samples, ``N_t`` is the number of\n",
       "    samples at the current node, ``N_t_L`` is the number of samples in the\n",
       "    left child, and ``N_t_R`` is the number of samples in the right child.\n",
       "\n",
       "    ``N``, ``N_t``, ``N_t_R`` and ``N_t_L`` all refer to the weighted sum,\n",
       "    if ``sample_weight`` is passed.\n",
       "\n",
       "    .. versionadded:: 0.19\n",
       "\n",
       "min_impurity_split : float, default=None\n",
       "    Threshold for early stopping in tree growth. A node will split\n",
       "    if its impurity is above the threshold, otherwise it is a leaf.\n",
       "\n",
       "    .. deprecated:: 0.19\n",
       "       ``min_impurity_split`` has been deprecated in favor of\n",
       "       ``min_impurity_decrease`` in 0.19. The default value of\n",
       "       ``min_impurity_split`` has changed from 1e-7 to 0 in 0.23 and it\n",
       "       will be removed in 1.0 (renaming of 0.25).\n",
       "       Use ``min_impurity_decrease`` instead.\n",
       "\n",
       "bootstrap : bool, default=True\n",
       "    Whether bootstrap samples are used when building trees. If False, the\n",
       "    whole dataset is used to build each tree.\n",
       "\n",
       "oob_score : bool, default=False\n",
       "    Whether to use out-of-bag samples to estimate the generalization score.\n",
       "    Only available if bootstrap=True.\n",
       "\n",
       "n_jobs : int, default=None\n",
       "    The number of jobs to run in parallel. :meth:`fit`, :meth:`predict`,\n",
       "    :meth:`decision_path` and :meth:`apply` are all parallelized over the\n",
       "    trees. ``None`` means 1 unless in a :obj:`joblib.parallel_backend`\n",
       "    context. ``-1`` means using all processors. See :term:`Glossary\n",
       "    <n_jobs>` for more details.\n",
       "\n",
       "random_state : int, RandomState instance or None, default=None\n",
       "    Controls both the randomness of the bootstrapping of the samples used\n",
       "    when building trees (if ``bootstrap=True``) and the sampling of the\n",
       "    features to consider when looking for the best split at each node\n",
       "    (if ``max_features < n_features``).\n",
       "    See :term:`Glossary <random_state>` for details.\n",
       "\n",
       "verbose : int, default=0\n",
       "    Controls the verbosity when fitting and predicting.\n",
       "\n",
       "warm_start : bool, default=False\n",
       "    When set to ``True``, reuse the solution of the previous call to fit\n",
       "    and add more estimators to the ensemble, otherwise, just fit a whole\n",
       "    new forest. See :term:`the Glossary <warm_start>`.\n",
       "\n",
       "class_weight : {\"balanced\", \"balanced_subsample\"}, dict or list of dicts,             default=None\n",
       "    Weights associated with classes in the form ``{class_label: weight}``.\n",
       "    If not given, all classes are supposed to have weight one. For\n",
       "    multi-output problems, a list of dicts can be provided in the same\n",
       "    order as the columns of y.\n",
       "\n",
       "    Note that for multioutput (including multilabel) weights should be\n",
       "    defined for each class of every column in its own dict. For example,\n",
       "    for four-class multilabel classification weights should be\n",
       "    [{0: 1, 1: 1}, {0: 1, 1: 5}, {0: 1, 1: 1}, {0: 1, 1: 1}] instead of\n",
       "    [{1:1}, {2:5}, {3:1}, {4:1}].\n",
       "\n",
       "    The \"balanced\" mode uses the values of y to automatically adjust\n",
       "    weights inversely proportional to class frequencies in the input data\n",
       "    as ``n_samples / (n_classes * np.bincount(y))``\n",
       "\n",
       "    The \"balanced_subsample\" mode is the same as \"balanced\" except that\n",
       "    weights are computed based on the bootstrap sample for every tree\n",
       "    grown.\n",
       "\n",
       "    For multi-output, the weights of each column of y will be multiplied.\n",
       "\n",
       "    Note that these weights will be multiplied with sample_weight (passed\n",
       "    through the fit method) if sample_weight is specified.\n",
       "\n",
       "ccp_alpha : non-negative float, default=0.0\n",
       "    Complexity parameter used for Minimal Cost-Complexity Pruning. The\n",
       "    subtree with the largest cost complexity that is smaller than\n",
       "    ``ccp_alpha`` will be chosen. By default, no pruning is performed. See\n",
       "    :ref:`minimal_cost_complexity_pruning` for details.\n",
       "\n",
       "    .. versionadded:: 0.22\n",
       "\n",
       "max_samples : int or float, default=None\n",
       "    If bootstrap is True, the number of samples to draw from X\n",
       "    to train each base estimator.\n",
       "\n",
       "    - If None (default), then draw `X.shape[0]` samples.\n",
       "    - If int, then draw `max_samples` samples.\n",
       "    - If float, then draw `max_samples * X.shape[0]` samples. Thus,\n",
       "      `max_samples` should be in the interval `(0, 1)`.\n",
       "\n",
       "    .. versionadded:: 0.22\n",
       "\n",
       "Attributes\n",
       "----------\n",
       "base_estimator_ : DecisionTreeClassifier\n",
       "    The child estimator template used to create the collection of fitted\n",
       "    sub-estimators.\n",
       "\n",
       "estimators_ : list of DecisionTreeClassifier\n",
       "    The collection of fitted sub-estimators.\n",
       "\n",
       "classes_ : ndarray of shape (n_classes,) or a list of such arrays\n",
       "    The classes labels (single output problem), or a list of arrays of\n",
       "    class labels (multi-output problem).\n",
       "\n",
       "n_classes_ : int or list\n",
       "    The number of classes (single output problem), or a list containing the\n",
       "    number of classes for each output (multi-output problem).\n",
       "\n",
       "n_features_ : int\n",
       "    The number of features when ``fit`` is performed.\n",
       "\n",
       "n_outputs_ : int\n",
       "    The number of outputs when ``fit`` is performed.\n",
       "\n",
       "feature_importances_ : ndarray of shape (n_features,)\n",
       "    The impurity-based feature importances.\n",
       "    The higher, the more important the feature.\n",
       "    The importance of a feature is computed as the (normalized)\n",
       "    total reduction of the criterion brought by that feature.  It is also\n",
       "    known as the Gini importance.\n",
       "\n",
       "    Warning: impurity-based feature importances can be misleading for\n",
       "    high cardinality features (many unique values). See\n",
       "    :func:`sklearn.inspection.permutation_importance` as an alternative.\n",
       "\n",
       "oob_score_ : float\n",
       "    Score of the training dataset obtained using an out-of-bag estimate.\n",
       "    This attribute exists only when ``oob_score`` is True.\n",
       "\n",
       "oob_decision_function_ : ndarray of shape (n_samples, n_classes)\n",
       "    Decision function computed with out-of-bag estimate on the training\n",
       "    set. If n_estimators is small it might be possible that a data point\n",
       "    was never left out during the bootstrap. In this case,\n",
       "    `oob_decision_function_` might contain NaN. This attribute exists\n",
       "    only when ``oob_score`` is True.\n",
       "\n",
       "See Also\n",
       "--------\n",
       "DecisionTreeClassifier, ExtraTreesClassifier\n",
       "\n",
       "Notes\n",
       "-----\n",
       "The default values for the parameters controlling the size of the trees\n",
       "(e.g. ``max_depth``, ``min_samples_leaf``, etc.) lead to fully grown and\n",
       "unpruned trees which can potentially be very large on some data sets. To\n",
       "reduce memory consumption, the complexity and size of the trees should be\n",
       "controlled by setting those parameter values.\n",
       "\n",
       "The features are always randomly permuted at each split. Therefore,\n",
       "the best found split may vary, even with the same training data,\n",
       "``max_features=n_features`` and ``bootstrap=False``, if the improvement\n",
       "of the criterion is identical for several splits enumerated during the\n",
       "search of the best split. To obtain a deterministic behaviour during\n",
       "fitting, ``random_state`` has to be fixed.\n",
       "\n",
       "References\n",
       "----------\n",
       ".. [1] L. Breiman, \"Random Forests\", Machine Learning, 45(1), 5-32, 2001.\n",
       "\n",
       "Examples\n",
       "--------\n",
       ">>> from sklearn.ensemble import RandomForestClassifier\n",
       ">>> from sklearn.datasets import make_classification\n",
       ">>> X, y = make_classification(n_samples=1000, n_features=4,\n",
       "...                            n_informative=2, n_redundant=0,\n",
       "...                            random_state=0, shuffle=False)\n",
       ">>> clf = RandomForestClassifier(max_depth=2, random_state=0)\n",
       ">>> clf.fit(X, y)\n",
       "RandomForestClassifier(...)\n",
       ">>> print(clf.predict([[0, 0, 0, 0]]))\n",
       "[1]\n"
      ]
     },
     "metadata": {},
     "output_type": "display_data"
    }
   ],
   "source": [
    "?rf_model"
   ]
  },
  {
   "cell_type": "code",
   "execution_count": 144,
   "metadata": {},
   "outputs": [],
   "source": [
    "rf_params = {'max_depth': [2,3,5,8,10],\n",
    "             'max_features': [2,5,8],\n",
    "             'n_estimators': [10,500,1000],\n",
    "             'min_samples_split': [2,5,10]\n",
    "    \n",
    "}"
   ]
  },
  {
   "cell_type": "code",
   "execution_count": 145,
   "metadata": {},
   "outputs": [
    {
     "name": "stdout",
     "output_type": "stream",
     "text": [
      "Fitting 10 folds for each of 135 candidates, totalling 1350 fits\n"
     ]
    }
   ],
   "source": [
    "rf_model = RandomForestClassifier()\n",
    "rf_cv = GridSearchCV(rf_model, rf_params, cv = 10, n_jobs = -1, verbose = 2).fit(X_train, y_train)"
   ]
  },
  {
   "cell_type": "code",
   "execution_count": 146,
   "metadata": {},
   "outputs": [
    {
     "data": {
      "text/plain": [
       "{'max_depth': 10,\n",
       " 'max_features': 8,\n",
       " 'min_samples_split': 2,\n",
       " 'n_estimators': 500}"
      ]
     },
     "execution_count": 146,
     "metadata": {},
     "output_type": "execute_result"
    }
   ],
   "source": [
    "rf_cv.best_params_"
   ]
  },
  {
   "cell_type": "code",
   "execution_count": 147,
   "metadata": {},
   "outputs": [],
   "source": [
    "rf_tuned = RandomForestClassifier(max_depth = 10,\n",
    "                                 max_features = 8,\n",
    "                                 min_samples_split = 5,\n",
    "                                 n_estimators = 1000).fit(X_train, y_train)"
   ]
  },
  {
   "cell_type": "code",
   "execution_count": 148,
   "metadata": {},
   "outputs": [],
   "source": [
    "y_pred = rf_tuned.predict(X_test)"
   ]
  },
  {
   "cell_type": "code",
   "execution_count": 149,
   "metadata": {},
   "outputs": [
    {
     "data": {
      "text/plain": [
       "0.7445887445887446"
      ]
     },
     "execution_count": 149,
     "metadata": {},
     "output_type": "execute_result"
    }
   ],
   "source": [
    "accuracy_score(y_test, y_pred)"
   ]
  },
  {
   "cell_type": "code",
   "execution_count": 150,
   "metadata": {},
   "outputs": [],
   "source": [
    "Importance = pd.DataFrame({\"Importance\": rf_tuned.feature_importances_*100},\n",
    "                         index = X_train.columns)"
   ]
  },
  {
   "cell_type": "code",
   "execution_count": 151,
   "metadata": {},
   "outputs": [
    {
     "data": {
      "text/plain": [
       "Text(0.5, 0, 'Değişken Önem Düzeyleri')"
      ]
     },
     "execution_count": 151,
     "metadata": {},
     "output_type": "execute_result"
    },
    {
     "data": {
      "image/png": "[encoded data removed]",
      "text/plain": [
       "<Figure size 432x288 with 1 Axes>"
      ]
     },
     "metadata": {
      "needs_background": "light"
     },
     "output_type": "display_data"
    }
   ],
   "source": [
    "Importance.sort_values(by = \"Importance\", \n",
    "                       axis = 0, \n",
    "                       ascending = True).plot(kind =\"barh\", color = \"r\")\n",
    "\n",
    "plt.xlabel(\"Değişken Önem Düzeyleri\")"
   ]
  },
  {
   "cell_type": "markdown",
   "metadata": {},
   "source": [
    "## Gradient Bosting Machine GBM"
   ]
  },
  {
   "cell_type": "markdown",
   "metadata": {},
   "source": [
    "### Model & Tahmin"
   ]
  },
  {
   "cell_type": "code",
   "execution_count": 152,
   "metadata": {},
   "outputs": [],
   "source": [
    "url = 'https://raw.githubusercontent.com/fatihcihant/VeribilimiveMachineLearningNotlar/master/diabetes.csv'\n",
    "data = pd.read_csv(url)\n",
    "df = data.copy()\n",
    "df = df.dropna()\n",
    "y = df[\"Outcome\"]\n",
    "X = df.drop(['Outcome'], axis=1)\n",
    "X_train, X_test, y_train, y_test = train_test_split(X, y, \n",
    "                                                    test_size=0.30, \n",
    "                                                    random_state=42)"
   ]
  },
  {
   "cell_type": "code",
   "execution_count": 153,
   "metadata": {},
   "outputs": [],
   "source": [
    "from sklearn.ensemble import GradientBoostingClassifier"
   ]
  },
  {
   "cell_type": "code",
   "execution_count": 154,
   "metadata": {},
   "outputs": [],
   "source": [
    "gbm_model = GradientBoostingClassifier().fit(X_train, y_train)"
   ]
  },
  {
   "cell_type": "code",
   "execution_count": 155,
   "metadata": {},
   "outputs": [],
   "source": [
    "y_pred = gbm_model.predict(X_test)\n"
   ]
  },
  {
   "cell_type": "code",
   "execution_count": 156,
   "metadata": {},
   "outputs": [
    {
     "data": {
      "text/plain": [
       "0.7445887445887446"
      ]
     },
     "execution_count": 156,
     "metadata": {},
     "output_type": "execute_result"
    }
   ],
   "source": [
    "accuracy_score(y_test, y_pred)"
   ]
  },
  {
   "cell_type": "markdown",
   "metadata": {},
   "source": [
    "### Model Tuning"
   ]
  },
  {
   "cell_type": "code",
   "execution_count": 157,
   "metadata": {},
   "outputs": [
    {
     "data": {
      "text/plain": [
       "\u001b[1;31mType:\u001b[0m        GradientBoostingClassifier\n",
       "\u001b[1;31mString form:\u001b[0m GradientBoostingClassifier()\n",
       "\u001b[1;31mLength:\u001b[0m      100\n",
       "\u001b[1;31mFile:\u001b[0m        c:\\users\\90530\\anaconda3\\lib\\site-packages\\sklearn\\ensemble\\_gb.py\n",
       "\u001b[1;31mDocstring:\u001b[0m  \n",
       "Gradient Boosting for classification.\n",
       "\n",
       "GB builds an additive model in a\n",
       "forward stage-wise fashion; it allows for the optimization of\n",
       "arbitrary differentiable loss functions. In each stage ``n_classes_``\n",
       "regression trees are fit on the negative gradient of the\n",
       "binomial or multinomial deviance loss function. Binary classification\n",
       "is a special case where only a single regression tree is induced.\n",
       "\n",
       "Read more in the :ref:`User Guide <gradient_boosting>`.\n",
       "\n",
       "Parameters\n",
       "----------\n",
       "loss : {'deviance', 'exponential'}, default='deviance'\n",
       "    The loss function to be optimized. 'deviance' refers to\n",
       "    deviance (= logistic regression) for classification\n",
       "    with probabilistic outputs. For loss 'exponential' gradient\n",
       "    boosting recovers the AdaBoost algorithm.\n",
       "\n",
       "learning_rate : float, default=0.1\n",
       "    Learning rate shrinks the contribution of each tree by `learning_rate`.\n",
       "    There is a trade-off between learning_rate and n_estimators.\n",
       "\n",
       "n_estimators : int, default=100\n",
       "    The number of boosting stages to perform. Gradient boosting\n",
       "    is fairly robust to over-fitting so a large number usually\n",
       "    results in better performance.\n",
       "\n",
       "subsample : float, default=1.0\n",
       "    The fraction of samples to be used for fitting the individual base\n",
       "    learners. If smaller than 1.0 this results in Stochastic Gradient\n",
       "    Boosting. `subsample` interacts with the parameter `n_estimators`.\n",
       "    Choosing `subsample < 1.0` leads to a reduction of variance\n",
       "    and an increase in bias.\n",
       "\n",
       "criterion : {'friedman_mse', 'mse', 'mae'}, default='friedman_mse'\n",
       "    The function to measure the quality of a split. Supported criteria\n",
       "    are 'friedman_mse' for the mean squared error with improvement\n",
       "    score by Friedman, 'mse' for mean squared error, and 'mae' for\n",
       "    the mean absolute error. The default value of 'friedman_mse' is\n",
       "    generally the best as it can provide a better approximation in\n",
       "    some cases.\n",
       "\n",
       "    .. versionadded:: 0.18\n",
       "    .. deprecated:: 0.24\n",
       "        `criterion='mae'` is deprecated and will be removed in version\n",
       "        1.1 (renaming of 0.26). Use `criterion='friedman_mse'` or `'mse'`\n",
       "        instead, as trees should use a least-square criterion in\n",
       "        Gradient Boosting.\n",
       "\n",
       "min_samples_split : int or float, default=2\n",
       "    The minimum number of samples required to split an internal node:\n",
       "\n",
       "    - If int, then consider `min_samples_split` as the minimum number.\n",
       "    - If float, then `min_samples_split` is a fraction and\n",
       "      `ceil(min_samples_split * n_samples)` are the minimum\n",
       "      number of samples for each split.\n",
       "\n",
       "    .. versionchanged:: 0.18\n",
       "       Added float values for fractions.\n",
       "\n",
       "min_samples_leaf : int or float, default=1\n",
       "    The minimum number of samples required to be at a leaf node.\n",
       "    A split point at any depth will only be considered if it leaves at\n",
       "    least ``min_samples_leaf`` training samples in each of the left and\n",
       "    right branches.  This may have the effect of smoothing the model,\n",
       "    especially in regression.\n",
       "\n",
       "    - If int, then consider `min_samples_leaf` as the minimum number.\n",
       "    - If float, then `min_samples_leaf` is a fraction and\n",
       "      `ceil(min_samples_leaf * n_samples)` are the minimum\n",
       "      number of samples for each node.\n",
       "\n",
       "    .. versionchanged:: 0.18\n",
       "       Added float values for fractions.\n",
       "\n",
       "min_weight_fraction_leaf : float, default=0.0\n",
       "    The minimum weighted fraction of the sum total of weights (of all\n",
       "    the input samples) required to be at a leaf node. Samples have\n",
       "    equal weight when sample_weight is not provided.\n",
       "\n",
       "max_depth : int, default=3\n",
       "    The maximum depth of the individual regression estimators. The maximum\n",
       "    depth limits the number of nodes in the tree. Tune this parameter\n",
       "    for best performance; the best value depends on the interaction\n",
       "    of the input variables.\n",
       "\n",
       "min_impurity_decrease : float, default=0.0\n",
       "    A node will be split if this split induces a decrease of the impurity\n",
       "    greater than or equal to this value.\n",
       "\n",
       "    The weighted impurity decrease equation is the following::\n",
       "\n",
       "        N_t / N * (impurity - N_t_R / N_t * right_impurity\n",
       "                            - N_t_L / N_t * left_impurity)\n",
       "\n",
       "    where ``N`` is the total number of samples, ``N_t`` is the number of\n",
       "    samples at the current node, ``N_t_L`` is the number of samples in the\n",
       "    left child, and ``N_t_R`` is the number of samples in the right child.\n",
       "\n",
       "    ``N``, ``N_t``, ``N_t_R`` and ``N_t_L`` all refer to the weighted sum,\n",
       "    if ``sample_weight`` is passed.\n",
       "\n",
       "    .. versionadded:: 0.19\n",
       "\n",
       "min_impurity_split : float, default=None\n",
       "    Threshold for early stopping in tree growth. A node will split\n",
       "    if its impurity is above the threshold, otherwise it is a leaf.\n",
       "\n",
       "    .. deprecated:: 0.19\n",
       "       ``min_impurity_split`` has been deprecated in favor of\n",
       "       ``min_impurity_decrease`` in 0.19. The default value of\n",
       "       ``min_impurity_split`` has changed from 1e-7 to 0 in 0.23 and it\n",
       "       will be removed in 1.0 (renaming of 0.25).\n",
       "       Use ``min_impurity_decrease`` instead.\n",
       "\n",
       "init : estimator or 'zero', default=None\n",
       "    An estimator object that is used to compute the initial predictions.\n",
       "    ``init`` has to provide :meth:`fit` and :meth:`predict_proba`. If\n",
       "    'zero', the initial raw predictions are set to zero. By default, a\n",
       "    ``DummyEstimator`` predicting the classes priors is used.\n",
       "\n",
       "random_state : int, RandomState instance or None, default=None\n",
       "    Controls the random seed given to each Tree estimator at each\n",
       "    boosting iteration.\n",
       "    In addition, it controls the random permutation of the features at\n",
       "    each split (see Notes for more details).\n",
       "    It also controls the random spliting of the training data to obtain a\n",
       "    validation set if `n_iter_no_change` is not None.\n",
       "    Pass an int for reproducible output across multiple function calls.\n",
       "    See :term:`Glossary <random_state>`.\n",
       "\n",
       "max_features : {'auto', 'sqrt', 'log2'}, int or float, default=None\n",
       "    The number of features to consider when looking for the best split:\n",
       "\n",
       "    - If int, then consider `max_features` features at each split.\n",
       "    - If float, then `max_features` is a fraction and\n",
       "      `int(max_features * n_features)` features are considered at each\n",
       "      split.\n",
       "    - If 'auto', then `max_features=sqrt(n_features)`.\n",
       "    - If 'sqrt', then `max_features=sqrt(n_features)`.\n",
       "    - If 'log2', then `max_features=log2(n_features)`.\n",
       "    - If None, then `max_features=n_features`.\n",
       "\n",
       "    Choosing `max_features < n_features` leads to a reduction of variance\n",
       "    and an increase in bias.\n",
       "\n",
       "    Note: the search for a split does not stop until at least one\n",
       "    valid partition of the node samples is found, even if it requires to\n",
       "    effectively inspect more than ``max_features`` features.\n",
       "\n",
       "verbose : int, default=0\n",
       "    Enable verbose output. If 1 then it prints progress and performance\n",
       "    once in a while (the more trees the lower the frequency). If greater\n",
       "    than 1 then it prints progress and performance for every tree.\n",
       "\n",
       "max_leaf_nodes : int, default=None\n",
       "    Grow trees with ``max_leaf_nodes`` in best-first fashion.\n",
       "    Best nodes are defined as relative reduction in impurity.\n",
       "    If None then unlimited number of leaf nodes.\n",
       "\n",
       "warm_start : bool, default=False\n",
       "    When set to ``True``, reuse the solution of the previous call to fit\n",
       "    and add more estimators to the ensemble, otherwise, just erase the\n",
       "    previous solution. See :term:`the Glossary <warm_start>`.\n",
       "\n",
       "validation_fraction : float, default=0.1\n",
       "    The proportion of training data to set aside as validation set for\n",
       "    early stopping. Must be between 0 and 1.\n",
       "    Only used if ``n_iter_no_change`` is set to an integer.\n",
       "\n",
       "    .. versionadded:: 0.20\n",
       "\n",
       "n_iter_no_change : int, default=None\n",
       "    ``n_iter_no_change`` is used to decide if early stopping will be used\n",
       "    to terminate training when validation score is not improving. By\n",
       "    default it is set to None to disable early stopping. If set to a\n",
       "    number, it will set aside ``validation_fraction`` size of the training\n",
       "    data as validation and terminate training when validation score is not\n",
       "    improving in all of the previous ``n_iter_no_change`` numbers of\n",
       "    iterations. The split is stratified.\n",
       "\n",
       "    .. versionadded:: 0.20\n",
       "\n",
       "tol : float, default=1e-4\n",
       "    Tolerance for the early stopping. When the loss is not improving\n",
       "    by at least tol for ``n_iter_no_change`` iterations (if set to a\n",
       "    number), the training stops.\n",
       "\n",
       "    .. versionadded:: 0.20\n",
       "\n",
       "ccp_alpha : non-negative float, default=0.0\n",
       "    Complexity parameter used for Minimal Cost-Complexity Pruning. The\n",
       "    subtree with the largest cost complexity that is smaller than\n",
       "    ``ccp_alpha`` will be chosen. By default, no pruning is performed. See\n",
       "    :ref:`minimal_cost_complexity_pruning` for details.\n",
       "\n",
       "    .. versionadded:: 0.22\n",
       "\n",
       "Attributes\n",
       "----------\n",
       "n_estimators_ : int\n",
       "    The number of estimators as selected by early stopping (if\n",
       "    ``n_iter_no_change`` is specified). Otherwise it is set to\n",
       "    ``n_estimators``.\n",
       "\n",
       "    .. versionadded:: 0.20\n",
       "\n",
       "feature_importances_ : ndarray of shape (n_features,)\n",
       "    The impurity-based feature importances.\n",
       "    The higher, the more important the feature.\n",
       "    The importance of a feature is computed as the (normalized)\n",
       "    total reduction of the criterion brought by that feature.  It is also\n",
       "    known as the Gini importance.\n",
       "\n",
       "    Warning: impurity-based feature importances can be misleading for\n",
       "    high cardinality features (many unique values). See\n",
       "    :func:`sklearn.inspection.permutation_importance` as an alternative.\n",
       "\n",
       "oob_improvement_ : ndarray of shape (n_estimators,)\n",
       "    The improvement in loss (= deviance) on the out-of-bag samples\n",
       "    relative to the previous iteration.\n",
       "    ``oob_improvement_[0]`` is the improvement in\n",
       "    loss of the first stage over the ``init`` estimator.\n",
       "    Only available if ``subsample < 1.0``\n",
       "\n",
       "train_score_ : ndarray of shape (n_estimators,)\n",
       "    The i-th score ``train_score_[i]`` is the deviance (= loss) of the\n",
       "    model at iteration ``i`` on the in-bag sample.\n",
       "    If ``subsample == 1`` this is the deviance on the training data.\n",
       "\n",
       "loss_ : LossFunction\n",
       "    The concrete ``LossFunction`` object.\n",
       "\n",
       "init_ : estimator\n",
       "    The estimator that provides the initial predictions.\n",
       "    Set via the ``init`` argument or ``loss.init_estimator``.\n",
       "\n",
       "estimators_ : ndarray of DecisionTreeRegressor of shape (n_estimators, ``loss_.K``)\n",
       "    The collection of fitted sub-estimators. ``loss_.K`` is 1 for binary\n",
       "    classification, otherwise n_classes.\n",
       "\n",
       "classes_ : ndarray of shape (n_classes,)\n",
       "    The classes labels.\n",
       "\n",
       "n_features_ : int\n",
       "    The number of data features.\n",
       "\n",
       "n_classes_ : int\n",
       "    The number of classes.\n",
       "\n",
       "max_features_ : int\n",
       "    The inferred value of max_features.\n",
       "\n",
       "See Also\n",
       "--------\n",
       "HistGradientBoostingClassifier : Histogram-based Gradient Boosting\n",
       "    Classification Tree.\n",
       "sklearn.tree.DecisionTreeClassifier : A decision tree classifier.\n",
       "RandomForestClassifier : A meta-estimator that fits a number of decision\n",
       "    tree classifiers on various sub-samples of the dataset and uses\n",
       "    averaging to improve the predictive accuracy and control over-fitting.\n",
       "AdaBoostClassifier : A meta-estimator that begins by fitting a classifier\n",
       "    on the original dataset and then fits additional copies of the\n",
       "    classifier on the same dataset where the weights of incorrectly\n",
       "    classified instances are adjusted such that subsequent classifiers\n",
       "    focus more on difficult cases.\n",
       "\n",
       "Notes\n",
       "-----\n",
       "The features are always randomly permuted at each split. Therefore,\n",
       "the best found split may vary, even with the same training data and\n",
       "``max_features=n_features``, if the improvement of the criterion is\n",
       "identical for several splits enumerated during the search of the best\n",
       "split. To obtain a deterministic behaviour during fitting,\n",
       "``random_state`` has to be fixed.\n",
       "\n",
       "References\n",
       "----------\n",
       "J. Friedman, Greedy Function Approximation: A Gradient Boosting\n",
       "Machine, The Annals of Statistics, Vol. 29, No. 5, 2001.\n",
       "\n",
       "J. Friedman, Stochastic Gradient Boosting, 1999\n",
       "\n",
       "T. Hastie, R. Tibshirani and J. Friedman.\n",
       "Elements of Statistical Learning Ed. 2, Springer, 2009.\n",
       "\n",
       "Examples\n",
       "--------\n",
       "The following example shows how to fit a gradient boosting classifier with\n",
       "100 decision stumps as weak learners.\n",
       "\n",
       ">>> from sklearn.datasets import make_hastie_10_2\n",
       ">>> from sklearn.ensemble import GradientBoostingClassifier\n",
       "\n",
       ">>> X, y = make_hastie_10_2(random_state=0)\n",
       ">>> X_train, X_test = X[:2000], X[2000:]\n",
       ">>> y_train, y_test = y[:2000], y[2000:]\n",
       "\n",
       ">>> clf = GradientBoostingClassifier(n_estimators=100, learning_rate=1.0,\n",
       "...     max_depth=1, random_state=0).fit(X_train, y_train)\n",
       ">>> clf.score(X_test, y_test)\n",
       "0.913...\n"
      ]
     },
     "metadata": {},
     "output_type": "display_data"
    }
   ],
   "source": [
    "?gbm_model"
   ]
  },
  {
   "cell_type": "code",
   "execution_count": 158,
   "metadata": {},
   "outputs": [],
   "source": [
    "gbm_params = {\"learning_rate\" : [0.001, 0.01, 0.1, 0.05],\n",
    "             \"n_estimators\": [100,500,100],\n",
    "             \"max_depth\": [3,5,10],\n",
    "             \"min_samples_split\": [2,5,10]}"
   ]
  },
  {
   "cell_type": "code",
   "execution_count": 159,
   "metadata": {},
   "outputs": [
    {
     "name": "stdout",
     "output_type": "stream",
     "text": [
      "Fitting 10 folds for each of 108 candidates, totalling 1080 fits\n"
     ]
    }
   ],
   "source": [
    "gbm = GradientBoostingClassifier()\n",
    "gbm_cv = GridSearchCV(gbm, gbm_params, cv = 10, n_jobs = -1, verbose = 2).fit(X_train,y_train)"
   ]
  },
  {
   "cell_type": "code",
   "execution_count": 160,
   "metadata": {},
   "outputs": [
    {
     "data": {
      "text/plain": [
       "{'learning_rate': 0.1,\n",
       " 'max_depth': 3,\n",
       " 'min_samples_split': 5,\n",
       " 'n_estimators': 100}"
      ]
     },
     "execution_count": 160,
     "metadata": {},
     "output_type": "execute_result"
    }
   ],
   "source": [
    "gbm_cv.best_params_"
   ]
  },
  {
   "cell_type": "code",
   "execution_count": 161,
   "metadata": {},
   "outputs": [],
   "source": [
    "gbm_tuned = GradientBoostingClassifier(learning_rate = 0.01, \n",
    "                                       max_depth = 5, \n",
    "                                       min_samples_split = 2, \n",
    "                                       n_estimators = 500).fit(X_train,y_train)"
   ]
  },
  {
   "cell_type": "code",
   "execution_count": 162,
   "metadata": {},
   "outputs": [],
   "source": [
    "y_pred = gbm_tuned.predict(X_test)"
   ]
  },
  {
   "cell_type": "code",
   "execution_count": 163,
   "metadata": {},
   "outputs": [
    {
     "data": {
      "text/plain": [
       "0.7359307359307359"
      ]
     },
     "execution_count": 163,
     "metadata": {},
     "output_type": "execute_result"
    }
   ],
   "source": [
    "accuracy_score(y_test, y_pred)"
   ]
  },
  {
   "cell_type": "markdown",
   "metadata": {},
   "source": [
    "## XGBoost"
   ]
  },
  {
   "cell_type": "code",
   "execution_count": 164,
   "metadata": {},
   "outputs": [],
   "source": [
    "url = 'https://raw.githubusercontent.com/fatihcihant/VeribilimiveMachineLearningNotlar/master/diabetes.csv'\n",
    "data = pd.read_csv(url)\n",
    "df = data.copy()\n",
    "df = df.dropna()\n",
    "y = df[\"Outcome\"]\n",
    "X = df.drop(['Outcome'], axis=1)\n",
    "X_train, X_test, y_train, y_test = train_test_split(X, y, \n",
    "                                                    test_size=0.30, \n",
    "                                                    random_state=42)"
   ]
  },
  {
   "cell_type": "markdown",
   "metadata": {},
   "source": [
    "### Model & Tahmin"
   ]
  },
  {
   "cell_type": "code",
   "execution_count": 165,
   "metadata": {},
   "outputs": [],
   "source": [
    "from xgboost import XGBClassifier"
   ]
  },
  {
   "cell_type": "code",
   "execution_count": 166,
   "metadata": {},
   "outputs": [
    {
     "name": "stdout",
     "output_type": "stream",
     "text": [
      "[15:52:30] WARNING: C:/Users/Administrator/workspace/xgboost-win64_release_1.4.0/src/learner.cc:1095: Starting in XGBoost 1.3.0, the default evaluation metric used with the objective 'binary:logistic' was changed from 'error' to 'logloss'. Explicitly set eval_metric if you'd like to restore the old behavior.\n"
     ]
    }
   ],
   "source": [
    "xgb_model = XGBClassifier().fit(X_train, y_train)"
   ]
  },
  {
   "cell_type": "code",
   "execution_count": 167,
   "metadata": {},
   "outputs": [
    {
     "data": {
      "text/plain": [
       "XGBClassifier(base_score=0.5, booster='gbtree', colsample_bylevel=1,\n",
       "              colsample_bynode=1, colsample_bytree=1, gamma=0, gpu_id=-1,\n",
       "              importance_type='gain', interaction_constraints='',\n",
       "              learning_rate=0.300000012, max_delta_step=0, max_depth=6,\n",
       "              min_child_weight=1, missing=nan, monotone_constraints='()',\n",
       "              n_estimators=100, n_jobs=8, num_parallel_tree=1, random_state=0,\n",
       "              reg_alpha=0, reg_lambda=1, scale_pos_weight=1, subsample=1,\n",
       "              tree_method='exact', validate_parameters=1, verbosity=None)"
      ]
     },
     "execution_count": 167,
     "metadata": {},
     "output_type": "execute_result"
    }
   ],
   "source": [
    "xgb_model"
   ]
  },
  {
   "cell_type": "code",
   "execution_count": 168,
   "metadata": {},
   "outputs": [],
   "source": [
    "y_pred = xgb_model.predict(X_test)"
   ]
  },
  {
   "cell_type": "code",
   "execution_count": 169,
   "metadata": {},
   "outputs": [
    {
     "data": {
      "text/plain": [
       "0.7359307359307359"
      ]
     },
     "execution_count": 169,
     "metadata": {},
     "output_type": "execute_result"
    }
   ],
   "source": [
    "accuracy_score(y_test, y_pred)"
   ]
  },
  {
   "cell_type": "markdown",
   "metadata": {},
   "source": [
    "### Model Tuning"
   ]
  },
  {
   "cell_type": "code",
   "execution_count": 170,
   "metadata": {},
   "outputs": [
    {
     "data": {
      "text/plain": [
       "\u001b[1;31mType:\u001b[0m        XGBClassifier\n",
       "\u001b[1;31mString form:\u001b[0m\n",
       "XGBClassifier(base_score=0.5, booster='gbtree', colsample_bylevel=1,\n",
       "           colsample_byno <...> _weight=1, subsample=1,\n",
       "           tree_method='exact', validate_parameters=1, verbosity=None)\n",
       "\u001b[1;31mFile:\u001b[0m        c:\\users\\90530\\anaconda3\\lib\\site-packages\\xgboost\\sklearn.py\n",
       "\u001b[1;31mDocstring:\u001b[0m  \n",
       "Implementation of the scikit-learn API for XGBoost classification.\n",
       "\n",
       "\n",
       "Parameters\n",
       "----------\n",
       "\n",
       "    n_estimators : int\n",
       "        Number of boosting rounds.\n",
       "    use_label_encoder : bool\n",
       "        (Deprecated) Use the label encoder from scikit-learn to encode the labels. For new\n",
       "        code, we recommend that you set this parameter to False.\n",
       "\n",
       "    max_depth : int\n",
       "        Maximum tree depth for base learners.\n",
       "    learning_rate : float\n",
       "        Boosting learning rate (xgb's \"eta\")\n",
       "    verbosity : int\n",
       "        The degree of verbosity. Valid values are 0 (silent) - 3 (debug).\n",
       "    objective : string or callable\n",
       "        Specify the learning task and the corresponding learning objective or\n",
       "        a custom objective function to be used (see note below).\n",
       "    booster: string\n",
       "        Specify which booster to use: gbtree, gblinear or dart.\n",
       "    tree_method: string\n",
       "        Specify which tree method to use.  Default to auto.  If this parameter\n",
       "        is set to default, XGBoost will choose the most conservative option\n",
       "        available.  It's recommended to study this option from parameters\n",
       "        document.\n",
       "    n_jobs : int\n",
       "        Number of parallel threads used to run xgboost.  When used with other Scikit-Learn\n",
       "        algorithms like grid search, you may choose which algorithm to parallelize and\n",
       "        balance the threads.  Creating thread contention will significantly slow down both\n",
       "        algorithms.\n",
       "    gamma : float\n",
       "        Minimum loss reduction required to make a further partition on a leaf\n",
       "        node of the tree.\n",
       "    min_child_weight : float\n",
       "        Minimum sum of instance weight(hessian) needed in a child.\n",
       "    max_delta_step : float\n",
       "        Maximum delta step we allow each tree's weight estimation to be.\n",
       "    subsample : float\n",
       "        Subsample ratio of the training instance.\n",
       "    colsample_bytree : float\n",
       "        Subsample ratio of columns when constructing each tree.\n",
       "    colsample_bylevel : float\n",
       "        Subsample ratio of columns for each level.\n",
       "    colsample_bynode : float\n",
       "        Subsample ratio of columns for each split.\n",
       "    reg_alpha : float (xgb's alpha)\n",
       "        L1 regularization term on weights\n",
       "    reg_lambda : float (xgb's lambda)\n",
       "        L2 regularization term on weights\n",
       "    scale_pos_weight : float\n",
       "        Balancing of positive and negative weights.\n",
       "    base_score:\n",
       "        The initial prediction score of all instances, global bias.\n",
       "    random_state : int\n",
       "        Random number seed.\n",
       "\n",
       "        .. note::\n",
       "\n",
       "           Using gblinear booster with shotgun updater is nondeterministic as\n",
       "           it uses Hogwild algorithm.\n",
       "\n",
       "    missing : float, default np.nan\n",
       "        Value in the data which needs to be present as a missing value.\n",
       "    num_parallel_tree: int\n",
       "        Used for boosting random forest.\n",
       "    monotone_constraints : str\n",
       "        Constraint of variable monotonicity.  See tutorial for more\n",
       "        information.\n",
       "    interaction_constraints : str\n",
       "        Constraints for interaction representing permitted interactions.  The\n",
       "        constraints must be specified in the form of a nest list, e.g. [[0, 1],\n",
       "        [2, 3, 4]], where each inner list is a group of indices of features\n",
       "        that are allowed to interact with each other.  See tutorial for more\n",
       "        information\n",
       "    importance_type: string, default \"gain\"\n",
       "        The feature importance type for the feature_importances\\_ property:\n",
       "        either \"gain\", \"weight\", \"cover\", \"total_gain\" or \"total_cover\".\n",
       "    gpu_id :\n",
       "        Device ordinal.\n",
       "    validate_parameters :\n",
       "        Give warnings for unknown parameter.\n",
       "\n",
       "    \\*\\*kwargs : dict, optional\n",
       "        Keyword arguments for XGBoost Booster object.  Full documentation of\n",
       "        parameters can be found here:\n",
       "        https://github.com/dmlc/xgboost/blob/master/doc/parameter.rst.\n",
       "        Attempting to set a parameter via the constructor args and \\*\\*kwargs\n",
       "        dict simultaneously will result in a TypeError.\n",
       "\n",
       "        .. note:: \\*\\*kwargs unsupported by scikit-learn\n",
       "\n",
       "            \\*\\*kwargs is unsupported by scikit-learn.  We do not guarantee\n",
       "            that parameters passed via this argument will interact properly\n",
       "            with scikit-learn.\n",
       "\n",
       "        .. note::  Custom objective function\n",
       "\n",
       "            A custom objective function can be provided for the ``objective``\n",
       "            parameter. In this case, it should have the signature\n",
       "            ``objective(y_true, y_pred) -> grad, hess``:\n",
       "\n",
       "            y_true: array_like of shape [n_samples]\n",
       "                The target values\n",
       "            y_pred: array_like of shape [n_samples]\n",
       "                The predicted values\n",
       "\n",
       "            grad: array_like of shape [n_samples]\n",
       "                The value of the gradient for each sample point.\n",
       "            hess: array_like of shape [n_samples]\n",
       "                The value of the second derivative for each sample point\n"
      ]
     },
     "metadata": {},
     "output_type": "display_data"
    }
   ],
   "source": [
    "?xgb_model"
   ]
  },
  {
   "cell_type": "code",
   "execution_count": 171,
   "metadata": {},
   "outputs": [],
   "source": [
    "xgb_params = {\n",
    "        'n_estimators': [100, 500, 1000, 2000],\n",
    "        'subsample': [0.6, 0.8, 1.0],\n",
    "        'max_depth': [3, 4, 5,6],\n",
    "        'learning_rate': [0.1,0.01,0.02,0.05],\n",
    "        \"min_samples_split\": [2,5,10]}"
   ]
  },
  {
   "cell_type": "code",
   "execution_count": 172,
   "metadata": {},
   "outputs": [
    {
     "name": "stdout",
     "output_type": "stream",
     "text": [
      "Fitting 10 folds for each of 576 candidates, totalling 5760 fits\n",
      "[16:16:53] WARNING: C:/Users/Administrator/workspace/xgboost-win64_release_1.4.0/src/learner.cc:573: \n",
      "Parameters: { \"min_samples_split\" } might not be used.\n",
      "\n",
      "  This may not be accurate due to some parameters are only used in language bindings but\n",
      "  passed down to XGBoost core.  Or some parameters are not used but slip through this\n",
      "  verification. Please open an issue if you find above cases.\n",
      "\n",
      "\n",
      "[16:16:53] WARNING: C:/Users/Administrator/workspace/xgboost-win64_release_1.4.0/src/learner.cc:1095: Starting in XGBoost 1.3.0, the default evaluation metric used with the objective 'binary:logistic' was changed from 'error' to 'logloss'. Explicitly set eval_metric if you'd like to restore the old behavior.\n"
     ]
    }
   ],
   "source": [
    "xgb = XGBClassifier()\n",
    "xgb_cv = GridSearchCV(xgb, xgb_params, cv = 10, n_jobs = -1, verbose = 2).fit(X_train, y_train)"
   ]
  },
  {
   "cell_type": "code",
   "execution_count": 173,
   "metadata": {},
   "outputs": [
    {
     "data": {
      "text/plain": [
       "{'learning_rate': 0.02,\n",
       " 'max_depth': 3,\n",
       " 'min_samples_split': 2,\n",
       " 'n_estimators': 100,\n",
       " 'subsample': 0.6}"
      ]
     },
     "execution_count": 173,
     "metadata": {},
     "output_type": "execute_result"
    }
   ],
   "source": [
    "xgb_cv.best_params_"
   ]
  },
  {
   "cell_type": "code",
   "execution_count": 174,
   "metadata": {},
   "outputs": [
    {
     "name": "stdout",
     "output_type": "stream",
     "text": [
      "[16:16:53] WARNING: C:/Users/Administrator/workspace/xgboost-win64_release_1.4.0/src/learner.cc:573: \n",
      "Parameters: { \"min_samples_split\" } might not be used.\n",
      "\n",
      "  This may not be accurate due to some parameters are only used in language bindings but\n",
      "  passed down to XGBoost core.  Or some parameters are not used but slip through this\n",
      "  verification. Please open an issue if you find above cases.\n",
      "\n",
      "\n",
      "[16:16:53] WARNING: C:/Users/Administrator/workspace/xgboost-win64_release_1.4.0/src/learner.cc:1095: Starting in XGBoost 1.3.0, the default evaluation metric used with the objective 'binary:logistic' was changed from 'error' to 'logloss'. Explicitly set eval_metric if you'd like to restore the old behavior.\n"
     ]
    }
   ],
   "source": [
    "xgb_tuned = XGBClassifier(learning_rate = 0.02, \n",
    "                          max_depth = 3, \n",
    "                          min_samples_split = 2, \n",
    "                          n_estimators = 100, \n",
    "                          subsample = 0.06).fit(X_train, y_train)"
   ]
  },
  {
   "cell_type": "code",
   "execution_count": 175,
   "metadata": {},
   "outputs": [],
   "source": [
    "y_pred = xgb_tuned.predict(X_test)"
   ]
  },
  {
   "cell_type": "code",
   "execution_count": 176,
   "metadata": {},
   "outputs": [
    {
     "data": {
      "text/plain": [
       "0.7489177489177489"
      ]
     },
     "execution_count": 176,
     "metadata": {},
     "output_type": "execute_result"
    }
   ],
   "source": [
    "accuracy_score(y_test, y_pred)"
   ]
  },
  {
   "cell_type": "markdown",
   "metadata": {},
   "source": [
    "## Light GBM "
   ]
  },
  {
   "cell_type": "code",
   "execution_count": 177,
   "metadata": {},
   "outputs": [],
   "source": [
    "url = 'https://raw.githubusercontent.com/fatihcihant/VeribilimiveMachineLearningNotlar/master/diabetes.csv'\n",
    "data = pd.read_csv(url)\n",
    "df = data.copy()\n",
    "df = df.dropna()\n",
    "y = df[\"Outcome\"]\n",
    "X = df.drop(['Outcome'], axis=1)\n",
    "X_train, X_test, y_train, y_test = train_test_split(X, y, \n",
    "                                                    test_size=0.30, \n",
    "                                                    random_state=42)"
   ]
  },
  {
   "cell_type": "code",
   "execution_count": 178,
   "metadata": {},
   "outputs": [],
   "source": [
    "lgbm_model = LGBMClassifier().fit(X_train, y_train)"
   ]
  },
  {
   "cell_type": "code",
   "execution_count": 179,
   "metadata": {},
   "outputs": [],
   "source": [
    "y_pred = lgbm_model.predict(X_test)"
   ]
  },
  {
   "cell_type": "code",
   "execution_count": 180,
   "metadata": {},
   "outputs": [
    {
     "data": {
      "text/plain": [
       "0.7229437229437229"
      ]
     },
     "execution_count": 180,
     "metadata": {},
     "output_type": "execute_result"
    }
   ],
   "source": [
    "accuracy_score(y_test, y_pred)"
   ]
  },
  {
   "cell_type": "markdown",
   "metadata": {},
   "source": [
    "### Model Tuning"
   ]
  },
  {
   "cell_type": "code",
   "execution_count": 181,
   "metadata": {},
   "outputs": [
    {
     "data": {
      "text/plain": [
       "\u001b[1;31mType:\u001b[0m           LGBMClassifier\n",
       "\u001b[1;31mString form:\u001b[0m    LGBMClassifier()\n",
       "\u001b[1;31mFile:\u001b[0m           c:\\users\\90530\\anaconda3\\lib\\site-packages\\lightgbm\\sklearn.py\n",
       "\u001b[1;31mDocstring:\u001b[0m      LightGBM classifier.\n",
       "\u001b[1;31mInit docstring:\u001b[0m\n",
       "Construct a gradient boosting model.\n",
       "\n",
       "Parameters\n",
       "----------\n",
       "boosting_type : string, optional (default='gbdt')\n",
       "    'gbdt', traditional Gradient Boosting Decision Tree.\n",
       "    'dart', Dropouts meet Multiple Additive Regression Trees.\n",
       "    'goss', Gradient-based One-Side Sampling.\n",
       "    'rf', Random Forest.\n",
       "num_leaves : int, optional (default=31)\n",
       "    Maximum tree leaves for base learners.\n",
       "max_depth : int, optional (default=-1)\n",
       "    Maximum tree depth for base learners, <=0 means no limit.\n",
       "learning_rate : float, optional (default=0.1)\n",
       "    Boosting learning rate.\n",
       "    You can use ``callbacks`` parameter of ``fit`` method to shrink/adapt learning rate\n",
       "    in training using ``reset_parameter`` callback.\n",
       "    Note, that this will ignore the ``learning_rate`` argument in training.\n",
       "n_estimators : int, optional (default=100)\n",
       "    Number of boosted trees to fit.\n",
       "subsample_for_bin : int, optional (default=200000)\n",
       "    Number of samples for constructing bins.\n",
       "objective : string, callable or None, optional (default=None)\n",
       "    Specify the learning task and the corresponding learning objective or\n",
       "    a custom objective function to be used (see note below).\n",
       "    Default: 'regression' for LGBMRegressor, 'binary' or 'multiclass' for LGBMClassifier, 'lambdarank' for LGBMRanker.\n",
       "class_weight : dict, 'balanced' or None, optional (default=None)\n",
       "    Weights associated with classes in the form ``{class_label: weight}``.\n",
       "    Use this parameter only for multi-class classification task;\n",
       "    for binary classification task you may use ``is_unbalance`` or ``scale_pos_weight`` parameters.\n",
       "    Note, that the usage of all these parameters will result in poor estimates of the individual class probabilities.\n",
       "    You may want to consider performing probability calibration\n",
       "    (https://scikit-learn.org/stable/modules/calibration.html) of your model.\n",
       "    The 'balanced' mode uses the values of y to automatically adjust weights\n",
       "    inversely proportional to class frequencies in the input data as ``n_samples / (n_classes * np.bincount(y))``.\n",
       "    If None, all classes are supposed to have weight one.\n",
       "    Note, that these weights will be multiplied with ``sample_weight`` (passed through the ``fit`` method)\n",
       "    if ``sample_weight`` is specified.\n",
       "min_split_gain : float, optional (default=0.)\n",
       "    Minimum loss reduction required to make a further partition on a leaf node of the tree.\n",
       "min_child_weight : float, optional (default=1e-3)\n",
       "    Minimum sum of instance weight (hessian) needed in a child (leaf).\n",
       "min_child_samples : int, optional (default=20)\n",
       "    Minimum number of data needed in a child (leaf).\n",
       "subsample : float, optional (default=1.)\n",
       "    Subsample ratio of the training instance.\n",
       "subsample_freq : int, optional (default=0)\n",
       "    Frequence of subsample, <=0 means no enable.\n",
       "colsample_bytree : float, optional (default=1.)\n",
       "    Subsample ratio of columns when constructing each tree.\n",
       "reg_alpha : float, optional (default=0.)\n",
       "    L1 regularization term on weights.\n",
       "reg_lambda : float, optional (default=0.)\n",
       "    L2 regularization term on weights.\n",
       "random_state : int, RandomState object or None, optional (default=None)\n",
       "    Random number seed.\n",
       "    If int, this number is used to seed the C++ code.\n",
       "    If RandomState object (numpy), a random integer is picked based on its state to seed the C++ code.\n",
       "    If None, default seeds in C++ code are used.\n",
       "n_jobs : int, optional (default=-1)\n",
       "    Number of parallel threads.\n",
       "silent : bool, optional (default=True)\n",
       "    Whether to print messages while running boosting.\n",
       "importance_type : string, optional (default='split')\n",
       "    The type of feature importance to be filled into ``feature_importances_``.\n",
       "    If 'split', result contains numbers of times the feature is used in a model.\n",
       "    If 'gain', result contains total gains of splits which use the feature.\n",
       "**kwargs\n",
       "    Other parameters for the model.\n",
       "    Check http://lightgbm.readthedocs.io/en/latest/Parameters.html for more parameters.\n",
       "\n",
       "    .. warning::\n",
       "\n",
       "        \\*\\*kwargs is not supported in sklearn, it may cause unexpected issues.\n",
       "\n",
       "Note\n",
       "----\n",
       "A custom objective function can be provided for the ``objective`` parameter.\n",
       "In this case, it should have the signature\n",
       "``objective(y_true, y_pred) -> grad, hess`` or\n",
       "``objective(y_true, y_pred, group) -> grad, hess``:\n",
       "\n",
       "    y_true : array-like of shape = [n_samples]\n",
       "        The target values.\n",
       "    y_pred : array-like of shape = [n_samples] or shape = [n_samples * n_classes] (for multi-class task)\n",
       "        The predicted values.\n",
       "    group : array-like\n",
       "        Group/query data.\n",
       "        Only used in the learning-to-rank task.\n",
       "        sum(group) = n_samples.\n",
       "        For example, if you have a 100-document dataset with ``group = [10, 20, 40, 10, 10, 10]``, that means that you have 6 groups,\n",
       "        where the first 10 records are in the first group, records 11-30 are in the second group, records 31-70 are in the third group, etc.\n",
       "    grad : array-like of shape = [n_samples] or shape = [n_samples * n_classes] (for multi-class task)\n",
       "        The value of the first order derivative (gradient) for each sample point.\n",
       "    hess : array-like of shape = [n_samples] or shape = [n_samples * n_classes] (for multi-class task)\n",
       "        The value of the second order derivative (Hessian) for each sample point.\n",
       "\n",
       "For binary task, the y_pred is margin.\n",
       "For multi-class task, the y_pred is group by class_id first, then group by row_id.\n",
       "If you want to get i-th row y_pred in j-th class, the access way is y_pred[j * num_data + i]\n",
       "and you should group grad and hess in this way as well.\n"
      ]
     },
     "metadata": {},
     "output_type": "display_data"
    }
   ],
   "source": [
    "?lgbm_model"
   ]
  },
  {
   "cell_type": "code",
   "execution_count": 182,
   "metadata": {},
   "outputs": [],
   "source": [
    "lgbm_params = {\n",
    "        'n_estimators': [100, 500, 1000, 2000],\n",
    "        'subsample': [0.6, 0.8, 1.0],\n",
    "        'max_depth': [3, 4, 5,6],\n",
    "        'learning_rate': [0.1,0.01,0.02,0.05],\n",
    "        \"min_child_samples\": [5,10,20]}"
   ]
  },
  {
   "cell_type": "code",
   "execution_count": 183,
   "metadata": {},
   "outputs": [
    {
     "name": "stdout",
     "output_type": "stream",
     "text": [
      "Fitting 10 folds for each of 576 candidates, totalling 5760 fits\n"
     ]
    }
   ],
   "source": [
    "lgbm = LGBMClassifier()\n",
    "lgbm_cv = GridSearchCV(lgbm, lgbm_params, cv = 10, n_jobs = -1, verbose = 2).fit(X_train, y_train)"
   ]
  },
  {
   "cell_type": "code",
   "execution_count": 184,
   "metadata": {},
   "outputs": [
    {
     "data": {
      "text/plain": [
       "{'learning_rate': 0.05,\n",
       " 'max_depth': 3,\n",
       " 'min_child_samples': 20,\n",
       " 'n_estimators': 100,\n",
       " 'subsample': 0.6}"
      ]
     },
     "execution_count": 184,
     "metadata": {},
     "output_type": "execute_result"
    }
   ],
   "source": [
    "lgbm_cv.best_params_"
   ]
  },
  {
   "cell_type": "code",
   "execution_count": 185,
   "metadata": {},
   "outputs": [],
   "source": [
    "lgbm_tuned = LGBMClassifier(learning_rate = 0.05, \n",
    "                            max_depth = 3,\n",
    "                            min_child_samples = 20, \n",
    "                            n_estimators = 100, \n",
    "                            subsample = 0.6).fit(X_train, y_train)"
   ]
  },
  {
   "cell_type": "code",
   "execution_count": 186,
   "metadata": {},
   "outputs": [],
   "source": [
    "y_pred = lgbm_tuned.predict(X_test)"
   ]
  },
  {
   "cell_type": "code",
   "execution_count": 187,
   "metadata": {},
   "outputs": [
    {
     "data": {
      "text/plain": [
       "0.7489177489177489"
      ]
     },
     "execution_count": 187,
     "metadata": {},
     "output_type": "execute_result"
    }
   ],
   "source": [
    "accuracy_score(y_test, y_pred)"
   ]
  },
  {
   "cell_type": "markdown",
   "metadata": {},
   "source": [
    "## CatBooost"
   ]
  },
  {
   "cell_type": "code",
   "execution_count": 188,
   "metadata": {},
   "outputs": [],
   "source": [
    "url = 'https://raw.githubusercontent.com/fatihcihant/VeribilimiveMachineLearningNotlar/master/diabetes.csv'\n",
    "data = pd.read_csv(url)\n",
    "df = data.copy()\n",
    "df = df.dropna()\n",
    "y = df[\"Outcome\"]\n",
    "X = df.drop(['Outcome'], axis=1)\n",
    "X_train, X_test, y_train, y_test = train_test_split(X, y, \n",
    "                                                    test_size=0.30, \n",
    "                                                    random_state=42)"
   ]
  },
  {
   "cell_type": "code",
   "execution_count": 189,
   "metadata": {},
   "outputs": [
    {
     "name": "stdout",
     "output_type": "stream",
     "text": [
      "Learning rate set to 0.0079\n",
      "0:\tlearn: 0.6879822\ttotal: 1.72ms\tremaining: 1.72s\n",
      "1:\tlearn: 0.6843544\ttotal: 3.06ms\tremaining: 1.52s\n",
      "2:\tlearn: 0.6805937\ttotal: 4.74ms\tremaining: 1.57s\n",
      "3:\tlearn: 0.6766011\ttotal: 6.26ms\tremaining: 1.56s\n",
      "4:\tlearn: 0.6721103\ttotal: 7.58ms\tremaining: 1.51s\n",
      "5:\tlearn: 0.6681927\ttotal: 8.87ms\tremaining: 1.47s\n",
      "6:\tlearn: 0.6642263\ttotal: 10.3ms\tremaining: 1.46s\n",
      "7:\tlearn: 0.6603263\ttotal: 11.6ms\tremaining: 1.44s\n",
      "8:\tlearn: 0.6563030\ttotal: 13.1ms\tremaining: 1.44s\n",
      "9:\tlearn: 0.6528911\ttotal: 14.8ms\tremaining: 1.47s\n",
      "10:\tlearn: 0.6488276\ttotal: 16.5ms\tremaining: 1.48s\n",
      "11:\tlearn: 0.6455457\ttotal: 18.1ms\tremaining: 1.49s\n",
      "12:\tlearn: 0.6419444\ttotal: 19.6ms\tremaining: 1.49s\n",
      "13:\tlearn: 0.6374939\ttotal: 21.1ms\tremaining: 1.49s\n",
      "14:\tlearn: 0.6340194\ttotal: 22.8ms\tremaining: 1.5s\n",
      "15:\tlearn: 0.6304776\ttotal: 24.1ms\tremaining: 1.49s\n",
      "16:\tlearn: 0.6267531\ttotal: 25.6ms\tremaining: 1.48s\n",
      "17:\tlearn: 0.6238199\ttotal: 27.5ms\tremaining: 1.5s\n",
      "18:\tlearn: 0.6204938\ttotal: 29.6ms\tremaining: 1.53s\n",
      "19:\tlearn: 0.6170669\ttotal: 31ms\tremaining: 1.52s\n",
      "20:\tlearn: 0.6133936\ttotal: 33ms\tremaining: 1.54s\n",
      "21:\tlearn: 0.6105467\ttotal: 34.7ms\tremaining: 1.54s\n",
      "22:\tlearn: 0.6070055\ttotal: 36.1ms\tremaining: 1.53s\n",
      "23:\tlearn: 0.6036988\ttotal: 37.5ms\tremaining: 1.52s\n",
      "24:\tlearn: 0.6005906\ttotal: 39ms\tremaining: 1.52s\n",
      "25:\tlearn: 0.5978029\ttotal: 40.7ms\tremaining: 1.52s\n",
      "26:\tlearn: 0.5948687\ttotal: 42.5ms\tremaining: 1.53s\n",
      "27:\tlearn: 0.5920321\ttotal: 43.9ms\tremaining: 1.52s\n",
      "28:\tlearn: 0.5885543\ttotal: 45.2ms\tremaining: 1.51s\n",
      "29:\tlearn: 0.5848739\ttotal: 46.6ms\tremaining: 1.51s\n",
      "30:\tlearn: 0.5814562\ttotal: 48ms\tremaining: 1.5s\n",
      "31:\tlearn: 0.5783158\ttotal: 49.2ms\tremaining: 1.49s\n",
      "32:\tlearn: 0.5754880\ttotal: 50.7ms\tremaining: 1.48s\n",
      "33:\tlearn: 0.5737960\ttotal: 52.1ms\tremaining: 1.48s\n",
      "34:\tlearn: 0.5713558\ttotal: 53.5ms\tremaining: 1.47s\n",
      "35:\tlearn: 0.5687880\ttotal: 55ms\tremaining: 1.47s\n",
      "36:\tlearn: 0.5660068\ttotal: 57.1ms\tremaining: 1.49s\n",
      "37:\tlearn: 0.5642053\ttotal: 58.8ms\tremaining: 1.49s\n",
      "38:\tlearn: 0.5618905\ttotal: 60.7ms\tremaining: 1.5s\n",
      "39:\tlearn: 0.5596534\ttotal: 62.3ms\tremaining: 1.5s\n",
      "40:\tlearn: 0.5576328\ttotal: 63.9ms\tremaining: 1.49s\n",
      "41:\tlearn: 0.5553185\ttotal: 65.6ms\tremaining: 1.5s\n",
      "42:\tlearn: 0.5531257\ttotal: 67.2ms\tremaining: 1.5s\n",
      "43:\tlearn: 0.5501080\ttotal: 68.6ms\tremaining: 1.49s\n",
      "44:\tlearn: 0.5479930\ttotal: 70.5ms\tremaining: 1.5s\n",
      "45:\tlearn: 0.5456177\ttotal: 72ms\tremaining: 1.49s\n",
      "46:\tlearn: 0.5438786\ttotal: 73.3ms\tremaining: 1.49s\n",
      "47:\tlearn: 0.5419967\ttotal: 74.8ms\tremaining: 1.48s\n",
      "48:\tlearn: 0.5394665\ttotal: 76.1ms\tremaining: 1.48s\n",
      "49:\tlearn: 0.5376058\ttotal: 77.4ms\tremaining: 1.47s\n",
      "50:\tlearn: 0.5352902\ttotal: 78.7ms\tremaining: 1.46s\n",
      "51:\tlearn: 0.5332041\ttotal: 80ms\tremaining: 1.46s\n",
      "52:\tlearn: 0.5306692\ttotal: 81.3ms\tremaining: 1.45s\n",
      "53:\tlearn: 0.5284961\ttotal: 82.9ms\tremaining: 1.45s\n",
      "54:\tlearn: 0.5266646\ttotal: 85ms\tremaining: 1.46s\n",
      "55:\tlearn: 0.5245416\ttotal: 86.5ms\tremaining: 1.46s\n",
      "56:\tlearn: 0.5225713\ttotal: 88ms\tremaining: 1.46s\n",
      "57:\tlearn: 0.5206087\ttotal: 89.4ms\tremaining: 1.45s\n",
      "58:\tlearn: 0.5182788\ttotal: 90.8ms\tremaining: 1.45s\n",
      "59:\tlearn: 0.5160537\ttotal: 92.5ms\tremaining: 1.45s\n",
      "60:\tlearn: 0.5146418\ttotal: 94.1ms\tremaining: 1.45s\n",
      "61:\tlearn: 0.5133434\ttotal: 95.9ms\tremaining: 1.45s\n",
      "62:\tlearn: 0.5120091\ttotal: 97.7ms\tremaining: 1.45s\n",
      "63:\tlearn: 0.5105931\ttotal: 99.2ms\tremaining: 1.45s\n",
      "64:\tlearn: 0.5082239\ttotal: 101ms\tremaining: 1.45s\n",
      "65:\tlearn: 0.5062303\ttotal: 103ms\tremaining: 1.45s\n",
      "66:\tlearn: 0.5046140\ttotal: 104ms\tremaining: 1.45s\n",
      "67:\tlearn: 0.5026774\ttotal: 106ms\tremaining: 1.45s\n",
      "68:\tlearn: 0.5014878\ttotal: 107ms\tremaining: 1.44s\n",
      "69:\tlearn: 0.5001072\ttotal: 108ms\tremaining: 1.44s\n",
      "70:\tlearn: 0.4986150\ttotal: 110ms\tremaining: 1.44s\n",
      "71:\tlearn: 0.4968047\ttotal: 112ms\tremaining: 1.45s\n",
      "72:\tlearn: 0.4953632\ttotal: 114ms\tremaining: 1.44s\n",
      "73:\tlearn: 0.4938498\ttotal: 115ms\tremaining: 1.44s\n",
      "74:\tlearn: 0.4922801\ttotal: 116ms\tremaining: 1.44s\n",
      "75:\tlearn: 0.4908261\ttotal: 118ms\tremaining: 1.43s\n",
      "76:\tlearn: 0.4892363\ttotal: 119ms\tremaining: 1.43s\n",
      "77:\tlearn: 0.4876098\ttotal: 120ms\tremaining: 1.42s\n",
      "78:\tlearn: 0.4862050\ttotal: 122ms\tremaining: 1.42s\n",
      "79:\tlearn: 0.4850063\ttotal: 123ms\tremaining: 1.42s\n",
      "80:\tlearn: 0.4839806\ttotal: 125ms\tremaining: 1.42s\n",
      "81:\tlearn: 0.4823197\ttotal: 127ms\tremaining: 1.42s\n",
      "82:\tlearn: 0.4806850\ttotal: 128ms\tremaining: 1.42s\n",
      "83:\tlearn: 0.4791040\ttotal: 130ms\tremaining: 1.41s\n",
      "84:\tlearn: 0.4776899\ttotal: 131ms\tremaining: 1.41s\n",
      "85:\tlearn: 0.4760505\ttotal: 132ms\tremaining: 1.41s\n",
      "86:\tlearn: 0.4750202\ttotal: 134ms\tremaining: 1.4s\n",
      "87:\tlearn: 0.4736074\ttotal: 135ms\tremaining: 1.4s\n",
      "88:\tlearn: 0.4721145\ttotal: 137ms\tremaining: 1.4s\n",
      "89:\tlearn: 0.4709314\ttotal: 138ms\tremaining: 1.4s\n",
      "90:\tlearn: 0.4693651\ttotal: 140ms\tremaining: 1.4s\n",
      "91:\tlearn: 0.4679810\ttotal: 141ms\tremaining: 1.39s\n",
      "92:\tlearn: 0.4665089\ttotal: 143ms\tremaining: 1.39s\n",
      "93:\tlearn: 0.4650662\ttotal: 144ms\tremaining: 1.39s\n",
      "94:\tlearn: 0.4638027\ttotal: 145ms\tremaining: 1.39s\n",
      "95:\tlearn: 0.4625580\ttotal: 147ms\tremaining: 1.38s\n",
      "96:\tlearn: 0.4611601\ttotal: 148ms\tremaining: 1.38s\n",
      "97:\tlearn: 0.4601908\ttotal: 149ms\tremaining: 1.38s\n",
      "98:\tlearn: 0.4589758\ttotal: 151ms\tremaining: 1.37s\n",
      "99:\tlearn: 0.4579517\ttotal: 152ms\tremaining: 1.37s\n",
      "100:\tlearn: 0.4568376\ttotal: 154ms\tremaining: 1.37s\n",
      "101:\tlearn: 0.4560033\ttotal: 155ms\tremaining: 1.37s\n",
      "102:\tlearn: 0.4550106\ttotal: 157ms\tremaining: 1.36s\n",
      "103:\tlearn: 0.4538100\ttotal: 158ms\tremaining: 1.36s\n",
      "104:\tlearn: 0.4525246\ttotal: 160ms\tremaining: 1.36s\n",
      "105:\tlearn: 0.4516290\ttotal: 161ms\tremaining: 1.36s\n",
      "106:\tlearn: 0.4505692\ttotal: 163ms\tremaining: 1.36s\n",
      "107:\tlearn: 0.4493491\ttotal: 164ms\tremaining: 1.35s\n",
      "108:\tlearn: 0.4484229\ttotal: 166ms\tremaining: 1.35s\n",
      "109:\tlearn: 0.4475237\ttotal: 167ms\tremaining: 1.35s\n",
      "110:\tlearn: 0.4462811\ttotal: 169ms\tremaining: 1.35s\n",
      "111:\tlearn: 0.4455498\ttotal: 170ms\tremaining: 1.35s\n",
      "112:\tlearn: 0.4447490\ttotal: 172ms\tremaining: 1.35s\n",
      "113:\tlearn: 0.4436312\ttotal: 173ms\tremaining: 1.34s\n",
      "114:\tlearn: 0.4426529\ttotal: 175ms\tremaining: 1.34s\n",
      "115:\tlearn: 0.4419532\ttotal: 176ms\tremaining: 1.34s\n",
      "116:\tlearn: 0.4408642\ttotal: 178ms\tremaining: 1.34s\n",
      "117:\tlearn: 0.4400705\ttotal: 179ms\tremaining: 1.34s\n",
      "118:\tlearn: 0.4392703\ttotal: 181ms\tremaining: 1.34s\n",
      "119:\tlearn: 0.4382235\ttotal: 182ms\tremaining: 1.33s\n",
      "120:\tlearn: 0.4373214\ttotal: 184ms\tremaining: 1.34s\n",
      "121:\tlearn: 0.4364590\ttotal: 186ms\tremaining: 1.33s\n",
      "122:\tlearn: 0.4358042\ttotal: 187ms\tremaining: 1.33s\n",
      "123:\tlearn: 0.4346576\ttotal: 188ms\tremaining: 1.33s\n",
      "124:\tlearn: 0.4334821\ttotal: 190ms\tremaining: 1.33s\n",
      "125:\tlearn: 0.4328019\ttotal: 191ms\tremaining: 1.33s\n",
      "126:\tlearn: 0.4319468\ttotal: 193ms\tremaining: 1.32s\n",
      "127:\tlearn: 0.4313707\ttotal: 194ms\tremaining: 1.32s\n",
      "128:\tlearn: 0.4305355\ttotal: 196ms\tremaining: 1.32s\n",
      "129:\tlearn: 0.4298462\ttotal: 197ms\tremaining: 1.32s\n",
      "130:\tlearn: 0.4292290\ttotal: 199ms\tremaining: 1.32s\n",
      "131:\tlearn: 0.4280695\ttotal: 200ms\tremaining: 1.32s\n",
      "132:\tlearn: 0.4270546\ttotal: 202ms\tremaining: 1.31s\n",
      "133:\tlearn: 0.4260827\ttotal: 203ms\tremaining: 1.31s\n",
      "134:\tlearn: 0.4253427\ttotal: 204ms\tremaining: 1.31s\n",
      "135:\tlearn: 0.4245101\ttotal: 206ms\tremaining: 1.31s\n",
      "136:\tlearn: 0.4237595\ttotal: 207ms\tremaining: 1.31s\n",
      "137:\tlearn: 0.4228898\ttotal: 209ms\tremaining: 1.3s\n",
      "138:\tlearn: 0.4221720\ttotal: 211ms\tremaining: 1.3s\n",
      "139:\tlearn: 0.4214328\ttotal: 212ms\tremaining: 1.3s\n",
      "140:\tlearn: 0.4206441\ttotal: 214ms\tremaining: 1.3s\n",
      "141:\tlearn: 0.4194387\ttotal: 215ms\tremaining: 1.3s\n",
      "142:\tlearn: 0.4190300\ttotal: 217ms\tremaining: 1.3s\n",
      "143:\tlearn: 0.4183890\ttotal: 218ms\tremaining: 1.3s\n",
      "144:\tlearn: 0.4178356\ttotal: 220ms\tremaining: 1.29s\n",
      "145:\tlearn: 0.4169107\ttotal: 221ms\tremaining: 1.29s\n",
      "146:\tlearn: 0.4165857\ttotal: 223ms\tremaining: 1.29s\n",
      "147:\tlearn: 0.4157928\ttotal: 224ms\tremaining: 1.29s\n",
      "148:\tlearn: 0.4151702\ttotal: 226ms\tremaining: 1.29s\n",
      "149:\tlearn: 0.4140647\ttotal: 227ms\tremaining: 1.29s\n",
      "150:\tlearn: 0.4134993\ttotal: 229ms\tremaining: 1.28s\n",
      "151:\tlearn: 0.4129717\ttotal: 230ms\tremaining: 1.28s\n",
      "152:\tlearn: 0.4118548\ttotal: 232ms\tremaining: 1.28s\n",
      "153:\tlearn: 0.4111608\ttotal: 233ms\tremaining: 1.28s\n",
      "154:\tlearn: 0.4104780\ttotal: 235ms\tremaining: 1.28s\n",
      "155:\tlearn: 0.4098930\ttotal: 236ms\tremaining: 1.28s\n",
      "156:\tlearn: 0.4089691\ttotal: 238ms\tremaining: 1.28s\n",
      "157:\tlearn: 0.4087054\ttotal: 239ms\tremaining: 1.27s\n",
      "158:\tlearn: 0.4077668\ttotal: 241ms\tremaining: 1.27s\n",
      "159:\tlearn: 0.4072638\ttotal: 242ms\tremaining: 1.27s\n",
      "160:\tlearn: 0.4067148\ttotal: 244ms\tremaining: 1.27s\n",
      "161:\tlearn: 0.4060385\ttotal: 245ms\tremaining: 1.27s\n",
      "162:\tlearn: 0.4055288\ttotal: 247ms\tremaining: 1.27s\n",
      "163:\tlearn: 0.4047306\ttotal: 248ms\tremaining: 1.27s\n",
      "164:\tlearn: 0.4037789\ttotal: 250ms\tremaining: 1.26s\n",
      "165:\tlearn: 0.4031834\ttotal: 252ms\tremaining: 1.27s\n",
      "166:\tlearn: 0.4026181\ttotal: 254ms\tremaining: 1.27s\n",
      "167:\tlearn: 0.4019249\ttotal: 256ms\tremaining: 1.27s\n",
      "168:\tlearn: 0.4011902\ttotal: 258ms\tremaining: 1.27s\n",
      "169:\tlearn: 0.4004675\ttotal: 260ms\tremaining: 1.27s\n",
      "170:\tlearn: 0.3998937\ttotal: 261ms\tremaining: 1.26s\n",
      "171:\tlearn: 0.3990494\ttotal: 263ms\tremaining: 1.26s\n",
      "172:\tlearn: 0.3984273\ttotal: 264ms\tremaining: 1.26s\n",
      "173:\tlearn: 0.3978255\ttotal: 267ms\tremaining: 1.26s\n",
      "174:\tlearn: 0.3969608\ttotal: 268ms\tremaining: 1.26s\n",
      "175:\tlearn: 0.3965716\ttotal: 271ms\tremaining: 1.27s\n",
      "176:\tlearn: 0.3958000\ttotal: 272ms\tremaining: 1.26s\n",
      "177:\tlearn: 0.3950526\ttotal: 273ms\tremaining: 1.26s\n",
      "178:\tlearn: 0.3943012\ttotal: 275ms\tremaining: 1.26s\n",
      "179:\tlearn: 0.3936510\ttotal: 276ms\tremaining: 1.26s\n",
      "180:\tlearn: 0.3931304\ttotal: 278ms\tremaining: 1.26s\n",
      "181:\tlearn: 0.3922809\ttotal: 279ms\tremaining: 1.25s\n",
      "182:\tlearn: 0.3916910\ttotal: 281ms\tremaining: 1.25s\n",
      "183:\tlearn: 0.3911177\ttotal: 282ms\tremaining: 1.25s\n",
      "184:\tlearn: 0.3902377\ttotal: 284ms\tremaining: 1.25s\n",
      "185:\tlearn: 0.3896318\ttotal: 285ms\tremaining: 1.25s\n",
      "186:\tlearn: 0.3889018\ttotal: 287ms\tremaining: 1.25s\n",
      "187:\tlearn: 0.3884345\ttotal: 288ms\tremaining: 1.24s\n",
      "188:\tlearn: 0.3880162\ttotal: 289ms\tremaining: 1.24s\n",
      "189:\tlearn: 0.3873354\ttotal: 291ms\tremaining: 1.24s\n",
      "190:\tlearn: 0.3865013\ttotal: 292ms\tremaining: 1.24s\n",
      "191:\tlearn: 0.3858420\ttotal: 294ms\tremaining: 1.24s\n",
      "192:\tlearn: 0.3851892\ttotal: 295ms\tremaining: 1.23s\n",
      "193:\tlearn: 0.3846598\ttotal: 296ms\tremaining: 1.23s\n",
      "194:\tlearn: 0.3840737\ttotal: 298ms\tremaining: 1.23s\n",
      "195:\tlearn: 0.3837046\ttotal: 299ms\tremaining: 1.23s\n",
      "196:\tlearn: 0.3832085\ttotal: 301ms\tremaining: 1.23s\n",
      "197:\tlearn: 0.3827921\ttotal: 302ms\tremaining: 1.22s\n",
      "198:\tlearn: 0.3823105\ttotal: 303ms\tremaining: 1.22s\n",
      "199:\tlearn: 0.3818350\ttotal: 305ms\tremaining: 1.22s\n",
      "200:\tlearn: 0.3815497\ttotal: 306ms\tremaining: 1.22s\n",
      "201:\tlearn: 0.3809861\ttotal: 308ms\tremaining: 1.22s\n",
      "202:\tlearn: 0.3805201\ttotal: 309ms\tremaining: 1.21s\n",
      "203:\tlearn: 0.3800554\ttotal: 311ms\tremaining: 1.21s\n",
      "204:\tlearn: 0.3796176\ttotal: 312ms\tremaining: 1.21s\n",
      "205:\tlearn: 0.3791170\ttotal: 313ms\tremaining: 1.21s\n",
      "206:\tlearn: 0.3783718\ttotal: 315ms\tremaining: 1.21s\n",
      "207:\tlearn: 0.3780501\ttotal: 316ms\tremaining: 1.2s\n",
      "208:\tlearn: 0.3773893\ttotal: 317ms\tremaining: 1.2s\n",
      "209:\tlearn: 0.3766736\ttotal: 319ms\tremaining: 1.2s\n",
      "210:\tlearn: 0.3762009\ttotal: 321ms\tremaining: 1.2s\n",
      "211:\tlearn: 0.3754611\ttotal: 322ms\tremaining: 1.2s\n",
      "212:\tlearn: 0.3750611\ttotal: 324ms\tremaining: 1.2s\n",
      "213:\tlearn: 0.3744271\ttotal: 325ms\tremaining: 1.2s\n",
      "214:\tlearn: 0.3738456\ttotal: 327ms\tremaining: 1.19s\n",
      "215:\tlearn: 0.3730705\ttotal: 328ms\tremaining: 1.19s\n",
      "216:\tlearn: 0.3725167\ttotal: 330ms\tremaining: 1.19s\n",
      "217:\tlearn: 0.3718862\ttotal: 331ms\tremaining: 1.19s\n",
      "218:\tlearn: 0.3714487\ttotal: 332ms\tremaining: 1.18s\n",
      "219:\tlearn: 0.3709871\ttotal: 334ms\tremaining: 1.18s\n",
      "220:\tlearn: 0.3707378\ttotal: 335ms\tremaining: 1.18s\n",
      "221:\tlearn: 0.3704158\ttotal: 337ms\tremaining: 1.18s\n",
      "222:\tlearn: 0.3699811\ttotal: 338ms\tremaining: 1.18s\n",
      "223:\tlearn: 0.3695598\ttotal: 340ms\tremaining: 1.18s\n",
      "224:\tlearn: 0.3689447\ttotal: 341ms\tremaining: 1.17s\n",
      "225:\tlearn: 0.3685225\ttotal: 343ms\tremaining: 1.17s\n",
      "226:\tlearn: 0.3680421\ttotal: 344ms\tremaining: 1.17s\n",
      "227:\tlearn: 0.3676042\ttotal: 346ms\tremaining: 1.17s\n",
      "228:\tlearn: 0.3671906\ttotal: 347ms\tremaining: 1.17s\n",
      "229:\tlearn: 0.3668212\ttotal: 348ms\tremaining: 1.17s\n",
      "230:\tlearn: 0.3663692\ttotal: 350ms\tremaining: 1.16s\n",
      "231:\tlearn: 0.3659467\ttotal: 351ms\tremaining: 1.16s\n",
      "232:\tlearn: 0.3655393\ttotal: 353ms\tremaining: 1.16s\n",
      "233:\tlearn: 0.3651726\ttotal: 354ms\tremaining: 1.16s\n",
      "234:\tlearn: 0.3647837\ttotal: 355ms\tremaining: 1.16s\n",
      "235:\tlearn: 0.3641776\ttotal: 357ms\tremaining: 1.16s\n",
      "236:\tlearn: 0.3638442\ttotal: 358ms\tremaining: 1.15s\n",
      "237:\tlearn: 0.3635195\ttotal: 360ms\tremaining: 1.15s\n",
      "238:\tlearn: 0.3631796\ttotal: 361ms\tremaining: 1.15s\n",
      "239:\tlearn: 0.3626676\ttotal: 363ms\tremaining: 1.15s\n",
      "240:\tlearn: 0.3622121\ttotal: 365ms\tremaining: 1.15s\n",
      "241:\tlearn: 0.3619048\ttotal: 366ms\tremaining: 1.15s\n",
      "242:\tlearn: 0.3615063\ttotal: 368ms\tremaining: 1.15s\n",
      "243:\tlearn: 0.3612841\ttotal: 369ms\tremaining: 1.14s\n",
      "244:\tlearn: 0.3609073\ttotal: 371ms\tremaining: 1.14s\n",
      "245:\tlearn: 0.3604078\ttotal: 373ms\tremaining: 1.14s\n",
      "246:\tlearn: 0.3599520\ttotal: 374ms\tremaining: 1.14s\n",
      "247:\tlearn: 0.3595811\ttotal: 376ms\tremaining: 1.14s\n",
      "248:\tlearn: 0.3591317\ttotal: 378ms\tremaining: 1.14s\n",
      "249:\tlearn: 0.3588479\ttotal: 379ms\tremaining: 1.14s\n",
      "250:\tlearn: 0.3583543\ttotal: 381ms\tremaining: 1.14s\n",
      "251:\tlearn: 0.3581791\ttotal: 382ms\tremaining: 1.14s\n",
      "252:\tlearn: 0.3578163\ttotal: 384ms\tremaining: 1.13s\n",
      "253:\tlearn: 0.3575379\ttotal: 386ms\tremaining: 1.13s\n",
      "254:\tlearn: 0.3572027\ttotal: 388ms\tremaining: 1.13s\n",
      "255:\tlearn: 0.3567982\ttotal: 389ms\tremaining: 1.13s\n",
      "256:\tlearn: 0.3562229\ttotal: 391ms\tremaining: 1.13s\n",
      "257:\tlearn: 0.3558689\ttotal: 392ms\tremaining: 1.13s\n",
      "258:\tlearn: 0.3551774\ttotal: 394ms\tremaining: 1.13s\n",
      "259:\tlearn: 0.3548640\ttotal: 396ms\tremaining: 1.13s\n",
      "260:\tlearn: 0.3544581\ttotal: 398ms\tremaining: 1.13s\n",
      "261:\tlearn: 0.3540613\ttotal: 399ms\tremaining: 1.13s\n",
      "262:\tlearn: 0.3538128\ttotal: 401ms\tremaining: 1.12s\n",
      "263:\tlearn: 0.3532543\ttotal: 403ms\tremaining: 1.12s\n",
      "264:\tlearn: 0.3528296\ttotal: 405ms\tremaining: 1.12s\n",
      "265:\tlearn: 0.3524755\ttotal: 406ms\tremaining: 1.12s\n",
      "266:\tlearn: 0.3521389\ttotal: 408ms\tremaining: 1.12s\n",
      "267:\tlearn: 0.3518051\ttotal: 410ms\tremaining: 1.12s\n",
      "268:\tlearn: 0.3513371\ttotal: 412ms\tremaining: 1.12s\n",
      "269:\tlearn: 0.3509465\ttotal: 414ms\tremaining: 1.12s\n",
      "270:\tlearn: 0.3506477\ttotal: 416ms\tremaining: 1.12s\n",
      "271:\tlearn: 0.3502686\ttotal: 418ms\tremaining: 1.12s\n",
      "272:\tlearn: 0.3499996\ttotal: 421ms\tremaining: 1.12s\n",
      "273:\tlearn: 0.3494654\ttotal: 422ms\tremaining: 1.12s\n",
      "274:\tlearn: 0.3490672\ttotal: 424ms\tremaining: 1.12s\n",
      "275:\tlearn: 0.3487140\ttotal: 425ms\tremaining: 1.11s\n",
      "276:\tlearn: 0.3483148\ttotal: 427ms\tremaining: 1.11s\n",
      "277:\tlearn: 0.3479376\ttotal: 429ms\tremaining: 1.11s\n",
      "278:\tlearn: 0.3476559\ttotal: 431ms\tremaining: 1.11s\n",
      "279:\tlearn: 0.3475056\ttotal: 431ms\tremaining: 1.11s\n",
      "280:\tlearn: 0.3470299\ttotal: 433ms\tremaining: 1.11s\n",
      "281:\tlearn: 0.3465974\ttotal: 434ms\tremaining: 1.11s\n",
      "282:\tlearn: 0.3457104\ttotal: 436ms\tremaining: 1.1s\n",
      "283:\tlearn: 0.3453699\ttotal: 437ms\tremaining: 1.1s\n",
      "284:\tlearn: 0.3449194\ttotal: 439ms\tremaining: 1.1s\n",
      "285:\tlearn: 0.3445781\ttotal: 441ms\tremaining: 1.1s\n",
      "286:\tlearn: 0.3442549\ttotal: 442ms\tremaining: 1.1s\n",
      "287:\tlearn: 0.3436732\ttotal: 444ms\tremaining: 1.1s\n",
      "288:\tlearn: 0.3431971\ttotal: 445ms\tremaining: 1.09s\n",
      "289:\tlearn: 0.3430385\ttotal: 446ms\tremaining: 1.09s\n",
      "290:\tlearn: 0.3426125\ttotal: 448ms\tremaining: 1.09s\n",
      "291:\tlearn: 0.3423901\ttotal: 449ms\tremaining: 1.09s\n",
      "292:\tlearn: 0.3418502\ttotal: 450ms\tremaining: 1.09s\n",
      "293:\tlearn: 0.3413629\ttotal: 452ms\tremaining: 1.08s\n",
      "294:\tlearn: 0.3410155\ttotal: 453ms\tremaining: 1.08s\n",
      "295:\tlearn: 0.3406270\ttotal: 455ms\tremaining: 1.08s\n",
      "296:\tlearn: 0.3403616\ttotal: 456ms\tremaining: 1.08s\n",
      "297:\tlearn: 0.3400305\ttotal: 458ms\tremaining: 1.08s\n",
      "298:\tlearn: 0.3397938\ttotal: 459ms\tremaining: 1.08s\n",
      "299:\tlearn: 0.3395162\ttotal: 461ms\tremaining: 1.07s\n",
      "300:\tlearn: 0.3391135\ttotal: 462ms\tremaining: 1.07s\n",
      "301:\tlearn: 0.3387590\ttotal: 464ms\tremaining: 1.07s\n",
      "302:\tlearn: 0.3383585\ttotal: 465ms\tremaining: 1.07s\n",
      "303:\tlearn: 0.3379814\ttotal: 467ms\tremaining: 1.07s\n",
      "304:\tlearn: 0.3375277\ttotal: 468ms\tremaining: 1.07s\n",
      "305:\tlearn: 0.3372477\ttotal: 470ms\tremaining: 1.07s\n",
      "306:\tlearn: 0.3369210\ttotal: 472ms\tremaining: 1.06s\n",
      "307:\tlearn: 0.3367762\ttotal: 473ms\tremaining: 1.06s\n",
      "308:\tlearn: 0.3363929\ttotal: 475ms\tremaining: 1.06s\n",
      "309:\tlearn: 0.3361404\ttotal: 476ms\tremaining: 1.06s\n",
      "310:\tlearn: 0.3358016\ttotal: 478ms\tremaining: 1.06s\n",
      "311:\tlearn: 0.3354371\ttotal: 479ms\tremaining: 1.06s\n",
      "312:\tlearn: 0.3351281\ttotal: 481ms\tremaining: 1.05s\n",
      "313:\tlearn: 0.3349342\ttotal: 482ms\tremaining: 1.05s\n",
      "314:\tlearn: 0.3345681\ttotal: 484ms\tremaining: 1.05s\n",
      "315:\tlearn: 0.3341835\ttotal: 486ms\tremaining: 1.05s\n",
      "316:\tlearn: 0.3339848\ttotal: 487ms\tremaining: 1.05s\n",
      "317:\tlearn: 0.3334631\ttotal: 489ms\tremaining: 1.05s\n",
      "318:\tlearn: 0.3333090\ttotal: 490ms\tremaining: 1.05s\n",
      "319:\tlearn: 0.3331853\ttotal: 492ms\tremaining: 1.04s\n",
      "320:\tlearn: 0.3329144\ttotal: 493ms\tremaining: 1.04s\n",
      "321:\tlearn: 0.3325655\ttotal: 495ms\tremaining: 1.04s\n",
      "322:\tlearn: 0.3323911\ttotal: 497ms\tremaining: 1.04s\n",
      "323:\tlearn: 0.3321008\ttotal: 498ms\tremaining: 1.04s\n",
      "324:\tlearn: 0.3318429\ttotal: 500ms\tremaining: 1.04s\n",
      "325:\tlearn: 0.3313364\ttotal: 502ms\tremaining: 1.04s\n",
      "326:\tlearn: 0.3311141\ttotal: 503ms\tremaining: 1.03s\n",
      "327:\tlearn: 0.3306946\ttotal: 505ms\tremaining: 1.03s\n",
      "328:\tlearn: 0.3303195\ttotal: 506ms\tremaining: 1.03s\n",
      "329:\tlearn: 0.3299492\ttotal: 508ms\tremaining: 1.03s\n",
      "330:\tlearn: 0.3296295\ttotal: 510ms\tremaining: 1.03s\n",
      "331:\tlearn: 0.3292299\ttotal: 511ms\tremaining: 1.03s\n",
      "332:\tlearn: 0.3288012\ttotal: 513ms\tremaining: 1.03s\n",
      "333:\tlearn: 0.3284230\ttotal: 514ms\tremaining: 1.02s\n",
      "334:\tlearn: 0.3281356\ttotal: 516ms\tremaining: 1.02s\n",
      "335:\tlearn: 0.3278105\ttotal: 517ms\tremaining: 1.02s\n",
      "336:\tlearn: 0.3275766\ttotal: 519ms\tremaining: 1.02s\n",
      "337:\tlearn: 0.3272361\ttotal: 520ms\tremaining: 1.02s\n",
      "338:\tlearn: 0.3271448\ttotal: 522ms\tremaining: 1.02s\n",
      "339:\tlearn: 0.3270027\ttotal: 523ms\tremaining: 1.01s\n",
      "340:\tlearn: 0.3264515\ttotal: 525ms\tremaining: 1.01s\n",
      "341:\tlearn: 0.3261568\ttotal: 526ms\tremaining: 1.01s\n",
      "342:\tlearn: 0.3259076\ttotal: 528ms\tremaining: 1.01s\n",
      "343:\tlearn: 0.3257816\ttotal: 529ms\tremaining: 1.01s\n",
      "344:\tlearn: 0.3253372\ttotal: 531ms\tremaining: 1.01s\n",
      "345:\tlearn: 0.3249546\ttotal: 532ms\tremaining: 1s\n",
      "346:\tlearn: 0.3247155\ttotal: 534ms\tremaining: 1s\n",
      "347:\tlearn: 0.3242784\ttotal: 535ms\tremaining: 1s\n",
      "348:\tlearn: 0.3240593\ttotal: 537ms\tremaining: 1s\n",
      "349:\tlearn: 0.3236125\ttotal: 538ms\tremaining: 1000ms\n",
      "350:\tlearn: 0.3233139\ttotal: 540ms\tremaining: 998ms\n",
      "351:\tlearn: 0.3230584\ttotal: 542ms\tremaining: 997ms\n",
      "352:\tlearn: 0.3227589\ttotal: 543ms\tremaining: 996ms\n",
      "353:\tlearn: 0.3226484\ttotal: 545ms\tremaining: 994ms\n",
      "354:\tlearn: 0.3224708\ttotal: 546ms\tremaining: 992ms\n",
      "355:\tlearn: 0.3222481\ttotal: 548ms\tremaining: 991ms\n",
      "356:\tlearn: 0.3220751\ttotal: 549ms\tremaining: 989ms\n",
      "357:\tlearn: 0.3217743\ttotal: 551ms\tremaining: 988ms\n",
      "358:\tlearn: 0.3215696\ttotal: 552ms\tremaining: 986ms\n",
      "359:\tlearn: 0.3213855\ttotal: 554ms\tremaining: 984ms\n",
      "360:\tlearn: 0.3210040\ttotal: 555ms\tremaining: 983ms\n",
      "361:\tlearn: 0.3206377\ttotal: 557ms\tremaining: 982ms\n",
      "362:\tlearn: 0.3203844\ttotal: 558ms\tremaining: 980ms\n",
      "363:\tlearn: 0.3199615\ttotal: 560ms\tremaining: 979ms\n",
      "364:\tlearn: 0.3196000\ttotal: 562ms\tremaining: 977ms\n",
      "365:\tlearn: 0.3192366\ttotal: 563ms\tremaining: 976ms\n",
      "366:\tlearn: 0.3189433\ttotal: 565ms\tremaining: 974ms\n",
      "367:\tlearn: 0.3187596\ttotal: 567ms\tremaining: 973ms\n",
      "368:\tlearn: 0.3183334\ttotal: 568ms\tremaining: 972ms\n",
      "369:\tlearn: 0.3181075\ttotal: 570ms\tremaining: 970ms\n",
      "370:\tlearn: 0.3179868\ttotal: 572ms\tremaining: 969ms\n",
      "371:\tlearn: 0.3177287\ttotal: 573ms\tremaining: 968ms\n",
      "372:\tlearn: 0.3174213\ttotal: 575ms\tremaining: 967ms\n",
      "373:\tlearn: 0.3173105\ttotal: 577ms\tremaining: 965ms\n",
      "374:\tlearn: 0.3169930\ttotal: 578ms\tremaining: 964ms\n",
      "375:\tlearn: 0.3167770\ttotal: 580ms\tremaining: 963ms\n",
      "376:\tlearn: 0.3164586\ttotal: 582ms\tremaining: 961ms\n",
      "377:\tlearn: 0.3162964\ttotal: 583ms\tremaining: 960ms\n",
      "378:\tlearn: 0.3157005\ttotal: 585ms\tremaining: 959ms\n",
      "379:\tlearn: 0.3154507\ttotal: 588ms\tremaining: 959ms\n",
      "380:\tlearn: 0.3150930\ttotal: 589ms\tremaining: 957ms\n",
      "381:\tlearn: 0.3147706\ttotal: 591ms\tremaining: 956ms\n",
      "382:\tlearn: 0.3143755\ttotal: 593ms\tremaining: 956ms\n",
      "383:\tlearn: 0.3139819\ttotal: 595ms\tremaining: 954ms\n",
      "384:\tlearn: 0.3136702\ttotal: 597ms\tremaining: 954ms\n",
      "385:\tlearn: 0.3134343\ttotal: 599ms\tremaining: 953ms\n",
      "386:\tlearn: 0.3133741\ttotal: 600ms\tremaining: 951ms\n",
      "387:\tlearn: 0.3130709\ttotal: 602ms\tremaining: 949ms\n",
      "388:\tlearn: 0.3128360\ttotal: 603ms\tremaining: 947ms\n",
      "389:\tlearn: 0.3124279\ttotal: 605ms\tremaining: 946ms\n",
      "390:\tlearn: 0.3121571\ttotal: 606ms\tremaining: 944ms\n",
      "391:\tlearn: 0.3118727\ttotal: 608ms\tremaining: 943ms\n",
      "392:\tlearn: 0.3117433\ttotal: 609ms\tremaining: 941ms\n",
      "393:\tlearn: 0.3113093\ttotal: 611ms\tremaining: 940ms\n",
      "394:\tlearn: 0.3111498\ttotal: 613ms\tremaining: 939ms\n",
      "395:\tlearn: 0.3108884\ttotal: 615ms\tremaining: 937ms\n",
      "396:\tlearn: 0.3106935\ttotal: 616ms\tremaining: 936ms\n",
      "397:\tlearn: 0.3104544\ttotal: 617ms\tremaining: 934ms\n",
      "398:\tlearn: 0.3100203\ttotal: 619ms\tremaining: 932ms\n",
      "399:\tlearn: 0.3097922\ttotal: 620ms\tremaining: 930ms\n",
      "400:\tlearn: 0.3093006\ttotal: 622ms\tremaining: 929ms\n",
      "401:\tlearn: 0.3090082\ttotal: 623ms\tremaining: 927ms\n",
      "402:\tlearn: 0.3086350\ttotal: 625ms\tremaining: 926ms\n",
      "403:\tlearn: 0.3085525\ttotal: 626ms\tremaining: 924ms\n",
      "404:\tlearn: 0.3082926\ttotal: 628ms\tremaining: 923ms\n",
      "405:\tlearn: 0.3079534\ttotal: 629ms\tremaining: 921ms\n",
      "406:\tlearn: 0.3077615\ttotal: 631ms\tremaining: 919ms\n",
      "407:\tlearn: 0.3076204\ttotal: 632ms\tremaining: 918ms\n",
      "408:\tlearn: 0.3073705\ttotal: 634ms\tremaining: 916ms\n",
      "409:\tlearn: 0.3072051\ttotal: 635ms\tremaining: 914ms\n",
      "410:\tlearn: 0.3069296\ttotal: 637ms\tremaining: 913ms\n",
      "411:\tlearn: 0.3067305\ttotal: 639ms\tremaining: 912ms\n",
      "412:\tlearn: 0.3064667\ttotal: 641ms\tremaining: 910ms\n",
      "413:\tlearn: 0.3062177\ttotal: 642ms\tremaining: 909ms\n",
      "414:\tlearn: 0.3059366\ttotal: 644ms\tremaining: 907ms\n",
      "415:\tlearn: 0.3057826\ttotal: 645ms\tremaining: 906ms\n",
      "416:\tlearn: 0.3053670\ttotal: 647ms\tremaining: 905ms\n",
      "417:\tlearn: 0.3052102\ttotal: 648ms\tremaining: 903ms\n",
      "418:\tlearn: 0.3048241\ttotal: 650ms\tremaining: 901ms\n",
      "419:\tlearn: 0.3043941\ttotal: 651ms\tremaining: 900ms\n",
      "420:\tlearn: 0.3042906\ttotal: 653ms\tremaining: 899ms\n",
      "421:\tlearn: 0.3042106\ttotal: 655ms\tremaining: 897ms\n",
      "422:\tlearn: 0.3039127\ttotal: 656ms\tremaining: 895ms\n",
      "423:\tlearn: 0.3036822\ttotal: 658ms\tremaining: 894ms\n",
      "424:\tlearn: 0.3032348\ttotal: 660ms\tremaining: 893ms\n",
      "425:\tlearn: 0.3030739\ttotal: 661ms\tremaining: 891ms\n",
      "426:\tlearn: 0.3027756\ttotal: 663ms\tremaining: 890ms\n",
      "427:\tlearn: 0.3025508\ttotal: 665ms\tremaining: 889ms\n",
      "428:\tlearn: 0.3022920\ttotal: 667ms\tremaining: 887ms\n",
      "429:\tlearn: 0.3020336\ttotal: 669ms\tremaining: 886ms\n",
      "430:\tlearn: 0.3018311\ttotal: 670ms\tremaining: 885ms\n",
      "431:\tlearn: 0.3016490\ttotal: 672ms\tremaining: 884ms\n",
      "432:\tlearn: 0.3014655\ttotal: 674ms\tremaining: 882ms\n",
      "433:\tlearn: 0.3011402\ttotal: 676ms\tremaining: 881ms\n",
      "434:\tlearn: 0.3008430\ttotal: 677ms\tremaining: 880ms\n",
      "435:\tlearn: 0.3005948\ttotal: 679ms\tremaining: 878ms\n",
      "436:\tlearn: 0.3003246\ttotal: 681ms\tremaining: 877ms\n",
      "437:\tlearn: 0.2998332\ttotal: 683ms\tremaining: 876ms\n",
      "438:\tlearn: 0.2995628\ttotal: 684ms\tremaining: 874ms\n",
      "439:\tlearn: 0.2993476\ttotal: 686ms\tremaining: 873ms\n",
      "440:\tlearn: 0.2992118\ttotal: 688ms\tremaining: 872ms\n",
      "441:\tlearn: 0.2989786\ttotal: 689ms\tremaining: 870ms\n",
      "442:\tlearn: 0.2987332\ttotal: 691ms\tremaining: 869ms\n",
      "443:\tlearn: 0.2983521\ttotal: 693ms\tremaining: 867ms\n",
      "444:\tlearn: 0.2981144\ttotal: 694ms\tremaining: 866ms\n",
      "445:\tlearn: 0.2979409\ttotal: 696ms\tremaining: 865ms\n",
      "446:\tlearn: 0.2976007\ttotal: 698ms\tremaining: 863ms\n",
      "447:\tlearn: 0.2974376\ttotal: 699ms\tremaining: 862ms\n",
      "448:\tlearn: 0.2971482\ttotal: 701ms\tremaining: 860ms\n",
      "449:\tlearn: 0.2970532\ttotal: 703ms\tremaining: 859ms\n",
      "450:\tlearn: 0.2968756\ttotal: 704ms\tremaining: 858ms\n",
      "451:\tlearn: 0.2966521\ttotal: 706ms\tremaining: 856ms\n",
      "452:\tlearn: 0.2963392\ttotal: 708ms\tremaining: 855ms\n",
      "453:\tlearn: 0.2962526\ttotal: 709ms\tremaining: 853ms\n",
      "454:\tlearn: 0.2959383\ttotal: 711ms\tremaining: 852ms\n",
      "455:\tlearn: 0.2957414\ttotal: 713ms\tremaining: 850ms\n",
      "456:\tlearn: 0.2954628\ttotal: 715ms\tremaining: 849ms\n",
      "457:\tlearn: 0.2951344\ttotal: 716ms\tremaining: 848ms\n",
      "458:\tlearn: 0.2949065\ttotal: 718ms\tremaining: 846ms\n",
      "459:\tlearn: 0.2948312\ttotal: 720ms\tremaining: 845ms\n",
      "460:\tlearn: 0.2946606\ttotal: 721ms\tremaining: 844ms\n",
      "461:\tlearn: 0.2944450\ttotal: 723ms\tremaining: 842ms\n",
      "462:\tlearn: 0.2942192\ttotal: 725ms\tremaining: 841ms\n",
      "463:\tlearn: 0.2940629\ttotal: 727ms\tremaining: 839ms\n",
      "464:\tlearn: 0.2936862\ttotal: 728ms\tremaining: 838ms\n",
      "465:\tlearn: 0.2934564\ttotal: 730ms\tremaining: 837ms\n",
      "466:\tlearn: 0.2931260\ttotal: 732ms\tremaining: 835ms\n",
      "467:\tlearn: 0.2927964\ttotal: 733ms\tremaining: 834ms\n",
      "468:\tlearn: 0.2926018\ttotal: 735ms\tremaining: 832ms\n",
      "469:\tlearn: 0.2923854\ttotal: 736ms\tremaining: 830ms\n",
      "470:\tlearn: 0.2921834\ttotal: 738ms\tremaining: 829ms\n",
      "471:\tlearn: 0.2919782\ttotal: 740ms\tremaining: 828ms\n",
      "472:\tlearn: 0.2917113\ttotal: 742ms\tremaining: 826ms\n",
      "473:\tlearn: 0.2912696\ttotal: 743ms\tremaining: 825ms\n",
      "474:\tlearn: 0.2910249\ttotal: 745ms\tremaining: 823ms\n",
      "475:\tlearn: 0.2907673\ttotal: 746ms\tremaining: 822ms\n",
      "476:\tlearn: 0.2904237\ttotal: 748ms\tremaining: 820ms\n",
      "477:\tlearn: 0.2902551\ttotal: 750ms\tremaining: 819ms\n",
      "478:\tlearn: 0.2899177\ttotal: 751ms\tremaining: 817ms\n",
      "479:\tlearn: 0.2897175\ttotal: 754ms\tremaining: 816ms\n",
      "480:\tlearn: 0.2896110\ttotal: 756ms\tremaining: 816ms\n",
      "481:\tlearn: 0.2892980\ttotal: 758ms\tremaining: 814ms\n",
      "482:\tlearn: 0.2889870\ttotal: 759ms\tremaining: 813ms\n",
      "483:\tlearn: 0.2887236\ttotal: 761ms\tremaining: 811ms\n",
      "484:\tlearn: 0.2885040\ttotal: 763ms\tremaining: 810ms\n",
      "485:\tlearn: 0.2881886\ttotal: 764ms\tremaining: 808ms\n",
      "486:\tlearn: 0.2880321\ttotal: 766ms\tremaining: 807ms\n",
      "487:\tlearn: 0.2877498\ttotal: 767ms\tremaining: 805ms\n",
      "488:\tlearn: 0.2874975\ttotal: 769ms\tremaining: 803ms\n",
      "489:\tlearn: 0.2870005\ttotal: 770ms\tremaining: 802ms\n",
      "490:\tlearn: 0.2867773\ttotal: 772ms\tremaining: 800ms\n",
      "491:\tlearn: 0.2866602\ttotal: 773ms\tremaining: 798ms\n",
      "492:\tlearn: 0.2864573\ttotal: 775ms\tremaining: 797ms\n",
      "493:\tlearn: 0.2862369\ttotal: 776ms\tremaining: 795ms\n",
      "494:\tlearn: 0.2860048\ttotal: 778ms\tremaining: 793ms\n",
      "495:\tlearn: 0.2858847\ttotal: 779ms\tremaining: 792ms\n",
      "496:\tlearn: 0.2856706\ttotal: 781ms\tremaining: 790ms\n",
      "497:\tlearn: 0.2853657\ttotal: 782ms\tremaining: 789ms\n",
      "498:\tlearn: 0.2851930\ttotal: 784ms\tremaining: 787ms\n",
      "499:\tlearn: 0.2848883\ttotal: 785ms\tremaining: 785ms\n",
      "500:\tlearn: 0.2847668\ttotal: 787ms\tremaining: 784ms\n",
      "501:\tlearn: 0.2846362\ttotal: 788ms\tremaining: 782ms\n",
      "502:\tlearn: 0.2843093\ttotal: 790ms\tremaining: 780ms\n",
      "503:\tlearn: 0.2841273\ttotal: 791ms\tremaining: 779ms\n",
      "504:\tlearn: 0.2839508\ttotal: 793ms\tremaining: 777ms\n",
      "505:\tlearn: 0.2838791\ttotal: 794ms\tremaining: 775ms\n",
      "506:\tlearn: 0.2835382\ttotal: 795ms\tremaining: 774ms\n",
      "507:\tlearn: 0.2832336\ttotal: 797ms\tremaining: 772ms\n",
      "508:\tlearn: 0.2830058\ttotal: 799ms\tremaining: 770ms\n",
      "509:\tlearn: 0.2828549\ttotal: 800ms\tremaining: 769ms\n",
      "510:\tlearn: 0.2826536\ttotal: 802ms\tremaining: 767ms\n",
      "511:\tlearn: 0.2821348\ttotal: 803ms\tremaining: 766ms\n",
      "512:\tlearn: 0.2817643\ttotal: 805ms\tremaining: 764ms\n",
      "513:\tlearn: 0.2817056\ttotal: 806ms\tremaining: 762ms\n",
      "514:\tlearn: 0.2815301\ttotal: 808ms\tremaining: 761ms\n",
      "515:\tlearn: 0.2812127\ttotal: 809ms\tremaining: 759ms\n",
      "516:\tlearn: 0.2811157\ttotal: 811ms\tremaining: 758ms\n",
      "517:\tlearn: 0.2810220\ttotal: 813ms\tremaining: 756ms\n",
      "518:\tlearn: 0.2808123\ttotal: 814ms\tremaining: 755ms\n",
      "519:\tlearn: 0.2804794\ttotal: 816ms\tremaining: 753ms\n",
      "520:\tlearn: 0.2802338\ttotal: 817ms\tremaining: 752ms\n",
      "521:\tlearn: 0.2800138\ttotal: 819ms\tremaining: 750ms\n",
      "522:\tlearn: 0.2798458\ttotal: 820ms\tremaining: 748ms\n",
      "523:\tlearn: 0.2795009\ttotal: 822ms\tremaining: 747ms\n",
      "524:\tlearn: 0.2792134\ttotal: 824ms\tremaining: 745ms\n",
      "525:\tlearn: 0.2789277\ttotal: 825ms\tremaining: 744ms\n",
      "526:\tlearn: 0.2787092\ttotal: 827ms\tremaining: 742ms\n",
      "527:\tlearn: 0.2785171\ttotal: 828ms\tremaining: 740ms\n",
      "528:\tlearn: 0.2782431\ttotal: 830ms\tremaining: 739ms\n",
      "529:\tlearn: 0.2780792\ttotal: 831ms\tremaining: 737ms\n",
      "530:\tlearn: 0.2778468\ttotal: 833ms\tremaining: 736ms\n",
      "531:\tlearn: 0.2776214\ttotal: 834ms\tremaining: 734ms\n",
      "532:\tlearn: 0.2775225\ttotal: 836ms\tremaining: 733ms\n",
      "533:\tlearn: 0.2772761\ttotal: 838ms\tremaining: 731ms\n",
      "534:\tlearn: 0.2770526\ttotal: 839ms\tremaining: 730ms\n",
      "535:\tlearn: 0.2768688\ttotal: 841ms\tremaining: 728ms\n",
      "536:\tlearn: 0.2767198\ttotal: 843ms\tremaining: 726ms\n",
      "537:\tlearn: 0.2763635\ttotal: 844ms\tremaining: 725ms\n",
      "538:\tlearn: 0.2761839\ttotal: 846ms\tremaining: 723ms\n",
      "539:\tlearn: 0.2760329\ttotal: 847ms\tremaining: 722ms\n",
      "540:\tlearn: 0.2758814\ttotal: 849ms\tremaining: 720ms\n",
      "541:\tlearn: 0.2756554\ttotal: 850ms\tremaining: 718ms\n",
      "542:\tlearn: 0.2753469\ttotal: 852ms\tremaining: 717ms\n",
      "543:\tlearn: 0.2751437\ttotal: 854ms\tremaining: 715ms\n",
      "544:\tlearn: 0.2749836\ttotal: 855ms\tremaining: 714ms\n",
      "545:\tlearn: 0.2748715\ttotal: 857ms\tremaining: 712ms\n",
      "546:\tlearn: 0.2748156\ttotal: 858ms\tremaining: 711ms\n",
      "547:\tlearn: 0.2746396\ttotal: 860ms\tremaining: 709ms\n",
      "548:\tlearn: 0.2742751\ttotal: 861ms\tremaining: 708ms\n",
      "549:\tlearn: 0.2740222\ttotal: 863ms\tremaining: 706ms\n",
      "550:\tlearn: 0.2737643\ttotal: 864ms\tremaining: 704ms\n",
      "551:\tlearn: 0.2735570\ttotal: 866ms\tremaining: 703ms\n",
      "552:\tlearn: 0.2732473\ttotal: 867ms\tremaining: 701ms\n",
      "553:\tlearn: 0.2730397\ttotal: 869ms\tremaining: 700ms\n",
      "554:\tlearn: 0.2726986\ttotal: 871ms\tremaining: 698ms\n",
      "555:\tlearn: 0.2726207\ttotal: 872ms\tremaining: 696ms\n",
      "556:\tlearn: 0.2724192\ttotal: 874ms\tremaining: 695ms\n",
      "557:\tlearn: 0.2722507\ttotal: 875ms\tremaining: 693ms\n",
      "558:\tlearn: 0.2718974\ttotal: 877ms\tremaining: 692ms\n",
      "559:\tlearn: 0.2717007\ttotal: 879ms\tremaining: 690ms\n",
      "560:\tlearn: 0.2714049\ttotal: 880ms\tremaining: 689ms\n",
      "561:\tlearn: 0.2712418\ttotal: 882ms\tremaining: 687ms\n",
      "562:\tlearn: 0.2709507\ttotal: 883ms\tremaining: 685ms\n",
      "563:\tlearn: 0.2707628\ttotal: 885ms\tremaining: 684ms\n",
      "564:\tlearn: 0.2705255\ttotal: 886ms\tremaining: 682ms\n",
      "565:\tlearn: 0.2703786\ttotal: 888ms\tremaining: 681ms\n",
      "566:\tlearn: 0.2702270\ttotal: 889ms\tremaining: 679ms\n",
      "567:\tlearn: 0.2699564\ttotal: 891ms\tremaining: 678ms\n",
      "568:\tlearn: 0.2697149\ttotal: 893ms\tremaining: 676ms\n",
      "569:\tlearn: 0.2695101\ttotal: 894ms\tremaining: 675ms\n",
      "570:\tlearn: 0.2693226\ttotal: 896ms\tremaining: 673ms\n",
      "571:\tlearn: 0.2692401\ttotal: 897ms\tremaining: 672ms\n",
      "572:\tlearn: 0.2690312\ttotal: 899ms\tremaining: 670ms\n",
      "573:\tlearn: 0.2688283\ttotal: 901ms\tremaining: 668ms\n",
      "574:\tlearn: 0.2685991\ttotal: 902ms\tremaining: 667ms\n",
      "575:\tlearn: 0.2684519\ttotal: 904ms\tremaining: 665ms\n",
      "576:\tlearn: 0.2681852\ttotal: 905ms\tremaining: 664ms\n",
      "577:\tlearn: 0.2679966\ttotal: 907ms\tremaining: 662ms\n",
      "578:\tlearn: 0.2678214\ttotal: 908ms\tremaining: 660ms\n",
      "579:\tlearn: 0.2675508\ttotal: 910ms\tremaining: 659ms\n",
      "580:\tlearn: 0.2672992\ttotal: 912ms\tremaining: 658ms\n",
      "581:\tlearn: 0.2671163\ttotal: 914ms\tremaining: 656ms\n",
      "582:\tlearn: 0.2669239\ttotal: 915ms\tremaining: 655ms\n",
      "583:\tlearn: 0.2667451\ttotal: 916ms\tremaining: 653ms\n",
      "584:\tlearn: 0.2665639\ttotal: 918ms\tremaining: 651ms\n",
      "585:\tlearn: 0.2662928\ttotal: 919ms\tremaining: 649ms\n",
      "586:\tlearn: 0.2659768\ttotal: 921ms\tremaining: 648ms\n",
      "587:\tlearn: 0.2657706\ttotal: 922ms\tremaining: 646ms\n",
      "588:\tlearn: 0.2656701\ttotal: 924ms\tremaining: 645ms\n",
      "589:\tlearn: 0.2653913\ttotal: 926ms\tremaining: 643ms\n",
      "590:\tlearn: 0.2652461\ttotal: 927ms\tremaining: 642ms\n",
      "591:\tlearn: 0.2650850\ttotal: 929ms\tremaining: 640ms\n",
      "592:\tlearn: 0.2649887\ttotal: 930ms\tremaining: 638ms\n",
      "593:\tlearn: 0.2649084\ttotal: 932ms\tremaining: 637ms\n",
      "594:\tlearn: 0.2647971\ttotal: 933ms\tremaining: 635ms\n",
      "595:\tlearn: 0.2646760\ttotal: 935ms\tremaining: 633ms\n",
      "596:\tlearn: 0.2643129\ttotal: 936ms\tremaining: 632ms\n",
      "597:\tlearn: 0.2641118\ttotal: 938ms\tremaining: 630ms\n",
      "598:\tlearn: 0.2638480\ttotal: 939ms\tremaining: 629ms\n",
      "599:\tlearn: 0.2636756\ttotal: 941ms\tremaining: 627ms\n",
      "600:\tlearn: 0.2634917\ttotal: 942ms\tremaining: 626ms\n",
      "601:\tlearn: 0.2632788\ttotal: 944ms\tremaining: 624ms\n",
      "602:\tlearn: 0.2630358\ttotal: 946ms\tremaining: 623ms\n",
      "603:\tlearn: 0.2627907\ttotal: 947ms\tremaining: 621ms\n",
      "604:\tlearn: 0.2626487\ttotal: 949ms\tremaining: 619ms\n",
      "605:\tlearn: 0.2623086\ttotal: 950ms\tremaining: 618ms\n",
      "606:\tlearn: 0.2622148\ttotal: 951ms\tremaining: 616ms\n",
      "607:\tlearn: 0.2619977\ttotal: 953ms\tremaining: 615ms\n",
      "608:\tlearn: 0.2618683\ttotal: 955ms\tremaining: 613ms\n",
      "609:\tlearn: 0.2617262\ttotal: 957ms\tremaining: 612ms\n",
      "610:\tlearn: 0.2614272\ttotal: 959ms\tremaining: 611ms\n",
      "611:\tlearn: 0.2612679\ttotal: 961ms\tremaining: 609ms\n",
      "612:\tlearn: 0.2610038\ttotal: 962ms\tremaining: 607ms\n",
      "613:\tlearn: 0.2607667\ttotal: 964ms\tremaining: 606ms\n",
      "614:\tlearn: 0.2605145\ttotal: 965ms\tremaining: 604ms\n",
      "615:\tlearn: 0.2602892\ttotal: 968ms\tremaining: 603ms\n",
      "616:\tlearn: 0.2599984\ttotal: 969ms\tremaining: 602ms\n",
      "617:\tlearn: 0.2598193\ttotal: 971ms\tremaining: 600ms\n",
      "618:\tlearn: 0.2596203\ttotal: 972ms\tremaining: 599ms\n",
      "619:\tlearn: 0.2594357\ttotal: 974ms\tremaining: 597ms\n",
      "620:\tlearn: 0.2590858\ttotal: 976ms\tremaining: 596ms\n",
      "621:\tlearn: 0.2589773\ttotal: 978ms\tremaining: 594ms\n",
      "622:\tlearn: 0.2585929\ttotal: 979ms\tremaining: 593ms\n",
      "623:\tlearn: 0.2581706\ttotal: 981ms\tremaining: 591ms\n",
      "624:\tlearn: 0.2578699\ttotal: 983ms\tremaining: 590ms\n",
      "625:\tlearn: 0.2576291\ttotal: 984ms\tremaining: 588ms\n",
      "626:\tlearn: 0.2574157\ttotal: 986ms\tremaining: 586ms\n",
      "627:\tlearn: 0.2569596\ttotal: 987ms\tremaining: 585ms\n",
      "628:\tlearn: 0.2566992\ttotal: 989ms\tremaining: 583ms\n",
      "629:\tlearn: 0.2564773\ttotal: 990ms\tremaining: 582ms\n",
      "630:\tlearn: 0.2563904\ttotal: 992ms\tremaining: 580ms\n",
      "631:\tlearn: 0.2562541\ttotal: 994ms\tremaining: 579ms\n",
      "632:\tlearn: 0.2560905\ttotal: 995ms\tremaining: 577ms\n",
      "633:\tlearn: 0.2559196\ttotal: 997ms\tremaining: 576ms\n",
      "634:\tlearn: 0.2556727\ttotal: 999ms\tremaining: 574ms\n",
      "635:\tlearn: 0.2554610\ttotal: 1s\tremaining: 572ms\n",
      "636:\tlearn: 0.2553226\ttotal: 1s\tremaining: 571ms\n",
      "637:\tlearn: 0.2551740\ttotal: 1s\tremaining: 569ms\n",
      "638:\tlearn: 0.2549789\ttotal: 1s\tremaining: 568ms\n",
      "639:\tlearn: 0.2547121\ttotal: 1.01s\tremaining: 566ms\n",
      "640:\tlearn: 0.2546132\ttotal: 1.01s\tremaining: 565ms\n",
      "641:\tlearn: 0.2543087\ttotal: 1.01s\tremaining: 563ms\n",
      "642:\tlearn: 0.2541042\ttotal: 1.01s\tremaining: 562ms\n",
      "643:\tlearn: 0.2538693\ttotal: 1.01s\tremaining: 560ms\n",
      "644:\tlearn: 0.2535917\ttotal: 1.01s\tremaining: 559ms\n",
      "645:\tlearn: 0.2533902\ttotal: 1.02s\tremaining: 557ms\n",
      "646:\tlearn: 0.2532326\ttotal: 1.02s\tremaining: 555ms\n",
      "647:\tlearn: 0.2530459\ttotal: 1.02s\tremaining: 554ms\n",
      "648:\tlearn: 0.2528119\ttotal: 1.02s\tremaining: 552ms\n",
      "649:\tlearn: 0.2525547\ttotal: 1.02s\tremaining: 551ms\n",
      "650:\tlearn: 0.2524567\ttotal: 1.02s\tremaining: 549ms\n",
      "651:\tlearn: 0.2521524\ttotal: 1.03s\tremaining: 548ms\n",
      "652:\tlearn: 0.2518746\ttotal: 1.03s\tremaining: 546ms\n",
      "653:\tlearn: 0.2515442\ttotal: 1.03s\tremaining: 544ms\n",
      "654:\tlearn: 0.2513742\ttotal: 1.03s\tremaining: 543ms\n",
      "655:\tlearn: 0.2511759\ttotal: 1.03s\tremaining: 541ms\n",
      "656:\tlearn: 0.2508741\ttotal: 1.03s\tremaining: 540ms\n",
      "657:\tlearn: 0.2507077\ttotal: 1.03s\tremaining: 538ms\n",
      "658:\tlearn: 0.2505781\ttotal: 1.04s\tremaining: 537ms\n",
      "659:\tlearn: 0.2505100\ttotal: 1.04s\tremaining: 535ms\n",
      "660:\tlearn: 0.2501853\ttotal: 1.04s\tremaining: 534ms\n",
      "661:\tlearn: 0.2500339\ttotal: 1.04s\tremaining: 532ms\n",
      "662:\tlearn: 0.2498808\ttotal: 1.04s\tremaining: 530ms\n",
      "663:\tlearn: 0.2496646\ttotal: 1.04s\tremaining: 529ms\n",
      "664:\tlearn: 0.2493293\ttotal: 1.05s\tremaining: 527ms\n",
      "665:\tlearn: 0.2491573\ttotal: 1.05s\tremaining: 526ms\n",
      "666:\tlearn: 0.2489233\ttotal: 1.05s\tremaining: 524ms\n",
      "667:\tlearn: 0.2488568\ttotal: 1.05s\tremaining: 523ms\n",
      "668:\tlearn: 0.2486144\ttotal: 1.05s\tremaining: 521ms\n",
      "669:\tlearn: 0.2483773\ttotal: 1.05s\tremaining: 520ms\n",
      "670:\tlearn: 0.2482201\ttotal: 1.06s\tremaining: 518ms\n",
      "671:\tlearn: 0.2481445\ttotal: 1.06s\tremaining: 517ms\n",
      "672:\tlearn: 0.2480453\ttotal: 1.06s\tremaining: 515ms\n",
      "673:\tlearn: 0.2478585\ttotal: 1.06s\tremaining: 513ms\n",
      "674:\tlearn: 0.2477204\ttotal: 1.06s\tremaining: 512ms\n",
      "675:\tlearn: 0.2476415\ttotal: 1.06s\tremaining: 510ms\n",
      "676:\tlearn: 0.2473815\ttotal: 1.07s\tremaining: 509ms\n",
      "677:\tlearn: 0.2471798\ttotal: 1.07s\tremaining: 507ms\n",
      "678:\tlearn: 0.2470178\ttotal: 1.07s\tremaining: 506ms\n",
      "679:\tlearn: 0.2468595\ttotal: 1.07s\tremaining: 504ms\n",
      "680:\tlearn: 0.2465018\ttotal: 1.07s\tremaining: 503ms\n",
      "681:\tlearn: 0.2463322\ttotal: 1.07s\tremaining: 501ms\n",
      "682:\tlearn: 0.2461881\ttotal: 1.08s\tremaining: 500ms\n",
      "683:\tlearn: 0.2460320\ttotal: 1.08s\tremaining: 498ms\n",
      "684:\tlearn: 0.2459155\ttotal: 1.08s\tremaining: 496ms\n",
      "685:\tlearn: 0.2457787\ttotal: 1.08s\tremaining: 495ms\n",
      "686:\tlearn: 0.2455912\ttotal: 1.08s\tremaining: 493ms\n",
      "687:\tlearn: 0.2453303\ttotal: 1.08s\tremaining: 492ms\n",
      "688:\tlearn: 0.2451950\ttotal: 1.08s\tremaining: 490ms\n",
      "689:\tlearn: 0.2450738\ttotal: 1.09s\tremaining: 488ms\n",
      "690:\tlearn: 0.2448890\ttotal: 1.09s\tremaining: 487ms\n",
      "691:\tlearn: 0.2445965\ttotal: 1.09s\tremaining: 485ms\n",
      "692:\tlearn: 0.2444868\ttotal: 1.09s\tremaining: 483ms\n",
      "693:\tlearn: 0.2443674\ttotal: 1.09s\tremaining: 482ms\n",
      "694:\tlearn: 0.2442138\ttotal: 1.09s\tremaining: 480ms\n",
      "695:\tlearn: 0.2439370\ttotal: 1.09s\tremaining: 479ms\n",
      "696:\tlearn: 0.2438278\ttotal: 1.1s\tremaining: 477ms\n",
      "697:\tlearn: 0.2435801\ttotal: 1.1s\tremaining: 475ms\n",
      "698:\tlearn: 0.2434457\ttotal: 1.1s\tremaining: 474ms\n",
      "699:\tlearn: 0.2432475\ttotal: 1.1s\tremaining: 472ms\n",
      "700:\tlearn: 0.2428014\ttotal: 1.1s\tremaining: 471ms\n",
      "701:\tlearn: 0.2424086\ttotal: 1.1s\tremaining: 469ms\n",
      "702:\tlearn: 0.2423574\ttotal: 1.11s\tremaining: 467ms\n",
      "703:\tlearn: 0.2422899\ttotal: 1.11s\tremaining: 466ms\n",
      "704:\tlearn: 0.2420831\ttotal: 1.11s\tremaining: 464ms\n",
      "705:\tlearn: 0.2418675\ttotal: 1.11s\tremaining: 463ms\n",
      "706:\tlearn: 0.2417139\ttotal: 1.11s\tremaining: 461ms\n",
      "707:\tlearn: 0.2416066\ttotal: 1.11s\tremaining: 459ms\n",
      "708:\tlearn: 0.2413955\ttotal: 1.11s\tremaining: 458ms\n",
      "709:\tlearn: 0.2412798\ttotal: 1.12s\tremaining: 456ms\n",
      "710:\tlearn: 0.2409843\ttotal: 1.12s\tremaining: 455ms\n",
      "711:\tlearn: 0.2405534\ttotal: 1.12s\tremaining: 453ms\n",
      "712:\tlearn: 0.2403035\ttotal: 1.12s\tremaining: 451ms\n",
      "713:\tlearn: 0.2401702\ttotal: 1.12s\tremaining: 450ms\n",
      "714:\tlearn: 0.2399140\ttotal: 1.12s\tremaining: 448ms\n",
      "715:\tlearn: 0.2397337\ttotal: 1.13s\tremaining: 447ms\n",
      "716:\tlearn: 0.2396964\ttotal: 1.13s\tremaining: 445ms\n",
      "717:\tlearn: 0.2395390\ttotal: 1.13s\tremaining: 443ms\n",
      "718:\tlearn: 0.2392122\ttotal: 1.13s\tremaining: 442ms\n",
      "719:\tlearn: 0.2390619\ttotal: 1.13s\tremaining: 440ms\n",
      "720:\tlearn: 0.2389439\ttotal: 1.13s\tremaining: 439ms\n",
      "721:\tlearn: 0.2385429\ttotal: 1.13s\tremaining: 437ms\n",
      "722:\tlearn: 0.2383707\ttotal: 1.14s\tremaining: 435ms\n",
      "723:\tlearn: 0.2382535\ttotal: 1.14s\tremaining: 434ms\n",
      "724:\tlearn: 0.2381393\ttotal: 1.14s\tremaining: 432ms\n",
      "725:\tlearn: 0.2379856\ttotal: 1.14s\tremaining: 431ms\n",
      "726:\tlearn: 0.2377765\ttotal: 1.14s\tremaining: 429ms\n",
      "727:\tlearn: 0.2376745\ttotal: 1.14s\tremaining: 428ms\n",
      "728:\tlearn: 0.2375429\ttotal: 1.15s\tremaining: 426ms\n",
      "729:\tlearn: 0.2373491\ttotal: 1.15s\tremaining: 424ms\n",
      "730:\tlearn: 0.2370027\ttotal: 1.15s\tremaining: 423ms\n",
      "731:\tlearn: 0.2368848\ttotal: 1.15s\tremaining: 421ms\n",
      "732:\tlearn: 0.2367762\ttotal: 1.15s\tremaining: 420ms\n",
      "733:\tlearn: 0.2366998\ttotal: 1.15s\tremaining: 418ms\n",
      "734:\tlearn: 0.2364429\ttotal: 1.16s\tremaining: 417ms\n",
      "735:\tlearn: 0.2363494\ttotal: 1.16s\tremaining: 415ms\n",
      "736:\tlearn: 0.2361932\ttotal: 1.16s\tremaining: 413ms\n",
      "737:\tlearn: 0.2358759\ttotal: 1.16s\tremaining: 412ms\n",
      "738:\tlearn: 0.2356413\ttotal: 1.16s\tremaining: 410ms\n",
      "739:\tlearn: 0.2354374\ttotal: 1.16s\tremaining: 409ms\n",
      "740:\tlearn: 0.2353556\ttotal: 1.16s\tremaining: 407ms\n",
      "741:\tlearn: 0.2352407\ttotal: 1.17s\tremaining: 405ms\n",
      "742:\tlearn: 0.2350888\ttotal: 1.17s\tremaining: 404ms\n",
      "743:\tlearn: 0.2348339\ttotal: 1.17s\tremaining: 402ms\n",
      "744:\tlearn: 0.2344997\ttotal: 1.17s\tremaining: 401ms\n",
      "745:\tlearn: 0.2343514\ttotal: 1.17s\tremaining: 399ms\n",
      "746:\tlearn: 0.2341343\ttotal: 1.17s\tremaining: 397ms\n",
      "747:\tlearn: 0.2337582\ttotal: 1.17s\tremaining: 396ms\n",
      "748:\tlearn: 0.2335933\ttotal: 1.18s\tremaining: 394ms\n",
      "749:\tlearn: 0.2334627\ttotal: 1.18s\tremaining: 393ms\n",
      "750:\tlearn: 0.2332623\ttotal: 1.18s\tremaining: 391ms\n",
      "751:\tlearn: 0.2331015\ttotal: 1.18s\tremaining: 389ms\n",
      "752:\tlearn: 0.2330066\ttotal: 1.18s\tremaining: 388ms\n",
      "753:\tlearn: 0.2328590\ttotal: 1.18s\tremaining: 386ms\n",
      "754:\tlearn: 0.2327142\ttotal: 1.19s\tremaining: 385ms\n",
      "755:\tlearn: 0.2323644\ttotal: 1.19s\tremaining: 383ms\n",
      "756:\tlearn: 0.2320818\ttotal: 1.19s\tremaining: 382ms\n",
      "757:\tlearn: 0.2319190\ttotal: 1.19s\tremaining: 380ms\n",
      "758:\tlearn: 0.2315921\ttotal: 1.19s\tremaining: 378ms\n",
      "759:\tlearn: 0.2314518\ttotal: 1.19s\tremaining: 377ms\n",
      "760:\tlearn: 0.2312555\ttotal: 1.2s\tremaining: 375ms\n",
      "761:\tlearn: 0.2310545\ttotal: 1.2s\tremaining: 374ms\n",
      "762:\tlearn: 0.2309143\ttotal: 1.2s\tremaining: 372ms\n",
      "763:\tlearn: 0.2307787\ttotal: 1.2s\tremaining: 371ms\n",
      "764:\tlearn: 0.2303175\ttotal: 1.2s\tremaining: 369ms\n",
      "765:\tlearn: 0.2300101\ttotal: 1.2s\tremaining: 368ms\n",
      "766:\tlearn: 0.2298963\ttotal: 1.2s\tremaining: 366ms\n",
      "767:\tlearn: 0.2296899\ttotal: 1.21s\tremaining: 364ms\n",
      "768:\tlearn: 0.2295813\ttotal: 1.21s\tremaining: 363ms\n",
      "769:\tlearn: 0.2292246\ttotal: 1.21s\tremaining: 361ms\n",
      "770:\tlearn: 0.2290453\ttotal: 1.21s\tremaining: 360ms\n",
      "771:\tlearn: 0.2289676\ttotal: 1.21s\tremaining: 358ms\n",
      "772:\tlearn: 0.2286484\ttotal: 1.21s\tremaining: 356ms\n",
      "773:\tlearn: 0.2284585\ttotal: 1.22s\tremaining: 355ms\n",
      "774:\tlearn: 0.2282500\ttotal: 1.22s\tremaining: 353ms\n",
      "775:\tlearn: 0.2281407\ttotal: 1.22s\tremaining: 352ms\n",
      "776:\tlearn: 0.2279219\ttotal: 1.22s\tremaining: 350ms\n",
      "777:\tlearn: 0.2276128\ttotal: 1.22s\tremaining: 349ms\n",
      "778:\tlearn: 0.2274184\ttotal: 1.22s\tremaining: 347ms\n",
      "779:\tlearn: 0.2271612\ttotal: 1.22s\tremaining: 345ms\n",
      "780:\tlearn: 0.2269394\ttotal: 1.23s\tremaining: 344ms\n",
      "781:\tlearn: 0.2268496\ttotal: 1.23s\tremaining: 342ms\n",
      "782:\tlearn: 0.2267682\ttotal: 1.23s\tremaining: 341ms\n",
      "783:\tlearn: 0.2266919\ttotal: 1.23s\tremaining: 339ms\n",
      "784:\tlearn: 0.2264667\ttotal: 1.23s\tremaining: 338ms\n",
      "785:\tlearn: 0.2261897\ttotal: 1.23s\tremaining: 336ms\n",
      "786:\tlearn: 0.2261238\ttotal: 1.24s\tremaining: 334ms\n",
      "787:\tlearn: 0.2260221\ttotal: 1.24s\tremaining: 333ms\n",
      "788:\tlearn: 0.2259542\ttotal: 1.24s\tremaining: 331ms\n",
      "789:\tlearn: 0.2257492\ttotal: 1.24s\tremaining: 330ms\n",
      "790:\tlearn: 0.2255727\ttotal: 1.24s\tremaining: 329ms\n",
      "791:\tlearn: 0.2254361\ttotal: 1.24s\tremaining: 327ms\n",
      "792:\tlearn: 0.2251975\ttotal: 1.25s\tremaining: 325ms\n",
      "793:\tlearn: 0.2251099\ttotal: 1.25s\tremaining: 324ms\n",
      "794:\tlearn: 0.2250267\ttotal: 1.25s\tremaining: 322ms\n",
      "795:\tlearn: 0.2249045\ttotal: 1.25s\tremaining: 321ms\n",
      "796:\tlearn: 0.2246708\ttotal: 1.25s\tremaining: 319ms\n",
      "797:\tlearn: 0.2244320\ttotal: 1.25s\tremaining: 317ms\n",
      "798:\tlearn: 0.2242313\ttotal: 1.25s\tremaining: 316ms\n",
      "799:\tlearn: 0.2238984\ttotal: 1.26s\tremaining: 314ms\n",
      "800:\tlearn: 0.2234516\ttotal: 1.26s\tremaining: 313ms\n",
      "801:\tlearn: 0.2233933\ttotal: 1.26s\tremaining: 311ms\n",
      "802:\tlearn: 0.2232868\ttotal: 1.26s\tremaining: 309ms\n",
      "803:\tlearn: 0.2230518\ttotal: 1.26s\tremaining: 308ms\n",
      "804:\tlearn: 0.2228824\ttotal: 1.26s\tremaining: 306ms\n",
      "805:\tlearn: 0.2226697\ttotal: 1.26s\tremaining: 305ms\n",
      "806:\tlearn: 0.2225086\ttotal: 1.27s\tremaining: 303ms\n",
      "807:\tlearn: 0.2223386\ttotal: 1.27s\tremaining: 301ms\n",
      "808:\tlearn: 0.2221959\ttotal: 1.27s\tremaining: 300ms\n",
      "809:\tlearn: 0.2219787\ttotal: 1.27s\tremaining: 298ms\n",
      "810:\tlearn: 0.2216724\ttotal: 1.27s\tremaining: 297ms\n",
      "811:\tlearn: 0.2214549\ttotal: 1.27s\tremaining: 295ms\n",
      "812:\tlearn: 0.2211909\ttotal: 1.27s\tremaining: 293ms\n",
      "813:\tlearn: 0.2208207\ttotal: 1.28s\tremaining: 292ms\n",
      "814:\tlearn: 0.2206241\ttotal: 1.28s\tremaining: 290ms\n",
      "815:\tlearn: 0.2204944\ttotal: 1.28s\tremaining: 289ms\n",
      "816:\tlearn: 0.2203338\ttotal: 1.28s\tremaining: 287ms\n",
      "817:\tlearn: 0.2202234\ttotal: 1.28s\tremaining: 285ms\n",
      "818:\tlearn: 0.2199347\ttotal: 1.28s\tremaining: 284ms\n",
      "819:\tlearn: 0.2197637\ttotal: 1.29s\tremaining: 282ms\n",
      "820:\tlearn: 0.2196321\ttotal: 1.29s\tremaining: 281ms\n",
      "821:\tlearn: 0.2195166\ttotal: 1.29s\tremaining: 279ms\n",
      "822:\tlearn: 0.2193558\ttotal: 1.29s\tremaining: 278ms\n",
      "823:\tlearn: 0.2192363\ttotal: 1.29s\tremaining: 276ms\n",
      "824:\tlearn: 0.2190681\ttotal: 1.29s\tremaining: 274ms\n",
      "825:\tlearn: 0.2188877\ttotal: 1.29s\tremaining: 273ms\n",
      "826:\tlearn: 0.2188229\ttotal: 1.3s\tremaining: 271ms\n",
      "827:\tlearn: 0.2187377\ttotal: 1.3s\tremaining: 270ms\n",
      "828:\tlearn: 0.2185021\ttotal: 1.3s\tremaining: 268ms\n",
      "829:\tlearn: 0.2184467\ttotal: 1.3s\tremaining: 267ms\n",
      "830:\tlearn: 0.2182458\ttotal: 1.3s\tremaining: 265ms\n",
      "831:\tlearn: 0.2179170\ttotal: 1.3s\tremaining: 263ms\n",
      "832:\tlearn: 0.2177744\ttotal: 1.3s\tremaining: 262ms\n",
      "833:\tlearn: 0.2176498\ttotal: 1.31s\tremaining: 260ms\n",
      "834:\tlearn: 0.2174674\ttotal: 1.31s\tremaining: 259ms\n",
      "835:\tlearn: 0.2171573\ttotal: 1.31s\tremaining: 257ms\n",
      "836:\tlearn: 0.2170428\ttotal: 1.31s\tremaining: 255ms\n",
      "837:\tlearn: 0.2168558\ttotal: 1.31s\tremaining: 254ms\n",
      "838:\tlearn: 0.2167658\ttotal: 1.31s\tremaining: 252ms\n",
      "839:\tlearn: 0.2165640\ttotal: 1.32s\tremaining: 251ms\n",
      "840:\tlearn: 0.2164665\ttotal: 1.32s\tremaining: 249ms\n",
      "841:\tlearn: 0.2163036\ttotal: 1.32s\tremaining: 247ms\n",
      "842:\tlearn: 0.2161783\ttotal: 1.32s\tremaining: 246ms\n",
      "843:\tlearn: 0.2160460\ttotal: 1.32s\tremaining: 244ms\n",
      "844:\tlearn: 0.2159027\ttotal: 1.32s\tremaining: 243ms\n",
      "845:\tlearn: 0.2157109\ttotal: 1.32s\tremaining: 241ms\n",
      "846:\tlearn: 0.2156211\ttotal: 1.33s\tremaining: 240ms\n",
      "847:\tlearn: 0.2155515\ttotal: 1.33s\tremaining: 238ms\n",
      "848:\tlearn: 0.2154780\ttotal: 1.33s\tremaining: 236ms\n",
      "849:\tlearn: 0.2152790\ttotal: 1.33s\tremaining: 235ms\n",
      "850:\tlearn: 0.2151652\ttotal: 1.33s\tremaining: 233ms\n",
      "851:\tlearn: 0.2151018\ttotal: 1.33s\tremaining: 232ms\n",
      "852:\tlearn: 0.2149208\ttotal: 1.33s\tremaining: 230ms\n",
      "853:\tlearn: 0.2147438\ttotal: 1.34s\tremaining: 229ms\n",
      "854:\tlearn: 0.2145937\ttotal: 1.34s\tremaining: 227ms\n",
      "855:\tlearn: 0.2145381\ttotal: 1.34s\tremaining: 225ms\n",
      "856:\tlearn: 0.2144657\ttotal: 1.34s\tremaining: 224ms\n",
      "857:\tlearn: 0.2141945\ttotal: 1.34s\tremaining: 222ms\n",
      "858:\tlearn: 0.2141378\ttotal: 1.34s\tremaining: 221ms\n",
      "859:\tlearn: 0.2140764\ttotal: 1.34s\tremaining: 219ms\n",
      "860:\tlearn: 0.2139788\ttotal: 1.35s\tremaining: 217ms\n",
      "861:\tlearn: 0.2138364\ttotal: 1.35s\tremaining: 216ms\n",
      "862:\tlearn: 0.2136299\ttotal: 1.35s\tremaining: 214ms\n",
      "863:\tlearn: 0.2134113\ttotal: 1.35s\tremaining: 213ms\n",
      "864:\tlearn: 0.2132956\ttotal: 1.35s\tremaining: 211ms\n",
      "865:\tlearn: 0.2130691\ttotal: 1.35s\tremaining: 210ms\n",
      "866:\tlearn: 0.2128784\ttotal: 1.36s\tremaining: 208ms\n",
      "867:\tlearn: 0.2126727\ttotal: 1.36s\tremaining: 207ms\n",
      "868:\tlearn: 0.2125340\ttotal: 1.36s\tremaining: 205ms\n",
      "869:\tlearn: 0.2122840\ttotal: 1.36s\tremaining: 203ms\n",
      "870:\tlearn: 0.2120469\ttotal: 1.36s\tremaining: 202ms\n",
      "871:\tlearn: 0.2118639\ttotal: 1.36s\tremaining: 200ms\n",
      "872:\tlearn: 0.2117496\ttotal: 1.36s\tremaining: 199ms\n",
      "873:\tlearn: 0.2114516\ttotal: 1.37s\tremaining: 197ms\n",
      "874:\tlearn: 0.2111775\ttotal: 1.37s\tremaining: 195ms\n",
      "875:\tlearn: 0.2110101\ttotal: 1.37s\tremaining: 194ms\n",
      "876:\tlearn: 0.2107460\ttotal: 1.37s\tremaining: 192ms\n",
      "877:\tlearn: 0.2106560\ttotal: 1.37s\tremaining: 191ms\n",
      "878:\tlearn: 0.2104605\ttotal: 1.37s\tremaining: 189ms\n",
      "879:\tlearn: 0.2103590\ttotal: 1.38s\tremaining: 188ms\n",
      "880:\tlearn: 0.2103160\ttotal: 1.38s\tremaining: 186ms\n",
      "881:\tlearn: 0.2102141\ttotal: 1.38s\tremaining: 184ms\n",
      "882:\tlearn: 0.2098803\ttotal: 1.38s\tremaining: 183ms\n",
      "883:\tlearn: 0.2097233\ttotal: 1.38s\tremaining: 181ms\n",
      "884:\tlearn: 0.2095986\ttotal: 1.38s\tremaining: 180ms\n",
      "885:\tlearn: 0.2094989\ttotal: 1.38s\tremaining: 178ms\n",
      "886:\tlearn: 0.2092139\ttotal: 1.39s\tremaining: 177ms\n",
      "887:\tlearn: 0.2090122\ttotal: 1.39s\tremaining: 175ms\n",
      "888:\tlearn: 0.2088416\ttotal: 1.39s\tremaining: 173ms\n",
      "889:\tlearn: 0.2087120\ttotal: 1.39s\tremaining: 172ms\n",
      "890:\tlearn: 0.2085946\ttotal: 1.39s\tremaining: 170ms\n",
      "891:\tlearn: 0.2084567\ttotal: 1.39s\tremaining: 169ms\n",
      "892:\tlearn: 0.2083637\ttotal: 1.4s\tremaining: 167ms\n",
      "893:\tlearn: 0.2082819\ttotal: 1.4s\tremaining: 166ms\n",
      "894:\tlearn: 0.2081431\ttotal: 1.4s\tremaining: 164ms\n",
      "895:\tlearn: 0.2079990\ttotal: 1.4s\tremaining: 162ms\n",
      "896:\tlearn: 0.2078031\ttotal: 1.4s\tremaining: 161ms\n",
      "897:\tlearn: 0.2076147\ttotal: 1.4s\tremaining: 159ms\n",
      "898:\tlearn: 0.2074966\ttotal: 1.41s\tremaining: 158ms\n",
      "899:\tlearn: 0.2074233\ttotal: 1.41s\tremaining: 156ms\n",
      "900:\tlearn: 0.2073176\ttotal: 1.41s\tremaining: 155ms\n",
      "901:\tlearn: 0.2071963\ttotal: 1.41s\tremaining: 153ms\n",
      "902:\tlearn: 0.2070281\ttotal: 1.41s\tremaining: 152ms\n",
      "903:\tlearn: 0.2068952\ttotal: 1.41s\tremaining: 150ms\n",
      "904:\tlearn: 0.2067909\ttotal: 1.41s\tremaining: 148ms\n",
      "905:\tlearn: 0.2065923\ttotal: 1.41s\tremaining: 147ms\n",
      "906:\tlearn: 0.2064879\ttotal: 1.42s\tremaining: 145ms\n",
      "907:\tlearn: 0.2062348\ttotal: 1.42s\tremaining: 144ms\n",
      "908:\tlearn: 0.2061212\ttotal: 1.42s\tremaining: 142ms\n",
      "909:\tlearn: 0.2059688\ttotal: 1.42s\tremaining: 141ms\n",
      "910:\tlearn: 0.2057464\ttotal: 1.42s\tremaining: 139ms\n",
      "911:\tlearn: 0.2056163\ttotal: 1.42s\tremaining: 137ms\n",
      "912:\tlearn: 0.2055138\ttotal: 1.42s\tremaining: 136ms\n",
      "913:\tlearn: 0.2054613\ttotal: 1.43s\tremaining: 134ms\n",
      "914:\tlearn: 0.2053515\ttotal: 1.43s\tremaining: 133ms\n",
      "915:\tlearn: 0.2052184\ttotal: 1.43s\tremaining: 131ms\n",
      "916:\tlearn: 0.2050330\ttotal: 1.43s\tremaining: 129ms\n",
      "917:\tlearn: 0.2049049\ttotal: 1.43s\tremaining: 128ms\n",
      "918:\tlearn: 0.2046657\ttotal: 1.43s\tremaining: 126ms\n",
      "919:\tlearn: 0.2043994\ttotal: 1.44s\tremaining: 125ms\n",
      "920:\tlearn: 0.2043421\ttotal: 1.44s\tremaining: 123ms\n",
      "921:\tlearn: 0.2040999\ttotal: 1.44s\tremaining: 122ms\n",
      "922:\tlearn: 0.2039345\ttotal: 1.44s\tremaining: 120ms\n",
      "923:\tlearn: 0.2037581\ttotal: 1.44s\tremaining: 119ms\n",
      "924:\tlearn: 0.2036368\ttotal: 1.44s\tremaining: 117ms\n",
      "925:\tlearn: 0.2035197\ttotal: 1.45s\tremaining: 116ms\n",
      "926:\tlearn: 0.2033980\ttotal: 1.45s\tremaining: 114ms\n",
      "927:\tlearn: 0.2032414\ttotal: 1.45s\tremaining: 112ms\n",
      "928:\tlearn: 0.2030566\ttotal: 1.45s\tremaining: 111ms\n",
      "929:\tlearn: 0.2027728\ttotal: 1.45s\tremaining: 109ms\n",
      "930:\tlearn: 0.2025859\ttotal: 1.45s\tremaining: 108ms\n",
      "931:\tlearn: 0.2025003\ttotal: 1.46s\tremaining: 106ms\n",
      "932:\tlearn: 0.2023148\ttotal: 1.46s\tremaining: 105ms\n",
      "933:\tlearn: 0.2022241\ttotal: 1.46s\tremaining: 103ms\n",
      "934:\tlearn: 0.2021301\ttotal: 1.46s\tremaining: 102ms\n",
      "935:\tlearn: 0.2020509\ttotal: 1.46s\tremaining: 100ms\n",
      "936:\tlearn: 0.2019055\ttotal: 1.46s\tremaining: 98.4ms\n",
      "937:\tlearn: 0.2018676\ttotal: 1.47s\tremaining: 96.9ms\n",
      "938:\tlearn: 0.2016924\ttotal: 1.47s\tremaining: 95.3ms\n",
      "939:\tlearn: 0.2016378\ttotal: 1.47s\tremaining: 93.8ms\n",
      "940:\tlearn: 0.2014014\ttotal: 1.47s\tremaining: 92.2ms\n",
      "941:\tlearn: 0.2012791\ttotal: 1.47s\tremaining: 90.7ms\n",
      "942:\tlearn: 0.2012014\ttotal: 1.47s\tremaining: 89.1ms\n",
      "943:\tlearn: 0.2010983\ttotal: 1.48s\tremaining: 87.5ms\n",
      "944:\tlearn: 0.2009464\ttotal: 1.48s\tremaining: 86ms\n",
      "945:\tlearn: 0.2008588\ttotal: 1.48s\tremaining: 84.4ms\n",
      "946:\tlearn: 0.2007579\ttotal: 1.48s\tremaining: 82.8ms\n",
      "947:\tlearn: 0.2006770\ttotal: 1.48s\tremaining: 81.3ms\n",
      "948:\tlearn: 0.2005245\ttotal: 1.48s\tremaining: 79.7ms\n",
      "949:\tlearn: 0.2004856\ttotal: 1.48s\tremaining: 78.2ms\n",
      "950:\tlearn: 0.2004359\ttotal: 1.49s\tremaining: 76.6ms\n",
      "951:\tlearn: 0.2001823\ttotal: 1.49s\tremaining: 75.1ms\n",
      "952:\tlearn: 0.1999742\ttotal: 1.49s\tremaining: 73.5ms\n",
      "953:\tlearn: 0.1998538\ttotal: 1.49s\tremaining: 71.9ms\n",
      "954:\tlearn: 0.1997505\ttotal: 1.49s\tremaining: 70.4ms\n",
      "955:\tlearn: 0.1996788\ttotal: 1.5s\tremaining: 68.8ms\n",
      "956:\tlearn: 0.1994983\ttotal: 1.5s\tremaining: 67.3ms\n",
      "957:\tlearn: 0.1993423\ttotal: 1.5s\tremaining: 65.7ms\n",
      "958:\tlearn: 0.1992059\ttotal: 1.5s\tremaining: 64.1ms\n",
      "959:\tlearn: 0.1989424\ttotal: 1.5s\tremaining: 62.5ms\n",
      "960:\tlearn: 0.1987826\ttotal: 1.5s\tremaining: 61ms\n",
      "961:\tlearn: 0.1986675\ttotal: 1.5s\tremaining: 59.4ms\n",
      "962:\tlearn: 0.1986389\ttotal: 1.5s\tremaining: 57.9ms\n",
      "963:\tlearn: 0.1985507\ttotal: 1.51s\tremaining: 56.3ms\n",
      "964:\tlearn: 0.1984114\ttotal: 1.51s\tremaining: 54.7ms\n",
      "965:\tlearn: 0.1983626\ttotal: 1.51s\tremaining: 53.2ms\n",
      "966:\tlearn: 0.1981922\ttotal: 1.51s\tremaining: 51.6ms\n",
      "967:\tlearn: 0.1979989\ttotal: 1.51s\tremaining: 50ms\n",
      "968:\tlearn: 0.1979202\ttotal: 1.51s\tremaining: 48.5ms\n",
      "969:\tlearn: 0.1977933\ttotal: 1.52s\tremaining: 46.9ms\n",
      "970:\tlearn: 0.1976935\ttotal: 1.52s\tremaining: 45.3ms\n",
      "971:\tlearn: 0.1975237\ttotal: 1.52s\tremaining: 43.8ms\n",
      "972:\tlearn: 0.1974117\ttotal: 1.52s\tremaining: 42.2ms\n",
      "973:\tlearn: 0.1972646\ttotal: 1.52s\tremaining: 40.7ms\n",
      "974:\tlearn: 0.1971243\ttotal: 1.52s\tremaining: 39.1ms\n",
      "975:\tlearn: 0.1969940\ttotal: 1.52s\tremaining: 37.5ms\n",
      "976:\tlearn: 0.1969432\ttotal: 1.53s\tremaining: 36ms\n",
      "977:\tlearn: 0.1967682\ttotal: 1.53s\tremaining: 34.4ms\n",
      "978:\tlearn: 0.1966439\ttotal: 1.53s\tremaining: 32.8ms\n",
      "979:\tlearn: 0.1965434\ttotal: 1.53s\tremaining: 31.3ms\n",
      "980:\tlearn: 0.1964754\ttotal: 1.53s\tremaining: 29.7ms\n",
      "981:\tlearn: 0.1963268\ttotal: 1.53s\tremaining: 28.1ms\n",
      "982:\tlearn: 0.1961554\ttotal: 1.54s\tremaining: 26.6ms\n",
      "983:\tlearn: 0.1958981\ttotal: 1.54s\tremaining: 25ms\n",
      "984:\tlearn: 0.1958360\ttotal: 1.54s\tremaining: 23.4ms\n",
      "985:\tlearn: 0.1955453\ttotal: 1.54s\tremaining: 21.9ms\n",
      "986:\tlearn: 0.1954170\ttotal: 1.54s\tremaining: 20.3ms\n",
      "987:\tlearn: 0.1952517\ttotal: 1.54s\tremaining: 18.8ms\n",
      "988:\tlearn: 0.1950590\ttotal: 1.54s\tremaining: 17.2ms\n",
      "989:\tlearn: 0.1948965\ttotal: 1.55s\tremaining: 15.6ms\n",
      "990:\tlearn: 0.1947814\ttotal: 1.55s\tremaining: 14.1ms\n",
      "991:\tlearn: 0.1945362\ttotal: 1.55s\tremaining: 12.5ms\n",
      "992:\tlearn: 0.1944756\ttotal: 1.55s\tremaining: 10.9ms\n",
      "993:\tlearn: 0.1943506\ttotal: 1.55s\tremaining: 9.38ms\n",
      "994:\tlearn: 0.1942585\ttotal: 1.55s\tremaining: 7.81ms\n",
      "995:\tlearn: 0.1941885\ttotal: 1.56s\tremaining: 6.25ms\n",
      "996:\tlearn: 0.1939930\ttotal: 1.56s\tremaining: 4.69ms\n",
      "997:\tlearn: 0.1938128\ttotal: 1.56s\tremaining: 3.13ms\n",
      "998:\tlearn: 0.1936294\ttotal: 1.56s\tremaining: 1.56ms\n",
      "999:\tlearn: 0.1935149\ttotal: 1.56s\tremaining: 0us\n"
     ]
    }
   ],
   "source": [
    "cat_model = CatBoostClassifier().fit(X_train, y_train)"
   ]
  },
  {
   "cell_type": "code",
   "execution_count": 190,
   "metadata": {},
   "outputs": [],
   "source": [
    "y_pred = cat_model.predict(X_test)"
   ]
  },
  {
   "cell_type": "code",
   "execution_count": 191,
   "metadata": {},
   "outputs": [
    {
     "data": {
      "text/plain": [
       "0.7402597402597403"
      ]
     },
     "execution_count": 191,
     "metadata": {},
     "output_type": "execute_result"
    }
   ],
   "source": [
    "accuracy_score(y_test, y_pred)"
   ]
  },
  {
   "cell_type": "markdown",
   "metadata": {},
   "source": [
    "### Model Tuning"
   ]
  },
  {
   "cell_type": "code",
   "execution_count": 192,
   "metadata": {},
   "outputs": [
    {
     "data": {
      "text/plain": [
       "\u001b[1;31mType:\u001b[0m           CatBoostClassifier\n",
       "\u001b[1;31mString form:\u001b[0m    <catboost.core.CatBoostClassifier object at 0x000001D4D24B3128>\n",
       "\u001b[1;31mFile:\u001b[0m           c:\\users\\90530\\anaconda3\\lib\\site-packages\\catboost\\core.py\n",
       "\u001b[1;31mDocstring:\u001b[0m     \n",
       "Implementation of the scikit-learn API for CatBoost classification.\n",
       "\n",
       "Parameters\n",
       "----------\n",
       "iterations : int, [default=500]\n",
       "    Max count of trees.\n",
       "    range: [1,+inf]\n",
       "learning_rate : float, [default value is selected automatically for binary classification with other parameters set to default. In all other cases default is 0.03]\n",
       "    Step size shrinkage used in update to prevents overfitting.\n",
       "    range: (0,1]\n",
       "depth : int, [default=6]\n",
       "    Depth of a tree. All trees are the same depth.\n",
       "    range: [1,+inf]\n",
       "l2_leaf_reg : float, [default=3.0]\n",
       "    Coefficient at the L2 regularization term of the cost function.\n",
       "    range: [0,+inf]\n",
       "model_size_reg : float, [default=None]\n",
       "    Model size regularization coefficient.\n",
       "    range: [0,+inf]\n",
       "rsm : float, [default=None]\n",
       "    Subsample ratio of columns when constructing each tree.\n",
       "    range: (0,1]\n",
       "loss_function : string or object, [default='Logloss']\n",
       "    The metric to use in training and also selector of the machine learning\n",
       "    problem to solve. If string, then the name of a supported metric,\n",
       "    optionally suffixed with parameter description.\n",
       "    If object, it shall provide methods 'calc_ders_range' or 'calc_ders_multi'.\n",
       "border_count : int, [default = 254 for training on CPU or 128 for training on GPU]\n",
       "    The number of partitions in numeric features binarization. Used in the preliminary calculation.\n",
       "    range: [1,65535] on CPU, [1,255] on GPU\n",
       "feature_border_type : string, [default='GreedyLogSum']\n",
       "    The binarization mode in numeric features binarization. Used in the preliminary calculation.\n",
       "    Possible values:\n",
       "        - 'Median'\n",
       "        - 'Uniform'\n",
       "        - 'UniformAndQuantiles'\n",
       "        - 'GreedyLogSum'\n",
       "        - 'MaxLogSum'\n",
       "        - 'MinEntropy'\n",
       "per_float_feature_quantization : list of strings, [default=None]\n",
       "    List of float binarization descriptions.\n",
       "    Format : described in documentation on catboost.ai\n",
       "    Example 1: ['0:1024'] means that feature 0 will have 1024 borders.\n",
       "    Example 2: ['0:border_count=1024', '1:border_count=1024', ...] means that two first features have 1024 borders.\n",
       "    Example 3: ['0:nan_mode=Forbidden,border_count=32,border_type=GreedyLogSum',\n",
       "                '1:nan_mode=Forbidden,border_count=32,border_type=GreedyLogSum'] - defines more quantization properties for first two features.\n",
       "input_borders : string or pathlib.Path, [default=None]\n",
       "    input file with borders used in numeric features binarization.\n",
       "output_borders : string, [default=None]\n",
       "    output file for borders that were used in numeric features binarization.\n",
       "fold_permutation_block : int, [default=1]\n",
       "    To accelerate the learning.\n",
       "    The recommended value is within [1, 256]. On small samples, must be set to 1.\n",
       "    range: [1,+inf]\n",
       "od_pval : float, [default=None]\n",
       "    Use overfitting detector to stop training when reaching a specified threshold.\n",
       "    Can be used only with eval_set.\n",
       "    range: [0,1]\n",
       "od_wait : int, [default=None]\n",
       "    Number of iterations which overfitting detector will wait after new best error.\n",
       "od_type : string, [default=None]\n",
       "    Type of overfitting detector which will be used in program.\n",
       "    Posible values:\n",
       "        - 'IncToDec'\n",
       "        - 'Iter'\n",
       "    For 'Iter' type od_pval must not be set.\n",
       "    If None, then od_type=IncToDec.\n",
       "nan_mode : string, [default=None]\n",
       "    Way to process missing values for numeric features.\n",
       "    Possible values:\n",
       "        - 'Forbidden' - raises an exception if there is a missing value for a numeric feature in a dataset.\n",
       "        - 'Min' - each missing value will be processed as the minimum numerical value.\n",
       "        - 'Max' - each missing value will be processed as the maximum numerical value.\n",
       "    If None, then nan_mode=Min.\n",
       "counter_calc_method : string, [default=None]\n",
       "    The method used to calculate counters for dataset with Counter type.\n",
       "    Possible values:\n",
       "        - 'PrefixTest' - only objects up to current in the test dataset are considered\n",
       "        - 'FullTest' - all objects are considered in the test dataset\n",
       "        - 'SkipTest' - Objects from test dataset are not considered\n",
       "        - 'Full' - all objects are considered for both learn and test dataset\n",
       "    If None, then counter_calc_method=PrefixTest.\n",
       "leaf_estimation_iterations : int, [default=None]\n",
       "    The number of steps in the gradient when calculating the values in the leaves.\n",
       "    If None, then leaf_estimation_iterations=1.\n",
       "    range: [1,+inf]\n",
       "leaf_estimation_method : string, [default=None]\n",
       "    The method used to calculate the values in the leaves.\n",
       "    Possible values:\n",
       "        - 'Newton'\n",
       "        - 'Gradient'\n",
       "thread_count : int, [default=None]\n",
       "    Number of parallel threads used to run CatBoost.\n",
       "    If None or -1, then the number of threads is set to the number of CPU cores.\n",
       "    range: [1,+inf]\n",
       "random_seed : int, [default=None]\n",
       "    Random number seed.\n",
       "    If None, 0 is used.\n",
       "    range: [0,+inf]\n",
       "use_best_model : bool, [default=None]\n",
       "    To limit the number of trees in predict() using information about the optimal value of the error function.\n",
       "    Can be used only with eval_set.\n",
       "best_model_min_trees : int, [default=None]\n",
       "    The minimal number of trees the best model should have.\n",
       "verbose: bool\n",
       "    When set to True, logging_level is set to 'Verbose'.\n",
       "    When set to False, logging_level is set to 'Silent'.\n",
       "silent: bool, synonym for verbose\n",
       "logging_level : string, [default='Verbose']\n",
       "    Possible values:\n",
       "        - 'Silent'\n",
       "        - 'Verbose'\n",
       "        - 'Info'\n",
       "        - 'Debug'\n",
       "metric_period : int, [default=1]\n",
       "    The frequency of iterations to print the information to stdout. The value should be a positive integer.\n",
       "simple_ctr: list of strings, [default=None]\n",
       "    Binarization settings for categorical features.\n",
       "        Format : see documentation\n",
       "        Example: ['Borders:CtrBorderCount=5:Prior=0:Prior=0.5', 'BinarizedTargetMeanValue:TargetBorderCount=10:TargetBorderType=MinEntropy', ...]\n",
       "        CTR types:\n",
       "            CPU and GPU\n",
       "            - 'Borders'\n",
       "            - 'Buckets'\n",
       "            CPU only\n",
       "            - 'BinarizedTargetMeanValue'\n",
       "            - 'Counter'\n",
       "            GPU only\n",
       "            - 'FloatTargetMeanValue'\n",
       "            - 'FeatureFreq'\n",
       "        Number_of_borders, binarization type, target borders and binarizations, priors are optional parametrs\n",
       "combinations_ctr: list of strings, [default=None]\n",
       "per_feature_ctr: list of strings, [default=None]\n",
       "ctr_target_border_count: int, [default=None]\n",
       "    Maximum number of borders used in target binarization for categorical features that need it.\n",
       "    If TargetBorderCount is specified in 'simple_ctr', 'combinations_ctr' or 'per_feature_ctr' option it\n",
       "    overrides this value.\n",
       "    range: [1, 255]\n",
       "ctr_leaf_count_limit : int, [default=None]\n",
       "    The maximum number of leaves with categorical features.\n",
       "    If the number of leaves exceeds the specified limit, some leaves are discarded.\n",
       "    The leaves to be discarded are selected as follows:\n",
       "        - The leaves are sorted by the frequency of the values.\n",
       "        - The top N leaves are selected, where N is the value specified in the parameter.\n",
       "        - All leaves starting from N+1 are discarded.\n",
       "    This option reduces the resulting model size\n",
       "    and the amount of memory required for training.\n",
       "    Note that the resulting quality of the model can be affected.\n",
       "    range: [1,+inf] (for zero limit use ignored_features)\n",
       "store_all_simple_ctr : bool, [default=None]\n",
       "    Ignore categorical features, which are not used in feature combinations,\n",
       "    when choosing candidates for exclusion.\n",
       "    Use this parameter with ctr_leaf_count_limit only.\n",
       "max_ctr_complexity : int, [default=4]\n",
       "    The maximum number of Categ features that can be combined.\n",
       "    range: [0,+inf]\n",
       "has_time : bool, [default=False]\n",
       "    To use the order in which objects are represented in the input data\n",
       "    (do not perform a random permutation of the dataset at the preprocessing stage).\n",
       "allow_const_label : bool, [default=False]\n",
       "    To allow the constant label value in dataset.\n",
       "target_border: float, [default=None]\n",
       "    Border for target binarization.\n",
       "classes_count : int, [default=None]\n",
       "    The upper limit for the numeric class label.\n",
       "    Defines the number of classes for multiclassification.\n",
       "    Only non-negative integers can be specified.\n",
       "    The given integer should be greater than any of the target values.\n",
       "    If this parameter is specified the labels for all classes in the input dataset\n",
       "    should be smaller than the given value.\n",
       "    If several of 'classes_count', 'class_weights', 'class_names' parameters are defined\n",
       "    the numbers of classes specified by each of them must be equal.\n",
       "class_weights : list or dict, [default=None]\n",
       "    Classes weights. The values are used as multipliers for the object weights.\n",
       "    If None, all classes are supposed to have weight one.\n",
       "    If list - class weights in order of class_names or sequential classes if class_names is undefined\n",
       "    If dict - dict of class_name -> class_weight.\n",
       "    If several of 'classes_count', 'class_weights', 'class_names' parameters are defined\n",
       "    the numbers of classes specified by each of them must be equal.\n",
       "auto_class_weights : string [default=None]\n",
       "    Enables automatic class weights calculation. Possible values:\n",
       "        - Balanced  # weight = maxSummaryClassWeight / summaryClassWeight, statistics determined from train pool\n",
       "        - SqrtBalanced  # weight = sqrt(maxSummaryClassWeight / summaryClassWeight)\n",
       "class_names: list of strings, [default=None]\n",
       "    Class names. Allows to redefine the default values for class labels (integer numbers).\n",
       "    If several of 'classes_count', 'class_weights', 'class_names' parameters are defined\n",
       "    the numbers of classes specified by each of them must be equal.\n",
       "one_hot_max_size : int, [default=None]\n",
       "    Convert the feature to float\n",
       "    if the number of different values that it takes exceeds the specified value.\n",
       "    Ctrs are not calculated for such features.\n",
       "random_strength : float, [default=1]\n",
       "    Score standard deviation multiplier.\n",
       "name : string, [default='experiment']\n",
       "    The name that should be displayed in the visualization tools.\n",
       "ignored_features : list, [default=None]\n",
       "    Indices or names of features that should be excluded when training.\n",
       "train_dir : string or pathlib.Path, [default=None]\n",
       "    The directory in which you want to record generated in the process of learning files.\n",
       "custom_metric : string or list of strings, [default=None]\n",
       "    To use your own metric function.\n",
       "custom_loss: alias to custom_metric\n",
       "eval_metric : string or object, [default=None]\n",
       "    To optimize your custom metric in loss.\n",
       "bagging_temperature : float, [default=None]\n",
       "    Controls intensity of Bayesian bagging. The higher the temperature the more aggressive bagging is.\n",
       "    Typical values are in range [0, 1] (0 - no bagging, 1 - default).\n",
       "save_snapshot : bool, [default=None]\n",
       "    Enable progress snapshotting for restoring progress after crashes or interruptions\n",
       "snapshot_file : string or pathlib.Path, [default=None]\n",
       "    Learn progress snapshot file path, if None will use default filename\n",
       "snapshot_interval: int, [default=600]\n",
       "    Interval between saving snapshots (seconds)\n",
       "fold_len_multiplier : float, [default=None]\n",
       "    Fold length multiplier. Should be greater than 1\n",
       "used_ram_limit : string or number, [default=None]\n",
       "    Set a limit on memory consumption (value like '1.2gb' or 1.2e9).\n",
       "    WARNING: Currently this option affects CTR memory usage only.\n",
       "gpu_ram_part : float, [default=0.95]\n",
       "    Fraction of the GPU RAM to use for training, a value from (0, 1].\n",
       "pinned_memory_size: int [default=None]\n",
       "    Size of additional CPU pinned memory used for GPU learning,\n",
       "    usually is estimated automatically, thus usually should not be set.\n",
       "allow_writing_files : bool, [default=True]\n",
       "    If this flag is set to False, no files with different diagnostic info will be created during training.\n",
       "    With this flag no snapshotting can be done. Plus visualisation will not\n",
       "    work, because visualisation uses files that are created and updated during training.\n",
       "final_ctr_computation_mode : string, [default='Default']\n",
       "    Possible values:\n",
       "        - 'Default' - Compute final ctrs for all pools.\n",
       "        - 'Skip' - Skip final ctr computation. WARNING: model without ctrs can't be applied.\n",
       "approx_on_full_history : bool, [default=False]\n",
       "    If this flag is set to True, each approximated value is calculated using all the preceeding rows in the fold (slower, more accurate).\n",
       "    If this flag is set to False, each approximated value is calculated using only the beginning 1/fold_len_multiplier fraction of the fold (faster, slightly less accurate).\n",
       "boosting_type : string, default value depends on object count and feature count in train dataset and on learning mode.\n",
       "    Boosting scheme.\n",
       "    Possible values:\n",
       "        - 'Ordered' - Gives better quality, but may slow down the training.\n",
       "        - 'Plain' - The classic gradient boosting scheme. May result in quality degradation, but does not slow down the training.\n",
       "task_type : string, [default=None]\n",
       "    The calcer type used to train the model.\n",
       "    Possible values:\n",
       "        - 'CPU'\n",
       "        - 'GPU'\n",
       "device_config : string, [default=None], deprecated, use devices instead\n",
       "devices : list or string, [default=None], GPU devices to use.\n",
       "    String format is: '0' for 1 device or '0:1:3' for multiple devices or '0-3' for range of devices.\n",
       "    List format is : [0] for 1 device or [0,1,3] for multiple devices.\n",
       "\n",
       "bootstrap_type : string, Bayesian, Bernoulli, Poisson, MVS.\n",
       "    Default bootstrap is Bayesian for GPU and MVS for CPU.\n",
       "    Poisson bootstrap is supported only on GPU.\n",
       "    MVS bootstrap is supported only on CPU.\n",
       "\n",
       "subsample : float, [default=None]\n",
       "    Sample rate for bagging. This parameter can be used Poisson or Bernoully bootstrap types.\n",
       "\n",
       "mvs_reg : float, [default is set automatically at each iteration based on gradient distribution]\n",
       "    Regularization parameter for MVS sampling algorithm\n",
       "\n",
       "monotone_constraints : list or numpy.ndarray or string or dict, [default=None]\n",
       "    Monotone constraints for features.\n",
       "\n",
       "feature_weights : list or numpy.ndarray or string or dict, [default=None]\n",
       "    Coefficient to multiply split gain with specific feature use. Should be non-negative.\n",
       "\n",
       "penalties_coefficient : float, [default=1]\n",
       "    Common coefficient for all penalties. Should be non-negative.\n",
       "\n",
       "first_feature_use_penalties : list or numpy.ndarray or string or dict, [default=None]\n",
       "    Penalties to first use of specific feature in model. Should be non-negative.\n",
       "\n",
       "per_object_feature_penalties : list or numpy.ndarray or string or dict, [default=None]\n",
       "    Penalties for first use of feature for each object. Should be non-negative.\n",
       "\n",
       "sampling_frequency : string, [default=PerTree]\n",
       "    Frequency to sample weights and objects when building trees.\n",
       "    Possible values:\n",
       "        - 'PerTree' - Before constructing each new tree\n",
       "        - 'PerTreeLevel' - Before choosing each new split of a tree\n",
       "\n",
       "sampling_unit : string, [default='Object'].\n",
       "    Possible values:\n",
       "        - 'Object'\n",
       "        - 'Group'\n",
       "    The parameter allows to specify the sampling scheme:\n",
       "    sample weights for each object individually or for an entire group of objects together.\n",
       "\n",
       "dev_score_calc_obj_block_size: int, [default=5000000]\n",
       "    CPU only. Size of block of samples in score calculation. Should be > 0\n",
       "    Used only for learning speed tuning.\n",
       "    Changing this parameter can affect results due to numerical accuracy differences\n",
       "\n",
       "dev_efb_max_buckets : int, [default=1024]\n",
       "    CPU only. Maximum bucket count in exclusive features bundle. Should be in an integer between 0 and 65536.\n",
       "    Used only for learning speed tuning.\n",
       "\n",
       "sparse_features_conflict_fraction : float, [default=0.0]\n",
       "    CPU only. Maximum allowed fraction of conflicting non-default values for features in exclusive features bundle.\n",
       "    Should be a real value in [0, 1) interval.\n",
       "\n",
       "grow_policy : string, [SymmetricTree,Lossguide,Depthwise], [default=SymmetricTree]\n",
       "    The tree growing policy. It describes how to perform greedy tree construction.\n",
       "\n",
       "min_data_in_leaf : int, [default=1].\n",
       "    The minimum training samples count in leaf.\n",
       "    CatBoost will not search for new splits in leaves with samples count less than min_data_in_leaf.\n",
       "    This parameter is used only for Depthwise and Lossguide growing policies.\n",
       "\n",
       "max_leaves : int, [default=31],\n",
       "    The maximum leaf count in resulting tree.\n",
       "    This parameter is used only for Lossguide growing policy.\n",
       "\n",
       "score_function : string, possible values L2, Cosine, NewtonL2, NewtonCosine, [default=Cosine]\n",
       "    For growing policy Lossguide default=NewtonL2.\n",
       "    GPU only. Score that is used during tree construction to select the next tree split.\n",
       "\n",
       "max_depth : int, Synonym for depth.\n",
       "\n",
       "n_estimators : int, synonym for iterations.\n",
       "\n",
       "num_trees : int, synonym for iterations.\n",
       "\n",
       "num_boost_round : int, synonym for iterations.\n",
       "\n",
       "colsample_bylevel : float, synonym for rsm.\n",
       "\n",
       "random_state : int, synonym for random_seed.\n",
       "\n",
       "reg_lambda : float, synonym for l2_leaf_reg.\n",
       "\n",
       "objective : string, synonym for loss_function.\n",
       "\n",
       "num_leaves : int, synonym for max_leaves.\n",
       "\n",
       "min_child_samples : int, synonym for min_data_in_leaf\n",
       "\n",
       "eta : float, synonym for learning_rate.\n",
       "\n",
       "max_bin : float, synonym for border_count.\n",
       "\n",
       "scale_pos_weight : float, synonym for class_weights.\n",
       "    Can be used only for binary classification. Sets weight multiplier for\n",
       "    class 1 to scale_pos_weight value.\n",
       "\n",
       "metadata : dict, string to string key-value pairs to be stored in model metadata storage\n",
       "\n",
       "early_stopping_rounds : int\n",
       "    Synonym for od_wait. Only one of these parameters should be set.\n",
       "\n",
       "cat_features : list or numpy.ndarray, [default=None]\n",
       "    If not None, giving the list of Categ features indices or names (names are represented as strings).\n",
       "    If it contains feature names, feature names must be defined for the training dataset passed to 'fit'.\n",
       "\n",
       "text_features : list or numpy.ndarray, [default=None]\n",
       "    If not None, giving the list of Text features indices or names (names are represented as strings).\n",
       "    If it contains feature names, feature names must be defined for the training dataset passed to 'fit'.\n",
       "\n",
       "embedding_features : list or numpy.ndarray, [default=None]\n",
       "    If not None, giving the list of Embedding features indices or names (names are represented as strings).\n",
       "    If it contains feature names, feature names must be defined for the training dataset passed to 'fit'.\n",
       "\n",
       "leaf_estimation_backtracking : string, [default=None]\n",
       "    Type of backtracking during gradient descent.\n",
       "    Possible values:\n",
       "        - 'No' - never backtrack; supported on CPU and GPU\n",
       "        - 'AnyImprovement' - reduce the descent step until the value of loss function is less than before the step; supported on CPU and GPU\n",
       "        - 'Armijo' - reduce the descent step until Armijo condition is satisfied; supported on GPU only\n",
       "\n",
       "model_shrink_rate : float, [default=0]\n",
       "    This parameter enables shrinkage of model at the start of each iteration. CPU only.\n",
       "    For Constant mode shrinkage coefficient is calculated as (1 - model_shrink_rate * learning_rate).\n",
       "    For Decreasing mode shrinkage coefficient is calculated as (1 - model_shrink_rate / iteration).\n",
       "    Shrinkage coefficient should be in [0, 1).\n",
       "\n",
       "model_shrink_mode : string, [default=None]\n",
       "    Mode of shrinkage coefficient calculation. CPU only.\n",
       "    Possible values:\n",
       "        - 'Constant' - Shrinkage coefficient is constant at each iteration.\n",
       "        - 'Decreasing' - Shrinkage coefficient decreases at each iteration.\n",
       "\n",
       "langevin : bool, [default=False]\n",
       "    Enables the Stochastic Gradient Langevin Boosting. CPU only.\n",
       "\n",
       "diffusion_temperature : float, [default=0]\n",
       "    Langevin boosting diffusion temperature. CPU only.\n",
       "\n",
       "posterior_sampling : bool, [default=False]\n",
       "    Set group of parameters for further use Uncertainty prediction:\n",
       "        - Langevin = True\n",
       "        - Model Shrink Rate = 1/(2N), where N is dataset size\n",
       "        - Model Shrink Mode = Constant\n",
       "        - Diffusion-temperature = N, where N is dataset size. CPU only.\n",
       "\n",
       "boost_from_average : bool, [default=True for RMSE, False for other losses]\n",
       "    Enables to initialize approx values by best constant value for specified loss function.\n",
       "    Available for RMSE, Logloss, CrossEntropy, Quantile and MAE.\n",
       "\n",
       "tokenizers : list of dicts,\n",
       "    Each dict is a tokenizer description. Example:\n",
       "    ```\n",
       "    [\n",
       "        {\n",
       "            'tokenizer_id': 'Tokenizer',  # Tokeinzer identifier.\n",
       "            'lowercasing': 'false',  # Possible values: 'true', 'false'.\n",
       "            'number_process_policy': 'LeaveAsIs',  # Possible values: 'Skip', 'LeaveAsIs', 'Replace'.\n",
       "            'number_token': '%',  # Rarely used character. Used in conjunction with Replace NumberProcessPolicy.\n",
       "            'separator_type': 'ByDelimiter',  # Possible values: 'ByDelimiter', 'BySense'.\n",
       "            'delimiter': ' ',  # Used in conjunction with ByDelimiter SeparatorType.\n",
       "            'split_by_set': 'false',  # Each single character in delimiter used as individual delimiter.\n",
       "            'skip_empty': 'true',  # Possible values: 'true', 'false'.\n",
       "            'token_types': ['Word', 'Number', 'Unknown'],  # Used in conjunction with BySense SeparatorType.\n",
       "                # Possible values: 'Word', 'Number', 'Punctuation', 'SentenceBreak', 'ParagraphBreak', 'Unknown'.\n",
       "            'subtokens_policy': 'SingleToken',  # Possible values:\n",
       "                # 'SingleToken' - All subtokens are interpreted as single token).\n",
       "                # 'SeveralTokens' - All subtokens are interpreted as several token.\n",
       "        },\n",
       "        ...\n",
       "    ]\n",
       "    ```\n",
       "\n",
       "dictionaries : list of dicts,\n",
       "    Each dict is a tokenizer description. Example:\n",
       "    ```\n",
       "    [\n",
       "        {\n",
       "            'dictionary_id': 'Dictionary',  # Dictionary identifier.\n",
       "            'token_level_type': 'Word',  # Possible values: 'Word', 'Letter'.\n",
       "            'gram_order': '1',  # 1 for Unigram, 2 for Bigram, ...\n",
       "            'skip_step': '0',  # 1 for 1-skip-gram, ...\n",
       "            'end_of_word_token_policy': 'Insert',  # Possible values: 'Insert', 'Skip'.\n",
       "            'end_of_sentence_token_policy': 'Skip',  # Possible values: 'Insert', 'Skip'.\n",
       "            'occurrence_lower_bound': '3',  # The lower bound of token occurrences in the text to include it in the dictionary.\n",
       "            'max_dictionary_size': '50000',  # The max dictionary size.\n",
       "        },\n",
       "        ...\n",
       "    ]\n",
       "    ```\n",
       "\n",
       "feature_calcers : list of strings,\n",
       "    Each string is a calcer description. Example:\n",
       "    ```\n",
       "    [\n",
       "        'NaiveBayes',\n",
       "        'BM25',\n",
       "        'BoW:top_tokens_count=2000',\n",
       "    ]\n",
       "    ```\n",
       "\n",
       "text_processing : dict,\n",
       "    Text processging description.\n",
       "\u001b[1;31mInit docstring:\u001b[0m\n",
       "Initialize the CatBoost.\n",
       "\n",
       "Parameters\n",
       "----------\n",
       "params : dict\n",
       "    Parameters for CatBoost.\n",
       "    If  None, all params are set to their defaults.\n",
       "    If  dict, overriding parameters present in dict.\n"
      ]
     },
     "metadata": {},
     "output_type": "display_data"
    }
   ],
   "source": [
    "?cat_model"
   ]
  },
  {
   "cell_type": "code",
   "execution_count": 193,
   "metadata": {},
   "outputs": [],
   "source": [
    "catb_params = {\n",
    "    'iterations': [200,500],\n",
    "    'learning_rate': [0.01,0.05, 0.1],\n",
    "    'depth': [3,5,8] }"
   ]
  },
  {
   "cell_type": "code",
   "execution_count": 194,
   "metadata": {},
   "outputs": [
    {
     "name": "stdout",
     "output_type": "stream",
     "text": [
      "Fitting 5 folds for each of 18 candidates, totalling 90 fits\n",
      "0:\tlearn: 0.6863412\ttotal: 4.24ms\tremaining: 844ms\n",
      "1:\tlearn: 0.6811322\ttotal: 8.18ms\tremaining: 810ms\n",
      "2:\tlearn: 0.6753199\ttotal: 11.8ms\tremaining: 776ms\n",
      "3:\tlearn: 0.6697717\ttotal: 15.3ms\tremaining: 752ms\n",
      "4:\tlearn: 0.6642090\ttotal: 18.8ms\tremaining: 732ms\n",
      "5:\tlearn: 0.6577038\ttotal: 22.4ms\tremaining: 725ms\n",
      "6:\tlearn: 0.6522290\ttotal: 26ms\tremaining: 716ms\n",
      "7:\tlearn: 0.6466015\ttotal: 29.4ms\tremaining: 705ms\n",
      "8:\tlearn: 0.6408068\ttotal: 32.9ms\tremaining: 698ms\n",
      "9:\tlearn: 0.6358218\ttotal: 36.3ms\tremaining: 690ms\n",
      "10:\tlearn: 0.6300444\ttotal: 39.6ms\tremaining: 681ms\n",
      "11:\tlearn: 0.6240992\ttotal: 43.1ms\tremaining: 675ms\n",
      "12:\tlearn: 0.6196618\ttotal: 46.7ms\tremaining: 671ms\n",
      "13:\tlearn: 0.6149237\ttotal: 50.2ms\tremaining: 666ms\n",
      "14:\tlearn: 0.6093146\ttotal: 53.8ms\tremaining: 664ms\n",
      "15:\tlearn: 0.6047282\ttotal: 57.2ms\tremaining: 658ms\n",
      "16:\tlearn: 0.6013242\ttotal: 60.7ms\tremaining: 653ms\n",
      "17:\tlearn: 0.5958624\ttotal: 64.2ms\tremaining: 650ms\n",
      "18:\tlearn: 0.5903733\ttotal: 67.7ms\tremaining: 645ms\n",
      "19:\tlearn: 0.5866505\ttotal: 71.3ms\tremaining: 641ms\n",
      "20:\tlearn: 0.5831865\ttotal: 74.6ms\tremaining: 636ms\n",
      "21:\tlearn: 0.5787839\ttotal: 78ms\tremaining: 631ms\n",
      "22:\tlearn: 0.5749453\ttotal: 81.5ms\tremaining: 627ms\n",
      "23:\tlearn: 0.5703621\ttotal: 84.9ms\tremaining: 623ms\n",
      "24:\tlearn: 0.5662773\ttotal: 88.2ms\tremaining: 618ms\n",
      "25:\tlearn: 0.5629069\ttotal: 91.6ms\tremaining: 613ms\n",
      "26:\tlearn: 0.5589454\ttotal: 94.9ms\tremaining: 608ms\n",
      "27:\tlearn: 0.5544253\ttotal: 98.4ms\tremaining: 604ms\n",
      "28:\tlearn: 0.5504193\ttotal: 102ms\tremaining: 600ms\n",
      "29:\tlearn: 0.5470888\ttotal: 105ms\tremaining: 597ms\n",
      "30:\tlearn: 0.5441572\ttotal: 109ms\tremaining: 595ms\n",
      "31:\tlearn: 0.5396568\ttotal: 113ms\tremaining: 594ms\n",
      "32:\tlearn: 0.5356520\ttotal: 117ms\tremaining: 593ms\n",
      "33:\tlearn: 0.5315662\ttotal: 121ms\tremaining: 589ms\n",
      "34:\tlearn: 0.5280107\ttotal: 124ms\tremaining: 586ms\n",
      "35:\tlearn: 0.5248634\ttotal: 128ms\tremaining: 584ms\n",
      "36:\tlearn: 0.5224134\ttotal: 132ms\tremaining: 581ms\n",
      "37:\tlearn: 0.5198514\ttotal: 136ms\tremaining: 579ms\n",
      "38:\tlearn: 0.5167668\ttotal: 139ms\tremaining: 575ms\n",
      "39:\tlearn: 0.5139063\ttotal: 144ms\tremaining: 575ms\n",
      "40:\tlearn: 0.5101721\ttotal: 147ms\tremaining: 572ms\n",
      "41:\tlearn: 0.5066326\ttotal: 151ms\tremaining: 568ms\n",
      "42:\tlearn: 0.5033936\ttotal: 155ms\tremaining: 565ms\n",
      "43:\tlearn: 0.5006117\ttotal: 159ms\tremaining: 563ms\n",
      "44:\tlearn: 0.4980917\ttotal: 162ms\tremaining: 559ms\n",
      "45:\tlearn: 0.4959463\ttotal: 166ms\tremaining: 555ms\n",
      "46:\tlearn: 0.4934198\ttotal: 170ms\tremaining: 552ms\n",
      "47:\tlearn: 0.4906410\ttotal: 174ms\tremaining: 550ms\n",
      "48:\tlearn: 0.4878576\ttotal: 177ms\tremaining: 546ms\n",
      "49:\tlearn: 0.4850977\ttotal: 181ms\tremaining: 543ms\n",
      "50:\tlearn: 0.4826157\ttotal: 185ms\tremaining: 540ms\n",
      "51:\tlearn: 0.4798530\ttotal: 189ms\tremaining: 537ms\n",
      "52:\tlearn: 0.4776349\ttotal: 192ms\tremaining: 533ms\n",
      "53:\tlearn: 0.4754652\ttotal: 196ms\tremaining: 529ms\n",
      "54:\tlearn: 0.4733755\ttotal: 199ms\tremaining: 525ms\n",
      "55:\tlearn: 0.4706337\ttotal: 203ms\tremaining: 523ms\n",
      "56:\tlearn: 0.4677619\ttotal: 207ms\tremaining: 519ms\n",
      "57:\tlearn: 0.4657008\ttotal: 210ms\tremaining: 515ms\n",
      "58:\tlearn: 0.4637682\ttotal: 214ms\tremaining: 511ms\n",
      "59:\tlearn: 0.4615518\ttotal: 217ms\tremaining: 507ms\n",
      "60:\tlearn: 0.4600032\ttotal: 221ms\tremaining: 503ms\n",
      "61:\tlearn: 0.4584260\ttotal: 222ms\tremaining: 494ms\n",
      "62:\tlearn: 0.4567343\ttotal: 225ms\tremaining: 490ms\n",
      "63:\tlearn: 0.4541223\ttotal: 229ms\tremaining: 486ms\n",
      "64:\tlearn: 0.4530108\ttotal: 230ms\tremaining: 477ms\n",
      "65:\tlearn: 0.4512377\ttotal: 234ms\tremaining: 475ms\n",
      "66:\tlearn: 0.4487025\ttotal: 237ms\tremaining: 471ms\n",
      "67:\tlearn: 0.4468152\ttotal: 241ms\tremaining: 467ms\n",
      "68:\tlearn: 0.4449902\ttotal: 244ms\tremaining: 464ms\n",
      "69:\tlearn: 0.4426412\ttotal: 248ms\tremaining: 460ms\n",
      "70:\tlearn: 0.4401906\ttotal: 252ms\tremaining: 457ms\n",
      "71:\tlearn: 0.4380992\ttotal: 255ms\tremaining: 453ms\n",
      "72:\tlearn: 0.4367450\ttotal: 259ms\tremaining: 451ms\n",
      "73:\tlearn: 0.4353520\ttotal: 263ms\tremaining: 448ms\n",
      "74:\tlearn: 0.4340243\ttotal: 266ms\tremaining: 444ms\n",
      "75:\tlearn: 0.4315947\ttotal: 270ms\tremaining: 441ms\n",
      "76:\tlearn: 0.4298990\ttotal: 274ms\tremaining: 438ms\n",
      "77:\tlearn: 0.4285587\ttotal: 279ms\tremaining: 437ms\n",
      "78:\tlearn: 0.4266109\ttotal: 284ms\tremaining: 435ms\n",
      "79:\tlearn: 0.4244339\ttotal: 288ms\tremaining: 432ms\n",
      "80:\tlearn: 0.4228679\ttotal: 292ms\tremaining: 429ms\n",
      "81:\tlearn: 0.4214531\ttotal: 297ms\tremaining: 427ms\n",
      "82:\tlearn: 0.4200925\ttotal: 300ms\tremaining: 423ms\n",
      "83:\tlearn: 0.4184640\ttotal: 303ms\tremaining: 419ms\n",
      "84:\tlearn: 0.4168303\ttotal: 308ms\tremaining: 416ms\n",
      "85:\tlearn: 0.4156724\ttotal: 311ms\tremaining: 412ms\n",
      "86:\tlearn: 0.4140974\ttotal: 314ms\tremaining: 407ms\n",
      "87:\tlearn: 0.4124542\ttotal: 317ms\tremaining: 403ms\n",
      "88:\tlearn: 0.4107650\ttotal: 320ms\tremaining: 399ms\n",
      "89:\tlearn: 0.4091247\ttotal: 323ms\tremaining: 395ms\n",
      "90:\tlearn: 0.4075743\ttotal: 326ms\tremaining: 391ms\n",
      "91:\tlearn: 0.4062728\ttotal: 329ms\tremaining: 386ms\n",
      "92:\tlearn: 0.4044987\ttotal: 333ms\tremaining: 383ms\n",
      "93:\tlearn: 0.4030509\ttotal: 336ms\tremaining: 379ms\n",
      "94:\tlearn: 0.4012366\ttotal: 340ms\tremaining: 375ms\n",
      "95:\tlearn: 0.3995010\ttotal: 343ms\tremaining: 372ms\n",
      "96:\tlearn: 0.3983567\ttotal: 347ms\tremaining: 368ms\n",
      "97:\tlearn: 0.3970163\ttotal: 351ms\tremaining: 365ms\n",
      "98:\tlearn: 0.3955954\ttotal: 354ms\tremaining: 361ms\n",
      "99:\tlearn: 0.3946458\ttotal: 357ms\tremaining: 357ms\n",
      "100:\tlearn: 0.3932682\ttotal: 360ms\tremaining: 353ms\n",
      "101:\tlearn: 0.3921086\ttotal: 364ms\tremaining: 350ms\n",
      "102:\tlearn: 0.3912041\ttotal: 367ms\tremaining: 346ms\n",
      "103:\tlearn: 0.3896085\ttotal: 371ms\tremaining: 342ms\n",
      "104:\tlearn: 0.3881310\ttotal: 374ms\tremaining: 338ms\n",
      "105:\tlearn: 0.3867841\ttotal: 377ms\tremaining: 334ms\n",
      "106:\tlearn: 0.3855611\ttotal: 380ms\tremaining: 331ms\n",
      "107:\tlearn: 0.3841345\ttotal: 384ms\tremaining: 327ms\n",
      "108:\tlearn: 0.3829608\ttotal: 387ms\tremaining: 323ms\n",
      "109:\tlearn: 0.3819127\ttotal: 390ms\tremaining: 319ms\n",
      "110:\tlearn: 0.3810000\ttotal: 393ms\tremaining: 315ms\n",
      "111:\tlearn: 0.3790356\ttotal: 397ms\tremaining: 312ms\n",
      "112:\tlearn: 0.3774673\ttotal: 400ms\tremaining: 308ms\n",
      "113:\tlearn: 0.3762712\ttotal: 403ms\tremaining: 304ms\n",
      "114:\tlearn: 0.3750760\ttotal: 407ms\tremaining: 300ms\n",
      "115:\tlearn: 0.3735547\ttotal: 410ms\tremaining: 297ms\n",
      "116:\tlearn: 0.3728015\ttotal: 414ms\tremaining: 293ms\n",
      "117:\tlearn: 0.3714192\ttotal: 417ms\tremaining: 290ms\n",
      "118:\tlearn: 0.3705935\ttotal: 420ms\tremaining: 286ms\n",
      "119:\tlearn: 0.3694736\ttotal: 425ms\tremaining: 283ms\n",
      "120:\tlearn: 0.3687791\ttotal: 428ms\tremaining: 280ms\n",
      "121:\tlearn: 0.3679782\ttotal: 431ms\tremaining: 276ms\n",
      "122:\tlearn: 0.3666547\ttotal: 436ms\tremaining: 273ms\n",
      "123:\tlearn: 0.3655144\ttotal: 440ms\tremaining: 270ms\n",
      "124:\tlearn: 0.3643546\ttotal: 443ms\tremaining: 266ms\n",
      "125:\tlearn: 0.3636557\ttotal: 446ms\tremaining: 262ms\n",
      "126:\tlearn: 0.3625550\ttotal: 449ms\tremaining: 258ms\n",
      "127:\tlearn: 0.3610147\ttotal: 452ms\tremaining: 254ms\n",
      "128:\tlearn: 0.3596348\ttotal: 455ms\tremaining: 251ms\n",
      "129:\tlearn: 0.3584074\ttotal: 458ms\tremaining: 247ms\n",
      "130:\tlearn: 0.3569602\ttotal: 461ms\tremaining: 243ms\n",
      "131:\tlearn: 0.3558913\ttotal: 464ms\tremaining: 239ms\n",
      "132:\tlearn: 0.3548689\ttotal: 467ms\tremaining: 235ms\n",
      "133:\tlearn: 0.3533837\ttotal: 470ms\tremaining: 232ms\n",
      "134:\tlearn: 0.3524619\ttotal: 473ms\tremaining: 228ms\n",
      "135:\tlearn: 0.3518338\ttotal: 476ms\tremaining: 224ms\n",
      "136:\tlearn: 0.3505366\ttotal: 479ms\tremaining: 220ms\n",
      "137:\tlearn: 0.3497723\ttotal: 482ms\tremaining: 216ms\n",
      "138:\tlearn: 0.3489030\ttotal: 485ms\tremaining: 213ms\n",
      "139:\tlearn: 0.3482652\ttotal: 488ms\tremaining: 209ms\n",
      "140:\tlearn: 0.3471165\ttotal: 491ms\tremaining: 205ms\n",
      "141:\tlearn: 0.3458630\ttotal: 494ms\tremaining: 202ms\n",
      "142:\tlearn: 0.3445867\ttotal: 497ms\tremaining: 198ms\n",
      "143:\tlearn: 0.3436773\ttotal: 500ms\tremaining: 194ms\n",
      "144:\tlearn: 0.3426979\ttotal: 503ms\tremaining: 191ms\n",
      "145:\tlearn: 0.3417627\ttotal: 506ms\tremaining: 187ms\n",
      "146:\tlearn: 0.3407937\ttotal: 509ms\tremaining: 184ms\n",
      "147:\tlearn: 0.3398191\ttotal: 513ms\tremaining: 180ms\n",
      "148:\tlearn: 0.3390524\ttotal: 516ms\tremaining: 177ms\n",
      "149:\tlearn: 0.3381671\ttotal: 519ms\tremaining: 173ms\n",
      "150:\tlearn: 0.3375138\ttotal: 523ms\tremaining: 170ms\n",
      "151:\tlearn: 0.3365898\ttotal: 526ms\tremaining: 166ms\n",
      "152:\tlearn: 0.3358887\ttotal: 530ms\tremaining: 163ms\n",
      "153:\tlearn: 0.3346492\ttotal: 533ms\tremaining: 159ms\n",
      "154:\tlearn: 0.3336018\ttotal: 536ms\tremaining: 156ms\n",
      "155:\tlearn: 0.3330832\ttotal: 539ms\tremaining: 152ms\n",
      "156:\tlearn: 0.3324238\ttotal: 542ms\tremaining: 149ms\n",
      "157:\tlearn: 0.3312569\ttotal: 546ms\tremaining: 145ms\n",
      "158:\tlearn: 0.3299834\ttotal: 549ms\tremaining: 142ms\n",
      "159:\tlearn: 0.3286908\ttotal: 552ms\tremaining: 138ms\n",
      "160:\tlearn: 0.3276277\ttotal: 555ms\tremaining: 135ms\n",
      "161:\tlearn: 0.3267134\ttotal: 559ms\tremaining: 131ms\n",
      "162:\tlearn: 0.3259380\ttotal: 562ms\tremaining: 128ms\n",
      "163:\tlearn: 0.3249529\ttotal: 565ms\tremaining: 124ms\n",
      "164:\tlearn: 0.3241876\ttotal: 568ms\tremaining: 121ms\n",
      "165:\tlearn: 0.3237797\ttotal: 571ms\tremaining: 117ms\n",
      "166:\tlearn: 0.3228611\ttotal: 575ms\tremaining: 114ms\n",
      "167:\tlearn: 0.3218481\ttotal: 578ms\tremaining: 110ms\n",
      "168:\tlearn: 0.3209571\ttotal: 581ms\tremaining: 107ms\n",
      "169:\tlearn: 0.3200492\ttotal: 585ms\tremaining: 103ms\n",
      "170:\tlearn: 0.3189373\ttotal: 589ms\tremaining: 99.9ms\n",
      "171:\tlearn: 0.3179033\ttotal: 592ms\tremaining: 96.4ms\n",
      "172:\tlearn: 0.3172849\ttotal: 596ms\tremaining: 93ms\n",
      "173:\tlearn: 0.3166655\ttotal: 599ms\tremaining: 89.5ms\n",
      "174:\tlearn: 0.3157718\ttotal: 603ms\tremaining: 86.1ms\n",
      "175:\tlearn: 0.3150160\ttotal: 607ms\tremaining: 82.8ms\n",
      "176:\tlearn: 0.3142830\ttotal: 610ms\tremaining: 79.3ms\n",
      "177:\tlearn: 0.3138662\ttotal: 613ms\tremaining: 75.8ms\n",
      "178:\tlearn: 0.3133629\ttotal: 616ms\tremaining: 72.3ms\n",
      "179:\tlearn: 0.3125061\ttotal: 620ms\tremaining: 68.9ms\n",
      "180:\tlearn: 0.3115252\ttotal: 623ms\tremaining: 65.4ms\n",
      "181:\tlearn: 0.3110208\ttotal: 626ms\tremaining: 61.9ms\n",
      "182:\tlearn: 0.3105547\ttotal: 629ms\tremaining: 58.4ms\n",
      "183:\tlearn: 0.3094534\ttotal: 632ms\tremaining: 55ms\n",
      "184:\tlearn: 0.3087456\ttotal: 635ms\tremaining: 51.5ms\n",
      "185:\tlearn: 0.3079835\ttotal: 638ms\tremaining: 48ms\n",
      "186:\tlearn: 0.3072245\ttotal: 641ms\tremaining: 44.6ms\n",
      "187:\tlearn: 0.3061540\ttotal: 644ms\tremaining: 41.1ms\n",
      "188:\tlearn: 0.3054721\ttotal: 648ms\tremaining: 37.7ms\n",
      "189:\tlearn: 0.3048467\ttotal: 651ms\tremaining: 34.2ms\n",
      "190:\tlearn: 0.3042662\ttotal: 654ms\tremaining: 30.8ms\n",
      "191:\tlearn: 0.3037025\ttotal: 656ms\tremaining: 27.4ms\n",
      "192:\tlearn: 0.3028928\ttotal: 660ms\tremaining: 23.9ms\n",
      "193:\tlearn: 0.3020155\ttotal: 663ms\tremaining: 20.5ms\n",
      "194:\tlearn: 0.3010007\ttotal: 666ms\tremaining: 17.1ms\n",
      "195:\tlearn: 0.3002253\ttotal: 669ms\tremaining: 13.7ms\n",
      "196:\tlearn: 0.2999682\ttotal: 672ms\tremaining: 10.2ms\n",
      "197:\tlearn: 0.2994228\ttotal: 675ms\tremaining: 6.82ms\n",
      "198:\tlearn: 0.2986712\ttotal: 678ms\tremaining: 3.41ms\n",
      "199:\tlearn: 0.2980459\ttotal: 682ms\tremaining: 0us\n"
     ]
    }
   ],
   "source": [
    "catB = CatBoostClassifier()\n",
    "cat_cv = GridSearchCV(catB, catb_params, cv = 5, n_jobs = -1, verbose = 2).fit(X_train, y_train)"
   ]
  },
  {
   "cell_type": "code",
   "execution_count": 195,
   "metadata": {},
   "outputs": [
    {
     "data": {
      "text/plain": [
       "{'depth': 8, 'iterations': 200, 'learning_rate': 0.01}"
      ]
     },
     "execution_count": 195,
     "metadata": {},
     "output_type": "execute_result"
    }
   ],
   "source": [
    "cat_cv.best_params_"
   ]
  },
  {
   "cell_type": "code",
   "execution_count": 196,
   "metadata": {},
   "outputs": [
    {
     "name": "stdout",
     "output_type": "stream",
     "text": [
      "0:\tlearn: 0.6863412\ttotal: 4.53ms\tremaining: 902ms\n",
      "1:\tlearn: 0.6811322\ttotal: 8.4ms\tremaining: 831ms\n",
      "2:\tlearn: 0.6753199\ttotal: 12.8ms\tremaining: 841ms\n",
      "3:\tlearn: 0.6697717\ttotal: 16.2ms\tremaining: 794ms\n",
      "4:\tlearn: 0.6642090\ttotal: 19.4ms\tremaining: 757ms\n",
      "5:\tlearn: 0.6577038\ttotal: 23.9ms\tremaining: 773ms\n",
      "6:\tlearn: 0.6522290\ttotal: 27ms\tremaining: 745ms\n",
      "7:\tlearn: 0.6466015\ttotal: 30.3ms\tremaining: 727ms\n",
      "8:\tlearn: 0.6408068\ttotal: 33.4ms\tremaining: 708ms\n",
      "9:\tlearn: 0.6358218\ttotal: 36.8ms\tremaining: 700ms\n",
      "10:\tlearn: 0.6300444\ttotal: 40ms\tremaining: 688ms\n",
      "11:\tlearn: 0.6240992\ttotal: 43.2ms\tremaining: 677ms\n",
      "12:\tlearn: 0.6196618\ttotal: 46.4ms\tremaining: 667ms\n",
      "13:\tlearn: 0.6149237\ttotal: 49.5ms\tremaining: 658ms\n",
      "14:\tlearn: 0.6093146\ttotal: 53.2ms\tremaining: 656ms\n",
      "15:\tlearn: 0.6047282\ttotal: 56.4ms\tremaining: 649ms\n",
      "16:\tlearn: 0.6013242\ttotal: 59.5ms\tremaining: 640ms\n",
      "17:\tlearn: 0.5958624\ttotal: 62.7ms\tremaining: 634ms\n",
      "18:\tlearn: 0.5903733\ttotal: 66.2ms\tremaining: 631ms\n",
      "19:\tlearn: 0.5866505\ttotal: 69.5ms\tremaining: 626ms\n",
      "20:\tlearn: 0.5831865\ttotal: 72.7ms\tremaining: 620ms\n",
      "21:\tlearn: 0.5787839\ttotal: 76.2ms\tremaining: 616ms\n",
      "22:\tlearn: 0.5749453\ttotal: 79.5ms\tremaining: 612ms\n",
      "23:\tlearn: 0.5703621\ttotal: 83.1ms\tremaining: 609ms\n",
      "24:\tlearn: 0.5662773\ttotal: 86.6ms\tremaining: 606ms\n",
      "25:\tlearn: 0.5629069\ttotal: 89.8ms\tremaining: 601ms\n",
      "26:\tlearn: 0.5589454\ttotal: 93.6ms\tremaining: 600ms\n",
      "27:\tlearn: 0.5544253\ttotal: 97.4ms\tremaining: 598ms\n",
      "28:\tlearn: 0.5504193\ttotal: 101ms\tremaining: 593ms\n",
      "29:\tlearn: 0.5470888\ttotal: 106ms\tremaining: 598ms\n",
      "30:\tlearn: 0.5441572\ttotal: 135ms\tremaining: 737ms\n",
      "31:\tlearn: 0.5396568\ttotal: 139ms\tremaining: 728ms\n",
      "32:\tlearn: 0.5356520\ttotal: 143ms\tremaining: 724ms\n",
      "33:\tlearn: 0.5315662\ttotal: 147ms\tremaining: 717ms\n",
      "34:\tlearn: 0.5280107\ttotal: 150ms\tremaining: 708ms\n",
      "35:\tlearn: 0.5248634\ttotal: 154ms\tremaining: 701ms\n",
      "36:\tlearn: 0.5224134\ttotal: 158ms\tremaining: 695ms\n",
      "37:\tlearn: 0.5198514\ttotal: 162ms\tremaining: 690ms\n",
      "38:\tlearn: 0.5167668\ttotal: 165ms\tremaining: 682ms\n",
      "39:\tlearn: 0.5139063\ttotal: 169ms\tremaining: 675ms\n",
      "40:\tlearn: 0.5101721\ttotal: 173ms\tremaining: 672ms\n",
      "41:\tlearn: 0.5066326\ttotal: 177ms\tremaining: 667ms\n",
      "42:\tlearn: 0.5033936\ttotal: 180ms\tremaining: 659ms\n",
      "43:\tlearn: 0.5006117\ttotal: 184ms\tremaining: 651ms\n",
      "44:\tlearn: 0.4980917\ttotal: 187ms\tremaining: 644ms\n",
      "45:\tlearn: 0.4959463\ttotal: 190ms\tremaining: 637ms\n",
      "46:\tlearn: 0.4934198\ttotal: 194ms\tremaining: 631ms\n",
      "47:\tlearn: 0.4906410\ttotal: 197ms\tremaining: 624ms\n",
      "48:\tlearn: 0.4878576\ttotal: 201ms\tremaining: 619ms\n",
      "49:\tlearn: 0.4850977\ttotal: 204ms\tremaining: 613ms\n",
      "50:\tlearn: 0.4826157\ttotal: 208ms\tremaining: 607ms\n",
      "51:\tlearn: 0.4798530\ttotal: 211ms\tremaining: 601ms\n",
      "52:\tlearn: 0.4776349\ttotal: 214ms\tremaining: 595ms\n",
      "53:\tlearn: 0.4754652\ttotal: 218ms\tremaining: 590ms\n",
      "54:\tlearn: 0.4733755\ttotal: 222ms\tremaining: 584ms\n",
      "55:\tlearn: 0.4706337\ttotal: 225ms\tremaining: 579ms\n",
      "56:\tlearn: 0.4677619\ttotal: 230ms\tremaining: 576ms\n",
      "57:\tlearn: 0.4657008\ttotal: 235ms\tremaining: 574ms\n",
      "58:\tlearn: 0.4637682\ttotal: 239ms\tremaining: 570ms\n",
      "59:\tlearn: 0.4615518\ttotal: 243ms\tremaining: 567ms\n",
      "60:\tlearn: 0.4600032\ttotal: 247ms\tremaining: 562ms\n",
      "61:\tlearn: 0.4584260\ttotal: 248ms\tremaining: 553ms\n",
      "62:\tlearn: 0.4567343\ttotal: 252ms\tremaining: 548ms\n",
      "63:\tlearn: 0.4541223\ttotal: 256ms\tremaining: 543ms\n",
      "64:\tlearn: 0.4530108\ttotal: 257ms\tremaining: 533ms\n",
      "65:\tlearn: 0.4512377\ttotal: 261ms\tremaining: 529ms\n",
      "66:\tlearn: 0.4487025\ttotal: 266ms\tremaining: 528ms\n",
      "67:\tlearn: 0.4468152\ttotal: 270ms\tremaining: 523ms\n",
      "68:\tlearn: 0.4449902\ttotal: 273ms\tremaining: 519ms\n",
      "69:\tlearn: 0.4426412\ttotal: 277ms\tremaining: 514ms\n",
      "70:\tlearn: 0.4401906\ttotal: 281ms\tremaining: 511ms\n",
      "71:\tlearn: 0.4380992\ttotal: 285ms\tremaining: 506ms\n",
      "72:\tlearn: 0.4367450\ttotal: 288ms\tremaining: 501ms\n",
      "73:\tlearn: 0.4353520\ttotal: 291ms\tremaining: 496ms\n",
      "74:\tlearn: 0.4340243\ttotal: 295ms\tremaining: 492ms\n",
      "75:\tlearn: 0.4315947\ttotal: 298ms\tremaining: 487ms\n",
      "76:\tlearn: 0.4298990\ttotal: 302ms\tremaining: 482ms\n",
      "77:\tlearn: 0.4285587\ttotal: 305ms\tremaining: 477ms\n",
      "78:\tlearn: 0.4266109\ttotal: 309ms\tremaining: 473ms\n",
      "79:\tlearn: 0.4244339\ttotal: 312ms\tremaining: 468ms\n",
      "80:\tlearn: 0.4228679\ttotal: 316ms\tremaining: 464ms\n",
      "81:\tlearn: 0.4214531\ttotal: 319ms\tremaining: 459ms\n",
      "82:\tlearn: 0.4200925\ttotal: 323ms\tremaining: 456ms\n",
      "83:\tlearn: 0.4184640\ttotal: 328ms\tremaining: 452ms\n",
      "84:\tlearn: 0.4168303\ttotal: 331ms\tremaining: 448ms\n",
      "85:\tlearn: 0.4156724\ttotal: 335ms\tremaining: 444ms\n",
      "86:\tlearn: 0.4140974\ttotal: 339ms\tremaining: 440ms\n",
      "87:\tlearn: 0.4124542\ttotal: 344ms\tremaining: 437ms\n",
      "88:\tlearn: 0.4107650\ttotal: 347ms\tremaining: 433ms\n",
      "89:\tlearn: 0.4091247\ttotal: 351ms\tremaining: 428ms\n",
      "90:\tlearn: 0.4075743\ttotal: 354ms\tremaining: 424ms\n",
      "91:\tlearn: 0.4062728\ttotal: 357ms\tremaining: 419ms\n",
      "92:\tlearn: 0.4044987\ttotal: 360ms\tremaining: 415ms\n",
      "93:\tlearn: 0.4030509\ttotal: 364ms\tremaining: 410ms\n",
      "94:\tlearn: 0.4012366\ttotal: 367ms\tremaining: 406ms\n",
      "95:\tlearn: 0.3995010\ttotal: 370ms\tremaining: 401ms\n",
      "96:\tlearn: 0.3983567\ttotal: 374ms\tremaining: 397ms\n",
      "97:\tlearn: 0.3970163\ttotal: 377ms\tremaining: 392ms\n",
      "98:\tlearn: 0.3955954\ttotal: 380ms\tremaining: 388ms\n",
      "99:\tlearn: 0.3946458\ttotal: 384ms\tremaining: 384ms\n",
      "100:\tlearn: 0.3932682\ttotal: 387ms\tremaining: 380ms\n",
      "101:\tlearn: 0.3921086\ttotal: 391ms\tremaining: 376ms\n",
      "102:\tlearn: 0.3912041\ttotal: 395ms\tremaining: 372ms\n",
      "103:\tlearn: 0.3896085\ttotal: 401ms\tremaining: 370ms\n",
      "104:\tlearn: 0.3881310\ttotal: 405ms\tremaining: 367ms\n",
      "105:\tlearn: 0.3867841\ttotal: 410ms\tremaining: 363ms\n",
      "106:\tlearn: 0.3855611\ttotal: 416ms\tremaining: 361ms\n",
      "107:\tlearn: 0.3841345\ttotal: 421ms\tremaining: 359ms\n",
      "108:\tlearn: 0.3829608\ttotal: 426ms\tremaining: 356ms\n",
      "109:\tlearn: 0.3819127\ttotal: 431ms\tremaining: 353ms\n",
      "110:\tlearn: 0.3810000\ttotal: 436ms\tremaining: 350ms\n",
      "111:\tlearn: 0.3790356\ttotal: 441ms\tremaining: 347ms\n",
      "112:\tlearn: 0.3774673\ttotal: 447ms\tremaining: 344ms\n",
      "113:\tlearn: 0.3762712\ttotal: 451ms\tremaining: 340ms\n",
      "114:\tlearn: 0.3750760\ttotal: 455ms\tremaining: 336ms\n",
      "115:\tlearn: 0.3735547\ttotal: 459ms\tremaining: 333ms\n",
      "116:\tlearn: 0.3728015\ttotal: 463ms\tremaining: 329ms\n",
      "117:\tlearn: 0.3714192\ttotal: 467ms\tremaining: 325ms\n",
      "118:\tlearn: 0.3705935\ttotal: 471ms\tremaining: 321ms\n",
      "119:\tlearn: 0.3694736\ttotal: 476ms\tremaining: 317ms\n",
      "120:\tlearn: 0.3687791\ttotal: 479ms\tremaining: 313ms\n",
      "121:\tlearn: 0.3679782\ttotal: 483ms\tremaining: 309ms\n",
      "122:\tlearn: 0.3666547\ttotal: 487ms\tremaining: 305ms\n",
      "123:\tlearn: 0.3655144\ttotal: 492ms\tremaining: 301ms\n",
      "124:\tlearn: 0.3643546\ttotal: 495ms\tremaining: 297ms\n",
      "125:\tlearn: 0.3636557\ttotal: 499ms\tremaining: 293ms\n",
      "126:\tlearn: 0.3625550\ttotal: 503ms\tremaining: 289ms\n",
      "127:\tlearn: 0.3610147\ttotal: 508ms\tremaining: 285ms\n",
      "128:\tlearn: 0.3596348\ttotal: 512ms\tremaining: 282ms\n",
      "129:\tlearn: 0.3584074\ttotal: 516ms\tremaining: 278ms\n",
      "130:\tlearn: 0.3569602\ttotal: 521ms\tremaining: 274ms\n",
      "131:\tlearn: 0.3558913\ttotal: 525ms\tremaining: 270ms\n",
      "132:\tlearn: 0.3548689\ttotal: 529ms\tremaining: 266ms\n",
      "133:\tlearn: 0.3533837\ttotal: 533ms\tremaining: 262ms\n",
      "134:\tlearn: 0.3524619\ttotal: 538ms\tremaining: 259ms\n",
      "135:\tlearn: 0.3518338\ttotal: 541ms\tremaining: 255ms\n",
      "136:\tlearn: 0.3505366\ttotal: 546ms\tremaining: 251ms\n",
      "137:\tlearn: 0.3497723\ttotal: 550ms\tremaining: 247ms\n",
      "138:\tlearn: 0.3489030\ttotal: 554ms\tremaining: 243ms\n",
      "139:\tlearn: 0.3482652\ttotal: 558ms\tremaining: 239ms\n",
      "140:\tlearn: 0.3471165\ttotal: 561ms\tremaining: 235ms\n",
      "141:\tlearn: 0.3458630\ttotal: 565ms\tremaining: 231ms\n",
      "142:\tlearn: 0.3445867\ttotal: 569ms\tremaining: 227ms\n",
      "143:\tlearn: 0.3436773\ttotal: 573ms\tremaining: 223ms\n",
      "144:\tlearn: 0.3426979\ttotal: 576ms\tremaining: 219ms\n",
      "145:\tlearn: 0.3417627\ttotal: 580ms\tremaining: 215ms\n",
      "146:\tlearn: 0.3407937\ttotal: 584ms\tremaining: 210ms\n",
      "147:\tlearn: 0.3398191\ttotal: 587ms\tremaining: 206ms\n",
      "148:\tlearn: 0.3390524\ttotal: 591ms\tremaining: 202ms\n",
      "149:\tlearn: 0.3381671\ttotal: 595ms\tremaining: 198ms\n",
      "150:\tlearn: 0.3375138\ttotal: 599ms\tremaining: 194ms\n",
      "151:\tlearn: 0.3365898\ttotal: 603ms\tremaining: 191ms\n",
      "152:\tlearn: 0.3358887\ttotal: 607ms\tremaining: 186ms\n",
      "153:\tlearn: 0.3346492\ttotal: 611ms\tremaining: 182ms\n",
      "154:\tlearn: 0.3336018\ttotal: 614ms\tremaining: 178ms\n",
      "155:\tlearn: 0.3330832\ttotal: 618ms\tremaining: 174ms\n",
      "156:\tlearn: 0.3324238\ttotal: 622ms\tremaining: 170ms\n",
      "157:\tlearn: 0.3312569\ttotal: 626ms\tremaining: 166ms\n",
      "158:\tlearn: 0.3299834\ttotal: 630ms\tremaining: 162ms\n",
      "159:\tlearn: 0.3286908\ttotal: 634ms\tremaining: 158ms\n",
      "160:\tlearn: 0.3276277\ttotal: 638ms\tremaining: 155ms\n",
      "161:\tlearn: 0.3267134\ttotal: 643ms\tremaining: 151ms\n",
      "162:\tlearn: 0.3259380\ttotal: 647ms\tremaining: 147ms\n",
      "163:\tlearn: 0.3249529\ttotal: 650ms\tremaining: 143ms\n",
      "164:\tlearn: 0.3241876\ttotal: 654ms\tremaining: 139ms\n",
      "165:\tlearn: 0.3237797\ttotal: 658ms\tremaining: 135ms\n",
      "166:\tlearn: 0.3228611\ttotal: 661ms\tremaining: 131ms\n",
      "167:\tlearn: 0.3218481\ttotal: 665ms\tremaining: 127ms\n",
      "168:\tlearn: 0.3209571\ttotal: 668ms\tremaining: 123ms\n",
      "169:\tlearn: 0.3200492\ttotal: 672ms\tremaining: 119ms\n",
      "170:\tlearn: 0.3189373\ttotal: 675ms\tremaining: 115ms\n",
      "171:\tlearn: 0.3179033\ttotal: 679ms\tremaining: 110ms\n",
      "172:\tlearn: 0.3172849\ttotal: 682ms\tremaining: 106ms\n",
      "173:\tlearn: 0.3166655\ttotal: 686ms\tremaining: 102ms\n",
      "174:\tlearn: 0.3157718\ttotal: 689ms\tremaining: 98.5ms\n",
      "175:\tlearn: 0.3150160\ttotal: 693ms\tremaining: 94.5ms\n",
      "176:\tlearn: 0.3142830\ttotal: 696ms\tremaining: 90.4ms\n",
      "177:\tlearn: 0.3138662\ttotal: 700ms\tremaining: 86.5ms\n",
      "178:\tlearn: 0.3133629\ttotal: 703ms\tremaining: 82.5ms\n",
      "179:\tlearn: 0.3125061\ttotal: 707ms\tremaining: 78.5ms\n",
      "180:\tlearn: 0.3115252\ttotal: 710ms\tremaining: 74.6ms\n",
      "181:\tlearn: 0.3110208\ttotal: 714ms\tremaining: 70.6ms\n",
      "182:\tlearn: 0.3105547\ttotal: 718ms\tremaining: 66.7ms\n",
      "183:\tlearn: 0.3094534\ttotal: 723ms\tremaining: 62.8ms\n",
      "184:\tlearn: 0.3087456\ttotal: 728ms\tremaining: 59.1ms\n",
      "185:\tlearn: 0.3079835\ttotal: 734ms\tremaining: 55.2ms\n",
      "186:\tlearn: 0.3072245\ttotal: 739ms\tremaining: 51.4ms\n",
      "187:\tlearn: 0.3061540\ttotal: 743ms\tremaining: 47.4ms\n",
      "188:\tlearn: 0.3054721\ttotal: 748ms\tremaining: 43.5ms\n",
      "189:\tlearn: 0.3048467\ttotal: 751ms\tremaining: 39.5ms\n",
      "190:\tlearn: 0.3042662\ttotal: 755ms\tremaining: 35.6ms\n",
      "191:\tlearn: 0.3037025\ttotal: 759ms\tremaining: 31.6ms\n",
      "192:\tlearn: 0.3028928\ttotal: 762ms\tremaining: 27.7ms\n",
      "193:\tlearn: 0.3020155\ttotal: 766ms\tremaining: 23.7ms\n",
      "194:\tlearn: 0.3010007\ttotal: 770ms\tremaining: 19.7ms\n",
      "195:\tlearn: 0.3002253\ttotal: 773ms\tremaining: 15.8ms\n",
      "196:\tlearn: 0.2999682\ttotal: 776ms\tremaining: 11.8ms\n",
      "197:\tlearn: 0.2994228\ttotal: 779ms\tremaining: 7.87ms\n",
      "198:\tlearn: 0.2986712\ttotal: 783ms\tremaining: 3.93ms\n",
      "199:\tlearn: 0.2980459\ttotal: 786ms\tremaining: 0us\n"
     ]
    }
   ],
   "source": [
    "catB_tuned = CatBoostClassifier(depth = 8, iterations = 200, learning_rate = 0.01).fit(X_train, y_train)"
   ]
  },
  {
   "cell_type": "code",
   "execution_count": 197,
   "metadata": {},
   "outputs": [],
   "source": [
    "y_pred = catB_tuned.predict(X_test)"
   ]
  },
  {
   "cell_type": "code",
   "execution_count": 198,
   "metadata": {},
   "outputs": [
    {
     "data": {
      "text/plain": [
       "0.7532467532467533"
      ]
     },
     "execution_count": 198,
     "metadata": {},
     "output_type": "execute_result"
    }
   ],
   "source": [
    "accuracy_score(y_test, y_pred)"
   ]
  },
  {
   "cell_type": "markdown",
   "metadata": {},
   "source": [
    "# Modellerin Kiyaslanmasi"
   ]
  },
  {
   "cell_type": "code",
   "execution_count": 201,
   "metadata": {},
   "outputs": [
    {
     "name": "stdout",
     "output_type": "stream",
     "text": [
      "----------------------------\n",
      "KNeighborsClassifier:\n",
      "Accuracy: 73.1602%\n",
      "----------------------------\n",
      "LogisticRegression:\n",
      "Accuracy: 75.3247%\n",
      "----------------------------\n",
      "SVC:\n",
      "Accuracy: 73.5931%\n",
      "----------------------------\n",
      "GaussianNB:\n",
      "Accuracy: 74.4589%\n",
      "----------------------------\n",
      "MLPClassifier:\n",
      "Accuracy: 74.0260%\n",
      "----------------------------\n",
      "DecisionTreeClassifier:\n",
      "Accuracy: 75.3247%\n",
      "----------------------------\n",
      "RandomForestClassifier:\n",
      "Accuracy: 74.4589%\n",
      "----------------------------\n",
      "GradientBoostingClassifier:\n",
      "Accuracy: 73.5931%\n",
      "----------------------------\n",
      "CatBoostClassifier:\n",
      "Accuracy: 75.3247%\n",
      "----------------------------\n",
      "LGBMClassifier:\n",
      "Accuracy: 74.8918%\n",
      "----------------------------\n",
      "XGBClassifier:\n",
      "Accuracy: 74.8918%\n"
     ]
    }
   ],
   "source": [
    "modeller = [\n",
    "    knn_tuned,\n",
    "    loj_model,\n",
    "    svc_tuned,\n",
    "    nb_model,\n",
    "    mlpc_tuned,\n",
    "    cart_tuned,\n",
    "    rf_tuned,\n",
    "    gbm_tuned,\n",
    "    catB_tuned,\n",
    "    lgbm_tuned,\n",
    "    xgb_tuned\n",
    "    \n",
    "]\n",
    "\n",
    "\n",
    "for model in modeller:\n",
    "    isimler = model.__class__.__name__\n",
    "    if(isimler == \"MLPClassifier\"): #yapay sinir aglarinda X_test_scaled kullaniyorduk.\n",
    "        y_pred = model.predict(X_test_scaled)\n",
    "    else:\n",
    "        y_pred = model.predict(X_test)\n",
    "    dogruluk = accuracy_score(y_test, y_pred)\n",
    "    print(\"-\"*28)\n",
    "    print(isimler + \":\" )\n",
    "    print(\"Accuracy: {:.4%}\".format(dogruluk))"
   ]
  }
 ],
 "metadata": {
  "kernelspec": {
   "display_name": "Python 3",
   "language": "python",
   "name": "python3"
  },
  "language_info": {
   "codemirror_mode": {
    "name": "ipython",
    "version": 3
   },
   "file_extension": ".py",
   "mimetype": "text/x-python",
   "name": "python",
   "nbconvert_exporter": "python",
   "pygments_lexer": "ipython3",
   "version": "3.7.3"
  }
 },
 "nbformat": 4,
 "nbformat_minor": 2
}
